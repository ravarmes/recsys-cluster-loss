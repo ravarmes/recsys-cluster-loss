{
  "nbformat": 4,
  "nbformat_minor": 2,
  "metadata": {
    "colab": {
      "name": "recsys-cluster-loss-20items-agrupamento.ipynb",
      "provenance": [],
      "collapsed_sections": []
    },
    "kernelspec": {
      "name": "python3",
      "display_name": "Python 3.9.6 64-bit"
    },
    "language_info": {
      "name": "python",
      "version": "3.9.6",
      "mimetype": "text/x-python",
      "codemirror_mode": {
        "name": "ipython",
        "version": 3
      },
      "pygments_lexer": "ipython3",
      "nbconvert_exporter": "python",
      "file_extension": ".py"
    },
    "interpreter": {
      "hash": "33a6e123bcdbde5194593dce101121189e5e4c5a8c334626e820e0bd268629ea"
    }
  },
  "cells": [
    {
      "cell_type": "markdown",
      "source": [
        "**recsys-cluster-loss**\r\n",
        "\r\n",
        "Exemplo de análise de agrupamento no contexto de sistemas de recomendação.\r\n",
        "Os usuários que recebem as recomendações serão agrupados à partir da medida de justiça individual dessas recomendações.\r\n",
        "Tem-se por objetivo analisar se existe algum tipo de injustiça de grupos não óbvios de usuários, ou seja, grupos que não possam ser configurados à partir de alguma característica (variável) explícita dos usuários (por exemplo: sexo, idade, etc.).\r\n",
        "\r\n",
        "Serão aplicados dois métodos de agrupamento:\r\n",
        "1. Agrupamento aglomerativo hierárquico (agrupamento em árvore - dendograma)\r\n",
        "2. Agrupamento não-hierárquico por repartição (agrupamento por k-Médias)\r\n",
        "\r\n",
        "Neste arquivo estamos analisando os possíveis agrupamentos considerando a(s) seguinte(s) variável(is):\r\n",
        "- loss: injustiça individual\r\n",
        "- age: age of users\r\n",
        "- occupation: occupation of users"
      ],
      "metadata": {
        "id": "ZKCpdWWT4s-B"
      }
    },
    {
      "cell_type": "markdown",
      "source": [
        "Sistema de recomendação: gerando a matriz de recomendação e calculando a justiça individual"
      ],
      "metadata": {}
    },
    {
      "cell_type": "code",
      "execution_count": 57,
      "source": [
        "# cloning repository with database\r\n",
        "!rm -rf recsys-cluster-loss\r\n",
        "!git clone https://github.com/ravarmes/recsys-cluster-loss.git"
      ],
      "outputs": [
        {
          "output_type": "stream",
          "name": "stderr",
          "text": [
            "Cloning into 'recsys-cluster-loss'...\n"
          ]
        }
      ],
      "metadata": {
        "id": "fJW5Qza9tDe0",
        "colab": {
          "base_uri": "https://localhost:8080/"
        },
        "outputId": "fad6d80d-19d2-4ac5-e00d-bf495d0a23fe"
      }
    },
    {
      "cell_type": "code",
      "execution_count": 58,
      "source": [
        "import pandas as pd\r\n",
        "import numpy as np\r\n",
        "import matplotlib.pyplot as plt\r\n",
        "import seaborn as sns\r\n",
        "from sklearn.preprocessing import StandardScaler\r\n",
        "from sklearn.cluster import AgglomerativeClustering, KMeans\r\n",
        "from scipy.cluster import hierarchy\r\n",
        "\r\n",
        "import warnings\r\n",
        "warnings.filterwarnings('ignore')\r\n",
        "\r\n",
        "sns.set()"
      ],
      "outputs": [],
      "metadata": {}
    },
    {
      "cell_type": "code",
      "execution_count": 59,
      "source": [
        "import sys\r\n",
        "sys.path.append('recsys-cluster-loss/src')\r\n",
        "from ArticleAntidoteData import ArticleAntidoteData\r\n",
        "from ArticleAntidoteData import IndividualLossVariance"
      ],
      "outputs": [],
      "metadata": {
        "id": "biw8w4RKArjN"
      }
    },
    {
      "cell_type": "code",
      "execution_count": 60,
      "source": [
        "# reading data from 3883 movies and 6040 users \r\n",
        "Data_path = 'recsys-cluster-loss/data/MovieLens-1M'\r\n",
        "n_users=  300\r\n",
        "n_movies= 1000\r\n",
        "top_users = True # True: to use users with more ratings; False: otherwise\r\n",
        "top_movies = False # True: to use movies with more ratings; False: otherwise"
      ],
      "outputs": [],
      "metadata": {
        "id": "2FQ0_uYOIvEj"
      }
    },
    {
      "cell_type": "code",
      "execution_count": 61,
      "source": [
        "# recommendation algorithm\r\n",
        "algorithm = 'RecSysALS'"
      ],
      "outputs": [],
      "metadata": {
        "id": "kky92lhnIxxf"
      }
    },
    {
      "cell_type": "code",
      "execution_count": 62,
      "source": [
        "# parameters for calculating fairness measures\r\n",
        "l = 5\r\n",
        "theta = 3\r\n",
        "k = 3"
      ],
      "outputs": [],
      "metadata": {
        "id": "NwhZkRQ_I0YF"
      }
    },
    {
      "cell_type": "code",
      "execution_count": 63,
      "source": [
        "article = ArticleAntidoteData(n_users, n_movies, top_users, top_movies, l, theta, k)"
      ],
      "outputs": [],
      "metadata": {
        "id": "1qWcPGY5I9FE"
      }
    },
    {
      "cell_type": "code",
      "execution_count": 64,
      "source": [
        "X, genres, user_info = article.read_movieitems(n_users, n_movies, top_users, top_movies, data_dir = Data_path) # returns matrix of ratings with n_users rows and n_moveis columns\r\n",
        "omega = ~X.isnull() # matrix X with True in cells with evaluations and False in cells not rated"
      ],
      "outputs": [],
      "metadata": {
        "id": "gxrBq6I1JK8o",
        "colab": {
          "base_uri": "https://localhost:8080/",
          "height": 1000
        },
        "outputId": "6a71ff85-ef00-4e20-d663-373602218bd8"
      }
    },
    {
      "cell_type": "code",
      "execution_count": 65,
      "source": [
        "user_info"
      ],
      "outputs": [
        {
          "output_type": "execute_result",
          "data": {
            "text/html": [
              "<div>\n",
              "<style scoped>\n",
              "    .dataframe tbody tr th:only-of-type {\n",
              "        vertical-align: middle;\n",
              "    }\n",
              "\n",
              "    .dataframe tbody tr th {\n",
              "        vertical-align: top;\n",
              "    }\n",
              "\n",
              "    .dataframe thead th {\n",
              "        text-align: right;\n",
              "    }\n",
              "</style>\n",
              "<table border=\"1\" class=\"dataframe\">\n",
              "  <thead>\n",
              "    <tr style=\"text-align: right;\">\n",
              "      <th></th>\n",
              "      <th>Gender</th>\n",
              "      <th>Age</th>\n",
              "      <th>Occupation</th>\n",
              "      <th>Zip-code</th>\n",
              "    </tr>\n",
              "  </thead>\n",
              "  <tbody>\n",
              "    <tr>\n",
              "      <th>1</th>\n",
              "      <td>F</td>\n",
              "      <td>1</td>\n",
              "      <td>10</td>\n",
              "      <td>48067</td>\n",
              "    </tr>\n",
              "    <tr>\n",
              "      <th>2</th>\n",
              "      <td>M</td>\n",
              "      <td>56</td>\n",
              "      <td>16</td>\n",
              "      <td>70072</td>\n",
              "    </tr>\n",
              "    <tr>\n",
              "      <th>3</th>\n",
              "      <td>M</td>\n",
              "      <td>25</td>\n",
              "      <td>15</td>\n",
              "      <td>55117</td>\n",
              "    </tr>\n",
              "    <tr>\n",
              "      <th>4</th>\n",
              "      <td>M</td>\n",
              "      <td>45</td>\n",
              "      <td>7</td>\n",
              "      <td>02460</td>\n",
              "    </tr>\n",
              "    <tr>\n",
              "      <th>5</th>\n",
              "      <td>M</td>\n",
              "      <td>25</td>\n",
              "      <td>20</td>\n",
              "      <td>55455</td>\n",
              "    </tr>\n",
              "    <tr>\n",
              "      <th>...</th>\n",
              "      <td>...</td>\n",
              "      <td>...</td>\n",
              "      <td>...</td>\n",
              "      <td>...</td>\n",
              "    </tr>\n",
              "    <tr>\n",
              "      <th>6036</th>\n",
              "      <td>F</td>\n",
              "      <td>25</td>\n",
              "      <td>15</td>\n",
              "      <td>32603</td>\n",
              "    </tr>\n",
              "    <tr>\n",
              "      <th>6037</th>\n",
              "      <td>F</td>\n",
              "      <td>45</td>\n",
              "      <td>1</td>\n",
              "      <td>76006</td>\n",
              "    </tr>\n",
              "    <tr>\n",
              "      <th>6038</th>\n",
              "      <td>F</td>\n",
              "      <td>56</td>\n",
              "      <td>1</td>\n",
              "      <td>14706</td>\n",
              "    </tr>\n",
              "    <tr>\n",
              "      <th>6039</th>\n",
              "      <td>F</td>\n",
              "      <td>45</td>\n",
              "      <td>0</td>\n",
              "      <td>01060</td>\n",
              "    </tr>\n",
              "    <tr>\n",
              "      <th>6040</th>\n",
              "      <td>M</td>\n",
              "      <td>25</td>\n",
              "      <td>6</td>\n",
              "      <td>11106</td>\n",
              "    </tr>\n",
              "  </tbody>\n",
              "</table>\n",
              "<p>6040 rows × 4 columns</p>\n",
              "</div>"
            ],
            "text/plain": [
              "     Gender  Age  Occupation Zip-code\n",
              "1         F    1          10    48067\n",
              "2         M   56          16    70072\n",
              "3         M   25          15    55117\n",
              "4         M   45           7    02460\n",
              "5         M   25          20    55455\n",
              "...     ...  ...         ...      ...\n",
              "6036      F   25          15    32603\n",
              "6037      F   45           1    76006\n",
              "6038      F   56           1    14706\n",
              "6039      F   45           0    01060\n",
              "6040      M   25           6    11106\n",
              "\n",
              "[6040 rows x 4 columns]"
            ]
          },
          "metadata": {},
          "execution_count": 65
        }
      ],
      "metadata": {
        "id": "8XR9U63U01GL"
      }
    },
    {
      "cell_type": "code",
      "execution_count": 66,
      "source": [
        "X_est = article.compute_X_est(X, algorithm, Data_path) # RecSysALS or RecSysKNN or RecSysNMF or RecSysExampleAntidoteData20Items"
      ],
      "outputs": [],
      "metadata": {
        "id": "DRwHlM5m0y9x"
      }
    },
    {
      "cell_type": "code",
      "execution_count": 67,
      "source": [
        "ilv = IndividualLossVariance(X, omega, 1)\r\n",
        "losses = ilv.get_losses(X_est)"
      ],
      "outputs": [],
      "metadata": {
        "id": "dmqGCoRn5atN"
      }
    },
    {
      "cell_type": "code",
      "execution_count": 68,
      "source": [
        "losses"
      ],
      "outputs": [
        {
          "output_type": "execute_result",
          "data": {
            "text/plain": [
              "UserID\n",
              "4169    0.611130\n",
              "1680    1.132248\n",
              "4277    0.414079\n",
              "1941    1.047745\n",
              "1181    0.587892\n",
              "          ...   \n",
              "3320    1.072202\n",
              "3462    0.875762\n",
              "5011    0.664776\n",
              "308     0.358923\n",
              "1333    1.164655\n",
              "Length: 300, dtype: float64"
            ]
          },
          "metadata": {},
          "execution_count": 68
        }
      ],
      "metadata": {}
    },
    {
      "cell_type": "code",
      "execution_count": 69,
      "source": [
        "df = pd.DataFrame(columns=['Gender', 'Age', 'Occupation', 'Zip-code', 'Loss'])\r\n",
        "df['Gender'] = user_info['Gender']\r\n",
        "df['Age'] = user_info['Age']\r\n",
        "df['Occupation'] = user_info['Occupation']\r\n",
        "df['Zip-code'] = user_info['Zip-code']\r\n",
        "df['Loss'] = losses\r\n",
        "\r\n",
        "df.dropna(subset=['Loss'], inplace=True) #Eliminando as linhas com valores vazios na coluna 'Loss'\r\n",
        "df"
      ],
      "outputs": [
        {
          "output_type": "execute_result",
          "data": {
            "text/html": [
              "<div>\n",
              "<style scoped>\n",
              "    .dataframe tbody tr th:only-of-type {\n",
              "        vertical-align: middle;\n",
              "    }\n",
              "\n",
              "    .dataframe tbody tr th {\n",
              "        vertical-align: top;\n",
              "    }\n",
              "\n",
              "    .dataframe thead th {\n",
              "        text-align: right;\n",
              "    }\n",
              "</style>\n",
              "<table border=\"1\" class=\"dataframe\">\n",
              "  <thead>\n",
              "    <tr style=\"text-align: right;\">\n",
              "      <th></th>\n",
              "      <th>Gender</th>\n",
              "      <th>Age</th>\n",
              "      <th>Occupation</th>\n",
              "      <th>Zip-code</th>\n",
              "      <th>Loss</th>\n",
              "    </tr>\n",
              "  </thead>\n",
              "  <tbody>\n",
              "    <tr>\n",
              "      <th>48</th>\n",
              "      <td>M</td>\n",
              "      <td>25</td>\n",
              "      <td>4</td>\n",
              "      <td>92107</td>\n",
              "      <td>0.370556</td>\n",
              "    </tr>\n",
              "    <tr>\n",
              "      <th>53</th>\n",
              "      <td>M</td>\n",
              "      <td>25</td>\n",
              "      <td>0</td>\n",
              "      <td>96931</td>\n",
              "      <td>0.516604</td>\n",
              "    </tr>\n",
              "    <tr>\n",
              "      <th>123</th>\n",
              "      <td>M</td>\n",
              "      <td>35</td>\n",
              "      <td>9</td>\n",
              "      <td>67208</td>\n",
              "      <td>0.487140</td>\n",
              "    </tr>\n",
              "    <tr>\n",
              "      <th>148</th>\n",
              "      <td>M</td>\n",
              "      <td>50</td>\n",
              "      <td>17</td>\n",
              "      <td>57747</td>\n",
              "      <td>1.033793</td>\n",
              "    </tr>\n",
              "    <tr>\n",
              "      <th>149</th>\n",
              "      <td>M</td>\n",
              "      <td>25</td>\n",
              "      <td>1</td>\n",
              "      <td>29205</td>\n",
              "      <td>0.607217</td>\n",
              "    </tr>\n",
              "    <tr>\n",
              "      <th>...</th>\n",
              "      <td>...</td>\n",
              "      <td>...</td>\n",
              "      <td>...</td>\n",
              "      <td>...</td>\n",
              "      <td>...</td>\n",
              "    </tr>\n",
              "    <tr>\n",
              "      <th>5916</th>\n",
              "      <td>M</td>\n",
              "      <td>50</td>\n",
              "      <td>20</td>\n",
              "      <td>48230</td>\n",
              "      <td>0.563316</td>\n",
              "    </tr>\n",
              "    <tr>\n",
              "      <th>5954</th>\n",
              "      <td>M</td>\n",
              "      <td>45</td>\n",
              "      <td>11</td>\n",
              "      <td>70802</td>\n",
              "      <td>1.492428</td>\n",
              "    </tr>\n",
              "    <tr>\n",
              "      <th>5996</th>\n",
              "      <td>F</td>\n",
              "      <td>25</td>\n",
              "      <td>0</td>\n",
              "      <td>87114</td>\n",
              "      <td>0.751011</td>\n",
              "    </tr>\n",
              "    <tr>\n",
              "      <th>6016</th>\n",
              "      <td>M</td>\n",
              "      <td>45</td>\n",
              "      <td>1</td>\n",
              "      <td>37209</td>\n",
              "      <td>0.591682</td>\n",
              "    </tr>\n",
              "    <tr>\n",
              "      <th>6036</th>\n",
              "      <td>F</td>\n",
              "      <td>25</td>\n",
              "      <td>15</td>\n",
              "      <td>32603</td>\n",
              "      <td>0.598928</td>\n",
              "    </tr>\n",
              "  </tbody>\n",
              "</table>\n",
              "<p>300 rows × 5 columns</p>\n",
              "</div>"
            ],
            "text/plain": [
              "     Gender  Age  Occupation Zip-code      Loss\n",
              "48        M   25           4    92107  0.370556\n",
              "53        M   25           0    96931  0.516604\n",
              "123       M   35           9    67208  0.487140\n",
              "148       M   50          17    57747  1.033793\n",
              "149       M   25           1    29205  0.607217\n",
              "...     ...  ...         ...      ...       ...\n",
              "5916      M   50          20    48230  0.563316\n",
              "5954      M   45          11    70802  1.492428\n",
              "5996      F   25           0    87114  0.751011\n",
              "6016      M   45           1    37209  0.591682\n",
              "6036      F   25          15    32603  0.598928\n",
              "\n",
              "[300 rows x 5 columns]"
            ]
          },
          "metadata": {},
          "execution_count": 69
        }
      ],
      "metadata": {
        "colab": {
          "base_uri": "https://localhost:8080/",
          "height": 1000
        },
        "id": "gEocAu4NGHsD",
        "outputId": "c625291f-76ab-46dd-bd6f-4b619a8463e4"
      }
    },
    {
      "cell_type": "code",
      "execution_count": 70,
      "source": [
        "df.head()"
      ],
      "outputs": [
        {
          "output_type": "execute_result",
          "data": {
            "text/html": [
              "<div>\n",
              "<style scoped>\n",
              "    .dataframe tbody tr th:only-of-type {\n",
              "        vertical-align: middle;\n",
              "    }\n",
              "\n",
              "    .dataframe tbody tr th {\n",
              "        vertical-align: top;\n",
              "    }\n",
              "\n",
              "    .dataframe thead th {\n",
              "        text-align: right;\n",
              "    }\n",
              "</style>\n",
              "<table border=\"1\" class=\"dataframe\">\n",
              "  <thead>\n",
              "    <tr style=\"text-align: right;\">\n",
              "      <th></th>\n",
              "      <th>Gender</th>\n",
              "      <th>Age</th>\n",
              "      <th>Occupation</th>\n",
              "      <th>Zip-code</th>\n",
              "      <th>Loss</th>\n",
              "    </tr>\n",
              "  </thead>\n",
              "  <tbody>\n",
              "    <tr>\n",
              "      <th>48</th>\n",
              "      <td>M</td>\n",
              "      <td>25</td>\n",
              "      <td>4</td>\n",
              "      <td>92107</td>\n",
              "      <td>0.370556</td>\n",
              "    </tr>\n",
              "    <tr>\n",
              "      <th>53</th>\n",
              "      <td>M</td>\n",
              "      <td>25</td>\n",
              "      <td>0</td>\n",
              "      <td>96931</td>\n",
              "      <td>0.516604</td>\n",
              "    </tr>\n",
              "    <tr>\n",
              "      <th>123</th>\n",
              "      <td>M</td>\n",
              "      <td>35</td>\n",
              "      <td>9</td>\n",
              "      <td>67208</td>\n",
              "      <td>0.487140</td>\n",
              "    </tr>\n",
              "    <tr>\n",
              "      <th>148</th>\n",
              "      <td>M</td>\n",
              "      <td>50</td>\n",
              "      <td>17</td>\n",
              "      <td>57747</td>\n",
              "      <td>1.033793</td>\n",
              "    </tr>\n",
              "    <tr>\n",
              "      <th>149</th>\n",
              "      <td>M</td>\n",
              "      <td>25</td>\n",
              "      <td>1</td>\n",
              "      <td>29205</td>\n",
              "      <td>0.607217</td>\n",
              "    </tr>\n",
              "  </tbody>\n",
              "</table>\n",
              "</div>"
            ],
            "text/plain": [
              "    Gender  Age  Occupation Zip-code      Loss\n",
              "48       M   25           4    92107  0.370556\n",
              "53       M   25           0    96931  0.516604\n",
              "123      M   35           9    67208  0.487140\n",
              "148      M   50          17    57747  1.033793\n",
              "149      M   25           1    29205  0.607217"
            ]
          },
          "metadata": {},
          "execution_count": 70
        }
      ],
      "metadata": {
        "colab": {
          "base_uri": "https://localhost:8080/",
          "height": 234
        },
        "id": "uHXqrVas1yce",
        "outputId": "db24a330-f8dd-4b9c-e301-bf66f616a8f8"
      }
    },
    {
      "cell_type": "code",
      "execution_count": 71,
      "source": [
        "# Número de linhas e colunas:\r\n",
        "df.shape"
      ],
      "outputs": [
        {
          "output_type": "execute_result",
          "data": {
            "text/plain": [
              "(300, 5)"
            ]
          },
          "metadata": {},
          "execution_count": 71
        }
      ],
      "metadata": {
        "colab": {
          "base_uri": "https://localhost:8080/"
        },
        "id": "qTaZvgmL16HL",
        "outputId": "5f5f2689-a441-41cd-b740-1e274f2d53b9"
      }
    },
    {
      "cell_type": "code",
      "execution_count": 72,
      "source": [
        "# Estatística Descritiva:\r\n",
        "df.describe()"
      ],
      "outputs": [
        {
          "output_type": "execute_result",
          "data": {
            "text/html": [
              "<div>\n",
              "<style scoped>\n",
              "    .dataframe tbody tr th:only-of-type {\n",
              "        vertical-align: middle;\n",
              "    }\n",
              "\n",
              "    .dataframe tbody tr th {\n",
              "        vertical-align: top;\n",
              "    }\n",
              "\n",
              "    .dataframe thead th {\n",
              "        text-align: right;\n",
              "    }\n",
              "</style>\n",
              "<table border=\"1\" class=\"dataframe\">\n",
              "  <thead>\n",
              "    <tr style=\"text-align: right;\">\n",
              "      <th></th>\n",
              "      <th>Age</th>\n",
              "      <th>Occupation</th>\n",
              "      <th>Loss</th>\n",
              "    </tr>\n",
              "  </thead>\n",
              "  <tbody>\n",
              "    <tr>\n",
              "      <th>count</th>\n",
              "      <td>300.000000</td>\n",
              "      <td>300.000000</td>\n",
              "      <td>300.000000</td>\n",
              "    </tr>\n",
              "    <tr>\n",
              "      <th>mean</th>\n",
              "      <td>28.776667</td>\n",
              "      <td>7.070000</td>\n",
              "      <td>0.788955</td>\n",
              "    </tr>\n",
              "    <tr>\n",
              "      <th>std</th>\n",
              "      <td>10.259515</td>\n",
              "      <td>6.641194</td>\n",
              "      <td>0.307327</td>\n",
              "    </tr>\n",
              "    <tr>\n",
              "      <th>min</th>\n",
              "      <td>1.000000</td>\n",
              "      <td>0.000000</td>\n",
              "      <td>0.293217</td>\n",
              "    </tr>\n",
              "    <tr>\n",
              "      <th>25%</th>\n",
              "      <td>25.000000</td>\n",
              "      <td>1.000000</td>\n",
              "      <td>0.578627</td>\n",
              "    </tr>\n",
              "    <tr>\n",
              "      <th>50%</th>\n",
              "      <td>25.000000</td>\n",
              "      <td>4.000000</td>\n",
              "      <td>0.727145</td>\n",
              "    </tr>\n",
              "    <tr>\n",
              "      <th>75%</th>\n",
              "      <td>35.000000</td>\n",
              "      <td>14.000000</td>\n",
              "      <td>0.915155</td>\n",
              "    </tr>\n",
              "    <tr>\n",
              "      <th>max</th>\n",
              "      <td>56.000000</td>\n",
              "      <td>20.000000</td>\n",
              "      <td>2.401739</td>\n",
              "    </tr>\n",
              "  </tbody>\n",
              "</table>\n",
              "</div>"
            ],
            "text/plain": [
              "              Age  Occupation        Loss\n",
              "count  300.000000  300.000000  300.000000\n",
              "mean    28.776667    7.070000    0.788955\n",
              "std     10.259515    6.641194    0.307327\n",
              "min      1.000000    0.000000    0.293217\n",
              "25%     25.000000    1.000000    0.578627\n",
              "50%     25.000000    4.000000    0.727145\n",
              "75%     35.000000   14.000000    0.915155\n",
              "max     56.000000   20.000000    2.401739"
            ]
          },
          "metadata": {},
          "execution_count": 72
        }
      ],
      "metadata": {
        "colab": {
          "base_uri": "https://localhost:8080/",
          "height": 295
        },
        "id": "Imo2zaMR1-Yl",
        "outputId": "1f412f7d-97a1-41f3-c262-f0040010fb50"
      }
    },
    {
      "cell_type": "code",
      "execution_count": 73,
      "source": [
        "sns.pairplot(df)"
      ],
      "outputs": [
        {
          "output_type": "execute_result",
          "data": {
            "text/plain": [
              "<seaborn.axisgrid.PairGrid at 0x26300b86310>"
            ]
          },
          "metadata": {},
          "execution_count": 73
        },
        {
          "output_type": "display_data",
          "data": {
            "image/png": "[encoded data removed]",
            "text/plain": [
              "<Figure size 540x540 with 12 Axes>"
            ]
          },
          "metadata": {}
        }
      ],
      "metadata": {}
    },
    {
      "cell_type": "code",
      "execution_count": 74,
      "source": [
        "df2 = df.drop(['Gender', 'Zip-code'] , axis=1) # Eliminando as colunas Gender e Zip-code (não numéricas) para analisar as correlações\r\n",
        "\r\n",
        "plt.figure(figsize=(7, 7))\r\n",
        "corr = np.corrcoef(df2.values, rowvar=False)\r\n",
        "sns.heatmap(corr, annot=True, cmap='Blues', fmt='.2f', cbar=False, xticklabels=df2.columns, yticklabels=df2.columns)"
      ],
      "outputs": [
        {
          "output_type": "execute_result",
          "data": {
            "text/plain": [
              "<AxesSubplot:>"
            ]
          },
          "metadata": {},
          "execution_count": 74
        },
        {
          "output_type": "display_data",
          "data": {
            "image/png": "[encoded data removed]",
            "text/plain": [
              "<Figure size 504x504 with 1 Axes>"
            ]
          },
          "metadata": {}
        }
      ],
      "metadata": {}
    },
    {
      "cell_type": "markdown",
      "source": [
        "Agrupamento aglomerativo hierárquico (agrupamento em árvore - dendograma)"
      ],
      "metadata": {}
    },
    {
      "cell_type": "code",
      "execution_count": 75,
      "source": [
        "# Deixando apenas a coluna loss para realizar a análise de agrupamento\r\n",
        "#df2 = df2.drop('Age', 1) \r\n",
        "#df2 = df2.drop('Occupation', 1) "
      ],
      "outputs": [],
      "metadata": {}
    },
    {
      "cell_type": "code",
      "execution_count": 76,
      "source": [
        "df_scaled = df2.copy()\r\n",
        "df_scaled.iloc[:, :] = StandardScaler().fit_transform(df2)"
      ],
      "outputs": [],
      "metadata": {}
    },
    {
      "cell_type": "code",
      "execution_count": 77,
      "source": [
        "Z = hierarchy.linkage(df_scaled, 'ward') #complete or ward\r\n",
        "plt.figure(figsize=(22, 10))\r\n",
        "plt.grid(axis='y')\r\n",
        "dn = hierarchy.dendrogram(Z, labels=list(df.index), leaf_font_size=8)"
      ],
      "outputs": [
        {
          "output_type": "display_data",
          "data": {
            "image/png": "[encoded data removed]",
            "text/plain": [
              "<Figure size 1584x720 with 1 Axes>"
            ]
          },
          "metadata": {}
        }
      ],
      "metadata": {}
    },
    {
      "cell_type": "code",
      "execution_count": 78,
      "source": [
        "n_clusters = 3\r\n",
        "cluster = AgglomerativeClustering(n_clusters=n_clusters, affinity='euclidean', linkage='ward')\r\n",
        "groups = cluster.fit_predict(df2)"
      ],
      "outputs": [],
      "metadata": {}
    },
    {
      "cell_type": "code",
      "execution_count": 79,
      "source": [
        "groups"
      ],
      "outputs": [
        {
          "output_type": "execute_result",
          "data": {
            "text/plain": [
              "array([1, 1, 0, 0, 1, 1, 2, 1, 0, 0, 1, 1, 0, 0, 1, 1, 0, 2, 2, 2, 1, 1,\n",
              "       2, 2, 2, 1, 1, 0, 0, 1, 1, 1, 2, 0, 0, 1, 1, 1, 1, 2, 1, 2, 0, 0,\n",
              "       1, 0, 0, 1, 1, 1, 2, 1, 1, 2, 1, 1, 1, 2, 0, 1, 1, 0, 0, 0, 1, 1,\n",
              "       1, 0, 0, 0, 2, 0, 2, 1, 1, 1, 0, 1, 1, 1, 0, 0, 0, 1, 2, 1, 1, 2,\n",
              "       2, 1, 2, 0, 1, 1, 2, 0, 2, 0, 0, 0, 1, 1, 0, 2, 2, 1, 0, 0, 2, 0,\n",
              "       0, 1, 0, 1, 0, 1, 1, 0, 1, 1, 1, 1, 1, 1, 1, 1, 0, 2, 2, 1, 1, 1,\n",
              "       0, 1, 1, 0, 0, 0, 1, 0, 0, 1, 0, 1, 0, 1, 0, 0, 1, 0, 1, 1, 1, 1,\n",
              "       2, 2, 2, 0, 1, 1, 0, 2, 1, 1, 1, 0, 1, 1, 0, 0, 1, 1, 2, 0, 0, 2,\n",
              "       1, 2, 0, 1, 1, 0, 1, 0, 2, 1, 1, 0, 1, 1, 2, 0, 0, 1, 1, 1, 1, 2,\n",
              "       0, 2, 1, 1, 0, 0, 1, 2, 1, 1, 1, 0, 0, 0, 1, 1, 0, 0, 0, 0, 1, 1,\n",
              "       1, 0, 1, 2, 0, 0, 0, 2, 1, 2, 0, 1, 1, 1, 0, 0, 2, 0, 2, 0, 1, 1,\n",
              "       1, 0, 1, 0, 2, 2, 0, 0, 2, 1, 0, 1, 0, 2, 2, 0, 1, 0, 0, 0, 1, 2,\n",
              "       2, 1, 1, 1, 1, 1, 0, 0, 1, 0, 0, 1, 2, 0, 1, 1, 1, 1, 0, 0, 1, 1,\n",
              "       1, 1, 1, 1, 1, 1, 1, 1, 2, 0, 0, 1, 0, 2], dtype=int64)"
            ]
          },
          "metadata": {},
          "execution_count": 79
        }
      ],
      "metadata": {}
    },
    {
      "cell_type": "code",
      "execution_count": 80,
      "source": [
        "\r\n",
        "users = list(df2.index)\r\n",
        "grouped_users = {i: [] for i in range(n_clusters)}\r\n",
        "for user, group in zip(users, groups):\r\n",
        "    grouped_users[group].append(user)\r\n",
        "\r\n",
        "for gp, ctr in grouped_users.items():\r\n",
        "    print(f'Cluster {gp}: {ctr}\\n')"
      ],
      "outputs": [
        {
          "output_type": "stream",
          "name": "stdout",
          "text": [
            "Cluster 0: [123, 148, 216, 245, 319, 329, 411, 550, 660, 721, 731, 889, 984, 1015, 1019, 1181, 1207, 1224, 1242, 1274, 1285, 1298, 1317, 1422, 1449, 1451, 1465, 1671, 1698, 1737, 1741, 1748, 1780, 1880, 1884, 1897, 1899, 1920, 1941, 1980, 2092, 2304, 2529, 2544, 2665, 2793, 2820, 2878, 2907, 2934, 2962, 3018, 3272, 3292, 3336, 3401, 3410, 3476, 3483, 3526, 3589, 3618, 3675, 3705, 3724, 3823, 3841, 3842, 3999, 4016, 4021, 4048, 4054, 4064, 4083, 4169, 4238, 4277, 4305, 4354, 4425, 4447, 4482, 4510, 4647, 4725, 4802, 4808, 4979, 5015, 5054, 5100, 5107, 5111, 5433, 5493, 5504, 5511, 5550, 5643, 5675, 5916, 5954, 6016]\n",
            "\n",
            "Cluster 1: [48, 53, 149, 173, 202, 302, 308, 331, 352, 509, 524, 543, 549, 678, 692, 699, 752, 770, 839, 855, 877, 1010, 1050, 1051, 1068, 1088, 1112, 1120, 1125, 1137, 1194, 1203, 1246, 1264, 1266, 1340, 1354, 1383, 1425, 1447, 1448, 1470, 1579, 1605, 1635, 1675, 1676, 1749, 1764, 1837, 1912, 1926, 1943, 1958, 1988, 2010, 2012, 2015, 2030, 2063, 2073, 2077, 2116, 2124, 2181, 2453, 2507, 2777, 2857, 2887, 2909, 2986, 3029, 3032, 3067, 3118, 3280, 3285, 3311, 3312, 3320, 3389, 3391, 3462, 3471, 3507, 3539, 3562, 3610, 3648, 3650, 3681, 3683, 3768, 3778, 3792, 3808, 3829, 3834, 3884, 3929, 3934, 3942, 4033, 4041, 4085, 4089, 4140, 4186, 4344, 4386, 4387, 4411, 4543, 4578, 4579, 4682, 4957, 5011, 5074, 5220, 5312, 5333, 5367, 5387, 5394, 5501, 5530, 5605, 5614, 5627, 5636, 5682, 5747, 5759, 5763, 5788, 5795, 5812, 5831, 5878, 5880, 5996]\n",
            "\n",
            "Cluster 2: [195, 424, 438, 482, 528, 531, 533, 710, 869, 881, 1069, 1117, 1150, 1303, 1333, 1496, 1613, 1632, 1647, 1680, 1733, 1812, 1835, 1889, 2106, 2109, 3163, 3182, 3224, 3308, 3475, 3491, 3519, 3626, 3693, 3821, 3824, 3885, 4227, 4312, 4345, 4448, 4508, 4728, 4732, 4867, 5026, 5046, 5256, 5306, 5536, 5888, 6036]\n",
            "\n"
          ]
        }
      ],
      "metadata": {}
    },
    {
      "cell_type": "markdown",
      "source": [
        "Agrupamento não-hierárquico por repartição (agrupamento por k-Médias)"
      ],
      "metadata": {}
    },
    {
      "cell_type": "code",
      "execution_count": 81,
      "source": [
        "inertias = []\r\n",
        "for k in np.arange(1, 10):\r\n",
        "    kmeans = KMeans(n_clusters=k)\r\n",
        "    kmeans.fit(df2)\r\n",
        "    inertias.append(kmeans.inertia_)\r\n",
        "\r\n",
        "# Plotando o gráfico do Elbow Method\r\n",
        "plt.figure(figsize=(8, 6))\r\n",
        "plt.plot(np.arange(1, 10), inertias, '-o')\r\n",
        "plt.xlabel('Numero de clusters')\r\n",
        "plt.ylabel('Inertia');"
      ],
      "outputs": [
        {
          "output_type": "display_data",
          "data": {
            "image/png": "[encoded data removed]",
            "text/plain": [
              "<Figure size 576x432 with 1 Axes>"
            ]
          },
          "metadata": {}
        }
      ],
      "metadata": {}
    },
    {
      "cell_type": "code",
      "execution_count": 82,
      "source": [
        "n_clusters = 3\r\n",
        "kmeans = KMeans(n_clusters=n_clusters)\r\n",
        "df_scaled['cluster'] = kmeans.fit_predict(df_scaled)"
      ],
      "outputs": [],
      "metadata": {}
    },
    {
      "cell_type": "code",
      "execution_count": 83,
      "source": [
        "df_scaled"
      ],
      "outputs": [
        {
          "output_type": "execute_result",
          "data": {
            "text/html": [
              "<div>\n",
              "<style scoped>\n",
              "    .dataframe tbody tr th:only-of-type {\n",
              "        vertical-align: middle;\n",
              "    }\n",
              "\n",
              "    .dataframe tbody tr th {\n",
              "        vertical-align: top;\n",
              "    }\n",
              "\n",
              "    .dataframe thead th {\n",
              "        text-align: right;\n",
              "    }\n",
              "</style>\n",
              "<table border=\"1\" class=\"dataframe\">\n",
              "  <thead>\n",
              "    <tr style=\"text-align: right;\">\n",
              "      <th></th>\n",
              "      <th>Age</th>\n",
              "      <th>Occupation</th>\n",
              "      <th>Loss</th>\n",
              "      <th>cluster</th>\n",
              "    </tr>\n",
              "  </thead>\n",
              "  <tbody>\n",
              "    <tr>\n",
              "      <th>48</th>\n",
              "      <td>-0.368729</td>\n",
              "      <td>-0.463039</td>\n",
              "      <td>-1.363689</td>\n",
              "      <td>0</td>\n",
              "    </tr>\n",
              "    <tr>\n",
              "      <th>53</th>\n",
              "      <td>-0.368729</td>\n",
              "      <td>-1.066346</td>\n",
              "      <td>-0.887673</td>\n",
              "      <td>0</td>\n",
              "    </tr>\n",
              "    <tr>\n",
              "      <th>123</th>\n",
              "      <td>0.607605</td>\n",
              "      <td>0.291096</td>\n",
              "      <td>-0.983708</td>\n",
              "      <td>1</td>\n",
              "    </tr>\n",
              "    <tr>\n",
              "      <th>148</th>\n",
              "      <td>2.072105</td>\n",
              "      <td>1.497711</td>\n",
              "      <td>0.797999</td>\n",
              "      <td>1</td>\n",
              "    </tr>\n",
              "    <tr>\n",
              "      <th>149</th>\n",
              "      <td>-0.368729</td>\n",
              "      <td>-0.915519</td>\n",
              "      <td>-0.592339</td>\n",
              "      <td>0</td>\n",
              "    </tr>\n",
              "    <tr>\n",
              "      <th>...</th>\n",
              "      <td>...</td>\n",
              "      <td>...</td>\n",
              "      <td>...</td>\n",
              "      <td>...</td>\n",
              "    </tr>\n",
              "    <tr>\n",
              "      <th>5916</th>\n",
              "      <td>2.072105</td>\n",
              "      <td>1.950192</td>\n",
              "      <td>-0.735427</td>\n",
              "      <td>1</td>\n",
              "    </tr>\n",
              "    <tr>\n",
              "      <th>5954</th>\n",
              "      <td>1.583938</td>\n",
              "      <td>0.592750</td>\n",
              "      <td>2.292827</td>\n",
              "      <td>1</td>\n",
              "    </tr>\n",
              "    <tr>\n",
              "      <th>5996</th>\n",
              "      <td>-0.368729</td>\n",
              "      <td>-1.066346</td>\n",
              "      <td>-0.123673</td>\n",
              "      <td>0</td>\n",
              "    </tr>\n",
              "    <tr>\n",
              "      <th>6016</th>\n",
              "      <td>1.583938</td>\n",
              "      <td>-0.915519</td>\n",
              "      <td>-0.642972</td>\n",
              "      <td>1</td>\n",
              "    </tr>\n",
              "    <tr>\n",
              "      <th>6036</th>\n",
              "      <td>-0.368729</td>\n",
              "      <td>1.196058</td>\n",
              "      <td>-0.619355</td>\n",
              "      <td>2</td>\n",
              "    </tr>\n",
              "  </tbody>\n",
              "</table>\n",
              "<p>300 rows × 4 columns</p>\n",
              "</div>"
            ],
            "text/plain": [
              "           Age  Occupation      Loss  cluster\n",
              "48   -0.368729   -0.463039 -1.363689        0\n",
              "53   -0.368729   -1.066346 -0.887673        0\n",
              "123   0.607605    0.291096 -0.983708        1\n",
              "148   2.072105    1.497711  0.797999        1\n",
              "149  -0.368729   -0.915519 -0.592339        0\n",
              "...        ...         ...       ...      ...\n",
              "5916  2.072105    1.950192 -0.735427        1\n",
              "5954  1.583938    0.592750  2.292827        1\n",
              "5996 -0.368729   -1.066346 -0.123673        0\n",
              "6016  1.583938   -0.915519 -0.642972        1\n",
              "6036 -0.368729    1.196058 -0.619355        2\n",
              "\n",
              "[300 rows x 4 columns]"
            ]
          },
          "metadata": {},
          "execution_count": 83
        }
      ],
      "metadata": {}
    },
    {
      "cell_type": "code",
      "execution_count": 84,
      "source": [
        "users = list(df_scaled.index)\r\n",
        "groups = df_scaled['cluster']\r\n",
        "\r\n",
        "grouped_users = {i: [] for i in range(n_clusters)}\r\n",
        "\r\n",
        "for user, group in zip(users, groups):\r\n",
        "    grouped_users[group].append(user)\r\n",
        "\r\n",
        "for gp, ctr in grouped_users.items():\r\n",
        "    print(f'Cluster {gp}: {ctr}\\n')"
      ],
      "outputs": [
        {
          "output_type": "stream",
          "name": "stdout",
          "text": [
            "Cluster 0: [48, 53, 149, 173, 202, 302, 308, 331, 352, 509, 524, 543, 549, 678, 692, 699, 752, 770, 839, 855, 877, 1010, 1019, 1050, 1051, 1068, 1088, 1112, 1120, 1125, 1137, 1194, 1203, 1242, 1246, 1264, 1266, 1340, 1354, 1383, 1425, 1447, 1448, 1470, 1579, 1605, 1635, 1671, 1675, 1676, 1749, 1764, 1837, 1912, 1926, 1943, 1958, 1988, 2010, 2012, 2015, 2030, 2063, 2073, 2077, 2116, 2124, 2181, 2453, 2507, 2777, 2820, 2857, 2887, 2907, 2909, 2986, 3029, 3032, 3067, 3118, 3280, 3285, 3311, 3312, 3320, 3389, 3391, 3410, 3462, 3471, 3507, 3526, 3539, 3562, 3610, 3648, 3650, 3681, 3683, 3768, 3778, 3792, 3808, 3829, 3834, 3884, 3929, 3934, 3942, 4033, 4041, 4048, 4085, 4089, 4140, 4186, 4344, 4386, 4387, 4411, 4543, 4578, 4579, 4682, 4957, 4979, 5011, 5074, 5111, 5220, 5312, 5333, 5367, 5387, 5394, 5501, 5530, 5605, 5614, 5627, 5636, 5643, 5682, 5747, 5759, 5763, 5788, 5795, 5812, 5831, 5878, 5880, 5996]\n",
            "\n",
            "Cluster 1: [123, 148, 216, 319, 329, 411, 550, 660, 721, 731, 984, 1015, 1181, 1207, 1224, 1274, 1285, 1298, 1317, 1465, 1698, 1741, 1748, 1780, 1880, 1884, 1897, 1899, 1920, 1980, 2092, 2304, 2529, 2544, 2793, 2878, 2962, 3018, 3272, 3292, 3401, 3476, 3483, 3589, 3618, 3675, 3705, 3724, 3823, 3841, 4016, 4021, 4054, 4064, 4083, 4169, 4305, 4425, 4447, 4482, 4510, 4725, 4802, 4808, 5015, 5054, 5100, 5107, 5504, 5511, 5916, 5954, 6016]\n",
            "\n",
            "Cluster 2: [195, 245, 424, 438, 482, 528, 531, 533, 710, 869, 881, 889, 1069, 1117, 1150, 1303, 1333, 1422, 1449, 1451, 1496, 1613, 1632, 1647, 1680, 1733, 1737, 1812, 1835, 1889, 1941, 2106, 2109, 2665, 2934, 3163, 3182, 3224, 3308, 3336, 3475, 3491, 3519, 3626, 3693, 3821, 3824, 3842, 3885, 3999, 4227, 4238, 4277, 4312, 4345, 4354, 4448, 4508, 4647, 4728, 4732, 4867, 5026, 5046, 5256, 5306, 5433, 5493, 5536, 5550, 5675, 5888, 6036]\n",
            "\n"
          ]
        }
      ],
      "metadata": {}
    }
  ]
}