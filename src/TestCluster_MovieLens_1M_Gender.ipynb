{
  "nbformat": 4,
  "nbformat_minor": 2,
  "metadata": {
    "colab": {
      "name": "recsys-cluster-loss-20items-agrupamento.ipynb",
      "provenance": [],
      "collapsed_sections": []
    },
    "kernelspec": {
      "name": "python3",
      "display_name": "Python 3.9.6 64-bit"
    },
    "language_info": {
      "name": "python",
      "version": "3.9.6",
      "mimetype": "text/x-python",
      "codemirror_mode": {
        "name": "ipython",
        "version": 3
      },
      "pygments_lexer": "ipython3",
      "nbconvert_exporter": "python",
      "file_extension": ".py"
    },
    "interpreter": {
      "hash": "33a6e123bcdbde5194593dce101121189e5e4c5a8c334626e820e0bd268629ea"
    }
  },
  "cells": [
    {
      "cell_type": "markdown",
      "source": [
        "**recsys-cluster-loss**\r\n",
        "\r\n",
        "Example of cluster analysis in the context of recommendation systems.\r\n",
        "Users who receive recommendations will be grouped based on the individual fairness measure of those recommendations.\r\n",
        "The objective is to analyze whether there is any type of injustice of non-obvious user groups, that is, groups that cannot be configured based on some explicit user characteristic (variable) (for example: gender, age, etc.) .\r\n",
        "\r\n",
        "Two methods of grouping will be applied:\r\n",
        "1. Hierarchical clustering (tree clustering - dendrogram)\r\n",
        "2. Non-hierarchical grouping by breakdown (grouping by k-Means)\r\n",
        "\r\n",
        "In this file we are analyzing the possible groupings considering the following variable(s):\r\n",
        "- gender: gender of users"
      ],
      "metadata": {
        "id": "ZKCpdWWT4s-B"
      }
    },
    {
      "cell_type": "markdown",
      "source": [
        "Recommendation system: generating the recommendation matrix and calculating individual fairness"
      ],
      "metadata": {}
    },
    {
      "cell_type": "code",
      "execution_count": 19,
      "source": [
        "# cloning repository with database\r\n",
        "!rm -rf recsys-cluster-loss\r\n",
        "!git clone https://github.com/ravarmes/recsys-cluster-loss.git"
      ],
      "outputs": [
        {
          "output_type": "stream",
          "name": "stderr",
          "text": [
            "Cloning into 'recsys-cluster-loss'...\n"
          ]
        }
      ],
      "metadata": {
        "id": "fJW5Qza9tDe0",
        "colab": {
          "base_uri": "https://localhost:8080/"
        },
        "outputId": "fad6d80d-19d2-4ac5-e00d-bf495d0a23fe"
      }
    },
    {
      "cell_type": "code",
      "execution_count": 1,
      "source": [
        "import pandas as pd\r\n",
        "import numpy as np\r\n",
        "import matplotlib.pyplot as plt\r\n",
        "import seaborn as sns\r\n",
        "from sklearn.preprocessing import StandardScaler\r\n",
        "from sklearn.cluster import AgglomerativeClustering, KMeans\r\n",
        "from scipy.cluster import hierarchy\r\n",
        "\r\n",
        "import warnings\r\n",
        "warnings.filterwarnings('ignore')\r\n",
        "\r\n",
        "sns.set()"
      ],
      "outputs": [],
      "metadata": {}
    },
    {
      "cell_type": "code",
      "execution_count": 2,
      "source": [
        "import sys\r\n",
        "sys.path.append('recsys-cluster-loss/src')\r\n",
        "from RecSys import RecSys\r\n",
        "from UserFairness import IndividualLossVariance\r\n",
        "from UserFairness import GroupLossVariance"
      ],
      "outputs": [],
      "metadata": {
        "id": "biw8w4RKArjN"
      }
    },
    {
      "cell_type": "code",
      "execution_count": 3,
      "source": [
        "# reading data from 3883 movies and 6040 users \r\n",
        "Data_path = 'recsys-cluster-loss/data/MovieLens-1M'\r\n",
        "n_users=  300\r\n",
        "n_items= 1000\r\n",
        "top_users = True # True: to use users with more ratings; False: otherwise\r\n",
        "top_items = False # True: to use movies with more ratings; False: otherwise"
      ],
      "outputs": [],
      "metadata": {
        "id": "2FQ0_uYOIvEj"
      }
    },
    {
      "cell_type": "code",
      "execution_count": 4,
      "source": [
        "# recommendation algorithm\r\n",
        "algorithm = 'RecSysALS'"
      ],
      "outputs": [],
      "metadata": {
        "id": "kky92lhnIxxf"
      }
    },
    {
      "cell_type": "code",
      "execution_count": 5,
      "source": [
        "# parameters for calculating fairness measures\r\n",
        "l = 5\r\n",
        "theta = 3\r\n",
        "k = 3"
      ],
      "outputs": [],
      "metadata": {
        "id": "NwhZkRQ_I0YF"
      }
    },
    {
      "cell_type": "code",
      "execution_count": 6,
      "source": [
        "recsys = RecSys(n_users, n_items, top_users, top_items, l, theta, k)"
      ],
      "outputs": [],
      "metadata": {
        "id": "1qWcPGY5I9FE"
      }
    },
    {
      "cell_type": "code",
      "execution_count": 7,
      "source": [
        "X, users_info, items_info = recsys.read_movielens_1M(n_users, n_items, top_users, top_items, data_dir = Data_path) # returns matrix of ratings with n_users rows and n_moveis columns\r\n",
        "omega = ~X.isnull() # matrix X with True in cells with evaluations and False in cells not rated"
      ],
      "outputs": [],
      "metadata": {
        "id": "gxrBq6I1JK8o",
        "colab": {
          "base_uri": "https://localhost:8080/",
          "height": 1000
        },
        "outputId": "6a71ff85-ef00-4e20-d663-373602218bd8"
      }
    },
    {
      "cell_type": "code",
      "execution_count": 8,
      "source": [
        "users_info"
      ],
      "outputs": [
        {
          "output_type": "execute_result",
          "data": {
            "text/html": [
              "<div>\n",
              "<style scoped>\n",
              "    .dataframe tbody tr th:only-of-type {\n",
              "        vertical-align: middle;\n",
              "    }\n",
              "\n",
              "    .dataframe tbody tr th {\n",
              "        vertical-align: top;\n",
              "    }\n",
              "\n",
              "    .dataframe thead th {\n",
              "        text-align: right;\n",
              "    }\n",
              "</style>\n",
              "<table border=\"1\" class=\"dataframe\">\n",
              "  <thead>\n",
              "    <tr style=\"text-align: right;\">\n",
              "      <th></th>\n",
              "      <th>Gender</th>\n",
              "      <th>Age</th>\n",
              "      <th>Occupation</th>\n",
              "      <th>Zip-code</th>\n",
              "    </tr>\n",
              "  </thead>\n",
              "  <tbody>\n",
              "    <tr>\n",
              "      <th>1</th>\n",
              "      <td>2</td>\n",
              "      <td>1</td>\n",
              "      <td>10</td>\n",
              "      <td>48067</td>\n",
              "    </tr>\n",
              "    <tr>\n",
              "      <th>2</th>\n",
              "      <td>1</td>\n",
              "      <td>56</td>\n",
              "      <td>16</td>\n",
              "      <td>70072</td>\n",
              "    </tr>\n",
              "    <tr>\n",
              "      <th>3</th>\n",
              "      <td>1</td>\n",
              "      <td>25</td>\n",
              "      <td>15</td>\n",
              "      <td>55117</td>\n",
              "    </tr>\n",
              "    <tr>\n",
              "      <th>4</th>\n",
              "      <td>1</td>\n",
              "      <td>45</td>\n",
              "      <td>7</td>\n",
              "      <td>02460</td>\n",
              "    </tr>\n",
              "    <tr>\n",
              "      <th>5</th>\n",
              "      <td>1</td>\n",
              "      <td>25</td>\n",
              "      <td>20</td>\n",
              "      <td>55455</td>\n",
              "    </tr>\n",
              "    <tr>\n",
              "      <th>...</th>\n",
              "      <td>...</td>\n",
              "      <td>...</td>\n",
              "      <td>...</td>\n",
              "      <td>...</td>\n",
              "    </tr>\n",
              "    <tr>\n",
              "      <th>6036</th>\n",
              "      <td>2</td>\n",
              "      <td>25</td>\n",
              "      <td>15</td>\n",
              "      <td>32603</td>\n",
              "    </tr>\n",
              "    <tr>\n",
              "      <th>6037</th>\n",
              "      <td>2</td>\n",
              "      <td>45</td>\n",
              "      <td>1</td>\n",
              "      <td>76006</td>\n",
              "    </tr>\n",
              "    <tr>\n",
              "      <th>6038</th>\n",
              "      <td>2</td>\n",
              "      <td>56</td>\n",
              "      <td>1</td>\n",
              "      <td>14706</td>\n",
              "    </tr>\n",
              "    <tr>\n",
              "      <th>6039</th>\n",
              "      <td>2</td>\n",
              "      <td>45</td>\n",
              "      <td>0</td>\n",
              "      <td>01060</td>\n",
              "    </tr>\n",
              "    <tr>\n",
              "      <th>6040</th>\n",
              "      <td>1</td>\n",
              "      <td>25</td>\n",
              "      <td>6</td>\n",
              "      <td>11106</td>\n",
              "    </tr>\n",
              "  </tbody>\n",
              "</table>\n",
              "<p>6040 rows × 4 columns</p>\n",
              "</div>"
            ],
            "text/plain": [
              "      Gender  Age  Occupation Zip-code\n",
              "1          2    1          10    48067\n",
              "2          1   56          16    70072\n",
              "3          1   25          15    55117\n",
              "4          1   45           7    02460\n",
              "5          1   25          20    55455\n",
              "...      ...  ...         ...      ...\n",
              "6036       2   25          15    32603\n",
              "6037       2   45           1    76006\n",
              "6038       2   56           1    14706\n",
              "6039       2   45           0    01060\n",
              "6040       1   25           6    11106\n",
              "\n",
              "[6040 rows x 4 columns]"
            ]
          },
          "metadata": {},
          "execution_count": 8
        }
      ],
      "metadata": {
        "id": "8XR9U63U01GL"
      }
    },
    {
      "cell_type": "code",
      "execution_count": 9,
      "source": [
        "X_est = recsys.compute_X_est(X, algorithm, Data_path) # RecSysALS or RecSysKNN or RecSysNMF or RecSysExampleAntidoteData20Items"
      ],
      "outputs": [],
      "metadata": {
        "id": "DRwHlM5m0y9x"
      }
    },
    {
      "cell_type": "code",
      "execution_count": 10,
      "source": [
        "ilv = IndividualLossVariance(X, omega, 1)\r\n",
        "losses = ilv.get_losses(X_est)"
      ],
      "outputs": [],
      "metadata": {
        "id": "dmqGCoRn5atN"
      }
    },
    {
      "cell_type": "code",
      "execution_count": 11,
      "source": [
        "losses"
      ],
      "outputs": [
        {
          "output_type": "execute_result",
          "data": {
            "text/plain": [
              "UserID\n",
              "4169    0.611130\n",
              "1680    1.132248\n",
              "4277    0.414079\n",
              "1941    1.047745\n",
              "1181    0.587892\n",
              "          ...   \n",
              "3320    1.072202\n",
              "3462    0.875762\n",
              "5011    0.664776\n",
              "308     0.358923\n",
              "1333    1.164655\n",
              "Length: 300, dtype: float64"
            ]
          },
          "metadata": {},
          "execution_count": 11
        }
      ],
      "metadata": {}
    },
    {
      "cell_type": "code",
      "execution_count": 12,
      "source": [
        "df = pd.DataFrame(columns=['Gender', 'Age', 'Occupation', 'Zip-code', 'Loss'])\r\n",
        "df['Gender'] = users_info['Gender']\r\n",
        "df['Age'] = users_info['Age']\r\n",
        "df['Occupation'] = users_info['Occupation']\r\n",
        "df['Zip-code'] = users_info['Zip-code']\r\n",
        "df['NR'] = users_info['NR']\r\n",
        "df['Loss'] = losses\r\n",
        "\r\n",
        "df.dropna(subset=['Loss'], inplace=True) # eliminating rows with empty values in the 'Loss' column\r\n",
        "df"
      ],
      "outputs": [
        {
          "output_type": "execute_result",
          "data": {
            "text/html": [
              "<div>\n",
              "<style scoped>\n",
              "    .dataframe tbody tr th:only-of-type {\n",
              "        vertical-align: middle;\n",
              "    }\n",
              "\n",
              "    .dataframe tbody tr th {\n",
              "        vertical-align: top;\n",
              "    }\n",
              "\n",
              "    .dataframe thead th {\n",
              "        text-align: right;\n",
              "    }\n",
              "</style>\n",
              "<table border=\"1\" class=\"dataframe\">\n",
              "  <thead>\n",
              "    <tr style=\"text-align: right;\">\n",
              "      <th></th>\n",
              "      <th>Gender</th>\n",
              "      <th>Age</th>\n",
              "      <th>Occupation</th>\n",
              "      <th>Zip-code</th>\n",
              "      <th>Loss</th>\n",
              "    </tr>\n",
              "  </thead>\n",
              "  <tbody>\n",
              "    <tr>\n",
              "      <th>48</th>\n",
              "      <td>1</td>\n",
              "      <td>25</td>\n",
              "      <td>4</td>\n",
              "      <td>92107</td>\n",
              "      <td>0.370556</td>\n",
              "    </tr>\n",
              "    <tr>\n",
              "      <th>53</th>\n",
              "      <td>1</td>\n",
              "      <td>25</td>\n",
              "      <td>0</td>\n",
              "      <td>96931</td>\n",
              "      <td>0.516604</td>\n",
              "    </tr>\n",
              "    <tr>\n",
              "      <th>123</th>\n",
              "      <td>1</td>\n",
              "      <td>35</td>\n",
              "      <td>9</td>\n",
              "      <td>67208</td>\n",
              "      <td>0.487140</td>\n",
              "    </tr>\n",
              "    <tr>\n",
              "      <th>148</th>\n",
              "      <td>1</td>\n",
              "      <td>50</td>\n",
              "      <td>17</td>\n",
              "      <td>57747</td>\n",
              "      <td>1.033793</td>\n",
              "    </tr>\n",
              "    <tr>\n",
              "      <th>149</th>\n",
              "      <td>1</td>\n",
              "      <td>25</td>\n",
              "      <td>1</td>\n",
              "      <td>29205</td>\n",
              "      <td>0.607217</td>\n",
              "    </tr>\n",
              "    <tr>\n",
              "      <th>...</th>\n",
              "      <td>...</td>\n",
              "      <td>...</td>\n",
              "      <td>...</td>\n",
              "      <td>...</td>\n",
              "      <td>...</td>\n",
              "    </tr>\n",
              "    <tr>\n",
              "      <th>5916</th>\n",
              "      <td>1</td>\n",
              "      <td>50</td>\n",
              "      <td>20</td>\n",
              "      <td>48230</td>\n",
              "      <td>0.563316</td>\n",
              "    </tr>\n",
              "    <tr>\n",
              "      <th>5954</th>\n",
              "      <td>1</td>\n",
              "      <td>45</td>\n",
              "      <td>11</td>\n",
              "      <td>70802</td>\n",
              "      <td>1.492428</td>\n",
              "    </tr>\n",
              "    <tr>\n",
              "      <th>5996</th>\n",
              "      <td>2</td>\n",
              "      <td>25</td>\n",
              "      <td>0</td>\n",
              "      <td>87114</td>\n",
              "      <td>0.751011</td>\n",
              "    </tr>\n",
              "    <tr>\n",
              "      <th>6016</th>\n",
              "      <td>1</td>\n",
              "      <td>45</td>\n",
              "      <td>1</td>\n",
              "      <td>37209</td>\n",
              "      <td>0.591682</td>\n",
              "    </tr>\n",
              "    <tr>\n",
              "      <th>6036</th>\n",
              "      <td>2</td>\n",
              "      <td>25</td>\n",
              "      <td>15</td>\n",
              "      <td>32603</td>\n",
              "      <td>0.598928</td>\n",
              "    </tr>\n",
              "  </tbody>\n",
              "</table>\n",
              "<p>300 rows × 5 columns</p>\n",
              "</div>"
            ],
            "text/plain": [
              "      Gender  Age  Occupation Zip-code      Loss\n",
              "48         1   25           4    92107  0.370556\n",
              "53         1   25           0    96931  0.516604\n",
              "123        1   35           9    67208  0.487140\n",
              "148        1   50          17    57747  1.033793\n",
              "149        1   25           1    29205  0.607217\n",
              "...      ...  ...         ...      ...       ...\n",
              "5916       1   50          20    48230  0.563316\n",
              "5954       1   45          11    70802  1.492428\n",
              "5996       2   25           0    87114  0.751011\n",
              "6016       1   45           1    37209  0.591682\n",
              "6036       2   25          15    32603  0.598928\n",
              "\n",
              "[300 rows x 5 columns]"
            ]
          },
          "metadata": {},
          "execution_count": 12
        }
      ],
      "metadata": {
        "colab": {
          "base_uri": "https://localhost:8080/",
          "height": 1000
        },
        "id": "gEocAu4NGHsD",
        "outputId": "c625291f-76ab-46dd-bd6f-4b619a8463e4"
      }
    },
    {
      "cell_type": "code",
      "execution_count": 13,
      "source": [
        "df.head()"
      ],
      "outputs": [
        {
          "output_type": "execute_result",
          "data": {
            "text/html": [
              "<div>\n",
              "<style scoped>\n",
              "    .dataframe tbody tr th:only-of-type {\n",
              "        vertical-align: middle;\n",
              "    }\n",
              "\n",
              "    .dataframe tbody tr th {\n",
              "        vertical-align: top;\n",
              "    }\n",
              "\n",
              "    .dataframe thead th {\n",
              "        text-align: right;\n",
              "    }\n",
              "</style>\n",
              "<table border=\"1\" class=\"dataframe\">\n",
              "  <thead>\n",
              "    <tr style=\"text-align: right;\">\n",
              "      <th></th>\n",
              "      <th>Gender</th>\n",
              "      <th>Age</th>\n",
              "      <th>Occupation</th>\n",
              "      <th>Zip-code</th>\n",
              "      <th>Loss</th>\n",
              "    </tr>\n",
              "  </thead>\n",
              "  <tbody>\n",
              "    <tr>\n",
              "      <th>48</th>\n",
              "      <td>1</td>\n",
              "      <td>25</td>\n",
              "      <td>4</td>\n",
              "      <td>92107</td>\n",
              "      <td>0.370556</td>\n",
              "    </tr>\n",
              "    <tr>\n",
              "      <th>53</th>\n",
              "      <td>1</td>\n",
              "      <td>25</td>\n",
              "      <td>0</td>\n",
              "      <td>96931</td>\n",
              "      <td>0.516604</td>\n",
              "    </tr>\n",
              "    <tr>\n",
              "      <th>123</th>\n",
              "      <td>1</td>\n",
              "      <td>35</td>\n",
              "      <td>9</td>\n",
              "      <td>67208</td>\n",
              "      <td>0.487140</td>\n",
              "    </tr>\n",
              "    <tr>\n",
              "      <th>148</th>\n",
              "      <td>1</td>\n",
              "      <td>50</td>\n",
              "      <td>17</td>\n",
              "      <td>57747</td>\n",
              "      <td>1.033793</td>\n",
              "    </tr>\n",
              "    <tr>\n",
              "      <th>149</th>\n",
              "      <td>1</td>\n",
              "      <td>25</td>\n",
              "      <td>1</td>\n",
              "      <td>29205</td>\n",
              "      <td>0.607217</td>\n",
              "    </tr>\n",
              "  </tbody>\n",
              "</table>\n",
              "</div>"
            ],
            "text/plain": [
              "     Gender  Age  Occupation Zip-code      Loss\n",
              "48        1   25           4    92107  0.370556\n",
              "53        1   25           0    96931  0.516604\n",
              "123       1   35           9    67208  0.487140\n",
              "148       1   50          17    57747  1.033793\n",
              "149       1   25           1    29205  0.607217"
            ]
          },
          "metadata": {},
          "execution_count": 13
        }
      ],
      "metadata": {
        "colab": {
          "base_uri": "https://localhost:8080/",
          "height": 234
        },
        "id": "uHXqrVas1yce",
        "outputId": "db24a330-f8dd-4b9c-e301-bf66f616a8f8"
      }
    },
    {
      "cell_type": "code",
      "execution_count": 14,
      "source": [
        "# number of rows and columns:\r\n",
        "df.shape"
      ],
      "outputs": [
        {
          "output_type": "execute_result",
          "data": {
            "text/plain": [
              "(300, 5)"
            ]
          },
          "metadata": {},
          "execution_count": 14
        }
      ],
      "metadata": {
        "colab": {
          "base_uri": "https://localhost:8080/"
        },
        "id": "qTaZvgmL16HL",
        "outputId": "5f5f2689-a441-41cd-b740-1e274f2d53b9"
      }
    },
    {
      "cell_type": "code",
      "execution_count": 15,
      "source": [
        "# descriptive statistics:\r\n",
        "df.describe()"
      ],
      "outputs": [
        {
          "output_type": "execute_result",
          "data": {
            "text/html": [
              "<div>\n",
              "<style scoped>\n",
              "    .dataframe tbody tr th:only-of-type {\n",
              "        vertical-align: middle;\n",
              "    }\n",
              "\n",
              "    .dataframe tbody tr th {\n",
              "        vertical-align: top;\n",
              "    }\n",
              "\n",
              "    .dataframe thead th {\n",
              "        text-align: right;\n",
              "    }\n",
              "</style>\n",
              "<table border=\"1\" class=\"dataframe\">\n",
              "  <thead>\n",
              "    <tr style=\"text-align: right;\">\n",
              "      <th></th>\n",
              "      <th>Gender</th>\n",
              "      <th>Age</th>\n",
              "      <th>Occupation</th>\n",
              "      <th>Loss</th>\n",
              "    </tr>\n",
              "  </thead>\n",
              "  <tbody>\n",
              "    <tr>\n",
              "      <th>count</th>\n",
              "      <td>300.000000</td>\n",
              "      <td>300.000000</td>\n",
              "      <td>300.000000</td>\n",
              "      <td>300.000000</td>\n",
              "    </tr>\n",
              "    <tr>\n",
              "      <th>mean</th>\n",
              "      <td>1.230000</td>\n",
              "      <td>28.776667</td>\n",
              "      <td>7.070000</td>\n",
              "      <td>0.788955</td>\n",
              "    </tr>\n",
              "    <tr>\n",
              "      <th>std</th>\n",
              "      <td>0.421536</td>\n",
              "      <td>10.259515</td>\n",
              "      <td>6.641194</td>\n",
              "      <td>0.307327</td>\n",
              "    </tr>\n",
              "    <tr>\n",
              "      <th>min</th>\n",
              "      <td>1.000000</td>\n",
              "      <td>1.000000</td>\n",
              "      <td>0.000000</td>\n",
              "      <td>0.293217</td>\n",
              "    </tr>\n",
              "    <tr>\n",
              "      <th>25%</th>\n",
              "      <td>1.000000</td>\n",
              "      <td>25.000000</td>\n",
              "      <td>1.000000</td>\n",
              "      <td>0.578627</td>\n",
              "    </tr>\n",
              "    <tr>\n",
              "      <th>50%</th>\n",
              "      <td>1.000000</td>\n",
              "      <td>25.000000</td>\n",
              "      <td>4.000000</td>\n",
              "      <td>0.727145</td>\n",
              "    </tr>\n",
              "    <tr>\n",
              "      <th>75%</th>\n",
              "      <td>1.000000</td>\n",
              "      <td>35.000000</td>\n",
              "      <td>14.000000</td>\n",
              "      <td>0.915155</td>\n",
              "    </tr>\n",
              "    <tr>\n",
              "      <th>max</th>\n",
              "      <td>2.000000</td>\n",
              "      <td>56.000000</td>\n",
              "      <td>20.000000</td>\n",
              "      <td>2.401739</td>\n",
              "    </tr>\n",
              "  </tbody>\n",
              "</table>\n",
              "</div>"
            ],
            "text/plain": [
              "           Gender         Age  Occupation        Loss\n",
              "count  300.000000  300.000000  300.000000  300.000000\n",
              "mean     1.230000   28.776667    7.070000    0.788955\n",
              "std      0.421536   10.259515    6.641194    0.307327\n",
              "min      1.000000    1.000000    0.000000    0.293217\n",
              "25%      1.000000   25.000000    1.000000    0.578627\n",
              "50%      1.000000   25.000000    4.000000    0.727145\n",
              "75%      1.000000   35.000000   14.000000    0.915155\n",
              "max      2.000000   56.000000   20.000000    2.401739"
            ]
          },
          "metadata": {},
          "execution_count": 15
        }
      ],
      "metadata": {
        "colab": {
          "base_uri": "https://localhost:8080/",
          "height": 295
        },
        "id": "Imo2zaMR1-Yl",
        "outputId": "1f412f7d-97a1-41f3-c262-f0040010fb50"
      }
    },
    {
      "cell_type": "code",
      "execution_count": 16,
      "source": [
        "sns.pairplot(df)"
      ],
      "outputs": [
        {
          "output_type": "execute_result",
          "data": {
            "text/plain": [
              "<seaborn.axisgrid.PairGrid at 0x1600bc88e20>"
            ]
          },
          "metadata": {},
          "execution_count": 16
        },
        {
          "output_type": "display_data",
          "data": {
            "image/png": "[encoded data removed]",
            "text/plain": [
              "<Figure size 720x720 with 20 Axes>"
            ]
          },
          "metadata": {}
        }
      ],
      "metadata": {}
    },
    {
      "cell_type": "code",
      "execution_count": 17,
      "source": [
        "df = df.drop(['Zip-code'] , axis=1) # eliminating Zip-code (non-numeric) columns to analyze correlations\r\n",
        "\r\n",
        "plt.figure(figsize=(7, 7))\r\n",
        "corr = np.corrcoef(df.values, rowvar=False)\r\n",
        "sns.heatmap(corr, annot=True, cmap='Blues', fmt='.2f', cbar=False, xticklabels=df.columns, yticklabels=df.columns)"
      ],
      "outputs": [
        {
          "output_type": "execute_result",
          "data": {
            "text/plain": [
              "<AxesSubplot:>"
            ]
          },
          "metadata": {},
          "execution_count": 17
        },
        {
          "output_type": "display_data",
          "data": {
            "image/png": "[encoded data removed]",
            "text/plain": [
              "<Figure size 504x504 with 1 Axes>"
            ]
          },
          "metadata": {}
        }
      ],
      "metadata": {}
    },
    {
      "cell_type": "markdown",
      "source": [
        "Hierarchical clustering (tree clustering - dendrogram)"
      ],
      "metadata": {}
    },
    {
      "cell_type": "code",
      "execution_count": 18,
      "source": [
        "# Leaving only the Gender column to perform cluster analysis\r\n",
        "df = df.drop('Loss', 1)\r\n",
        "df = df.drop('Age', 1) \r\n",
        "df = df.drop('Occupation', 1) \r\n",
        "#df = df.drop('Gender', 1) \r\n",
        "df = df.drop('NR', 1) "
      ],
      "outputs": [],
      "metadata": {}
    },
    {
      "cell_type": "code",
      "execution_count": 19,
      "source": [
        "df_scaled = df.copy()\r\n",
        "df_scaled.iloc[:, :] = StandardScaler().fit_transform(df)"
      ],
      "outputs": [],
      "metadata": {}
    },
    {
      "cell_type": "code",
      "execution_count": 20,
      "source": [
        "Z = hierarchy.linkage(df_scaled, 'ward') #complete or ward\r\n",
        "plt.figure(figsize=(22, 10))\r\n",
        "plt.grid(axis='y')\r\n",
        "dn = hierarchy.dendrogram(Z, labels=list(df.index), leaf_font_size=8)"
      ],
      "outputs": [
        {
          "output_type": "display_data",
          "data": {
            "image/png": "[encoded data removed]",
            "text/plain": [
              "<Figure size 1584x720 with 1 Axes>"
            ]
          },
          "metadata": {}
        }
      ],
      "metadata": {}
    },
    {
      "cell_type": "code",
      "execution_count": 21,
      "source": [
        "n_clusters = 2\r\n",
        "cluster = AgglomerativeClustering(n_clusters=n_clusters, affinity='euclidean', linkage='ward')\r\n",
        "df_scaled['cluster_agglomerative'] = cluster.fit_predict(df_scaled)"
      ],
      "outputs": [],
      "metadata": {}
    },
    {
      "cell_type": "code",
      "execution_count": 22,
      "source": [
        "# descriptive statistics of groups\r\n",
        "df_groups = df.copy()\r\n",
        "df_groups[\"cluster_agglomerative\"] = cluster.labels_\r\n",
        "df_groups = df_groups.groupby(\"cluster_agglomerative\")\r\n",
        "df_groups.describe()"
      ],
      "outputs": [
        {
          "output_type": "execute_result",
          "data": {
            "text/html": [
              "<div>\n",
              "<style scoped>\n",
              "    .dataframe tbody tr th:only-of-type {\n",
              "        vertical-align: middle;\n",
              "    }\n",
              "\n",
              "    .dataframe tbody tr th {\n",
              "        vertical-align: top;\n",
              "    }\n",
              "\n",
              "    .dataframe thead tr th {\n",
              "        text-align: left;\n",
              "    }\n",
              "\n",
              "    .dataframe thead tr:last-of-type th {\n",
              "        text-align: right;\n",
              "    }\n",
              "</style>\n",
              "<table border=\"1\" class=\"dataframe\">\n",
              "  <thead>\n",
              "    <tr>\n",
              "      <th></th>\n",
              "      <th colspan=\"8\" halign=\"left\">Gender</th>\n",
              "    </tr>\n",
              "    <tr>\n",
              "      <th></th>\n",
              "      <th>count</th>\n",
              "      <th>mean</th>\n",
              "      <th>std</th>\n",
              "      <th>min</th>\n",
              "      <th>25%</th>\n",
              "      <th>50%</th>\n",
              "      <th>75%</th>\n",
              "      <th>max</th>\n",
              "    </tr>\n",
              "    <tr>\n",
              "      <th>cluster_agglomerative</th>\n",
              "      <th></th>\n",
              "      <th></th>\n",
              "      <th></th>\n",
              "      <th></th>\n",
              "      <th></th>\n",
              "      <th></th>\n",
              "      <th></th>\n",
              "      <th></th>\n",
              "    </tr>\n",
              "  </thead>\n",
              "  <tbody>\n",
              "    <tr>\n",
              "      <th>0</th>\n",
              "      <td>69.0</td>\n",
              "      <td>2.0</td>\n",
              "      <td>0.0</td>\n",
              "      <td>2.0</td>\n",
              "      <td>2.0</td>\n",
              "      <td>2.0</td>\n",
              "      <td>2.0</td>\n",
              "      <td>2.0</td>\n",
              "    </tr>\n",
              "    <tr>\n",
              "      <th>1</th>\n",
              "      <td>231.0</td>\n",
              "      <td>1.0</td>\n",
              "      <td>0.0</td>\n",
              "      <td>1.0</td>\n",
              "      <td>1.0</td>\n",
              "      <td>1.0</td>\n",
              "      <td>1.0</td>\n",
              "      <td>1.0</td>\n",
              "    </tr>\n",
              "  </tbody>\n",
              "</table>\n",
              "</div>"
            ],
            "text/plain": [
              "                      Gender                                   \n",
              "                       count mean  std  min  25%  50%  75%  max\n",
              "cluster_agglomerative                                          \n",
              "0                       69.0  2.0  0.0  2.0  2.0  2.0  2.0  2.0\n",
              "1                      231.0  1.0  0.0  1.0  1.0  1.0  1.0  1.0"
            ]
          },
          "metadata": {},
          "execution_count": 22
        }
      ],
      "metadata": {}
    },
    {
      "cell_type": "code",
      "execution_count": 23,
      "source": [
        "\r\n",
        "users = list(df_scaled.index)\r\n",
        "groups = df_scaled['cluster_agglomerative']\r\n",
        "\r\n",
        "grouped_users = {i: [] for i in range(n_clusters)}\r\n",
        "for user, group in zip(users, groups):\r\n",
        "    grouped_users[group].append(user)\r\n",
        "\r\n",
        "for gp, ctr in grouped_users.items():\r\n",
        "    print(f'Cluster {gp}: {ctr}\\n')"
      ],
      "outputs": [
        {
          "output_type": "stream",
          "name": "stdout",
          "text": [
            "Cluster 0: [319, 411, 528, 531, 692, 721, 752, 855, 1051, 1068, 1088, 1125, 1150, 1194, 1203, 1242, 1354, 1383, 1448, 1605, 1675, 1812, 1897, 1899, 1920, 1926, 1958, 1988, 2073, 2106, 2529, 2820, 2878, 2907, 2934, 3067, 3224, 3292, 3308, 3312, 3462, 3483, 3519, 3539, 3562, 3589, 3829, 3842, 4048, 4085, 4305, 4345, 4387, 4482, 4579, 5107, 5306, 5333, 5387, 5433, 5530, 5605, 5643, 5759, 5763, 5812, 5878, 5996, 6036]\n",
            "\n",
            "Cluster 1: [48, 53, 123, 148, 149, 173, 195, 202, 216, 245, 302, 308, 329, 331, 352, 424, 438, 482, 509, 524, 533, 543, 549, 550, 660, 678, 699, 710, 731, 770, 839, 869, 877, 881, 889, 984, 1010, 1015, 1019, 1050, 1069, 1112, 1117, 1120, 1137, 1181, 1207, 1224, 1246, 1264, 1266, 1274, 1285, 1298, 1303, 1317, 1333, 1340, 1422, 1425, 1447, 1449, 1451, 1465, 1470, 1496, 1579, 1613, 1632, 1635, 1647, 1671, 1676, 1680, 1698, 1733, 1737, 1741, 1748, 1749, 1764, 1780, 1835, 1837, 1880, 1884, 1889, 1912, 1941, 1943, 1980, 2010, 2012, 2015, 2030, 2063, 2077, 2092, 2109, 2116, 2124, 2181, 2304, 2453, 2507, 2544, 2665, 2777, 2793, 2857, 2887, 2909, 2962, 2986, 3018, 3029, 3032, 3118, 3163, 3182, 3272, 3280, 3285, 3311, 3320, 3336, 3389, 3391, 3401, 3410, 3471, 3475, 3476, 3491, 3507, 3526, 3610, 3618, 3626, 3648, 3650, 3675, 3681, 3683, 3693, 3705, 3724, 3768, 3778, 3792, 3808, 3821, 3823, 3824, 3834, 3841, 3884, 3885, 3929, 3934, 3942, 3999, 4016, 4021, 4033, 4041, 4054, 4064, 4083, 4089, 4140, 4169, 4186, 4227, 4238, 4277, 4312, 4344, 4354, 4386, 4411, 4425, 4447, 4448, 4508, 4510, 4543, 4578, 4647, 4682, 4725, 4728, 4732, 4802, 4808, 4867, 4957, 4979, 5011, 5015, 5026, 5046, 5054, 5074, 5100, 5111, 5220, 5256, 5312, 5367, 5394, 5493, 5501, 5504, 5511, 5536, 5550, 5614, 5627, 5636, 5675, 5682, 5747, 5788, 5795, 5831, 5880, 5888, 5916, 5954, 6016]\n",
            "\n"
          ]
        }
      ],
      "metadata": {}
    },
    {
      "cell_type": "markdown",
      "source": [
        "Non-hierarchical grouping (K-means)"
      ],
      "metadata": {}
    },
    {
      "cell_type": "code",
      "execution_count": 24,
      "source": [
        "inertias = []\r\n",
        "for k in np.arange(1, 10):\r\n",
        "    kmeans = KMeans(n_clusters=k)\r\n",
        "    kmeans.fit(df)\r\n",
        "    inertias.append(kmeans.inertia_)\r\n",
        "\r\n",
        "# plotting the elbow method graph\r\n",
        "plt.figure(figsize=(8, 6))\r\n",
        "plt.plot(np.arange(1, 10), inertias, '-o')\r\n",
        "plt.xlabel('Number of clusters')\r\n",
        "plt.ylabel('Inertia');"
      ],
      "outputs": [
        {
          "output_type": "display_data",
          "data": {
            "image/png": "[encoded data removed]",
            "text/plain": [
              "<Figure size 576x432 with 1 Axes>"
            ]
          },
          "metadata": {}
        }
      ],
      "metadata": {}
    },
    {
      "cell_type": "code",
      "execution_count": 25,
      "source": [
        "n_clusters = 2\r\n",
        "kmeans = KMeans(n_clusters=n_clusters)\r\n",
        "df_scaled['cluster_kmeans'] = kmeans.fit_predict(df_scaled)"
      ],
      "outputs": [],
      "metadata": {}
    },
    {
      "cell_type": "code",
      "execution_count": 26,
      "source": [
        "df_scaled"
      ],
      "outputs": [
        {
          "output_type": "execute_result",
          "data": {
            "text/html": [
              "<div>\n",
              "<style scoped>\n",
              "    .dataframe tbody tr th:only-of-type {\n",
              "        vertical-align: middle;\n",
              "    }\n",
              "\n",
              "    .dataframe tbody tr th {\n",
              "        vertical-align: top;\n",
              "    }\n",
              "\n",
              "    .dataframe thead th {\n",
              "        text-align: right;\n",
              "    }\n",
              "</style>\n",
              "<table border=\"1\" class=\"dataframe\">\n",
              "  <thead>\n",
              "    <tr style=\"text-align: right;\">\n",
              "      <th></th>\n",
              "      <th>Gender</th>\n",
              "      <th>cluster_agglomerative</th>\n",
              "      <th>cluster_kmeans</th>\n",
              "    </tr>\n",
              "  </thead>\n",
              "  <tbody>\n",
              "    <tr>\n",
              "      <th>48</th>\n",
              "      <td>-0.546536</td>\n",
              "      <td>1</td>\n",
              "      <td>0</td>\n",
              "    </tr>\n",
              "    <tr>\n",
              "      <th>53</th>\n",
              "      <td>-0.546536</td>\n",
              "      <td>1</td>\n",
              "      <td>0</td>\n",
              "    </tr>\n",
              "    <tr>\n",
              "      <th>123</th>\n",
              "      <td>-0.546536</td>\n",
              "      <td>1</td>\n",
              "      <td>0</td>\n",
              "    </tr>\n",
              "    <tr>\n",
              "      <th>148</th>\n",
              "      <td>-0.546536</td>\n",
              "      <td>1</td>\n",
              "      <td>0</td>\n",
              "    </tr>\n",
              "    <tr>\n",
              "      <th>149</th>\n",
              "      <td>-0.546536</td>\n",
              "      <td>1</td>\n",
              "      <td>0</td>\n",
              "    </tr>\n",
              "    <tr>\n",
              "      <th>...</th>\n",
              "      <td>...</td>\n",
              "      <td>...</td>\n",
              "      <td>...</td>\n",
              "    </tr>\n",
              "    <tr>\n",
              "      <th>5916</th>\n",
              "      <td>-0.546536</td>\n",
              "      <td>1</td>\n",
              "      <td>0</td>\n",
              "    </tr>\n",
              "    <tr>\n",
              "      <th>5954</th>\n",
              "      <td>-0.546536</td>\n",
              "      <td>1</td>\n",
              "      <td>0</td>\n",
              "    </tr>\n",
              "    <tr>\n",
              "      <th>5996</th>\n",
              "      <td>1.829707</td>\n",
              "      <td>0</td>\n",
              "      <td>1</td>\n",
              "    </tr>\n",
              "    <tr>\n",
              "      <th>6016</th>\n",
              "      <td>-0.546536</td>\n",
              "      <td>1</td>\n",
              "      <td>0</td>\n",
              "    </tr>\n",
              "    <tr>\n",
              "      <th>6036</th>\n",
              "      <td>1.829707</td>\n",
              "      <td>0</td>\n",
              "      <td>1</td>\n",
              "    </tr>\n",
              "  </tbody>\n",
              "</table>\n",
              "<p>300 rows × 3 columns</p>\n",
              "</div>"
            ],
            "text/plain": [
              "        Gender  cluster_agglomerative  cluster_kmeans\n",
              "48   -0.546536                      1               0\n",
              "53   -0.546536                      1               0\n",
              "123  -0.546536                      1               0\n",
              "148  -0.546536                      1               0\n",
              "149  -0.546536                      1               0\n",
              "...        ...                    ...             ...\n",
              "5916 -0.546536                      1               0\n",
              "5954 -0.546536                      1               0\n",
              "5996  1.829707                      0               1\n",
              "6016 -0.546536                      1               0\n",
              "6036  1.829707                      0               1\n",
              "\n",
              "[300 rows x 3 columns]"
            ]
          },
          "metadata": {},
          "execution_count": 26
        }
      ],
      "metadata": {}
    },
    {
      "cell_type": "code",
      "execution_count": 27,
      "source": [
        "users = list(df_scaled.index)\r\n",
        "groups = df_scaled['cluster_agglomerative']\r\n",
        "\r\n",
        "grouped_users = {i: [] for i in range(n_clusters)}\r\n",
        "\r\n",
        "for user, group in zip(users, groups):\r\n",
        "    grouped_users[group].append(user)\r\n",
        "\r\n",
        "for gp, ctr in grouped_users.items():\r\n",
        "    print(f'Cluster {gp}: {ctr}\\n')"
      ],
      "outputs": [
        {
          "output_type": "stream",
          "name": "stdout",
          "text": [
            "Cluster 0: [319, 411, 528, 531, 692, 721, 752, 855, 1051, 1068, 1088, 1125, 1150, 1194, 1203, 1242, 1354, 1383, 1448, 1605, 1675, 1812, 1897, 1899, 1920, 1926, 1958, 1988, 2073, 2106, 2529, 2820, 2878, 2907, 2934, 3067, 3224, 3292, 3308, 3312, 3462, 3483, 3519, 3539, 3562, 3589, 3829, 3842, 4048, 4085, 4305, 4345, 4387, 4482, 4579, 5107, 5306, 5333, 5387, 5433, 5530, 5605, 5643, 5759, 5763, 5812, 5878, 5996, 6036]\n",
            "\n",
            "Cluster 1: [48, 53, 123, 148, 149, 173, 195, 202, 216, 245, 302, 308, 329, 331, 352, 424, 438, 482, 509, 524, 533, 543, 549, 550, 660, 678, 699, 710, 731, 770, 839, 869, 877, 881, 889, 984, 1010, 1015, 1019, 1050, 1069, 1112, 1117, 1120, 1137, 1181, 1207, 1224, 1246, 1264, 1266, 1274, 1285, 1298, 1303, 1317, 1333, 1340, 1422, 1425, 1447, 1449, 1451, 1465, 1470, 1496, 1579, 1613, 1632, 1635, 1647, 1671, 1676, 1680, 1698, 1733, 1737, 1741, 1748, 1749, 1764, 1780, 1835, 1837, 1880, 1884, 1889, 1912, 1941, 1943, 1980, 2010, 2012, 2015, 2030, 2063, 2077, 2092, 2109, 2116, 2124, 2181, 2304, 2453, 2507, 2544, 2665, 2777, 2793, 2857, 2887, 2909, 2962, 2986, 3018, 3029, 3032, 3118, 3163, 3182, 3272, 3280, 3285, 3311, 3320, 3336, 3389, 3391, 3401, 3410, 3471, 3475, 3476, 3491, 3507, 3526, 3610, 3618, 3626, 3648, 3650, 3675, 3681, 3683, 3693, 3705, 3724, 3768, 3778, 3792, 3808, 3821, 3823, 3824, 3834, 3841, 3884, 3885, 3929, 3934, 3942, 3999, 4016, 4021, 4033, 4041, 4054, 4064, 4083, 4089, 4140, 4169, 4186, 4227, 4238, 4277, 4312, 4344, 4354, 4386, 4411, 4425, 4447, 4448, 4508, 4510, 4543, 4578, 4647, 4682, 4725, 4728, 4732, 4802, 4808, 4867, 4957, 4979, 5011, 5015, 5026, 5046, 5054, 5074, 5100, 5111, 5220, 5256, 5312, 5367, 5394, 5493, 5501, 5504, 5511, 5536, 5550, 5614, 5627, 5636, 5675, 5682, 5747, 5788, 5795, 5831, 5880, 5888, 5916, 5954, 6016]\n",
            "\n"
          ]
        }
      ],
      "metadata": {}
    },
    {
      "cell_type": "code",
      "execution_count": 28,
      "source": [
        "# visualising the clusters (Loss x Gender)\r\n",
        "df['Loss'] = losses\r\n",
        "X2 = df[['Loss' , 'Gender']].iloc[: , :].values\r\n",
        "\r\n",
        "plt.figure( figsize=(30, 10)) # alterar tamanho\r\n",
        "plt.xticks([-0.5,-0.25,0,0.25, 0.5, 0.75, 1, 1.25, 1.5, 1.75, 2, 2.25, 2.5]) # mudar escala do eixo X\r\n",
        "plt.yticks([1, 2]) # mudar escala do eixo X\r\n",
        "\r\n",
        "plt.scatter(X2[groups == 0, 0], X2[groups == 0, 1], s = 100, c = 'red', label = 'Cluster 1')\r\n",
        "plt.scatter(X2[groups == 1, 0], X2[groups == 1, 1], s = 100, c = 'blue', label = 'Cluster 2')\r\n",
        "plt.scatter(X2[groups == 2, 0], X2[groups == 2, 1], s = 100, c = 'green', label = 'Cluster 3')\r\n",
        "plt.scatter(kmeans.cluster_centers_[:, 0], kmeans.cluster_centers_[:, 1], s = 100, c = 'yellow', label = 'Centroids')\r\n",
        "plt.title('Clusters')\r\n",
        "plt.xlabel('Loss')\r\n",
        "plt.ylabel('Gender')\r\n",
        "plt.legend()\r\n",
        "plt.show()"
      ],
      "outputs": [
        {
          "output_type": "display_data",
          "data": {
            "image/png": "[encoded data removed]",
            "text/plain": [
              "<Figure size 2160x720 with 1 Axes>"
            ]
          },
          "metadata": {}
        }
      ],
      "metadata": {}
    },
    {
      "cell_type": "code",
      "execution_count": 29,
      "source": [
        "# G group: identifying the groups (Gender: gender of users)\r\n",
        "# The configuration of groups was based in the hierarchical clustering (tree clustering - dendrogram)\r\n",
        "# Clusters 1 and 2\r\n",
        "G2 = {1: [319, 411, 528, 531, 692, 721, 752, 855, 1051, 1068, 1088, 1125, 1150, 1194, 1203, 1242, 1354, 1383, 1448, 1605, 1675, 1812, 1897, 1899, 1920, 1926, 1958, 1988, 2073, 2106, 2529, 2820, 2878, 2907, 2934, 3067, 3224, 3292, 3308, 3312, 3462, 3483, 3519, 3539, 3562, 3589, 3829, 3842, 4048, 4085, 4305, 4345, 4387, 4482, 4579, 5107, 5306, 5333, 5387, 5433, 5530, 5605, 5643, 5759, 5763, 5812, 5878, 5996, 6036], 2: [48, 53, 123, 148, 149, 173, 195, 202, 216, 245, 302, 308, 329, 331, 352, 424, 438, 482, 509, 524, 533, 543, 549, 550, 660, 678, 699, 710, 731, 770, 839, 869, 877, 881, 889, 984, 1010, 1015, 1019, 1050, 1069, 1112, 1117, 1120, 1137, 1181, 1207, 1224, 1246, 1264, 1266, 1274, 1285, 1298, 1303, 1317, 1333, 1340, 1422, 1425, 1447, 1449, 1451, 1465, 1470, 1496, 1579, 1613, 1632, 1635, 1647, 1671, 1676, 1680, 1698, 1733, 1737, 1741, 1748, 1749, 1764, 1780, 1835, 1837, 1880, 1884, 1889, 1912, 1941, 1943, 1980, 2010, 2012, 2015, 2030, 2063, 2077, 2092, 2109, 2116, 2124, 2181, 2304, 2453, 2507, 2544, 2665, 2777, 2793, 2857, 2887, 2909, 2962, 2986, 3018, 3029, 3032, 3118, 3163, 3182, 3272, 3280, 3285, 3311, 3320, 3336, 3389, 3391, 3401, 3410, 3471, 3475, 3476, 3491, 3507, 3526, 3610, 3618, 3626, 3648, 3650, 3675, 3681, 3683, 3693, 3705, 3724, 3768, 3778, 3792, 3808, 3821, 3823, 3824, 3834, 3841, 3884, 3885, 3929, 3934, 3942, 3999, 4016, 4021, 4033, 4041, 4054, 4064, 4083, 4089, 4140, 4169, 4186, 4227, 4238, 4277, 4312, 4344, 4354, 4386, 4411, 4425, 4447, 4448, 4508, 4510, 4543, 4578, 4647, 4682, 4725, 4728, 4732, 4802, 4808, 4867, 4957, 4979, 5011, 5015, 5026, 5046, 5054, 5074, 5100, 5111, 5220, 5256, 5312, 5367, 5394, 5493, 5501, 5504, 5511, 5536, 5550, 5614, 5627, 5636, 5675, 5682, 5747, 5788, 5795, 5831, 5880, 5888, 5916, 5954, 6016]}\r\n",
        "\r\n",
        "glv = GroupLossVariance(X, omega, G2, 1) #axis = 1 (0 rows e 1 columns)\r\n",
        "losses_RgrpGender = glv.get_losses(X_est)\r\n",
        "\r\n",
        "RgrpGender_groups = ['RgrpGender: 1 (M)', 'RgrpGender: 2 (F)']\r\n",
        "plt.bar(RgrpGender_groups, losses_RgrpGender)\r\n",
        "plt.title('Group unfairness gender')\r\n",
        "plt.show()"
      ],
      "outputs": [
        {
          "output_type": "display_data",
          "data": {
            "image/png": "[encoded data removed]",
            "text/plain": [
              "<Figure size 432x288 with 1 Axes>"
            ]
          },
          "metadata": {}
        }
      ],
      "metadata": {}
    }
  ]
}