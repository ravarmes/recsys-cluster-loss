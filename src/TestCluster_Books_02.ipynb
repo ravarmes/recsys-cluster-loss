{
  "nbformat": 4,
  "nbformat_minor": 2,
  "metadata": {
    "colab": {
      "name": "recsys-cluster-loss-20items-agrupamento.ipynb",
      "provenance": [],
      "collapsed_sections": []
    },
    "kernelspec": {
      "name": "python3",
      "display_name": "Python 3.9.6 64-bit"
    },
    "language_info": {
      "name": "python",
      "version": "3.9.6",
      "mimetype": "text/x-python",
      "codemirror_mode": {
        "name": "ipython",
        "version": 3
      },
      "pygments_lexer": "ipython3",
      "nbconvert_exporter": "python",
      "file_extension": ".py"
    },
    "interpreter": {
      "hash": "33a6e123bcdbde5194593dce101121189e5e4c5a8c334626e820e0bd268629ea"
    }
  },
  "cells": [
    {
      "cell_type": "markdown",
      "source": [
        "**recsys-cluster-loss**\r\n",
        "\r\n",
        "Example of cluster analysis in the context of recommendation systems.\r\n",
        "Users who receive recommendations will be grouped based on the individual fairness measure of those recommendations.\r\n",
        "The objective is to analyze whether there is any type of injustice of non-obvious user groups, that is, groups that cannot be configured based on some explicit user characteristic (variable) (for example: gender, age, etc.) .\r\n",
        "\r\n",
        "Two methods of grouping will be applied:\r\n",
        "1. Hierarchical clustering (tree clustering - dendrogram)\r\n",
        "2. Non-hierarchical grouping by breakdown (grouping by k-Means)\r\n",
        "\r\n",
        "In this file we are analyzing the possible groupings considering the following variable(s):\r\n",
        "- loss: individual injustice"
      ],
      "metadata": {
        "id": "ZKCpdWWT4s-B"
      }
    },
    {
      "cell_type": "markdown",
      "source": [
        "Recommendation system: generating the recommendation matrix and calculating individual fairness"
      ],
      "metadata": {}
    },
    {
      "cell_type": "code",
      "execution_count": 20,
      "source": [
        "# cloning repository with database\r\n",
        "!rm -rf recsys-cluster-loss\r\n",
        "!git clone https://github.com/ravarmes/recsys-cluster-loss.git"
      ],
      "outputs": [
        {
          "output_type": "stream",
          "name": "stderr",
          "text": [
            "Cloning into 'recsys-cluster-loss'...\n"
          ]
        }
      ],
      "metadata": {
        "id": "fJW5Qza9tDe0",
        "colab": {
          "base_uri": "https://localhost:8080/"
        },
        "outputId": "fad6d80d-19d2-4ac5-e00d-bf495d0a23fe"
      }
    },
    {
      "cell_type": "code",
      "execution_count": 21,
      "source": [
        "import pandas as pd\r\n",
        "import numpy as np\r\n",
        "import matplotlib.pyplot as plt\r\n",
        "import seaborn as sns\r\n",
        "from sklearn.preprocessing import StandardScaler\r\n",
        "from sklearn.cluster import AgglomerativeClustering, KMeans\r\n",
        "from scipy.cluster import hierarchy\r\n",
        "\r\n",
        "import warnings\r\n",
        "warnings.filterwarnings('ignore')\r\n",
        "\r\n",
        "sns.set()"
      ],
      "outputs": [],
      "metadata": {}
    },
    {
      "cell_type": "code",
      "execution_count": 22,
      "source": [
        "import sys\r\n",
        "sys.path.append('recsys-cluster-loss/src')\r\n",
        "from RecSys import RecSys\r\n",
        "from UserFairness import IndividualLossVariance"
      ],
      "outputs": [],
      "metadata": {
        "id": "biw8w4RKArjN"
      }
    },
    {
      "cell_type": "code",
      "execution_count": 23,
      "source": [
        "# reading data from 3883 movies and 6040 users \r\n",
        "Data_path = 'recsys-cluster-loss/data/Books'\r\n",
        "n_users=  300\r\n",
        "n_items= 1000\r\n",
        "top_users = True # True: to use users with more ratings; False: otherwise\r\n",
        "top_items = False # True: to use movies with more ratings; False: otherwise"
      ],
      "outputs": [],
      "metadata": {
        "id": "2FQ0_uYOIvEj"
      }
    },
    {
      "cell_type": "code",
      "execution_count": 24,
      "source": [
        "# recommendation algorithm\r\n",
        "algorithm = 'RecSysALS'"
      ],
      "outputs": [],
      "metadata": {
        "id": "kky92lhnIxxf"
      }
    },
    {
      "cell_type": "code",
      "execution_count": 25,
      "source": [
        "# parameters for calculating fairness measures\r\n",
        "l = 5\r\n",
        "theta = 3\r\n",
        "k = 3"
      ],
      "outputs": [],
      "metadata": {
        "id": "NwhZkRQ_I0YF"
      }
    },
    {
      "cell_type": "code",
      "execution_count": 26,
      "source": [
        "recsys = RecSys(n_users, n_items, top_users, top_items, l, theta, k)"
      ],
      "outputs": [],
      "metadata": {
        "id": "1qWcPGY5I9FE"
      }
    },
    {
      "cell_type": "code",
      "execution_count": 27,
      "source": [
        "X, users_info, items_info = recsys.read_books(n_users, n_items, top_users, top_items, data_dir = Data_path) # returns matrix of ratings with n_users rows and n_moveis columns\r\n",
        "omega = ~X.isnull() # matrix X with True in cells with evaluations and False in cells not rated"
      ],
      "outputs": [],
      "metadata": {
        "id": "gxrBq6I1JK8o",
        "colab": {
          "base_uri": "https://localhost:8080/",
          "height": 1000
        },
        "outputId": "6a71ff85-ef00-4e20-d663-373602218bd8"
      }
    },
    {
      "cell_type": "code",
      "execution_count": 28,
      "source": [
        "users_info"
      ],
      "outputs": [
        {
          "output_type": "execute_result",
          "data": {
            "text/html": [
              "<div>\n",
              "<style scoped>\n",
              "    .dataframe tbody tr th:only-of-type {\n",
              "        vertical-align: middle;\n",
              "    }\n",
              "\n",
              "    .dataframe tbody tr th {\n",
              "        vertical-align: top;\n",
              "    }\n",
              "\n",
              "    .dataframe thead th {\n",
              "        text-align: right;\n",
              "    }\n",
              "</style>\n",
              "<table border=\"1\" class=\"dataframe\">\n",
              "  <thead>\n",
              "    <tr style=\"text-align: right;\">\n",
              "      <th></th>\n",
              "      <th>Location</th>\n",
              "      <th>Age</th>\n",
              "    </tr>\n",
              "  </thead>\n",
              "  <tbody>\n",
              "    <tr>\n",
              "      <th>1</th>\n",
              "      <td>nyc, new york, usa</td>\n",
              "      <td>18</td>\n",
              "    </tr>\n",
              "    <tr>\n",
              "      <th>2</th>\n",
              "      <td>stockton, california, usa</td>\n",
              "      <td>58</td>\n",
              "    </tr>\n",
              "    <tr>\n",
              "      <th>3</th>\n",
              "      <td>moscow, yukon territory, russia</td>\n",
              "      <td>51</td>\n",
              "    </tr>\n",
              "    <tr>\n",
              "      <th>4</th>\n",
              "      <td>porto, v.n.gaia, portugal</td>\n",
              "      <td>73</td>\n",
              "    </tr>\n",
              "    <tr>\n",
              "      <th>5</th>\n",
              "      <td>farnborough, hants, united kingdom</td>\n",
              "      <td>52</td>\n",
              "    </tr>\n",
              "    <tr>\n",
              "      <th>...</th>\n",
              "      <td>...</td>\n",
              "      <td>...</td>\n",
              "    </tr>\n",
              "    <tr>\n",
              "      <th>29996</th>\n",
              "      <td>park forest, illinois, usa</td>\n",
              "      <td>65</td>\n",
              "    </tr>\n",
              "    <tr>\n",
              "      <th>29997</th>\n",
              "      <td>calgary, alberta, canada</td>\n",
              "      <td>38</td>\n",
              "    </tr>\n",
              "    <tr>\n",
              "      <th>29998</th>\n",
              "      <td>loxley, alabama, usa</td>\n",
              "      <td>59</td>\n",
              "    </tr>\n",
              "    <tr>\n",
              "      <th>29999</th>\n",
              "      <td>salina, kansas, usa</td>\n",
              "      <td>50</td>\n",
              "    </tr>\n",
              "    <tr>\n",
              "      <th>30000</th>\n",
              "      <td>leicestershie, england, united kingdom</td>\n",
              "      <td>20</td>\n",
              "    </tr>\n",
              "  </tbody>\n",
              "</table>\n",
              "<p>30000 rows × 2 columns</p>\n",
              "</div>"
            ],
            "text/plain": [
              "                                     Location  Age\n",
              "1                          nyc, new york, usa   18\n",
              "2                   stockton, california, usa   58\n",
              "3             moscow, yukon territory, russia   51\n",
              "4                   porto, v.n.gaia, portugal   73\n",
              "5          farnborough, hants, united kingdom   52\n",
              "...                                       ...  ...\n",
              "29996              park forest, illinois, usa   65\n",
              "29997                calgary, alberta, canada   38\n",
              "29998                    loxley, alabama, usa   59\n",
              "29999                     salina, kansas, usa   50\n",
              "30000  leicestershie, england, united kingdom   20\n",
              "\n",
              "[30000 rows x 2 columns]"
            ]
          },
          "metadata": {},
          "execution_count": 28
        }
      ],
      "metadata": {
        "id": "8XR9U63U01GL"
      }
    },
    {
      "cell_type": "code",
      "execution_count": 29,
      "source": [
        "X_est = recsys.compute_X_est(X, algorithm, Data_path) # RecSysALS or RecSysKNN or RecSysNMF or RecSysExampleAntidoteData20Items"
      ],
      "outputs": [],
      "metadata": {
        "id": "DRwHlM5m0y9x"
      }
    },
    {
      "cell_type": "code",
      "execution_count": 30,
      "source": [
        "ilv = IndividualLossVariance(X, omega, 1)\r\n",
        "losses = ilv.get_losses(X_est)"
      ],
      "outputs": [],
      "metadata": {
        "id": "dmqGCoRn5atN"
      }
    },
    {
      "cell_type": "code",
      "execution_count": 31,
      "source": [
        "losses"
      ],
      "outputs": [
        {
          "output_type": "execute_result",
          "data": {
            "text/plain": [
              "UserID\n",
              "11676    1.406421\n",
              "16795    1.193364\n",
              "2110     0.908189\n",
              "2030     0.186139\n",
              "1733     0.424401\n",
              "           ...   \n",
              "2559     0.436580\n",
              "2644     0.448597\n",
              "2651     0.448835\n",
              "2653     0.500000\n",
              "2678     0.500000\n",
              "Length: 300, dtype: float64"
            ]
          },
          "metadata": {},
          "execution_count": 31
        }
      ],
      "metadata": {}
    },
    {
      "cell_type": "code",
      "execution_count": 32,
      "source": [
        "df = pd.DataFrame(columns=['Location', 'Age', 'Loss'])\r\n",
        "df['Location'] = users_info['Location']\r\n",
        "df['Age'] = users_info['Age']\r\n",
        "df['Loss'] = losses\r\n",
        "\r\n",
        "df.dropna(subset=['Loss'], inplace=True) # eliminating rows with empty values in the 'Loss' column\r\n",
        "df"
      ],
      "outputs": [
        {
          "output_type": "execute_result",
          "data": {
            "text/html": [
              "<div>\n",
              "<style scoped>\n",
              "    .dataframe tbody tr th:only-of-type {\n",
              "        vertical-align: middle;\n",
              "    }\n",
              "\n",
              "    .dataframe tbody tr th {\n",
              "        vertical-align: top;\n",
              "    }\n",
              "\n",
              "    .dataframe thead th {\n",
              "        text-align: right;\n",
              "    }\n",
              "</style>\n",
              "<table border=\"1\" class=\"dataframe\">\n",
              "  <thead>\n",
              "    <tr style=\"text-align: right;\">\n",
              "      <th></th>\n",
              "      <th>Location</th>\n",
              "      <th>Age</th>\n",
              "      <th>Loss</th>\n",
              "    </tr>\n",
              "  </thead>\n",
              "  <tbody>\n",
              "    <tr>\n",
              "      <th>254</th>\n",
              "      <td>minneapolis, minnesota, usa</td>\n",
              "      <td>34</td>\n",
              "      <td>0.370001</td>\n",
              "    </tr>\n",
              "    <tr>\n",
              "      <th>638</th>\n",
              "      <td>san diego, california, usa</td>\n",
              "      <td>51</td>\n",
              "      <td>0.600132</td>\n",
              "    </tr>\n",
              "    <tr>\n",
              "      <th>882</th>\n",
              "      <td>berkeley, california, usa</td>\n",
              "      <td>52</td>\n",
              "      <td>2.201142</td>\n",
              "    </tr>\n",
              "    <tr>\n",
              "      <th>929</th>\n",
              "      <td>king of prussia, ,</td>\n",
              "      <td>35</td>\n",
              "      <td>0.482739</td>\n",
              "    </tr>\n",
              "    <tr>\n",
              "      <th>1131</th>\n",
              "      <td>berkeley, ,</td>\n",
              "      <td>28</td>\n",
              "      <td>0.950329</td>\n",
              "    </tr>\n",
              "    <tr>\n",
              "      <th>...</th>\n",
              "      <td>...</td>\n",
              "      <td>...</td>\n",
              "      <td>...</td>\n",
              "    </tr>\n",
              "    <tr>\n",
              "      <th>28634</th>\n",
              "      <td>bad axe, michigan, usa</td>\n",
              "      <td>69</td>\n",
              "      <td>0.432956</td>\n",
              "    </tr>\n",
              "    <tr>\n",
              "      <th>28647</th>\n",
              "      <td>aspinwall, pennsylvania, usa</td>\n",
              "      <td>18</td>\n",
              "      <td>0.793706</td>\n",
              "    </tr>\n",
              "    <tr>\n",
              "      <th>29209</th>\n",
              "      <td>boca raton, florida, usa</td>\n",
              "      <td>48</td>\n",
              "      <td>2.007592</td>\n",
              "    </tr>\n",
              "    <tr>\n",
              "      <th>29259</th>\n",
              "      <td>mt. airy, , usa</td>\n",
              "      <td>66</td>\n",
              "      <td>0.556470</td>\n",
              "    </tr>\n",
              "    <tr>\n",
              "      <th>29526</th>\n",
              "      <td>knoxville, tennessee, usa</td>\n",
              "      <td>72</td>\n",
              "      <td>0.327235</td>\n",
              "    </tr>\n",
              "  </tbody>\n",
              "</table>\n",
              "<p>300 rows × 3 columns</p>\n",
              "</div>"
            ],
            "text/plain": [
              "                           Location  Age      Loss\n",
              "254     minneapolis, minnesota, usa   34  0.370001\n",
              "638      san diego, california, usa   51  0.600132\n",
              "882       berkeley, california, usa   52  2.201142\n",
              "929              king of prussia, ,   35  0.482739\n",
              "1131                    berkeley, ,   28  0.950329\n",
              "...                             ...  ...       ...\n",
              "28634        bad axe, michigan, usa   69  0.432956\n",
              "28647  aspinwall, pennsylvania, usa   18  0.793706\n",
              "29209      boca raton, florida, usa   48  2.007592\n",
              "29259               mt. airy, , usa   66  0.556470\n",
              "29526     knoxville, tennessee, usa   72  0.327235\n",
              "\n",
              "[300 rows x 3 columns]"
            ]
          },
          "metadata": {},
          "execution_count": 32
        }
      ],
      "metadata": {
        "colab": {
          "base_uri": "https://localhost:8080/",
          "height": 1000
        },
        "id": "gEocAu4NGHsD",
        "outputId": "c625291f-76ab-46dd-bd6f-4b619a8463e4"
      }
    },
    {
      "cell_type": "code",
      "execution_count": 33,
      "source": [
        "df.head()"
      ],
      "outputs": [
        {
          "output_type": "execute_result",
          "data": {
            "text/html": [
              "<div>\n",
              "<style scoped>\n",
              "    .dataframe tbody tr th:only-of-type {\n",
              "        vertical-align: middle;\n",
              "    }\n",
              "\n",
              "    .dataframe tbody tr th {\n",
              "        vertical-align: top;\n",
              "    }\n",
              "\n",
              "    .dataframe thead th {\n",
              "        text-align: right;\n",
              "    }\n",
              "</style>\n",
              "<table border=\"1\" class=\"dataframe\">\n",
              "  <thead>\n",
              "    <tr style=\"text-align: right;\">\n",
              "      <th></th>\n",
              "      <th>Location</th>\n",
              "      <th>Age</th>\n",
              "      <th>Loss</th>\n",
              "    </tr>\n",
              "  </thead>\n",
              "  <tbody>\n",
              "    <tr>\n",
              "      <th>254</th>\n",
              "      <td>minneapolis, minnesota, usa</td>\n",
              "      <td>34</td>\n",
              "      <td>0.370001</td>\n",
              "    </tr>\n",
              "    <tr>\n",
              "      <th>638</th>\n",
              "      <td>san diego, california, usa</td>\n",
              "      <td>51</td>\n",
              "      <td>0.600132</td>\n",
              "    </tr>\n",
              "    <tr>\n",
              "      <th>882</th>\n",
              "      <td>berkeley, california, usa</td>\n",
              "      <td>52</td>\n",
              "      <td>2.201142</td>\n",
              "    </tr>\n",
              "    <tr>\n",
              "      <th>929</th>\n",
              "      <td>king of prussia, ,</td>\n",
              "      <td>35</td>\n",
              "      <td>0.482739</td>\n",
              "    </tr>\n",
              "    <tr>\n",
              "      <th>1131</th>\n",
              "      <td>berkeley, ,</td>\n",
              "      <td>28</td>\n",
              "      <td>0.950329</td>\n",
              "    </tr>\n",
              "  </tbody>\n",
              "</table>\n",
              "</div>"
            ],
            "text/plain": [
              "                         Location  Age      Loss\n",
              "254   minneapolis, minnesota, usa   34  0.370001\n",
              "638    san diego, california, usa   51  0.600132\n",
              "882     berkeley, california, usa   52  2.201142\n",
              "929            king of prussia, ,   35  0.482739\n",
              "1131                  berkeley, ,   28  0.950329"
            ]
          },
          "metadata": {},
          "execution_count": 33
        }
      ],
      "metadata": {
        "colab": {
          "base_uri": "https://localhost:8080/",
          "height": 234
        },
        "id": "uHXqrVas1yce",
        "outputId": "db24a330-f8dd-4b9c-e301-bf66f616a8f8"
      }
    },
    {
      "cell_type": "code",
      "execution_count": 34,
      "source": [
        "# number of rows and columns:\r\n",
        "df.shape"
      ],
      "outputs": [
        {
          "output_type": "execute_result",
          "data": {
            "text/plain": [
              "(300, 3)"
            ]
          },
          "metadata": {},
          "execution_count": 34
        }
      ],
      "metadata": {
        "colab": {
          "base_uri": "https://localhost:8080/"
        },
        "id": "qTaZvgmL16HL",
        "outputId": "5f5f2689-a441-41cd-b740-1e274f2d53b9"
      }
    },
    {
      "cell_type": "code",
      "execution_count": 35,
      "source": [
        "# descriptive statistics:\r\n",
        "df.describe()"
      ],
      "outputs": [
        {
          "output_type": "execute_result",
          "data": {
            "text/html": [
              "<div>\n",
              "<style scoped>\n",
              "    .dataframe tbody tr th:only-of-type {\n",
              "        vertical-align: middle;\n",
              "    }\n",
              "\n",
              "    .dataframe tbody tr th {\n",
              "        vertical-align: top;\n",
              "    }\n",
              "\n",
              "    .dataframe thead th {\n",
              "        text-align: right;\n",
              "    }\n",
              "</style>\n",
              "<table border=\"1\" class=\"dataframe\">\n",
              "  <thead>\n",
              "    <tr style=\"text-align: right;\">\n",
              "      <th></th>\n",
              "      <th>Age</th>\n",
              "      <th>Loss</th>\n",
              "    </tr>\n",
              "  </thead>\n",
              "  <tbody>\n",
              "    <tr>\n",
              "      <th>count</th>\n",
              "      <td>300.000000</td>\n",
              "      <td>300.000000</td>\n",
              "    </tr>\n",
              "    <tr>\n",
              "      <th>mean</th>\n",
              "      <td>43.686667</td>\n",
              "      <td>1.029915</td>\n",
              "    </tr>\n",
              "    <tr>\n",
              "      <th>std</th>\n",
              "      <td>17.518509</td>\n",
              "      <td>1.138689</td>\n",
              "    </tr>\n",
              "    <tr>\n",
              "      <th>min</th>\n",
              "      <td>14.000000</td>\n",
              "      <td>0.042335</td>\n",
              "    </tr>\n",
              "    <tr>\n",
              "      <th>25%</th>\n",
              "      <td>28.750000</td>\n",
              "      <td>0.438007</td>\n",
              "    </tr>\n",
              "    <tr>\n",
              "      <th>50%</th>\n",
              "      <td>43.000000</td>\n",
              "      <td>0.666281</td>\n",
              "    </tr>\n",
              "    <tr>\n",
              "      <th>75%</th>\n",
              "      <td>59.000000</td>\n",
              "      <td>1.289607</td>\n",
              "    </tr>\n",
              "    <tr>\n",
              "      <th>max</th>\n",
              "      <td>75.000000</td>\n",
              "      <td>11.359402</td>\n",
              "    </tr>\n",
              "  </tbody>\n",
              "</table>\n",
              "</div>"
            ],
            "text/plain": [
              "              Age        Loss\n",
              "count  300.000000  300.000000\n",
              "mean    43.686667    1.029915\n",
              "std     17.518509    1.138689\n",
              "min     14.000000    0.042335\n",
              "25%     28.750000    0.438007\n",
              "50%     43.000000    0.666281\n",
              "75%     59.000000    1.289607\n",
              "max     75.000000   11.359402"
            ]
          },
          "metadata": {},
          "execution_count": 35
        }
      ],
      "metadata": {
        "colab": {
          "base_uri": "https://localhost:8080/",
          "height": 295
        },
        "id": "Imo2zaMR1-Yl",
        "outputId": "1f412f7d-97a1-41f3-c262-f0040010fb50"
      }
    },
    {
      "cell_type": "code",
      "execution_count": 36,
      "source": [
        "sns.pairplot(df)"
      ],
      "outputs": [
        {
          "output_type": "execute_result",
          "data": {
            "text/plain": [
              "<seaborn.axisgrid.PairGrid at 0x1b43217fd00>"
            ]
          },
          "metadata": {},
          "execution_count": 36
        },
        {
          "output_type": "display_data",
          "data": {
            "image/png": "[encoded data removed]",
            "text/plain": [
              "<Figure size 360x360 with 6 Axes>"
            ]
          },
          "metadata": {}
        }
      ],
      "metadata": {}
    },
    {
      "cell_type": "code",
      "execution_count": 37,
      "source": [
        "df2 = df.drop(['Location'] , axis=1) # eliminating Location (non-numeric) columns to analyze correlations\r\n",
        "\r\n",
        "plt.figure(figsize=(7, 7))\r\n",
        "corr = np.corrcoef(df2.values, rowvar=False)\r\n",
        "sns.heatmap(corr, annot=True, cmap='Blues', fmt='.2f', cbar=False, xticklabels=df2.columns, yticklabels=df2.columns)"
      ],
      "outputs": [
        {
          "output_type": "execute_result",
          "data": {
            "text/plain": [
              "<AxesSubplot:>"
            ]
          },
          "metadata": {},
          "execution_count": 37
        },
        {
          "output_type": "display_data",
          "data": {
            "image/png": "[encoded data removed]",
            "text/plain": [
              "<Figure size 504x504 with 1 Axes>"
            ]
          },
          "metadata": {}
        }
      ],
      "metadata": {}
    },
    {
      "cell_type": "markdown",
      "source": [
        "Hierarchical clustering (tree clustering - dendrogram)"
      ],
      "metadata": {}
    },
    {
      "cell_type": "code",
      "execution_count": 38,
      "source": [
        "# Leaving only the loss column to perform cluster analysis\r\n",
        "#df2 = df2.drop('Loss', 1)\r\n",
        "df2 = df2.drop('Age', 1) "
      ],
      "outputs": [],
      "metadata": {}
    },
    {
      "cell_type": "code",
      "execution_count": 39,
      "source": [
        "df_scaled = df2.copy()\r\n",
        "df_scaled.iloc[:, :] = StandardScaler().fit_transform(df2)"
      ],
      "outputs": [],
      "metadata": {}
    },
    {
      "cell_type": "code",
      "execution_count": 40,
      "source": [
        "Z = hierarchy.linkage(df_scaled, 'ward') #complete or ward\r\n",
        "plt.figure(figsize=(22, 10))\r\n",
        "plt.grid(axis='y')\r\n",
        "dn = hierarchy.dendrogram(Z, labels=list(df.index), leaf_font_size=8)"
      ],
      "outputs": [
        {
          "output_type": "display_data",
          "data": {
            "image/png": "[encoded data removed]",
            "text/plain": [
              "<Figure size 1584x720 with 1 Axes>"
            ]
          },
          "metadata": {}
        }
      ],
      "metadata": {}
    },
    {
      "cell_type": "code",
      "execution_count": 41,
      "source": [
        "n_clusters = 3\r\n",
        "cluster = AgglomerativeClustering(n_clusters=n_clusters, affinity='euclidean', linkage='ward')\r\n",
        "groups = cluster.fit_predict(df2)"
      ],
      "outputs": [],
      "metadata": {}
    },
    {
      "cell_type": "code",
      "execution_count": 42,
      "source": [
        "groups"
      ],
      "outputs": [
        {
          "output_type": "execute_result",
          "data": {
            "text/plain": [
              "array([2, 2, 0, 2, 2, 2, 2, 0, 0, 0, 2, 2, 0, 2, 2, 0, 2, 2, 2, 0, 2, 2,\n",
              "       2, 2, 2, 2, 0, 2, 2, 2, 2, 0, 0, 2, 2, 2, 2, 2, 2, 2, 2, 0, 2, 0,\n",
              "       2, 2, 2, 2, 0, 2, 0, 2, 2, 2, 2, 2, 2, 2, 2, 2, 2, 2, 2, 2, 2, 0,\n",
              "       2, 2, 2, 2, 2, 2, 2, 0, 2, 2, 2, 0, 2, 2, 2, 2, 2, 0, 2, 2, 2, 2,\n",
              "       2, 0, 2, 2, 2, 2, 0, 2, 0, 2, 2, 2, 0, 0, 2, 0, 2, 2, 2, 2, 2, 2,\n",
              "       2, 0, 2, 2, 2, 0, 2, 2, 2, 2, 2, 2, 2, 2, 2, 2, 2, 2, 2, 0, 2, 2,\n",
              "       2, 2, 2, 2, 2, 2, 2, 0, 2, 0, 0, 0, 0, 0, 0, 2, 0, 2, 2, 2, 2, 0,\n",
              "       0, 2, 2, 2, 0, 2, 2, 0, 2, 2, 2, 0, 0, 0, 1, 2, 0, 0, 0, 2, 0, 0,\n",
              "       0, 2, 2, 2, 2, 0, 2, 0, 2, 2, 2, 2, 2, 0, 0, 0, 2, 0, 0, 2, 2, 0,\n",
              "       2, 2, 0, 0, 2, 2, 0, 2, 2, 2, 2, 0, 2, 0, 2, 2, 2, 0, 2, 2, 2, 2,\n",
              "       2, 2, 2, 0, 0, 2, 1, 0, 2, 0, 0, 2, 0, 2, 2, 0, 2, 2, 2, 2, 0, 0,\n",
              "       0, 2, 2, 0, 2, 2, 0, 2, 2, 0, 0, 2, 1, 2, 2, 2, 2, 0, 2, 2, 2, 2,\n",
              "       0, 2, 2, 2, 0, 0, 2, 0, 2, 2, 2, 0, 0, 2, 0, 0, 2, 2, 2, 2, 0, 1,\n",
              "       2, 0, 0, 2, 2, 2, 0, 0, 2, 2, 2, 0, 2, 2], dtype=int64)"
            ]
          },
          "metadata": {},
          "execution_count": 42
        }
      ],
      "metadata": {}
    },
    {
      "cell_type": "code",
      "execution_count": 43,
      "source": [
        "\r\n",
        "users = list(df2.index)\r\n",
        "grouped_users = {i: [] for i in range(n_clusters)}\r\n",
        "for user, group in zip(users, groups):\r\n",
        "    grouped_users[group].append(user)\r\n",
        "\r\n",
        "for gp, ctr in grouped_users.items():\r\n",
        "    print(f'Cluster {gp}: {ctr}\\n')"
      ],
      "outputs": [
        {
          "output_type": "stream",
          "name": "stdout",
          "text": [
            "Cluster 0: [882, 1167, 1178, 1184, 1214, 1249, 1279, 1376, 1435, 1436, 1558, 1596, 1674, 1706, 1898, 2012, 2036, 2106, 2139, 2222, 2255, 2288, 2295, 2313, 2385, 2406, 2589, 2766, 2977, 3145, 3167, 3363, 3371, 3373, 4017, 5027, 5037, 6073, 6251, 6563, 6575, 6772, 7158, 7283, 7286, 7841, 7915, 8066, 8454, 8681, 9908, 10314, 10447, 10819, 11224, 11676, 11788, 11944, 12489, 13518, 13552, 13850, 15418, 15602, 16246, 16599, 16634, 16795, 17003, 19233, 19493, 19664, 20106, 20462, 21014, 21031, 22074, 23547, 23902, 23933, 24194, 25410, 25601, 25966, 25981, 26535, 26621, 26883, 28177, 28204, 29209]\n",
            "\n",
            "Cluster 1: [6789, 15957, 21364, 26538]\n",
            "\n",
            "Cluster 2: [254, 638, 929, 1131, 1155, 1161, 1192, 1211, 1219, 1248, 1254, 1261, 1262, 1294, 1297, 1331, 1348, 1368, 1372, 1399, 1409, 1412, 1424, 1466, 1467, 1485, 1499, 1517, 1535, 1548, 1554, 1585, 1597, 1608, 1652, 1660, 1688, 1719, 1725, 1733, 1790, 1791, 1805, 1812, 1830, 1838, 1848, 1863, 1869, 1881, 1891, 1901, 1903, 1923, 1928, 1990, 2009, 2010, 2024, 2030, 2033, 2041, 2046, 2084, 2090, 2103, 2110, 2132, 2134, 2135, 2136, 2152, 2179, 2189, 2197, 2238, 2276, 2281, 2287, 2296, 2326, 2333, 2337, 2349, 2354, 2358, 2363, 2389, 2399, 2404, 2411, 2415, 2437, 2439, 2461, 2462, 2466, 2470, 2481, 2545, 2549, 2552, 2559, 2597, 2622, 2630, 2644, 2651, 2653, 2678, 2688, 2719, 2891, 3827, 4221, 4785, 4795, 4938, 5582, 5899, 5903, 6115, 6242, 6323, 6532, 6543, 7125, 7346, 8067, 8187, 8245, 8253, 8680, 8734, 8930, 9177, 9226, 9856, 10560, 11245, 11657, 11718, 11724, 12100, 12154, 12784, 12982, 13080, 13273, 13551, 13582, 13664, 13666, 13935, 14422, 14456, 14744, 14768, 15049, 15408, 15834, 16504, 16718, 16916, 16966, 17859, 17950, 18082, 18203, 19711, 20060, 20172, 20180, 20680, 21011, 21356, 21404, 21484, 21576, 21659, 22094, 22252, 22625, 22936, 23571, 23768, 23872, 24186, 25131, 25395, 25409, 25919, 26057, 26240, 26371, 26517, 26620, 27091, 27472, 27740, 28594, 28634, 28647, 29259, 29526]\n",
            "\n"
          ]
        }
      ],
      "metadata": {}
    },
    {
      "cell_type": "markdown",
      "source": [
        "Non-hierarchical grouping (K-means)"
      ],
      "metadata": {}
    },
    {
      "cell_type": "code",
      "execution_count": 44,
      "source": [
        "inertias = []\r\n",
        "for k in np.arange(1, 10):\r\n",
        "    kmeans = KMeans(n_clusters=k)\r\n",
        "    kmeans.fit(df2)\r\n",
        "    inertias.append(kmeans.inertia_)\r\n",
        "\r\n",
        "# plotting the elbow method graph\r\n",
        "plt.figure(figsize=(8, 6))\r\n",
        "plt.plot(np.arange(1, 10), inertias, '-o')\r\n",
        "plt.xlabel('Numero de clusters')\r\n",
        "plt.ylabel('Inertia');"
      ],
      "outputs": [
        {
          "output_type": "display_data",
          "data": {
            "image/png": "[encoded data removed]",
            "text/plain": [
              "<Figure size 576x432 with 1 Axes>"
            ]
          },
          "metadata": {}
        }
      ],
      "metadata": {}
    },
    {
      "cell_type": "code",
      "execution_count": 45,
      "source": [
        "n_clusters = 3\r\n",
        "kmeans = KMeans(n_clusters=n_clusters)\r\n",
        "df_scaled['cluster'] = kmeans.fit_predict(df_scaled)"
      ],
      "outputs": [],
      "metadata": {}
    },
    {
      "cell_type": "code",
      "execution_count": 46,
      "source": [
        "df_scaled"
      ],
      "outputs": [
        {
          "output_type": "execute_result",
          "data": {
            "text/html": [
              "<div>\n",
              "<style scoped>\n",
              "    .dataframe tbody tr th:only-of-type {\n",
              "        vertical-align: middle;\n",
              "    }\n",
              "\n",
              "    .dataframe tbody tr th {\n",
              "        vertical-align: top;\n",
              "    }\n",
              "\n",
              "    .dataframe thead th {\n",
              "        text-align: right;\n",
              "    }\n",
              "</style>\n",
              "<table border=\"1\" class=\"dataframe\">\n",
              "  <thead>\n",
              "    <tr style=\"text-align: right;\">\n",
              "      <th></th>\n",
              "      <th>Loss</th>\n",
              "      <th>cluster</th>\n",
              "    </tr>\n",
              "  </thead>\n",
              "  <tbody>\n",
              "    <tr>\n",
              "      <th>254</th>\n",
              "      <td>-0.580507</td>\n",
              "      <td>0</td>\n",
              "    </tr>\n",
              "    <tr>\n",
              "      <th>638</th>\n",
              "      <td>-0.378068</td>\n",
              "      <td>0</td>\n",
              "    </tr>\n",
              "    <tr>\n",
              "      <th>882</th>\n",
              "      <td>1.030294</td>\n",
              "      <td>1</td>\n",
              "    </tr>\n",
              "    <tr>\n",
              "      <th>929</th>\n",
              "      <td>-0.481335</td>\n",
              "      <td>0</td>\n",
              "    </tr>\n",
              "    <tr>\n",
              "      <th>1131</th>\n",
              "      <td>-0.070009</td>\n",
              "      <td>0</td>\n",
              "    </tr>\n",
              "    <tr>\n",
              "      <th>...</th>\n",
              "      <td>...</td>\n",
              "      <td>...</td>\n",
              "    </tr>\n",
              "    <tr>\n",
              "      <th>28634</th>\n",
              "      <td>-0.525127</td>\n",
              "      <td>0</td>\n",
              "    </tr>\n",
              "    <tr>\n",
              "      <th>28647</th>\n",
              "      <td>-0.207786</td>\n",
              "      <td>0</td>\n",
              "    </tr>\n",
              "    <tr>\n",
              "      <th>29209</th>\n",
              "      <td>0.860034</td>\n",
              "      <td>1</td>\n",
              "    </tr>\n",
              "    <tr>\n",
              "      <th>29259</th>\n",
              "      <td>-0.416476</td>\n",
              "      <td>0</td>\n",
              "    </tr>\n",
              "    <tr>\n",
              "      <th>29526</th>\n",
              "      <td>-0.618127</td>\n",
              "      <td>0</td>\n",
              "    </tr>\n",
              "  </tbody>\n",
              "</table>\n",
              "<p>300 rows × 2 columns</p>\n",
              "</div>"
            ],
            "text/plain": [
              "           Loss  cluster\n",
              "254   -0.580507        0\n",
              "638   -0.378068        0\n",
              "882    1.030294        1\n",
              "929   -0.481335        0\n",
              "1131  -0.070009        0\n",
              "...         ...      ...\n",
              "28634 -0.525127        0\n",
              "28647 -0.207786        0\n",
              "29209  0.860034        1\n",
              "29259 -0.416476        0\n",
              "29526 -0.618127        0\n",
              "\n",
              "[300 rows x 2 columns]"
            ]
          },
          "metadata": {},
          "execution_count": 46
        }
      ],
      "metadata": {}
    },
    {
      "cell_type": "code",
      "execution_count": 47,
      "source": [
        "users = list(df_scaled.index)\r\n",
        "groups = df_scaled['cluster']\r\n",
        "\r\n",
        "grouped_users = {i: [] for i in range(n_clusters)}\r\n",
        "\r\n",
        "for user, group in zip(users, groups):\r\n",
        "    grouped_users[group].append(user)\r\n",
        "\r\n",
        "for gp, ctr in grouped_users.items():\r\n",
        "    print(f'Cluster {gp}: {ctr}\\n')"
      ],
      "outputs": [
        {
          "output_type": "stream",
          "name": "stdout",
          "text": [
            "Cluster 0: [254, 638, 929, 1131, 1155, 1161, 1167, 1192, 1211, 1219, 1248, 1254, 1261, 1262, 1279, 1294, 1297, 1331, 1348, 1368, 1372, 1399, 1409, 1412, 1424, 1435, 1466, 1467, 1485, 1499, 1517, 1535, 1548, 1554, 1585, 1596, 1597, 1608, 1652, 1660, 1674, 1688, 1706, 1719, 1725, 1733, 1790, 1791, 1805, 1812, 1830, 1838, 1848, 1863, 1869, 1881, 1891, 1901, 1903, 1923, 1928, 1990, 2009, 2010, 2024, 2030, 2033, 2036, 2041, 2046, 2084, 2090, 2103, 2106, 2110, 2132, 2134, 2135, 2136, 2139, 2152, 2179, 2189, 2197, 2222, 2238, 2276, 2281, 2287, 2296, 2313, 2326, 2333, 2337, 2349, 2354, 2358, 2363, 2389, 2399, 2404, 2406, 2411, 2415, 2437, 2439, 2461, 2462, 2466, 2470, 2481, 2545, 2549, 2552, 2559, 2589, 2597, 2622, 2630, 2644, 2651, 2653, 2678, 2688, 2719, 2766, 2891, 3371, 3827, 4017, 4221, 4785, 4795, 4938, 5582, 5899, 5903, 6115, 6242, 6323, 6532, 6543, 6772, 7125, 7346, 7915, 8067, 8187, 8245, 8253, 8680, 8734, 8930, 9177, 9226, 9856, 9908, 10560, 11245, 11657, 11676, 11718, 11724, 11788, 12100, 12154, 12489, 12784, 12982, 13080, 13273, 13551, 13552, 13582, 13664, 13666, 13935, 14422, 14456, 14744, 14768, 15049, 15408, 15602, 15834, 16504, 16718, 16795, 16916, 16966, 17003, 17859, 17950, 18082, 18203, 19711, 20060, 20172, 20180, 20680, 21011, 21356, 21404, 21484, 21576, 21659, 22074, 22094, 22252, 22625, 22936, 23547, 23571, 23768, 23872, 23902, 23933, 24186, 24194, 25131, 25395, 25409, 25410, 25919, 26057, 26240, 26371, 26517, 26535, 26620, 26621, 26883, 27091, 27472, 27740, 28594, 28634, 28647, 29259, 29526]\n",
            "\n",
            "Cluster 1: [882, 1178, 1184, 1214, 1249, 1376, 1436, 1558, 1898, 2012, 2255, 2288, 2295, 2385, 2977, 3145, 3167, 3363, 3373, 5027, 5037, 6073, 6251, 6563, 6575, 7158, 7283, 7286, 7841, 8066, 8454, 8681, 10314, 10447, 10819, 11224, 11944, 13518, 13850, 15418, 16246, 16599, 16634, 19233, 19493, 19664, 20106, 20462, 21014, 21031, 25601, 25966, 25981, 28177, 28204, 29209]\n",
            "\n",
            "Cluster 2: [6789, 15957, 21364, 26538]\n",
            "\n"
          ]
        }
      ],
      "metadata": {}
    }
  ]
}