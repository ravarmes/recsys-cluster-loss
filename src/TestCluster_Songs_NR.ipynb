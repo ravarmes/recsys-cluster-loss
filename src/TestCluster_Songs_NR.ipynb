{
  "cells": [
    {
      "cell_type": "markdown",
      "metadata": {
        "id": "ZKCpdWWT4s-B"
      },
      "source": [
        "**recsys-cluster-loss**\n",
        "\n",
        "Example of cluster analysis in the context of recommendation systems.\n",
        "Users who receive recommendations will be grouped based on the individual fairness measure of those recommendations.\n",
        "The objective is to analyze whether there is any type of injustice of non-obvious user groups, that is, groups that cannot be configured based on some explicit user characteristic (variable) (for example: gender, age, etc.) .\n",
        "\n",
        "Two methods of grouping will be applied:\n",
        "1. Hierarchical clustering (tree clustering - dendrogram)\n",
        "2. Non-hierarchical grouping by breakdown (grouping by k-Means)\n",
        "\n",
        "In this file we are analyzing the possible groupings considering the following variable(s):\n",
        "- NR: number of ratings of users"
      ]
    },
    {
      "cell_type": "markdown",
      "metadata": {},
      "source": [
        "Recommendation system: generating the recommendation matrix and calculating individual fairness"
      ]
    },
    {
      "cell_type": "code",
      "execution_count": 40,
      "metadata": {
        "colab": {
          "base_uri": "https://localhost:8080/"
        },
        "id": "fJW5Qza9tDe0",
        "outputId": "fad6d80d-19d2-4ac5-e00d-bf495d0a23fe"
      },
      "outputs": [
        {
          "name": "stderr",
          "output_type": "stream",
          "text": [
            "Cloning into 'recsys-cluster-loss'...\n"
          ]
        }
      ],
      "source": [
        "# cloning repository with database\n",
        "!rm -rf recsys-cluster-loss\n",
        "!git clone https://github.com/ravarmes/recsys-cluster-loss.git"
      ]
    },
    {
      "cell_type": "code",
      "execution_count": 41,
      "metadata": {},
      "outputs": [],
      "source": [
        "import pandas as pd\n",
        "import numpy as np\n",
        "import matplotlib.pyplot as plt\n",
        "import seaborn as sns\n",
        "from sklearn.preprocessing import StandardScaler\n",
        "from sklearn.cluster import AgglomerativeClustering, KMeans\n",
        "from scipy.cluster import hierarchy\n",
        "\n",
        "import warnings\n",
        "warnings.filterwarnings('ignore')\n",
        "\n",
        "sns.set()"
      ]
    },
    {
      "cell_type": "code",
      "execution_count": 42,
      "metadata": {
        "id": "biw8w4RKArjN"
      },
      "outputs": [],
      "source": [
        "import sys\n",
        "sys.path.append('recsys-cluster-loss/src')\n",
        "from RecSys import RecSys\n",
        "from UserFairness import IndividualLossVariance\n",
        "from UserFairness import GroupLossVariance"
      ]
    },
    {
      "cell_type": "code",
      "execution_count": 43,
      "metadata": {
        "id": "2FQ0_uYOIvEj"
      },
      "outputs": [],
      "source": [
        "# reading data from 19993 songs and 16000 users \n",
        "Data_path = 'recsys-cluster-loss/data/Songs'\n",
        "n_users=  300\n",
        "n_items= 1000\n",
        "top_users = True # True: to use users with more ratings; False: otherwise\n",
        "top_items = True # True: to use movies with more ratings; False: otherwise"
      ]
    },
    {
      "cell_type": "code",
      "execution_count": 44,
      "metadata": {
        "id": "kky92lhnIxxf"
      },
      "outputs": [],
      "source": [
        "# recommendation algorithm\n",
        "algorithm = 'RecSysALS'"
      ]
    },
    {
      "cell_type": "code",
      "execution_count": 45,
      "metadata": {
        "id": "NwhZkRQ_I0YF"
      },
      "outputs": [],
      "source": [
        "# parameters for calculating fairness measures\n",
        "l = 5\n",
        "theta = 3\n",
        "k = 3"
      ]
    },
    {
      "cell_type": "code",
      "execution_count": 46,
      "metadata": {
        "id": "1qWcPGY5I9FE"
      },
      "outputs": [],
      "source": [
        "recsys = RecSys(n_users, n_items, top_users, top_items, l, theta, k)"
      ]
    },
    {
      "cell_type": "code",
      "execution_count": 47,
      "metadata": {
        "colab": {
          "base_uri": "https://localhost:8080/",
          "height": 1000
        },
        "id": "gxrBq6I1JK8o",
        "outputId": "6a71ff85-ef00-4e20-d663-373602218bd8"
      },
      "outputs": [],
      "source": [
        "X, users_info, items_info = recsys.read_songs(n_users, n_items, top_users, top_items, data_dir = Data_path) # returns matrix of ratings with n_users rows and n_moveis columns\n",
        "omega = ~X.isnull() # matrix X with True in cells with evaluations and False in cells not rated"
      ]
    },
    {
      "cell_type": "code",
      "execution_count": 48,
      "metadata": {
        "id": "8XR9U63U01GL"
      },
      "outputs": [
        {
          "data": {
            "text/html": [
              "<div>\n",
              "<style scoped>\n",
              "    .dataframe tbody tr th:only-of-type {\n",
              "        vertical-align: middle;\n",
              "    }\n",
              "\n",
              "    .dataframe tbody tr th {\n",
              "        vertical-align: top;\n",
              "    }\n",
              "\n",
              "    .dataframe thead th {\n",
              "        text-align: right;\n",
              "    }\n",
              "</style>\n",
              "<table border=\"1\" class=\"dataframe\">\n",
              "  <thead>\n",
              "    <tr style=\"text-align: right;\">\n",
              "      <th></th>\n",
              "      <th>UserID</th>\n",
              "      <th>NR</th>\n",
              "    </tr>\n",
              "  </thead>\n",
              "  <tbody>\n",
              "    <tr>\n",
              "      <th>1</th>\n",
              "      <td>1</td>\n",
              "      <td>2.0</td>\n",
              "    </tr>\n",
              "    <tr>\n",
              "      <th>2</th>\n",
              "      <td>2</td>\n",
              "      <td>1.0</td>\n",
              "    </tr>\n",
              "    <tr>\n",
              "      <th>3</th>\n",
              "      <td>3</td>\n",
              "      <td>1.0</td>\n",
              "    </tr>\n",
              "    <tr>\n",
              "      <th>4</th>\n",
              "      <td>4</td>\n",
              "      <td>1.0</td>\n",
              "    </tr>\n",
              "    <tr>\n",
              "      <th>5</th>\n",
              "      <td>5</td>\n",
              "      <td>1.0</td>\n",
              "    </tr>\n",
              "    <tr>\n",
              "      <th>...</th>\n",
              "      <td>...</td>\n",
              "      <td>...</td>\n",
              "    </tr>\n",
              "    <tr>\n",
              "      <th>15996</th>\n",
              "      <td>15996</td>\n",
              "      <td>NaN</td>\n",
              "    </tr>\n",
              "    <tr>\n",
              "      <th>15997</th>\n",
              "      <td>15997</td>\n",
              "      <td>1.0</td>\n",
              "    </tr>\n",
              "    <tr>\n",
              "      <th>15998</th>\n",
              "      <td>15998</td>\n",
              "      <td>NaN</td>\n",
              "    </tr>\n",
              "    <tr>\n",
              "      <th>15999</th>\n",
              "      <td>15999</td>\n",
              "      <td>1.0</td>\n",
              "    </tr>\n",
              "    <tr>\n",
              "      <th>16000</th>\n",
              "      <td>16000</td>\n",
              "      <td>5.0</td>\n",
              "    </tr>\n",
              "  </tbody>\n",
              "</table>\n",
              "<p>16000 rows × 2 columns</p>\n",
              "</div>"
            ],
            "text/plain": [
              "       UserID   NR\n",
              "1           1  2.0\n",
              "2           2  1.0\n",
              "3           3  1.0\n",
              "4           4  1.0\n",
              "5           5  1.0\n",
              "...       ...  ...\n",
              "15996   15996  NaN\n",
              "15997   15997  1.0\n",
              "15998   15998  NaN\n",
              "15999   15999  1.0\n",
              "16000   16000  5.0\n",
              "\n",
              "[16000 rows x 2 columns]"
            ]
          },
          "execution_count": 48,
          "metadata": {},
          "output_type": "execute_result"
        }
      ],
      "source": [
        "users_info"
      ]
    },
    {
      "cell_type": "code",
      "execution_count": 49,
      "metadata": {
        "id": "DRwHlM5m0y9x"
      },
      "outputs": [],
      "source": [
        "X_est = recsys.compute_X_est(X, algorithm, Data_path) # RecSysALS or RecSysKNN or RecSysNMF or RecSysExampleAntidoteData20Items"
      ]
    },
    {
      "cell_type": "code",
      "execution_count": 50,
      "metadata": {
        "id": "dmqGCoRn5atN"
      },
      "outputs": [],
      "source": [
        "ilv = IndividualLossVariance(X, omega, 1)\n",
        "losses = ilv.get_losses(X_est)"
      ]
    },
    {
      "cell_type": "code",
      "execution_count": 51,
      "metadata": {},
      "outputs": [
        {
          "data": {
            "text/plain": [
              "UserID\n",
              "9856     2.604075\n",
              "3684     1.009784\n",
              "4676     0.615977\n",
              "13959    0.641452\n",
              "549      0.262612\n",
              "           ...   \n",
              "3044     1.760334\n",
              "3117     0.326147\n",
              "3149     0.247712\n",
              "3153     1.038403\n",
              "3154     1.859207\n",
              "Length: 300, dtype: float64"
            ]
          },
          "execution_count": 51,
          "metadata": {},
          "output_type": "execute_result"
        }
      ],
      "source": [
        "losses"
      ]
    },
    {
      "cell_type": "code",
      "execution_count": 52,
      "metadata": {
        "colab": {
          "base_uri": "https://localhost:8080/",
          "height": 1000
        },
        "id": "gEocAu4NGHsD",
        "outputId": "c625291f-76ab-46dd-bd6f-4b619a8463e4"
      },
      "outputs": [
        {
          "data": {
            "text/html": [
              "<div>\n",
              "<style scoped>\n",
              "    .dataframe tbody tr th:only-of-type {\n",
              "        vertical-align: middle;\n",
              "    }\n",
              "\n",
              "    .dataframe tbody tr th {\n",
              "        vertical-align: top;\n",
              "    }\n",
              "\n",
              "    .dataframe thead th {\n",
              "        text-align: right;\n",
              "    }\n",
              "</style>\n",
              "<table border=\"1\" class=\"dataframe\">\n",
              "  <thead>\n",
              "    <tr style=\"text-align: right;\">\n",
              "      <th></th>\n",
              "      <th>Loss</th>\n",
              "      <th>NR</th>\n",
              "    </tr>\n",
              "  </thead>\n",
              "  <tbody>\n",
              "    <tr>\n",
              "      <th>18</th>\n",
              "      <td>0.311581</td>\n",
              "      <td>3.0</td>\n",
              "    </tr>\n",
              "    <tr>\n",
              "      <th>50</th>\n",
              "      <td>0.352380</td>\n",
              "      <td>3.0</td>\n",
              "    </tr>\n",
              "    <tr>\n",
              "      <th>54</th>\n",
              "      <td>0.522769</td>\n",
              "      <td>4.0</td>\n",
              "    </tr>\n",
              "    <tr>\n",
              "      <th>114</th>\n",
              "      <td>0.323800</td>\n",
              "      <td>3.0</td>\n",
              "    </tr>\n",
              "    <tr>\n",
              "      <th>132</th>\n",
              "      <td>0.548810</td>\n",
              "      <td>3.0</td>\n",
              "    </tr>\n",
              "    <tr>\n",
              "      <th>...</th>\n",
              "      <td>...</td>\n",
              "      <td>...</td>\n",
              "    </tr>\n",
              "    <tr>\n",
              "      <th>15714</th>\n",
              "      <td>0.326247</td>\n",
              "      <td>5.0</td>\n",
              "    </tr>\n",
              "    <tr>\n",
              "      <th>15759</th>\n",
              "      <td>1.527129</td>\n",
              "      <td>4.0</td>\n",
              "    </tr>\n",
              "    <tr>\n",
              "      <th>15771</th>\n",
              "      <td>2.657136</td>\n",
              "      <td>4.0</td>\n",
              "    </tr>\n",
              "    <tr>\n",
              "      <th>15779</th>\n",
              "      <td>0.437228</td>\n",
              "      <td>5.0</td>\n",
              "    </tr>\n",
              "    <tr>\n",
              "      <th>15836</th>\n",
              "      <td>0.401418</td>\n",
              "      <td>5.0</td>\n",
              "    </tr>\n",
              "  </tbody>\n",
              "</table>\n",
              "<p>300 rows × 2 columns</p>\n",
              "</div>"
            ],
            "text/plain": [
              "           Loss   NR\n",
              "18     0.311581  3.0\n",
              "50     0.352380  3.0\n",
              "54     0.522769  4.0\n",
              "114    0.323800  3.0\n",
              "132    0.548810  3.0\n",
              "...         ...  ...\n",
              "15714  0.326247  5.0\n",
              "15759  1.527129  4.0\n",
              "15771  2.657136  4.0\n",
              "15779  0.437228  5.0\n",
              "15836  0.401418  5.0\n",
              "\n",
              "[300 rows x 2 columns]"
            ]
          },
          "execution_count": 52,
          "metadata": {},
          "output_type": "execute_result"
        }
      ],
      "source": [
        "df = pd.DataFrame(columns=['Loss'])\n",
        "df['NR'] = users_info['NR']\n",
        "df['Loss'] = losses\n",
        "\n",
        "df.dropna(subset=['Loss'], inplace=True) # eliminating rows with empty values in the 'Loss' column\n",
        "df"
      ]
    },
    {
      "cell_type": "code",
      "execution_count": 53,
      "metadata": {
        "colab": {
          "base_uri": "https://localhost:8080/",
          "height": 234
        },
        "id": "uHXqrVas1yce",
        "outputId": "db24a330-f8dd-4b9c-e301-bf66f616a8f8"
      },
      "outputs": [
        {
          "data": {
            "text/html": [
              "<div>\n",
              "<style scoped>\n",
              "    .dataframe tbody tr th:only-of-type {\n",
              "        vertical-align: middle;\n",
              "    }\n",
              "\n",
              "    .dataframe tbody tr th {\n",
              "        vertical-align: top;\n",
              "    }\n",
              "\n",
              "    .dataframe thead th {\n",
              "        text-align: right;\n",
              "    }\n",
              "</style>\n",
              "<table border=\"1\" class=\"dataframe\">\n",
              "  <thead>\n",
              "    <tr style=\"text-align: right;\">\n",
              "      <th></th>\n",
              "      <th>Loss</th>\n",
              "      <th>NR</th>\n",
              "    </tr>\n",
              "  </thead>\n",
              "  <tbody>\n",
              "    <tr>\n",
              "      <th>18</th>\n",
              "      <td>0.311581</td>\n",
              "      <td>3.0</td>\n",
              "    </tr>\n",
              "    <tr>\n",
              "      <th>50</th>\n",
              "      <td>0.352380</td>\n",
              "      <td>3.0</td>\n",
              "    </tr>\n",
              "    <tr>\n",
              "      <th>54</th>\n",
              "      <td>0.522769</td>\n",
              "      <td>4.0</td>\n",
              "    </tr>\n",
              "    <tr>\n",
              "      <th>114</th>\n",
              "      <td>0.323800</td>\n",
              "      <td>3.0</td>\n",
              "    </tr>\n",
              "    <tr>\n",
              "      <th>132</th>\n",
              "      <td>0.548810</td>\n",
              "      <td>3.0</td>\n",
              "    </tr>\n",
              "  </tbody>\n",
              "</table>\n",
              "</div>"
            ],
            "text/plain": [
              "         Loss   NR\n",
              "18   0.311581  3.0\n",
              "50   0.352380  3.0\n",
              "54   0.522769  4.0\n",
              "114  0.323800  3.0\n",
              "132  0.548810  3.0"
            ]
          },
          "execution_count": 53,
          "metadata": {},
          "output_type": "execute_result"
        }
      ],
      "source": [
        "df.head()"
      ]
    },
    {
      "cell_type": "code",
      "execution_count": 54,
      "metadata": {
        "colab": {
          "base_uri": "https://localhost:8080/"
        },
        "id": "qTaZvgmL16HL",
        "outputId": "5f5f2689-a441-41cd-b740-1e274f2d53b9"
      },
      "outputs": [
        {
          "data": {
            "text/plain": [
              "(300, 2)"
            ]
          },
          "execution_count": 54,
          "metadata": {},
          "output_type": "execute_result"
        }
      ],
      "source": [
        "# number of rows and columns:\n",
        "df.shape"
      ]
    },
    {
      "cell_type": "code",
      "execution_count": 55,
      "metadata": {
        "colab": {
          "base_uri": "https://localhost:8080/",
          "height": 295
        },
        "id": "Imo2zaMR1-Yl",
        "outputId": "1f412f7d-97a1-41f3-c262-f0040010fb50"
      },
      "outputs": [
        {
          "data": {
            "text/html": [
              "<div>\n",
              "<style scoped>\n",
              "    .dataframe tbody tr th:only-of-type {\n",
              "        vertical-align: middle;\n",
              "    }\n",
              "\n",
              "    .dataframe tbody tr th {\n",
              "        vertical-align: top;\n",
              "    }\n",
              "\n",
              "    .dataframe thead th {\n",
              "        text-align: right;\n",
              "    }\n",
              "</style>\n",
              "<table border=\"1\" class=\"dataframe\">\n",
              "  <thead>\n",
              "    <tr style=\"text-align: right;\">\n",
              "      <th></th>\n",
              "      <th>Loss</th>\n",
              "      <th>NR</th>\n",
              "    </tr>\n",
              "  </thead>\n",
              "  <tbody>\n",
              "    <tr>\n",
              "      <th>count</th>\n",
              "      <td>300.000000</td>\n",
              "      <td>300.000000</td>\n",
              "    </tr>\n",
              "    <tr>\n",
              "      <th>mean</th>\n",
              "      <td>0.778810</td>\n",
              "      <td>3.886667</td>\n",
              "    </tr>\n",
              "    <tr>\n",
              "      <th>std</th>\n",
              "      <td>0.659219</td>\n",
              "      <td>0.830334</td>\n",
              "    </tr>\n",
              "    <tr>\n",
              "      <th>min</th>\n",
              "      <td>0.012553</td>\n",
              "      <td>3.000000</td>\n",
              "    </tr>\n",
              "    <tr>\n",
              "      <th>25%</th>\n",
              "      <td>0.304847</td>\n",
              "      <td>3.000000</td>\n",
              "    </tr>\n",
              "    <tr>\n",
              "      <th>50%</th>\n",
              "      <td>0.538625</td>\n",
              "      <td>4.000000</td>\n",
              "    </tr>\n",
              "    <tr>\n",
              "      <th>75%</th>\n",
              "      <td>0.994383</td>\n",
              "      <td>4.000000</td>\n",
              "    </tr>\n",
              "    <tr>\n",
              "      <th>max</th>\n",
              "      <td>3.412221</td>\n",
              "      <td>8.000000</td>\n",
              "    </tr>\n",
              "  </tbody>\n",
              "</table>\n",
              "</div>"
            ],
            "text/plain": [
              "             Loss          NR\n",
              "count  300.000000  300.000000\n",
              "mean     0.778810    3.886667\n",
              "std      0.659219    0.830334\n",
              "min      0.012553    3.000000\n",
              "25%      0.304847    3.000000\n",
              "50%      0.538625    4.000000\n",
              "75%      0.994383    4.000000\n",
              "max      3.412221    8.000000"
            ]
          },
          "execution_count": 55,
          "metadata": {},
          "output_type": "execute_result"
        }
      ],
      "source": [
        "# descriptive statistics:\n",
        "df.describe()"
      ]
    },
    {
      "cell_type": "code",
      "execution_count": 56,
      "metadata": {},
      "outputs": [
        {
          "data": {
            "text/plain": [
              "<seaborn.axisgrid.PairGrid at 0x1a4737ccf70>"
            ]
          },
          "execution_count": 56,
          "metadata": {},
          "output_type": "execute_result"
        },
        {
          "data": {
            "image/png": "[encoded data removed]",
            "text/plain": [
              "<Figure size 360x360 with 6 Axes>"
            ]
          },
          "metadata": {},
          "output_type": "display_data"
        }
      ],
      "source": [
        "sns.pairplot(df)"
      ]
    },
    {
      "cell_type": "code",
      "execution_count": 57,
      "metadata": {},
      "outputs": [
        {
          "data": {
            "text/plain": [
              "<AxesSubplot:>"
            ]
          },
          "execution_count": 57,
          "metadata": {},
          "output_type": "execute_result"
        },
        {
          "data": {
            "image/png": "[encoded data removed]",
            "text/plain": [
              "<Figure size 504x504 with 1 Axes>"
            ]
          },
          "metadata": {},
          "output_type": "display_data"
        }
      ],
      "source": [
        "plt.figure(figsize=(7, 7))\n",
        "corr = np.corrcoef(df.values, rowvar=False)\n",
        "sns.heatmap(corr, annot=True, cmap='Blues', fmt='.2f', cbar=False, xticklabels=df.columns, yticklabels=df.columns)"
      ]
    },
    {
      "cell_type": "markdown",
      "metadata": {},
      "source": [
        "Hierarchical clustering (tree clustering - dendrogram)"
      ]
    },
    {
      "cell_type": "code",
      "execution_count": 58,
      "metadata": {},
      "outputs": [],
      "source": [
        "# Leaving only the NR column to perform cluster analysis\n",
        "#df = df.drop('NR', 1) \n",
        "df = df.drop('Loss', 1)"
      ]
    },
    {
      "cell_type": "code",
      "execution_count": 59,
      "metadata": {},
      "outputs": [],
      "source": [
        "df_scaled = df.copy()\n",
        "df_scaled.iloc[:, :] = StandardScaler().fit_transform(df)"
      ]
    },
    {
      "cell_type": "code",
      "execution_count": 60,
      "metadata": {},
      "outputs": [
        {
          "data": {
            "image/png": "[encoded data removed]",
            "text/plain": [
              "<Figure size 1584x720 with 1 Axes>"
            ]
          },
          "metadata": {},
          "output_type": "display_data"
        }
      ],
      "source": [
        "Z = hierarchy.linkage(df_scaled, 'ward') #complete or ward\n",
        "plt.figure(figsize=(22, 10))\n",
        "plt.grid(axis='y')\n",
        "dn = hierarchy.dendrogram(Z, labels=list(df.index), leaf_font_size=8)"
      ]
    },
    {
      "cell_type": "code",
      "execution_count": 61,
      "metadata": {},
      "outputs": [],
      "source": [
        "n_clusters = 3\n",
        "cluster = AgglomerativeClustering(n_clusters=n_clusters, affinity='euclidean', linkage='ward')\n",
        "df_scaled['cluster_agglomerative'] = cluster.fit_predict(df_scaled)"
      ]
    },
    {
      "cell_type": "code",
      "execution_count": 62,
      "metadata": {},
      "outputs": [
        {
          "data": {
            "text/html": [
              "<div>\n",
              "<style scoped>\n",
              "    .dataframe tbody tr th:only-of-type {\n",
              "        vertical-align: middle;\n",
              "    }\n",
              "\n",
              "    .dataframe tbody tr th {\n",
              "        vertical-align: top;\n",
              "    }\n",
              "\n",
              "    .dataframe thead tr th {\n",
              "        text-align: left;\n",
              "    }\n",
              "\n",
              "    .dataframe thead tr:last-of-type th {\n",
              "        text-align: right;\n",
              "    }\n",
              "</style>\n",
              "<table border=\"1\" class=\"dataframe\">\n",
              "  <thead>\n",
              "    <tr>\n",
              "      <th></th>\n",
              "      <th colspan=\"8\" halign=\"left\">NR</th>\n",
              "    </tr>\n",
              "    <tr>\n",
              "      <th></th>\n",
              "      <th>count</th>\n",
              "      <th>mean</th>\n",
              "      <th>std</th>\n",
              "      <th>min</th>\n",
              "      <th>25%</th>\n",
              "      <th>50%</th>\n",
              "      <th>75%</th>\n",
              "      <th>max</th>\n",
              "    </tr>\n",
              "    <tr>\n",
              "      <th>cluster_agglomerative</th>\n",
              "      <th></th>\n",
              "      <th></th>\n",
              "      <th></th>\n",
              "      <th></th>\n",
              "      <th></th>\n",
              "      <th></th>\n",
              "      <th></th>\n",
              "      <th></th>\n",
              "    </tr>\n",
              "  </thead>\n",
              "  <tbody>\n",
              "    <tr>\n",
              "      <th>0</th>\n",
              "      <td>53.0</td>\n",
              "      <td>5.283019</td>\n",
              "      <td>0.631767</td>\n",
              "      <td>5.0</td>\n",
              "      <td>5.0</td>\n",
              "      <td>5.0</td>\n",
              "      <td>5.0</td>\n",
              "      <td>8.0</td>\n",
              "    </tr>\n",
              "    <tr>\n",
              "      <th>1</th>\n",
              "      <td>145.0</td>\n",
              "      <td>4.000000</td>\n",
              "      <td>0.000000</td>\n",
              "      <td>4.0</td>\n",
              "      <td>4.0</td>\n",
              "      <td>4.0</td>\n",
              "      <td>4.0</td>\n",
              "      <td>4.0</td>\n",
              "    </tr>\n",
              "    <tr>\n",
              "      <th>2</th>\n",
              "      <td>102.0</td>\n",
              "      <td>3.000000</td>\n",
              "      <td>0.000000</td>\n",
              "      <td>3.0</td>\n",
              "      <td>3.0</td>\n",
              "      <td>3.0</td>\n",
              "      <td>3.0</td>\n",
              "      <td>3.0</td>\n",
              "    </tr>\n",
              "  </tbody>\n",
              "</table>\n",
              "</div>"
            ],
            "text/plain": [
              "                          NR                                             \n",
              "                       count      mean       std  min  25%  50%  75%  max\n",
              "cluster_agglomerative                                                    \n",
              "0                       53.0  5.283019  0.631767  5.0  5.0  5.0  5.0  8.0\n",
              "1                      145.0  4.000000  0.000000  4.0  4.0  4.0  4.0  4.0\n",
              "2                      102.0  3.000000  0.000000  3.0  3.0  3.0  3.0  3.0"
            ]
          },
          "execution_count": 62,
          "metadata": {},
          "output_type": "execute_result"
        }
      ],
      "source": [
        "# descriptive statistics of groups\n",
        "df_groups = df.copy()\n",
        "df_groups[\"cluster_agglomerative\"] = cluster.labels_\n",
        "df_groups = df_groups.groupby(\"cluster_agglomerative\")\n",
        "df_groups.describe()"
      ]
    },
    {
      "cell_type": "code",
      "execution_count": 63,
      "metadata": {},
      "outputs": [
        {
          "name": "stdout",
          "output_type": "stream",
          "text": [
            "Cluster 0: [405, 441, 549, 814, 1047, 1359, 1489, 2023, 2350, 2519, 2766, 2792, 2971, 3130, 3500, 3658, 3684, 3808, 3891, 3893, 3964, 4676, 5159, 5832, 6088, 6224, 6336, 6405, 7284, 7297, 8081, 8189, 8236, 9224, 9378, 9443, 9698, 9766, 9856, 10152, 10204, 10893, 11119, 11938, 12941, 13548, 13773, 13959, 15352, 15604, 15714, 15779, 15836]\n",
            "\n",
            "Cluster 1: [54, 167, 199, 204, 208, 352, 516, 527, 561, 670, 724, 813, 817, 826, 832, 1005, 1042, 1109, 1194, 1202, 1262, 1296, 1483, 1499, 1819, 1824, 1828, 1946, 1983, 2094, 2164, 2183, 2262, 2270, 2353, 2390, 2403, 2607, 2784, 2864, 2964, 2973, 3037, 3044, 3085, 3237, 3374, 3383, 3438, 3447, 3474, 3506, 3519, 3523, 3534, 3553, 3599, 3834, 3839, 4040, 4114, 4138, 4339, 4360, 4376, 4440, 4515, 4789, 4973, 5082, 5110, 5489, 5579, 5673, 5908, 5938, 6024, 6176, 6204, 6441, 6587, 6624, 6810, 6931, 7057, 7324, 7494, 7547, 7669, 7786, 8109, 8569, 8636, 8960, 8962, 9111, 9116, 9134, 9135, 9334, 9513, 9620, 9719, 9792, 9879, 9990, 9999, 10029, 10525, 10605, 10646, 10664, 10860, 10931, 11306, 11428, 11440, 11460, 11714, 11968, 11978, 12138, 12169, 12965, 13181, 13335, 13361, 13474, 13750, 13911, 13949, 14276, 14419, 14491, 14615, 14621, 14694, 15293, 15313, 15346, 15472, 15475, 15611, 15759, 15771]\n",
            "\n",
            "Cluster 2: [18, 50, 114, 132, 133, 152, 166, 177, 185, 193, 195, 270, 303, 324, 348, 460, 462, 572, 575, 589, 599, 623, 628, 630, 650, 764, 775, 784, 886, 925, 954, 977, 999, 1008, 1136, 1199, 1228, 1259, 1328, 1376, 1394, 1396, 1398, 1426, 1437, 1479, 1548, 1563, 1584, 1588, 1611, 1633, 1702, 1712, 1757, 1762, 1787, 1816, 1821, 1835, 1904, 1912, 1938, 1980, 2046, 2051, 2060, 2123, 2162, 2187, 2197, 2199, 2227, 2230, 2233, 2295, 2297, 2327, 2354, 2384, 2401, 2451, 2455, 2460, 2521, 2573, 2614, 2644, 2695, 2702, 2863, 2881, 2895, 2910, 2931, 2952, 2954, 3025, 3117, 3149, 3153, 3154]\n",
            "\n"
          ]
        }
      ],
      "source": [
        "\n",
        "users = list(df_scaled.index)\n",
        "groups = df_scaled['cluster_agglomerative']\n",
        "\n",
        "grouped_users = {i: [] for i in range(n_clusters)}\n",
        "for user, group in zip(users, groups):\n",
        "    grouped_users[group].append(user)\n",
        "\n",
        "for gp, ctr in grouped_users.items():\n",
        "    print(f'Cluster {gp}: {ctr}\\n')"
      ]
    },
    {
      "cell_type": "markdown",
      "metadata": {},
      "source": [
        "Non-hierarchical grouping (K-means)"
      ]
    },
    {
      "cell_type": "code",
      "execution_count": 64,
      "metadata": {},
      "outputs": [
        {
          "data": {
            "image/png": "[encoded data removed]",
            "text/plain": [
              "<Figure size 576x432 with 1 Axes>"
            ]
          },
          "metadata": {},
          "output_type": "display_data"
        }
      ],
      "source": [
        "inertias = []\n",
        "for k in np.arange(1, 10):\n",
        "    kmeans = KMeans(n_clusters=k)\n",
        "    kmeans.fit(df)\n",
        "    inertias.append(kmeans.inertia_)\n",
        "\n",
        "# plotting the elbow method graph\n",
        "plt.figure(figsize=(8, 6))\n",
        "plt.plot(np.arange(1, 10), inertias, '-o')\n",
        "plt.xlabel('Number of clusters')\n",
        "plt.ylabel('Inertia');"
      ]
    },
    {
      "cell_type": "code",
      "execution_count": 65,
      "metadata": {},
      "outputs": [],
      "source": [
        "n_clusters = 3\n",
        "kmeans = KMeans(n_clusters=n_clusters)\n",
        "df_scaled['cluster_kmeans'] = kmeans.fit_predict(df_scaled)"
      ]
    },
    {
      "cell_type": "code",
      "execution_count": 66,
      "metadata": {},
      "outputs": [
        {
          "data": {
            "text/html": [
              "<div>\n",
              "<style scoped>\n",
              "    .dataframe tbody tr th:only-of-type {\n",
              "        vertical-align: middle;\n",
              "    }\n",
              "\n",
              "    .dataframe tbody tr th {\n",
              "        vertical-align: top;\n",
              "    }\n",
              "\n",
              "    .dataframe thead th {\n",
              "        text-align: right;\n",
              "    }\n",
              "</style>\n",
              "<table border=\"1\" class=\"dataframe\">\n",
              "  <thead>\n",
              "    <tr style=\"text-align: right;\">\n",
              "      <th></th>\n",
              "      <th>NR</th>\n",
              "      <th>cluster_agglomerative</th>\n",
              "      <th>cluster_kmeans</th>\n",
              "    </tr>\n",
              "  </thead>\n",
              "  <tbody>\n",
              "    <tr>\n",
              "      <th>18</th>\n",
              "      <td>-1.069628</td>\n",
              "      <td>2</td>\n",
              "      <td>1</td>\n",
              "    </tr>\n",
              "    <tr>\n",
              "      <th>50</th>\n",
              "      <td>-1.069628</td>\n",
              "      <td>2</td>\n",
              "      <td>1</td>\n",
              "    </tr>\n",
              "    <tr>\n",
              "      <th>54</th>\n",
              "      <td>0.136719</td>\n",
              "      <td>1</td>\n",
              "      <td>0</td>\n",
              "    </tr>\n",
              "    <tr>\n",
              "      <th>114</th>\n",
              "      <td>-1.069628</td>\n",
              "      <td>2</td>\n",
              "      <td>1</td>\n",
              "    </tr>\n",
              "    <tr>\n",
              "      <th>132</th>\n",
              "      <td>-1.069628</td>\n",
              "      <td>2</td>\n",
              "      <td>1</td>\n",
              "    </tr>\n",
              "    <tr>\n",
              "      <th>...</th>\n",
              "      <td>...</td>\n",
              "      <td>...</td>\n",
              "      <td>...</td>\n",
              "    </tr>\n",
              "    <tr>\n",
              "      <th>15714</th>\n",
              "      <td>1.343067</td>\n",
              "      <td>0</td>\n",
              "      <td>2</td>\n",
              "    </tr>\n",
              "    <tr>\n",
              "      <th>15759</th>\n",
              "      <td>0.136719</td>\n",
              "      <td>1</td>\n",
              "      <td>0</td>\n",
              "    </tr>\n",
              "    <tr>\n",
              "      <th>15771</th>\n",
              "      <td>0.136719</td>\n",
              "      <td>1</td>\n",
              "      <td>0</td>\n",
              "    </tr>\n",
              "    <tr>\n",
              "      <th>15779</th>\n",
              "      <td>1.343067</td>\n",
              "      <td>0</td>\n",
              "      <td>2</td>\n",
              "    </tr>\n",
              "    <tr>\n",
              "      <th>15836</th>\n",
              "      <td>1.343067</td>\n",
              "      <td>0</td>\n",
              "      <td>2</td>\n",
              "    </tr>\n",
              "  </tbody>\n",
              "</table>\n",
              "<p>300 rows × 3 columns</p>\n",
              "</div>"
            ],
            "text/plain": [
              "             NR  cluster_agglomerative  cluster_kmeans\n",
              "18    -1.069628                      2               1\n",
              "50    -1.069628                      2               1\n",
              "54     0.136719                      1               0\n",
              "114   -1.069628                      2               1\n",
              "132   -1.069628                      2               1\n",
              "...         ...                    ...             ...\n",
              "15714  1.343067                      0               2\n",
              "15759  0.136719                      1               0\n",
              "15771  0.136719                      1               0\n",
              "15779  1.343067                      0               2\n",
              "15836  1.343067                      0               2\n",
              "\n",
              "[300 rows x 3 columns]"
            ]
          },
          "execution_count": 66,
          "metadata": {},
          "output_type": "execute_result"
        }
      ],
      "source": [
        "df_scaled"
      ]
    },
    {
      "cell_type": "code",
      "execution_count": 67,
      "metadata": {},
      "outputs": [
        {
          "name": "stdout",
          "output_type": "stream",
          "text": [
            "Cluster 0: [405, 441, 549, 814, 1047, 1359, 1489, 2023, 2350, 2519, 2766, 2792, 2971, 3130, 3500, 3658, 3684, 3808, 3891, 3893, 3964, 4676, 5159, 5832, 6088, 6224, 6336, 6405, 7284, 7297, 8081, 8189, 8236, 9224, 9378, 9443, 9698, 9766, 9856, 10152, 10204, 10893, 11119, 11938, 12941, 13548, 13773, 13959, 15352, 15604, 15714, 15779, 15836]\n",
            "\n",
            "Cluster 1: [54, 167, 199, 204, 208, 352, 516, 527, 561, 670, 724, 813, 817, 826, 832, 1005, 1042, 1109, 1194, 1202, 1262, 1296, 1483, 1499, 1819, 1824, 1828, 1946, 1983, 2094, 2164, 2183, 2262, 2270, 2353, 2390, 2403, 2607, 2784, 2864, 2964, 2973, 3037, 3044, 3085, 3237, 3374, 3383, 3438, 3447, 3474, 3506, 3519, 3523, 3534, 3553, 3599, 3834, 3839, 4040, 4114, 4138, 4339, 4360, 4376, 4440, 4515, 4789, 4973, 5082, 5110, 5489, 5579, 5673, 5908, 5938, 6024, 6176, 6204, 6441, 6587, 6624, 6810, 6931, 7057, 7324, 7494, 7547, 7669, 7786, 8109, 8569, 8636, 8960, 8962, 9111, 9116, 9134, 9135, 9334, 9513, 9620, 9719, 9792, 9879, 9990, 9999, 10029, 10525, 10605, 10646, 10664, 10860, 10931, 11306, 11428, 11440, 11460, 11714, 11968, 11978, 12138, 12169, 12965, 13181, 13335, 13361, 13474, 13750, 13911, 13949, 14276, 14419, 14491, 14615, 14621, 14694, 15293, 15313, 15346, 15472, 15475, 15611, 15759, 15771]\n",
            "\n",
            "Cluster 2: [18, 50, 114, 132, 133, 152, 166, 177, 185, 193, 195, 270, 303, 324, 348, 460, 462, 572, 575, 589, 599, 623, 628, 630, 650, 764, 775, 784, 886, 925, 954, 977, 999, 1008, 1136, 1199, 1228, 1259, 1328, 1376, 1394, 1396, 1398, 1426, 1437, 1479, 1548, 1563, 1584, 1588, 1611, 1633, 1702, 1712, 1757, 1762, 1787, 1816, 1821, 1835, 1904, 1912, 1938, 1980, 2046, 2051, 2060, 2123, 2162, 2187, 2197, 2199, 2227, 2230, 2233, 2295, 2297, 2327, 2354, 2384, 2401, 2451, 2455, 2460, 2521, 2573, 2614, 2644, 2695, 2702, 2863, 2881, 2895, 2910, 2931, 2952, 2954, 3025, 3117, 3149, 3153, 3154]\n",
            "\n"
          ]
        }
      ],
      "source": [
        "users = list(df_scaled.index)\n",
        "groups = df_scaled['cluster_agglomerative']\n",
        "\n",
        "grouped_users = {i: [] for i in range(n_clusters)}\n",
        "\n",
        "for user, group in zip(users, groups):\n",
        "    grouped_users[group].append(user)\n",
        "\n",
        "for gp, ctr in grouped_users.items():\n",
        "    print(f'Cluster {gp}: {ctr}\\n')"
      ]
    },
    {
      "cell_type": "code",
      "execution_count": 68,
      "metadata": {},
      "outputs": [
        {
          "data": {
            "image/png": "[encoded data removed]",
            "text/plain": [
              "<Figure size 2160x720 with 1 Axes>"
            ]
          },
          "metadata": {},
          "output_type": "display_data"
        }
      ],
      "source": [
        "# visualising the clusters (Loss x NR)\n",
        "df['Loss'] = losses\n",
        "X2 = df[['Loss' , 'NR']].iloc[: , :].values\n",
        "\n",
        "plt.figure( figsize=(30, 10))\n",
        "#plt.xticks([-0.5,-0.25,0,0.25, 0.5, 0.75, 1, 1.25, 1.5, 1.75, 2, 2.25, 2.5]) # change x-axis scale\n",
        "plt.yticks([0,10,20,30,40,50]) # change y-axis scale\n",
        "\n",
        "plt.scatter(X2[groups == 0, 0], X2[groups == 0, 1], s = 100, c = 'red', label = 'Cluster 1')\n",
        "plt.scatter(X2[groups == 1, 0], X2[groups == 1, 1], s = 100, c = 'blue', label = 'Cluster 2')\n",
        "plt.scatter(X2[groups == 2, 0], X2[groups == 2, 1], s = 100, c = 'green', label = 'Cluster 3')\n",
        "plt.title('Clusters')\n",
        "plt.xlabel('Loss')\n",
        "plt.ylabel('NR')\n",
        "plt.legend()\n",
        "plt.show()"
      ]
    },
    {
      "cell_type": "code",
      "execution_count": 69,
      "metadata": {},
      "outputs": [
        {
          "name": "stdout",
          "output_type": "stream",
          "text": [
            "davies_bouldin_score:  0.1834961500492965\n",
            "silhouette_score:  0.966699455211177\n"
          ]
        }
      ],
      "source": [
        "# clustering performance evaluation\n",
        "from sklearn.metrics import davies_bouldin_score\n",
        "print('davies_bouldin_score: ', davies_bouldin_score(df_scaled, kmeans.labels_))\n",
        "\n",
        "from sklearn.metrics import silhouette_score\n",
        "print('silhouette_score: ', silhouette_score(df_scaled, kmeans.labels_, metric='euclidean'))"
      ]
    },
    {
      "cell_type": "code",
      "execution_count": 70,
      "metadata": {},
      "outputs": [
        {
          "ename": "KeyError",
          "evalue": "'[1131, 1211, 1248, 1424, 1435, 1585, 1674, 1733, 1848, 1903, 2024, 2030, 2033, 2103, 2110, 2179, 2288, 2313, 2337, 2363, 4017, 6242, 6251, 6543, 6575, 7346, 8454, 13552, 16795, 21014, 23872, 23902, 25981, 28177, 28634] not in index'",
          "output_type": "error",
          "traceback": [
            "\u001b[1;31m---------------------------------------------------------------------------\u001b[0m",
            "\u001b[1;31mKeyError\u001b[0m                                  Traceback (most recent call last)",
            "\u001b[1;32m~\\AppData\\Local\\Temp/ipykernel_1640/1253495292.py\u001b[0m in \u001b[0;36m<module>\u001b[1;34m\u001b[0m\n\u001b[0;32m      4\u001b[0m \u001b[0mG\u001b[0m \u001b[1;33m=\u001b[0m \u001b[1;33m{\u001b[0m\u001b[1;36m1\u001b[0m\u001b[1;33m:\u001b[0m \u001b[1;33m[\u001b[0m\u001b[1;36m1131\u001b[0m\u001b[1;33m,\u001b[0m \u001b[1;36m1211\u001b[0m\u001b[1;33m,\u001b[0m \u001b[1;36m1248\u001b[0m\u001b[1;33m,\u001b[0m \u001b[1;36m1424\u001b[0m\u001b[1;33m,\u001b[0m \u001b[1;36m1435\u001b[0m\u001b[1;33m,\u001b[0m \u001b[1;36m1548\u001b[0m\u001b[1;33m,\u001b[0m \u001b[1;36m1585\u001b[0m\u001b[1;33m,\u001b[0m \u001b[1;36m1674\u001b[0m\u001b[1;33m,\u001b[0m \u001b[1;36m1733\u001b[0m\u001b[1;33m,\u001b[0m \u001b[1;36m1848\u001b[0m\u001b[1;33m,\u001b[0m \u001b[1;36m1903\u001b[0m\u001b[1;33m,\u001b[0m \u001b[1;36m2024\u001b[0m\u001b[1;33m,\u001b[0m \u001b[1;36m2030\u001b[0m\u001b[1;33m,\u001b[0m \u001b[1;36m2033\u001b[0m\u001b[1;33m,\u001b[0m \u001b[1;36m2103\u001b[0m\u001b[1;33m,\u001b[0m \u001b[1;36m2110\u001b[0m\u001b[1;33m,\u001b[0m \u001b[1;36m2179\u001b[0m\u001b[1;33m,\u001b[0m \u001b[1;36m2288\u001b[0m\u001b[1;33m,\u001b[0m \u001b[1;36m2313\u001b[0m\u001b[1;33m,\u001b[0m \u001b[1;36m2337\u001b[0m\u001b[1;33m,\u001b[0m \u001b[1;36m2363\u001b[0m\u001b[1;33m,\u001b[0m \u001b[1;36m4017\u001b[0m\u001b[1;33m,\u001b[0m \u001b[1;36m6242\u001b[0m\u001b[1;33m,\u001b[0m \u001b[1;36m6251\u001b[0m\u001b[1;33m,\u001b[0m \u001b[1;36m6543\u001b[0m\u001b[1;33m,\u001b[0m \u001b[1;36m6575\u001b[0m\u001b[1;33m,\u001b[0m \u001b[1;36m7346\u001b[0m\u001b[1;33m,\u001b[0m \u001b[1;36m8454\u001b[0m\u001b[1;33m,\u001b[0m \u001b[1;36m13552\u001b[0m\u001b[1;33m,\u001b[0m \u001b[1;36m16795\u001b[0m\u001b[1;33m,\u001b[0m \u001b[1;36m21014\u001b[0m\u001b[1;33m,\u001b[0m \u001b[1;36m23872\u001b[0m\u001b[1;33m,\u001b[0m \u001b[1;36m23902\u001b[0m\u001b[1;33m,\u001b[0m \u001b[1;36m25981\u001b[0m\u001b[1;33m,\u001b[0m \u001b[1;36m28177\u001b[0m\u001b[1;33m,\u001b[0m \u001b[1;36m28634\u001b[0m\u001b[1;33m]\u001b[0m\u001b[1;33m,\u001b[0m \u001b[1;36m2\u001b[0m\u001b[1;33m:\u001b[0m \u001b[1;33m[\u001b[0m\u001b[1;36m11676\u001b[0m\u001b[1;33m]\u001b[0m\u001b[1;33m,\u001b[0m \u001b[1;36m3\u001b[0m\u001b[1;33m:\u001b[0m \u001b[1;33m[\u001b[0m\u001b[1;36m254\u001b[0m\u001b[1;33m,\u001b[0m \u001b[1;36m638\u001b[0m\u001b[1;33m,\u001b[0m \u001b[1;36m882\u001b[0m\u001b[1;33m,\u001b[0m \u001b[1;36m929\u001b[0m\u001b[1;33m,\u001b[0m \u001b[1;36m1155\u001b[0m\u001b[1;33m,\u001b[0m \u001b[1;36m1161\u001b[0m\u001b[1;33m,\u001b[0m \u001b[1;36m1167\u001b[0m\u001b[1;33m,\u001b[0m \u001b[1;36m1178\u001b[0m\u001b[1;33m,\u001b[0m \u001b[1;36m1184\u001b[0m\u001b[1;33m,\u001b[0m \u001b[1;36m1192\u001b[0m\u001b[1;33m,\u001b[0m \u001b[1;36m1214\u001b[0m\u001b[1;33m,\u001b[0m \u001b[1;36m1219\u001b[0m\u001b[1;33m,\u001b[0m \u001b[1;36m1249\u001b[0m\u001b[1;33m,\u001b[0m \u001b[1;36m1254\u001b[0m\u001b[1;33m,\u001b[0m \u001b[1;36m1261\u001b[0m\u001b[1;33m,\u001b[0m \u001b[1;36m1262\u001b[0m\u001b[1;33m,\u001b[0m \u001b[1;36m1279\u001b[0m\u001b[1;33m,\u001b[0m \u001b[1;36m1294\u001b[0m\u001b[1;33m,\u001b[0m \u001b[1;36m1297\u001b[0m\u001b[1;33m,\u001b[0m \u001b[1;36m1331\u001b[0m\u001b[1;33m,\u001b[0m \u001b[1;36m1348\u001b[0m\u001b[1;33m,\u001b[0m \u001b[1;36m1368\u001b[0m\u001b[1;33m,\u001b[0m \u001b[1;36m1372\u001b[0m\u001b[1;33m,\u001b[0m \u001b[1;36m1376\u001b[0m\u001b[1;33m,\u001b[0m \u001b[1;36m1399\u001b[0m\u001b[1;33m,\u001b[0m \u001b[1;36m1409\u001b[0m\u001b[1;33m,\u001b[0m \u001b[1;36m1412\u001b[0m\u001b[1;33m,\u001b[0m \u001b[1;36m1436\u001b[0m\u001b[1;33m,\u001b[0m \u001b[1;36m1466\u001b[0m\u001b[1;33m,\u001b[0m \u001b[1;36m1467\u001b[0m\u001b[1;33m,\u001b[0m \u001b[1;36m1485\u001b[0m\u001b[1;33m,\u001b[0m \u001b[1;36m1499\u001b[0m\u001b[1;33m,\u001b[0m \u001b[1;36m1517\u001b[0m\u001b[1;33m,\u001b[0m \u001b[1;36m1535\u001b[0m\u001b[1;33m,\u001b[0m \u001b[1;36m1554\u001b[0m\u001b[1;33m,\u001b[0m \u001b[1;36m1558\u001b[0m\u001b[1;33m,\u001b[0m \u001b[1;36m1596\u001b[0m\u001b[1;33m,\u001b[0m \u001b[1;36m1597\u001b[0m\u001b[1;33m,\u001b[0m \u001b[1;36m1608\u001b[0m\u001b[1;33m,\u001b[0m \u001b[1;36m1652\u001b[0m\u001b[1;33m,\u001b[0m \u001b[1;36m1660\u001b[0m\u001b[1;33m,\u001b[0m \u001b[1;36m1688\u001b[0m\u001b[1;33m,\u001b[0m \u001b[1;36m1706\u001b[0m\u001b[1;33m,\u001b[0m \u001b[1;36m1719\u001b[0m\u001b[1;33m,\u001b[0m \u001b[1;36m1725\u001b[0m\u001b[1;33m,\u001b[0m \u001b[1;36m1790\u001b[0m\u001b[1;33m,\u001b[0m \u001b[1;36m1791\u001b[0m\u001b[1;33m,\u001b[0m \u001b[1;36m1805\u001b[0m\u001b[1;33m,\u001b[0m \u001b[1;36m1812\u001b[0m\u001b[1;33m,\u001b[0m \u001b[1;36m1830\u001b[0m\u001b[1;33m,\u001b[0m \u001b[1;36m1838\u001b[0m\u001b[1;33m,\u001b[0m \u001b[1;36m1863\u001b[0m\u001b[1;33m,\u001b[0m \u001b[1;36m1869\u001b[0m\u001b[1;33m,\u001b[0m \u001b[1;36m1881\u001b[0m\u001b[1;33m,\u001b[0m \u001b[1;36m1891\u001b[0m\u001b[1;33m,\u001b[0m \u001b[1;36m1898\u001b[0m\u001b[1;33m,\u001b[0m \u001b[1;36m1901\u001b[0m\u001b[1;33m,\u001b[0m \u001b[1;36m1923\u001b[0m\u001b[1;33m,\u001b[0m \u001b[1;36m1928\u001b[0m\u001b[1;33m,\u001b[0m \u001b[1;36m1990\u001b[0m\u001b[1;33m,\u001b[0m \u001b[1;36m2009\u001b[0m\u001b[1;33m,\u001b[0m \u001b[1;36m2010\u001b[0m\u001b[1;33m,\u001b[0m \u001b[1;36m2012\u001b[0m\u001b[1;33m,\u001b[0m \u001b[1;36m2036\u001b[0m\u001b[1;33m,\u001b[0m \u001b[1;36m2041\u001b[0m\u001b[1;33m,\u001b[0m \u001b[1;36m2046\u001b[0m\u001b[1;33m,\u001b[0m \u001b[1;36m2084\u001b[0m\u001b[1;33m,\u001b[0m \u001b[1;36m2090\u001b[0m\u001b[1;33m,\u001b[0m \u001b[1;36m2106\u001b[0m\u001b[1;33m,\u001b[0m \u001b[1;36m2132\u001b[0m\u001b[1;33m,\u001b[0m \u001b[1;36m2134\u001b[0m\u001b[1;33m,\u001b[0m \u001b[1;36m2135\u001b[0m\u001b[1;33m,\u001b[0m \u001b[1;36m2136\u001b[0m\u001b[1;33m,\u001b[0m \u001b[1;36m2139\u001b[0m\u001b[1;33m,\u001b[0m \u001b[1;36m2152\u001b[0m\u001b[1;33m,\u001b[0m \u001b[1;36m2189\u001b[0m\u001b[1;33m,\u001b[0m \u001b[1;36m2197\u001b[0m\u001b[1;33m,\u001b[0m \u001b[1;36m2222\u001b[0m\u001b[1;33m,\u001b[0m \u001b[1;36m2238\u001b[0m\u001b[1;33m,\u001b[0m \u001b[1;36m2255\u001b[0m\u001b[1;33m,\u001b[0m \u001b[1;36m2276\u001b[0m\u001b[1;33m,\u001b[0m \u001b[1;36m2281\u001b[0m\u001b[1;33m,\u001b[0m \u001b[1;36m2287\u001b[0m\u001b[1;33m,\u001b[0m \u001b[1;36m2295\u001b[0m\u001b[1;33m,\u001b[0m \u001b[1;36m2296\u001b[0m\u001b[1;33m,\u001b[0m \u001b[1;36m2326\u001b[0m\u001b[1;33m,\u001b[0m \u001b[1;36m2333\u001b[0m\u001b[1;33m,\u001b[0m \u001b[1;36m2349\u001b[0m\u001b[1;33m,\u001b[0m \u001b[1;36m2354\u001b[0m\u001b[1;33m,\u001b[0m \u001b[1;36m2358\u001b[0m\u001b[1;33m,\u001b[0m \u001b[1;36m2385\u001b[0m\u001b[1;33m,\u001b[0m \u001b[1;36m2389\u001b[0m\u001b[1;33m,\u001b[0m \u001b[1;36m2399\u001b[0m\u001b[1;33m,\u001b[0m \u001b[1;36m2404\u001b[0m\u001b[1;33m,\u001b[0m \u001b[1;36m2406\u001b[0m\u001b[1;33m,\u001b[0m \u001b[1;36m2411\u001b[0m\u001b[1;33m,\u001b[0m \u001b[1;36m2415\u001b[0m\u001b[1;33m,\u001b[0m \u001b[1;36m2437\u001b[0m\u001b[1;33m,\u001b[0m \u001b[1;36m2439\u001b[0m\u001b[1;33m,\u001b[0m \u001b[1;36m2461\u001b[0m\u001b[1;33m,\u001b[0m \u001b[1;36m2462\u001b[0m\u001b[1;33m,\u001b[0m \u001b[1;36m2466\u001b[0m\u001b[1;33m,\u001b[0m \u001b[1;36m2470\u001b[0m\u001b[1;33m,\u001b[0m \u001b[1;36m2481\u001b[0m\u001b[1;33m,\u001b[0m \u001b[1;36m2545\u001b[0m\u001b[1;33m,\u001b[0m \u001b[1;36m2549\u001b[0m\u001b[1;33m,\u001b[0m \u001b[1;36m2552\u001b[0m\u001b[1;33m,\u001b[0m \u001b[1;36m2559\u001b[0m\u001b[1;33m,\u001b[0m \u001b[1;36m2589\u001b[0m\u001b[1;33m,\u001b[0m \u001b[1;36m2597\u001b[0m\u001b[1;33m,\u001b[0m \u001b[1;36m2622\u001b[0m\u001b[1;33m,\u001b[0m \u001b[1;36m2630\u001b[0m\u001b[1;33m,\u001b[0m \u001b[1;36m2644\u001b[0m\u001b[1;33m,\u001b[0m \u001b[1;36m2651\u001b[0m\u001b[1;33m,\u001b[0m \u001b[1;36m2653\u001b[0m\u001b[1;33m,\u001b[0m \u001b[1;36m2678\u001b[0m\u001b[1;33m,\u001b[0m \u001b[1;36m2688\u001b[0m\u001b[1;33m,\u001b[0m \u001b[1;36m2719\u001b[0m\u001b[1;33m,\u001b[0m \u001b[1;36m2766\u001b[0m\u001b[1;33m,\u001b[0m \u001b[1;36m2891\u001b[0m\u001b[1;33m,\u001b[0m \u001b[1;36m2977\u001b[0m\u001b[1;33m,\u001b[0m \u001b[1;36m3145\u001b[0m\u001b[1;33m,\u001b[0m \u001b[1;36m3167\u001b[0m\u001b[1;33m,\u001b[0m \u001b[1;36m3363\u001b[0m\u001b[1;33m,\u001b[0m \u001b[1;36m3371\u001b[0m\u001b[1;33m,\u001b[0m \u001b[1;36m3373\u001b[0m\u001b[1;33m,\u001b[0m \u001b[1;36m3827\u001b[0m\u001b[1;33m,\u001b[0m \u001b[1;36m4221\u001b[0m\u001b[1;33m,\u001b[0m \u001b[1;36m4785\u001b[0m\u001b[1;33m,\u001b[0m \u001b[1;36m4795\u001b[0m\u001b[1;33m,\u001b[0m \u001b[1;36m4938\u001b[0m\u001b[1;33m,\u001b[0m \u001b[1;36m5027\u001b[0m\u001b[1;33m,\u001b[0m \u001b[1;36m5037\u001b[0m\u001b[1;33m,\u001b[0m \u001b[1;36m5582\u001b[0m\u001b[1;33m,\u001b[0m \u001b[1;36m5899\u001b[0m\u001b[1;33m,\u001b[0m \u001b[1;36m5903\u001b[0m\u001b[1;33m,\u001b[0m \u001b[1;36m6073\u001b[0m\u001b[1;33m,\u001b[0m \u001b[1;36m6115\u001b[0m\u001b[1;33m,\u001b[0m \u001b[1;36m6323\u001b[0m\u001b[1;33m,\u001b[0m \u001b[1;36m6532\u001b[0m\u001b[1;33m,\u001b[0m \u001b[1;36m6563\u001b[0m\u001b[1;33m,\u001b[0m \u001b[1;36m6772\u001b[0m\u001b[1;33m,\u001b[0m \u001b[1;36m6789\u001b[0m\u001b[1;33m,\u001b[0m \u001b[1;36m7125\u001b[0m\u001b[1;33m,\u001b[0m \u001b[1;36m7158\u001b[0m\u001b[1;33m,\u001b[0m \u001b[1;36m7283\u001b[0m\u001b[1;33m,\u001b[0m \u001b[1;36m7286\u001b[0m\u001b[1;33m,\u001b[0m \u001b[1;36m7841\u001b[0m\u001b[1;33m,\u001b[0m \u001b[1;36m7915\u001b[0m\u001b[1;33m,\u001b[0m \u001b[1;36m8066\u001b[0m\u001b[1;33m,\u001b[0m \u001b[1;36m8067\u001b[0m\u001b[1;33m,\u001b[0m \u001b[1;36m8187\u001b[0m\u001b[1;33m,\u001b[0m \u001b[1;36m8245\u001b[0m\u001b[1;33m,\u001b[0m \u001b[1;36m8253\u001b[0m\u001b[1;33m,\u001b[0m \u001b[1;36m8680\u001b[0m\u001b[1;33m,\u001b[0m \u001b[1;36m8681\u001b[0m\u001b[1;33m,\u001b[0m \u001b[1;36m8734\u001b[0m\u001b[1;33m,\u001b[0m \u001b[1;36m8930\u001b[0m\u001b[1;33m,\u001b[0m \u001b[1;36m9177\u001b[0m\u001b[1;33m,\u001b[0m \u001b[1;36m9226\u001b[0m\u001b[1;33m,\u001b[0m \u001b[1;36m9856\u001b[0m\u001b[1;33m,\u001b[0m \u001b[1;36m9908\u001b[0m\u001b[1;33m,\u001b[0m \u001b[1;36m10314\u001b[0m\u001b[1;33m,\u001b[0m \u001b[1;36m10447\u001b[0m\u001b[1;33m,\u001b[0m \u001b[1;36m10560\u001b[0m\u001b[1;33m,\u001b[0m \u001b[1;36m10819\u001b[0m\u001b[1;33m,\u001b[0m \u001b[1;36m11224\u001b[0m\u001b[1;33m,\u001b[0m \u001b[1;36m11245\u001b[0m\u001b[1;33m,\u001b[0m \u001b[1;36m11657\u001b[0m\u001b[1;33m,\u001b[0m \u001b[1;36m11718\u001b[0m\u001b[1;33m,\u001b[0m \u001b[1;36m11724\u001b[0m\u001b[1;33m,\u001b[0m \u001b[1;36m11788\u001b[0m\u001b[1;33m,\u001b[0m \u001b[1;36m11944\u001b[0m\u001b[1;33m,\u001b[0m \u001b[1;36m12100\u001b[0m\u001b[1;33m,\u001b[0m \u001b[1;36m12154\u001b[0m\u001b[1;33m,\u001b[0m \u001b[1;36m12489\u001b[0m\u001b[1;33m,\u001b[0m \u001b[1;36m12784\u001b[0m\u001b[1;33m,\u001b[0m \u001b[1;36m12982\u001b[0m\u001b[1;33m,\u001b[0m \u001b[1;36m13080\u001b[0m\u001b[1;33m,\u001b[0m \u001b[1;36m13273\u001b[0m\u001b[1;33m,\u001b[0m \u001b[1;36m13518\u001b[0m\u001b[1;33m,\u001b[0m \u001b[1;36m13551\u001b[0m\u001b[1;33m,\u001b[0m \u001b[1;36m13582\u001b[0m\u001b[1;33m,\u001b[0m \u001b[1;36m13664\u001b[0m\u001b[1;33m,\u001b[0m \u001b[1;36m13666\u001b[0m\u001b[1;33m,\u001b[0m \u001b[1;36m13850\u001b[0m\u001b[1;33m,\u001b[0m \u001b[1;36m13935\u001b[0m\u001b[1;33m,\u001b[0m \u001b[1;36m14422\u001b[0m\u001b[1;33m,\u001b[0m \u001b[1;36m14456\u001b[0m\u001b[1;33m,\u001b[0m \u001b[1;36m14744\u001b[0m\u001b[1;33m,\u001b[0m \u001b[1;36m14768\u001b[0m\u001b[1;33m,\u001b[0m \u001b[1;36m15049\u001b[0m\u001b[1;33m,\u001b[0m \u001b[1;36m15408\u001b[0m\u001b[1;33m,\u001b[0m \u001b[1;36m15418\u001b[0m\u001b[1;33m,\u001b[0m \u001b[1;36m15602\u001b[0m\u001b[1;33m,\u001b[0m \u001b[1;36m15834\u001b[0m\u001b[1;33m,\u001b[0m \u001b[1;36m15957\u001b[0m\u001b[1;33m,\u001b[0m \u001b[1;36m16246\u001b[0m\u001b[1;33m,\u001b[0m \u001b[1;36m16504\u001b[0m\u001b[1;33m,\u001b[0m \u001b[1;36m16599\u001b[0m\u001b[1;33m,\u001b[0m \u001b[1;36m16634\u001b[0m\u001b[1;33m,\u001b[0m \u001b[1;36m16718\u001b[0m\u001b[1;33m,\u001b[0m \u001b[1;36m16916\u001b[0m\u001b[1;33m,\u001b[0m \u001b[1;36m16966\u001b[0m\u001b[1;33m,\u001b[0m \u001b[1;36m17003\u001b[0m\u001b[1;33m,\u001b[0m \u001b[1;36m17859\u001b[0m\u001b[1;33m,\u001b[0m \u001b[1;36m17950\u001b[0m\u001b[1;33m,\u001b[0m \u001b[1;36m18082\u001b[0m\u001b[1;33m,\u001b[0m \u001b[1;36m18203\u001b[0m\u001b[1;33m,\u001b[0m \u001b[1;36m19233\u001b[0m\u001b[1;33m,\u001b[0m \u001b[1;36m19493\u001b[0m\u001b[1;33m,\u001b[0m \u001b[1;36m19664\u001b[0m\u001b[1;33m,\u001b[0m \u001b[1;36m19711\u001b[0m\u001b[1;33m,\u001b[0m \u001b[1;36m20060\u001b[0m\u001b[1;33m,\u001b[0m \u001b[1;36m20106\u001b[0m\u001b[1;33m,\u001b[0m \u001b[1;36m20172\u001b[0m\u001b[1;33m,\u001b[0m \u001b[1;36m20180\u001b[0m\u001b[1;33m,\u001b[0m \u001b[1;36m20462\u001b[0m\u001b[1;33m,\u001b[0m \u001b[1;36m20680\u001b[0m\u001b[1;33m,\u001b[0m \u001b[1;36m21011\u001b[0m\u001b[1;33m,\u001b[0m \u001b[1;36m21031\u001b[0m\u001b[1;33m,\u001b[0m \u001b[1;36m21356\u001b[0m\u001b[1;33m,\u001b[0m \u001b[1;36m21364\u001b[0m\u001b[1;33m,\u001b[0m \u001b[1;36m21404\u001b[0m\u001b[1;33m,\u001b[0m \u001b[1;36m21484\u001b[0m\u001b[1;33m,\u001b[0m \u001b[1;36m21576\u001b[0m\u001b[1;33m,\u001b[0m \u001b[1;36m21659\u001b[0m\u001b[1;33m,\u001b[0m \u001b[1;36m22074\u001b[0m\u001b[1;33m,\u001b[0m \u001b[1;36m22094\u001b[0m\u001b[1;33m,\u001b[0m \u001b[1;36m22252\u001b[0m\u001b[1;33m,\u001b[0m \u001b[1;36m22625\u001b[0m\u001b[1;33m,\u001b[0m \u001b[1;36m22936\u001b[0m\u001b[1;33m,\u001b[0m \u001b[1;36m23547\u001b[0m\u001b[1;33m,\u001b[0m \u001b[1;36m23571\u001b[0m\u001b[1;33m,\u001b[0m \u001b[1;36m23768\u001b[0m\u001b[1;33m,\u001b[0m \u001b[1;36m23933\u001b[0m\u001b[1;33m,\u001b[0m \u001b[1;36m24186\u001b[0m\u001b[1;33m,\u001b[0m \u001b[1;36m24194\u001b[0m\u001b[1;33m,\u001b[0m \u001b[1;36m25131\u001b[0m\u001b[1;33m,\u001b[0m \u001b[1;36m25395\u001b[0m\u001b[1;33m,\u001b[0m \u001b[1;36m25409\u001b[0m\u001b[1;33m,\u001b[0m \u001b[1;36m25410\u001b[0m\u001b[1;33m,\u001b[0m \u001b[1;36m25601\u001b[0m\u001b[1;33m,\u001b[0m \u001b[1;36m25919\u001b[0m\u001b[1;33m,\u001b[0m \u001b[1;36m25966\u001b[0m\u001b[1;33m,\u001b[0m \u001b[1;36m26057\u001b[0m\u001b[1;33m,\u001b[0m \u001b[1;36m26240\u001b[0m\u001b[1;33m,\u001b[0m \u001b[1;36m26371\u001b[0m\u001b[1;33m,\u001b[0m \u001b[1;36m26517\u001b[0m\u001b[1;33m,\u001b[0m \u001b[1;36m26535\u001b[0m\u001b[1;33m,\u001b[0m \u001b[1;36m26538\u001b[0m\u001b[1;33m,\u001b[0m \u001b[1;36m26620\u001b[0m\u001b[1;33m,\u001b[0m \u001b[1;36m26621\u001b[0m\u001b[1;33m,\u001b[0m \u001b[1;36m26883\u001b[0m\u001b[1;33m,\u001b[0m \u001b[1;36m27091\u001b[0m\u001b[1;33m,\u001b[0m \u001b[1;36m27472\u001b[0m\u001b[1;33m,\u001b[0m \u001b[1;36m27740\u001b[0m\u001b[1;33m,\u001b[0m \u001b[1;36m28204\u001b[0m\u001b[1;33m,\u001b[0m \u001b[1;36m28594\u001b[0m\u001b[1;33m,\u001b[0m \u001b[1;36m28647\u001b[0m\u001b[1;33m,\u001b[0m \u001b[1;36m29209\u001b[0m\u001b[1;33m,\u001b[0m \u001b[1;36m29259\u001b[0m\u001b[1;33m,\u001b[0m \u001b[1;36m29526\u001b[0m\u001b[1;33m]\u001b[0m\u001b[1;33m}\u001b[0m\u001b[1;33m\u001b[0m\u001b[1;33m\u001b[0m\u001b[0m\n\u001b[0;32m      5\u001b[0m \u001b[1;33m\u001b[0m\u001b[0m\n\u001b[1;32m----> 6\u001b[1;33m \u001b[0mglv\u001b[0m \u001b[1;33m=\u001b[0m \u001b[0mGroupLossVariance\u001b[0m\u001b[1;33m(\u001b[0m\u001b[0mX\u001b[0m\u001b[1;33m,\u001b[0m \u001b[0momega\u001b[0m\u001b[1;33m,\u001b[0m \u001b[0mG\u001b[0m\u001b[1;33m,\u001b[0m \u001b[1;36m1\u001b[0m\u001b[1;33m)\u001b[0m \u001b[1;31m#axis = 1 (0 rows e 1 columns)\u001b[0m\u001b[1;33m\u001b[0m\u001b[1;33m\u001b[0m\u001b[0m\n\u001b[0m\u001b[0;32m      7\u001b[0m \u001b[0mlosses_RgrpNR\u001b[0m \u001b[1;33m=\u001b[0m \u001b[0mglv\u001b[0m\u001b[1;33m.\u001b[0m\u001b[0mget_losses\u001b[0m\u001b[1;33m(\u001b[0m\u001b[0mX_est\u001b[0m\u001b[1;33m)\u001b[0m\u001b[1;33m\u001b[0m\u001b[1;33m\u001b[0m\u001b[0m\n\u001b[0;32m      8\u001b[0m \u001b[0mRgrpNR\u001b[0m \u001b[1;33m=\u001b[0m \u001b[0mglv\u001b[0m\u001b[1;33m.\u001b[0m\u001b[0mevaluate\u001b[0m\u001b[1;33m(\u001b[0m\u001b[0mX_est\u001b[0m\u001b[1;33m)\u001b[0m\u001b[1;33m\u001b[0m\u001b[1;33m\u001b[0m\u001b[0m\n",
            "\u001b[1;32mc:\\Users\\ravar\\Documents\\GitHub\\recsys-cluster-loss\\src\\UserFairness.py\u001b[0m in \u001b[0;36m__init__\u001b[1;34m(self, X, omega, G, axis)\u001b[0m\n\u001b[0;32m     98\u001b[0m         \u001b[0mself\u001b[0m\u001b[1;33m.\u001b[0m\u001b[0momega_group\u001b[0m \u001b[1;33m=\u001b[0m \u001b[1;33m{\u001b[0m\u001b[1;33m}\u001b[0m\u001b[1;33m\u001b[0m\u001b[1;33m\u001b[0m\u001b[0m\n\u001b[0;32m     99\u001b[0m         \u001b[1;32mfor\u001b[0m \u001b[0mgroup\u001b[0m \u001b[1;32min\u001b[0m \u001b[0mself\u001b[0m\u001b[1;33m.\u001b[0m\u001b[0mG\u001b[0m\u001b[1;33m:\u001b[0m\u001b[1;33m\u001b[0m\u001b[1;33m\u001b[0m\u001b[0m\n\u001b[1;32m--> 100\u001b[1;33m             \u001b[0mself\u001b[0m\u001b[1;33m.\u001b[0m\u001b[0momega_group\u001b[0m\u001b[1;33m[\u001b[0m\u001b[0mgroup\u001b[0m\u001b[1;33m]\u001b[0m \u001b[1;33m=\u001b[0m \u001b[1;33m(\u001b[0m\u001b[1;33m~\u001b[0m\u001b[0mself\u001b[0m\u001b[1;33m.\u001b[0m\u001b[0mX\u001b[0m\u001b[1;33m.\u001b[0m\u001b[0mmask\u001b[0m\u001b[1;33m(\u001b[0m\u001b[1;33m~\u001b[0m\u001b[0mself\u001b[0m\u001b[1;33m.\u001b[0m\u001b[0momega\u001b[0m\u001b[1;33m)\u001b[0m\u001b[1;33m.\u001b[0m\u001b[0mloc\u001b[0m\u001b[1;33m[\u001b[0m\u001b[0mself\u001b[0m\u001b[1;33m.\u001b[0m\u001b[0mG\u001b[0m\u001b[1;33m[\u001b[0m\u001b[0mgroup\u001b[0m\u001b[1;33m]\u001b[0m\u001b[1;33m]\u001b[0m\u001b[1;33m.\u001b[0m\u001b[0misnull\u001b[0m\u001b[1;33m(\u001b[0m\u001b[1;33m)\u001b[0m\u001b[1;33m)\u001b[0m\u001b[1;33m.\u001b[0m\u001b[0msum\u001b[0m\u001b[1;33m(\u001b[0m\u001b[1;33m)\u001b[0m\u001b[1;33m.\u001b[0m\u001b[0msum\u001b[0m\u001b[1;33m(\u001b[0m\u001b[1;33m)\u001b[0m\u001b[1;33m\u001b[0m\u001b[1;33m\u001b[0m\u001b[0m\n\u001b[0m\u001b[0;32m    101\u001b[0m \u001b[1;33m\u001b[0m\u001b[0m\n\u001b[0;32m    102\u001b[0m         \u001b[0momega_user\u001b[0m \u001b[1;33m=\u001b[0m \u001b[1;33m{\u001b[0m\u001b[1;33m}\u001b[0m\u001b[1;33m\u001b[0m\u001b[1;33m\u001b[0m\u001b[0m\n",
            "\u001b[1;32m~\\AppData\\Local\\Programs\\Python\\Python39\\lib\\site-packages\\pandas\\core\\indexing.py\u001b[0m in \u001b[0;36m__getitem__\u001b[1;34m(self, key)\u001b[0m\n\u001b[0;32m    929\u001b[0m \u001b[1;33m\u001b[0m\u001b[0m\n\u001b[0;32m    930\u001b[0m             \u001b[0mmaybe_callable\u001b[0m \u001b[1;33m=\u001b[0m \u001b[0mcom\u001b[0m\u001b[1;33m.\u001b[0m\u001b[0mapply_if_callable\u001b[0m\u001b[1;33m(\u001b[0m\u001b[0mkey\u001b[0m\u001b[1;33m,\u001b[0m \u001b[0mself\u001b[0m\u001b[1;33m.\u001b[0m\u001b[0mobj\u001b[0m\u001b[1;33m)\u001b[0m\u001b[1;33m\u001b[0m\u001b[1;33m\u001b[0m\u001b[0m\n\u001b[1;32m--> 931\u001b[1;33m             \u001b[1;32mreturn\u001b[0m \u001b[0mself\u001b[0m\u001b[1;33m.\u001b[0m\u001b[0m_getitem_axis\u001b[0m\u001b[1;33m(\u001b[0m\u001b[0mmaybe_callable\u001b[0m\u001b[1;33m,\u001b[0m \u001b[0maxis\u001b[0m\u001b[1;33m=\u001b[0m\u001b[0maxis\u001b[0m\u001b[1;33m)\u001b[0m\u001b[1;33m\u001b[0m\u001b[1;33m\u001b[0m\u001b[0m\n\u001b[0m\u001b[0;32m    932\u001b[0m \u001b[1;33m\u001b[0m\u001b[0m\n\u001b[0;32m    933\u001b[0m     \u001b[1;32mdef\u001b[0m \u001b[0m_is_scalar_access\u001b[0m\u001b[1;33m(\u001b[0m\u001b[0mself\u001b[0m\u001b[1;33m,\u001b[0m \u001b[0mkey\u001b[0m\u001b[1;33m:\u001b[0m \u001b[0mtuple\u001b[0m\u001b[1;33m)\u001b[0m\u001b[1;33m:\u001b[0m\u001b[1;33m\u001b[0m\u001b[1;33m\u001b[0m\u001b[0m\n",
            "\u001b[1;32m~\\AppData\\Local\\Programs\\Python\\Python39\\lib\\site-packages\\pandas\\core\\indexing.py\u001b[0m in \u001b[0;36m_getitem_axis\u001b[1;34m(self, key, axis)\u001b[0m\n\u001b[0;32m   1151\u001b[0m                     \u001b[1;32mraise\u001b[0m \u001b[0mValueError\u001b[0m\u001b[1;33m(\u001b[0m\u001b[1;34m\"Cannot index with multidimensional key\"\u001b[0m\u001b[1;33m)\u001b[0m\u001b[1;33m\u001b[0m\u001b[1;33m\u001b[0m\u001b[0m\n\u001b[0;32m   1152\u001b[0m \u001b[1;33m\u001b[0m\u001b[0m\n\u001b[1;32m-> 1153\u001b[1;33m                 \u001b[1;32mreturn\u001b[0m \u001b[0mself\u001b[0m\u001b[1;33m.\u001b[0m\u001b[0m_getitem_iterable\u001b[0m\u001b[1;33m(\u001b[0m\u001b[0mkey\u001b[0m\u001b[1;33m,\u001b[0m \u001b[0maxis\u001b[0m\u001b[1;33m=\u001b[0m\u001b[0maxis\u001b[0m\u001b[1;33m)\u001b[0m\u001b[1;33m\u001b[0m\u001b[1;33m\u001b[0m\u001b[0m\n\u001b[0m\u001b[0;32m   1154\u001b[0m \u001b[1;33m\u001b[0m\u001b[0m\n\u001b[0;32m   1155\u001b[0m             \u001b[1;31m# nested tuple slicing\u001b[0m\u001b[1;33m\u001b[0m\u001b[1;33m\u001b[0m\u001b[0m\n",
            "\u001b[1;32m~\\AppData\\Local\\Programs\\Python\\Python39\\lib\\site-packages\\pandas\\core\\indexing.py\u001b[0m in \u001b[0;36m_getitem_iterable\u001b[1;34m(self, key, axis)\u001b[0m\n\u001b[0;32m   1091\u001b[0m \u001b[1;33m\u001b[0m\u001b[0m\n\u001b[0;32m   1092\u001b[0m         \u001b[1;31m# A collection of keys\u001b[0m\u001b[1;33m\u001b[0m\u001b[1;33m\u001b[0m\u001b[0m\n\u001b[1;32m-> 1093\u001b[1;33m         \u001b[0mkeyarr\u001b[0m\u001b[1;33m,\u001b[0m \u001b[0mindexer\u001b[0m \u001b[1;33m=\u001b[0m \u001b[0mself\u001b[0m\u001b[1;33m.\u001b[0m\u001b[0m_get_listlike_indexer\u001b[0m\u001b[1;33m(\u001b[0m\u001b[0mkey\u001b[0m\u001b[1;33m,\u001b[0m \u001b[0maxis\u001b[0m\u001b[1;33m)\u001b[0m\u001b[1;33m\u001b[0m\u001b[1;33m\u001b[0m\u001b[0m\n\u001b[0m\u001b[0;32m   1094\u001b[0m         return self.obj._reindex_with_indexers(\n\u001b[0;32m   1095\u001b[0m             \u001b[1;33m{\u001b[0m\u001b[0maxis\u001b[0m\u001b[1;33m:\u001b[0m \u001b[1;33m[\u001b[0m\u001b[0mkeyarr\u001b[0m\u001b[1;33m,\u001b[0m \u001b[0mindexer\u001b[0m\u001b[1;33m]\u001b[0m\u001b[1;33m}\u001b[0m\u001b[1;33m,\u001b[0m \u001b[0mcopy\u001b[0m\u001b[1;33m=\u001b[0m\u001b[1;32mTrue\u001b[0m\u001b[1;33m,\u001b[0m \u001b[0mallow_dups\u001b[0m\u001b[1;33m=\u001b[0m\u001b[1;32mTrue\u001b[0m\u001b[1;33m\u001b[0m\u001b[1;33m\u001b[0m\u001b[0m\n",
            "\u001b[1;32m~\\AppData\\Local\\Programs\\Python\\Python39\\lib\\site-packages\\pandas\\core\\indexing.py\u001b[0m in \u001b[0;36m_get_listlike_indexer\u001b[1;34m(self, key, axis)\u001b[0m\n\u001b[0;32m   1312\u001b[0m             \u001b[0mkeyarr\u001b[0m\u001b[1;33m,\u001b[0m \u001b[0mindexer\u001b[0m\u001b[1;33m,\u001b[0m \u001b[0mnew_indexer\u001b[0m \u001b[1;33m=\u001b[0m \u001b[0max\u001b[0m\u001b[1;33m.\u001b[0m\u001b[0m_reindex_non_unique\u001b[0m\u001b[1;33m(\u001b[0m\u001b[0mkeyarr\u001b[0m\u001b[1;33m)\u001b[0m\u001b[1;33m\u001b[0m\u001b[1;33m\u001b[0m\u001b[0m\n\u001b[0;32m   1313\u001b[0m \u001b[1;33m\u001b[0m\u001b[0m\n\u001b[1;32m-> 1314\u001b[1;33m         \u001b[0mself\u001b[0m\u001b[1;33m.\u001b[0m\u001b[0m_validate_read_indexer\u001b[0m\u001b[1;33m(\u001b[0m\u001b[0mkeyarr\u001b[0m\u001b[1;33m,\u001b[0m \u001b[0mindexer\u001b[0m\u001b[1;33m,\u001b[0m \u001b[0maxis\u001b[0m\u001b[1;33m)\u001b[0m\u001b[1;33m\u001b[0m\u001b[1;33m\u001b[0m\u001b[0m\n\u001b[0m\u001b[0;32m   1315\u001b[0m \u001b[1;33m\u001b[0m\u001b[0m\n\u001b[0;32m   1316\u001b[0m         if needs_i8_conversion(ax.dtype) or isinstance(\n",
            "\u001b[1;32m~\\AppData\\Local\\Programs\\Python\\Python39\\lib\\site-packages\\pandas\\core\\indexing.py\u001b[0m in \u001b[0;36m_validate_read_indexer\u001b[1;34m(self, key, indexer, axis)\u001b[0m\n\u001b[0;32m   1375\u001b[0m \u001b[1;33m\u001b[0m\u001b[0m\n\u001b[0;32m   1376\u001b[0m             \u001b[0mnot_found\u001b[0m \u001b[1;33m=\u001b[0m \u001b[0mlist\u001b[0m\u001b[1;33m(\u001b[0m\u001b[0mensure_index\u001b[0m\u001b[1;33m(\u001b[0m\u001b[0mkey\u001b[0m\u001b[1;33m)\u001b[0m\u001b[1;33m[\u001b[0m\u001b[0mmissing_mask\u001b[0m\u001b[1;33m.\u001b[0m\u001b[0mnonzero\u001b[0m\u001b[1;33m(\u001b[0m\u001b[1;33m)\u001b[0m\u001b[1;33m[\u001b[0m\u001b[1;36m0\u001b[0m\u001b[1;33m]\u001b[0m\u001b[1;33m]\u001b[0m\u001b[1;33m.\u001b[0m\u001b[0munique\u001b[0m\u001b[1;33m(\u001b[0m\u001b[1;33m)\u001b[0m\u001b[1;33m)\u001b[0m\u001b[1;33m\u001b[0m\u001b[1;33m\u001b[0m\u001b[0m\n\u001b[1;32m-> 1377\u001b[1;33m             \u001b[1;32mraise\u001b[0m \u001b[0mKeyError\u001b[0m\u001b[1;33m(\u001b[0m\u001b[1;34mf\"{not_found} not in index\"\u001b[0m\u001b[1;33m)\u001b[0m\u001b[1;33m\u001b[0m\u001b[1;33m\u001b[0m\u001b[0m\n\u001b[0m\u001b[0;32m   1378\u001b[0m \u001b[1;33m\u001b[0m\u001b[0m\n\u001b[0;32m   1379\u001b[0m \u001b[1;33m\u001b[0m\u001b[0m\n",
            "\u001b[1;31mKeyError\u001b[0m: '[1131, 1211, 1248, 1424, 1435, 1585, 1674, 1733, 1848, 1903, 2024, 2030, 2033, 2103, 2110, 2179, 2288, 2313, 2337, 2363, 4017, 6242, 6251, 6543, 6575, 7346, 8454, 13552, 16795, 21014, 23872, 23902, 25981, 28177, 28634] not in index'"
          ]
        }
      ],
      "source": [
        "# G group: identifying the groups (NR: number of ratings of users)\n",
        "# The configuration of groups was based in the hierarchical clustering (tree clustering - dendrogram)\n",
        "# Clusters 1, 2 and 3\n",
        "G = {1: [405, 441, 549, 814, 1047, 1359, 1489, 2023, 2350, 2519, 2766, 2792, 2971, 3130, 3500, 3658, 3684, 3808, 3891, 3893, 3964, 4676, 5159, 5832, 6088, 6224, 6336, 6405, 7284, 7297, 8081, 8189, 8236, 9224, 9378, 9443, 9698, 9766, 9856, 10152, 10204, 10893, 11119, 11938, 12941, 13548, 13773, 13959, 15352, 15604, 15714, 15779, 15836], 2: [54, 167, 199, 204, 208, 352, 516, 527, 561, 670, 724, 813, 817, 826, 832, 1005, 1042, 1109, 1194, 1202, 1262, 1296, 1483, 1499, 1819, 1824, 1828, 1946, 1983, 2094, 2164, 2183, 2262, 2270, 2353, 2390, 2403, 2607, 2784, 2864, 2964, 2973, 3037, 3044, 3085, 3237, 3374, 3383, 3438, 3447, 3474, 3506, 3519, 3523, 3534, 3553, 3599, 3834, 3839, 4040, 4114, 4138, 4339, 4360, 4376, 4440, 4515, 4789, 4973, 5082, 5110, 5489, 5579, 5673, 5908, 5938, 6024, 6176, 6204, 6441, 6587, 6624, 6810, 6931, 7057, 7324, 7494, 7547, 7669, 7786, 8109, 8569, 8636, 8960, 8962, 9111, 9116, 9134, 9135, 9334, 9513, 9620, 9719, 9792, 9879, 9990, 9999, 10029, 10525, 10605, 10646, 10664, 10860, 10931, 11306, 11428, 11440, 11460, 11714, 11968, 11978, 12138, 12169, 12965, 13181, 13335, 13361, 13474, 13750, 13911, 13949, 14276, 14419, 14491, 14615, 14621, 14694, 15293, 15313, 15346, 15472, 15475, 15611, 15759, 15771], 3: [18, 50, 114, 132, 133, 152, 166, 177, 185, 193, 195, 270, 303, 324, 348, 460, 462, 572, 575, 589, 599, 623, 628, 630, 650, 764, 775, 784, 886, 925, 954, 977, 999, 1008, 1136, 1199, 1228, 1259, 1328, 1376, 1394, 1396, 1398, 1426, 1437, 1479, 1548, 1563, 1584, 1588, 1611, 1633, 1702, 1712, 1757, 1762, 1787, 1816, 1821, 1835, 1904, 1912, 1938, 1980, 2046, 2051, 2060, 2123, 2162, 2187, 2197, 2199, 2227, 2230, 2233, 2295, 2297, 2327, 2354, 2384, 2401, 2451, 2455, 2460, 2521, 2573, 2614, 2644, 2695, 2702, 2863, 2881, 2895, 2910, 2931, 2952, 2954, 3025, 3117, 3149, 3153, 3154]}\n",
        "\n",
        "glv = GroupLossVariance(X, omega, G, 1) #axis = 1 (0 rows e 1 columns)\n",
        "losses_RgrpNR = glv.get_losses(X_est)\n",
        "RgrpNR = glv.evaluate(X_est)\n",
        "\n",
        "RgrpNR_groups = ['RgrpNR: 1', 'RgrpNR: 2', 'RgrpNR: 3']\n",
        "plt.bar(RgrpNR_groups, losses_RgrpNR)\n",
        "plt.title('Group unfairness NR: ' + str(RgrpNR))\n",
        "plt.show()"
      ]
    }
  ],
  "metadata": {
    "colab": {
      "collapsed_sections": [],
      "name": "recsys-cluster-loss-20items-agrupamento.ipynb",
      "provenance": []
    },
    "interpreter": {
      "hash": "33a6e123bcdbde5194593dce101121189e5e4c5a8c334626e820e0bd268629ea"
    },
    "kernelspec": {
      "display_name": "Python 3.9.6 64-bit",
      "name": "python3"
    },
    "language_info": {
      "codemirror_mode": {
        "name": "ipython",
        "version": 3
      },
      "file_extension": ".py",
      "mimetype": "text/x-python",
      "name": "python",
      "nbconvert_exporter": "python",
      "pygments_lexer": "ipython3",
      "version": "3.9.8"
    }
  },
  "nbformat": 4,
  "nbformat_minor": 2
}
