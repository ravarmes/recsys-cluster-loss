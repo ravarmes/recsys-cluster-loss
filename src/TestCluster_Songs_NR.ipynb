{
  "cells": [
    {
      "cell_type": "markdown",
      "metadata": {
        "id": "ZKCpdWWT4s-B"
      },
      "source": [
        "**recsys-cluster-loss**\n",
        "\n",
        "Example of cluster analysis in the context of recommendation systems.\n",
        "Users who receive recommendations will be grouped based on the individual fairness measure of those recommendations.\n",
        "The objective is to analyze whether there is any type of injustice of non-obvious user groups, that is, groups that cannot be configured based on some explicit user characteristic (variable) (for example: gender, age, etc.) .\n",
        "\n",
        "Two methods of grouping will be applied:\n",
        "1. Hierarchical clustering (tree clustering - dendrogram)\n",
        "2. Non-hierarchical grouping by breakdown (grouping by k-Means)\n",
        "\n",
        "In this file we are analyzing the possible groupings considering the following variable(s):\n",
        "- NR: number of ratings of users"
      ]
    },
    {
      "cell_type": "markdown",
      "metadata": {},
      "source": [
        "Recommendation system: generating the recommendation matrix and calculating individual fairness"
      ]
    },
    {
      "cell_type": "code",
      "execution_count": 1,
      "metadata": {
        "colab": {
          "base_uri": "https://localhost:8080/"
        },
        "id": "fJW5Qza9tDe0",
        "outputId": "fad6d80d-19d2-4ac5-e00d-bf495d0a23fe"
      },
      "outputs": [
        {
          "name": "stderr",
          "output_type": "stream",
          "text": [
            "Cloning into 'recsys-cluster-loss'...\n"
          ]
        }
      ],
      "source": [
        "# cloning repository with database\n",
        "!rm -rf recsys-cluster-loss\n",
        "!git clone https://github.com/ravarmes/recsys-cluster-loss.git"
      ]
    },
    {
      "cell_type": "code",
      "execution_count": 2,
      "metadata": {},
      "outputs": [],
      "source": [
        "import pandas as pd\n",
        "import numpy as np\n",
        "import matplotlib.pyplot as plt\n",
        "import seaborn as sns\n",
        "from sklearn.preprocessing import StandardScaler\n",
        "from sklearn.cluster import AgglomerativeClustering, KMeans\n",
        "from scipy.cluster import hierarchy\n",
        "\n",
        "import warnings\n",
        "warnings.filterwarnings('ignore')\n",
        "\n",
        "sns.set()"
      ]
    },
    {
      "cell_type": "code",
      "execution_count": 3,
      "metadata": {
        "id": "biw8w4RKArjN"
      },
      "outputs": [],
      "source": [
        "import sys\n",
        "sys.path.append('recsys-cluster-loss/src')\n",
        "from RecSys import RecSys\n",
        "from UserFairness import IndividualLossVariance\n",
        "from UserFairness import GroupLossVariance"
      ]
    },
    {
      "cell_type": "code",
      "execution_count": 4,
      "metadata": {
        "id": "2FQ0_uYOIvEj"
      },
      "outputs": [],
      "source": [
        "# reading data from 19993 songs and 16000 users \n",
        "Data_path = 'recsys-cluster-loss/data/Songs'\n",
        "n_users=  300\n",
        "n_items= 1000\n",
        "top_users = True # True: to use users with more ratings; False: otherwise\n",
        "top_items = True # True: to use movies with more ratings; False: otherwise"
      ]
    },
    {
      "cell_type": "code",
      "execution_count": 5,
      "metadata": {
        "id": "kky92lhnIxxf"
      },
      "outputs": [],
      "source": [
        "# recommendation algorithm\n",
        "algorithm = 'RecSysALS'"
      ]
    },
    {
      "cell_type": "code",
      "execution_count": 6,
      "metadata": {
        "id": "NwhZkRQ_I0YF"
      },
      "outputs": [],
      "source": [
        "# parameters for calculating fairness measures\n",
        "l = 5\n",
        "theta = 3\n",
        "k = 3"
      ]
    },
    {
      "cell_type": "code",
      "execution_count": 7,
      "metadata": {
        "id": "1qWcPGY5I9FE"
      },
      "outputs": [],
      "source": [
        "recsys = RecSys(n_users, n_items, top_users, top_items, l, theta, k)"
      ]
    },
    {
      "cell_type": "code",
      "execution_count": 8,
      "metadata": {
        "colab": {
          "base_uri": "https://localhost:8080/",
          "height": 1000
        },
        "id": "gxrBq6I1JK8o",
        "outputId": "6a71ff85-ef00-4e20-d663-373602218bd8"
      },
      "outputs": [],
      "source": [
        "X, users_info, items_info = recsys.read_books(n_users, n_items, top_users, top_items, data_dir = Data_path) # returns matrix of ratings with n_users rows and n_moveis columns\n",
        "omega = ~X.isnull() # matrix X with True in cells with evaluations and False in cells not rated"
      ]
    },
    {
      "cell_type": "code",
      "execution_count": 9,
      "metadata": {
        "id": "8XR9U63U01GL"
      },
      "outputs": [
        {
          "data": {
            "text/html": [
              "<div>\n",
              "<style scoped>\n",
              "    .dataframe tbody tr th:only-of-type {\n",
              "        vertical-align: middle;\n",
              "    }\n",
              "\n",
              "    .dataframe tbody tr th {\n",
              "        vertical-align: top;\n",
              "    }\n",
              "\n",
              "    .dataframe thead th {\n",
              "        text-align: right;\n",
              "    }\n",
              "</style>\n",
              "<table border=\"1\" class=\"dataframe\">\n",
              "  <thead>\n",
              "    <tr style=\"text-align: right;\">\n",
              "      <th></th>\n",
              "      <th>Location</th>\n",
              "      <th>Age</th>\n",
              "      <th>NR</th>\n",
              "    </tr>\n",
              "  </thead>\n",
              "  <tbody>\n",
              "    <tr>\n",
              "      <th>1</th>\n",
              "      <td>nyc, new york, usa</td>\n",
              "      <td>18</td>\n",
              "      <td>NaN</td>\n",
              "    </tr>\n",
              "    <tr>\n",
              "      <th>2</th>\n",
              "      <td>stockton, california, usa</td>\n",
              "      <td>58</td>\n",
              "      <td>NaN</td>\n",
              "    </tr>\n",
              "    <tr>\n",
              "      <th>3</th>\n",
              "      <td>moscow, yukon territory, russia</td>\n",
              "      <td>51</td>\n",
              "      <td>NaN</td>\n",
              "    </tr>\n",
              "    <tr>\n",
              "      <th>4</th>\n",
              "      <td>porto, v.n.gaia, portugal</td>\n",
              "      <td>73</td>\n",
              "      <td>NaN</td>\n",
              "    </tr>\n",
              "    <tr>\n",
              "      <th>5</th>\n",
              "      <td>farnborough, hants, united kingdom</td>\n",
              "      <td>52</td>\n",
              "      <td>NaN</td>\n",
              "    </tr>\n",
              "    <tr>\n",
              "      <th>...</th>\n",
              "      <td>...</td>\n",
              "      <td>...</td>\n",
              "      <td>...</td>\n",
              "    </tr>\n",
              "    <tr>\n",
              "      <th>29996</th>\n",
              "      <td>park forest, illinois, usa</td>\n",
              "      <td>65</td>\n",
              "      <td>NaN</td>\n",
              "    </tr>\n",
              "    <tr>\n",
              "      <th>29997</th>\n",
              "      <td>calgary, alberta, canada</td>\n",
              "      <td>38</td>\n",
              "      <td>NaN</td>\n",
              "    </tr>\n",
              "    <tr>\n",
              "      <th>29998</th>\n",
              "      <td>loxley, alabama, usa</td>\n",
              "      <td>59</td>\n",
              "      <td>NaN</td>\n",
              "    </tr>\n",
              "    <tr>\n",
              "      <th>29999</th>\n",
              "      <td>salina, kansas, usa</td>\n",
              "      <td>50</td>\n",
              "      <td>NaN</td>\n",
              "    </tr>\n",
              "    <tr>\n",
              "      <th>30000</th>\n",
              "      <td>leicestershie, england, united kingdom</td>\n",
              "      <td>20</td>\n",
              "      <td>NaN</td>\n",
              "    </tr>\n",
              "  </tbody>\n",
              "</table>\n",
              "<p>30000 rows × 3 columns</p>\n",
              "</div>"
            ],
            "text/plain": [
              "                                     Location  Age  NR\n",
              "1                          nyc, new york, usa   18 NaN\n",
              "2                   stockton, california, usa   58 NaN\n",
              "3             moscow, yukon territory, russia   51 NaN\n",
              "4                   porto, v.n.gaia, portugal   73 NaN\n",
              "5          farnborough, hants, united kingdom   52 NaN\n",
              "...                                       ...  ...  ..\n",
              "29996              park forest, illinois, usa   65 NaN\n",
              "29997                calgary, alberta, canada   38 NaN\n",
              "29998                    loxley, alabama, usa   59 NaN\n",
              "29999                     salina, kansas, usa   50 NaN\n",
              "30000  leicestershie, england, united kingdom   20 NaN\n",
              "\n",
              "[30000 rows x 3 columns]"
            ]
          },
          "execution_count": 9,
          "metadata": {},
          "output_type": "execute_result"
        }
      ],
      "source": [
        "users_info"
      ]
    },
    {
      "cell_type": "code",
      "execution_count": 10,
      "metadata": {
        "id": "DRwHlM5m0y9x"
      },
      "outputs": [],
      "source": [
        "X_est = recsys.compute_X_est(X, algorithm, Data_path) # RecSysALS or RecSysKNN or RecSysNMF or RecSysExampleAntidoteData20Items"
      ]
    },
    {
      "cell_type": "code",
      "execution_count": 11,
      "metadata": {
        "id": "dmqGCoRn5atN"
      },
      "outputs": [],
      "source": [
        "ilv = IndividualLossVariance(X, omega, 1)\n",
        "losses = ilv.get_losses(X_est)"
      ]
    },
    {
      "cell_type": "code",
      "execution_count": 12,
      "metadata": {},
      "outputs": [
        {
          "data": {
            "text/plain": [
              "UserID\n",
              "11676    1.529102\n",
              "16795    1.207391\n",
              "2030     0.216569\n",
              "1733     0.450545\n",
              "7346     0.948539\n",
              "           ...   \n",
              "8890     0.500000\n",
              "8935     3.429078\n",
              "8936     0.739040\n",
              "8937     1.662957\n",
              "9094     3.777633\n",
              "Length: 300, dtype: float64"
            ]
          },
          "execution_count": 12,
          "metadata": {},
          "output_type": "execute_result"
        }
      ],
      "source": [
        "losses"
      ]
    },
    {
      "cell_type": "code",
      "execution_count": 13,
      "metadata": {
        "colab": {
          "base_uri": "https://localhost:8080/",
          "height": 1000
        },
        "id": "gEocAu4NGHsD",
        "outputId": "c625291f-76ab-46dd-bd6f-4b619a8463e4"
      },
      "outputs": [
        {
          "data": {
            "text/html": [
              "<div>\n",
              "<style scoped>\n",
              "    .dataframe tbody tr th:only-of-type {\n",
              "        vertical-align: middle;\n",
              "    }\n",
              "\n",
              "    .dataframe tbody tr th {\n",
              "        vertical-align: top;\n",
              "    }\n",
              "\n",
              "    .dataframe thead th {\n",
              "        text-align: right;\n",
              "    }\n",
              "</style>\n",
              "<table border=\"1\" class=\"dataframe\">\n",
              "  <thead>\n",
              "    <tr style=\"text-align: right;\">\n",
              "      <th></th>\n",
              "      <th>Loss</th>\n",
              "      <th>NR</th>\n",
              "    </tr>\n",
              "  </thead>\n",
              "  <tbody>\n",
              "    <tr>\n",
              "      <th>254</th>\n",
              "      <td>0.249749</td>\n",
              "      <td>4.0</td>\n",
              "    </tr>\n",
              "    <tr>\n",
              "      <th>638</th>\n",
              "      <td>0.223826</td>\n",
              "      <td>5.0</td>\n",
              "    </tr>\n",
              "    <tr>\n",
              "      <th>882</th>\n",
              "      <td>2.253729</td>\n",
              "      <td>5.0</td>\n",
              "    </tr>\n",
              "    <tr>\n",
              "      <th>929</th>\n",
              "      <td>0.395816</td>\n",
              "      <td>2.0</td>\n",
              "    </tr>\n",
              "    <tr>\n",
              "      <th>1131</th>\n",
              "      <td>0.969933</td>\n",
              "      <td>20.0</td>\n",
              "    </tr>\n",
              "    <tr>\n",
              "      <th>...</th>\n",
              "      <td>...</td>\n",
              "      <td>...</td>\n",
              "    </tr>\n",
              "    <tr>\n",
              "      <th>28634</th>\n",
              "      <td>0.448799</td>\n",
              "      <td>13.0</td>\n",
              "    </tr>\n",
              "    <tr>\n",
              "      <th>28647</th>\n",
              "      <td>0.714130</td>\n",
              "      <td>3.0</td>\n",
              "    </tr>\n",
              "    <tr>\n",
              "      <th>29209</th>\n",
              "      <td>2.056064</td>\n",
              "      <td>9.0</td>\n",
              "    </tr>\n",
              "    <tr>\n",
              "      <th>29259</th>\n",
              "      <td>0.613271</td>\n",
              "      <td>5.0</td>\n",
              "    </tr>\n",
              "    <tr>\n",
              "      <th>29526</th>\n",
              "      <td>0.182452</td>\n",
              "      <td>7.0</td>\n",
              "    </tr>\n",
              "  </tbody>\n",
              "</table>\n",
              "<p>300 rows × 2 columns</p>\n",
              "</div>"
            ],
            "text/plain": [
              "           Loss    NR\n",
              "254    0.249749   4.0\n",
              "638    0.223826   5.0\n",
              "882    2.253729   5.0\n",
              "929    0.395816   2.0\n",
              "1131   0.969933  20.0\n",
              "...         ...   ...\n",
              "28634  0.448799  13.0\n",
              "28647  0.714130   3.0\n",
              "29209  2.056064   9.0\n",
              "29259  0.613271   5.0\n",
              "29526  0.182452   7.0\n",
              "\n",
              "[300 rows x 2 columns]"
            ]
          },
          "execution_count": 13,
          "metadata": {},
          "output_type": "execute_result"
        }
      ],
      "source": [
        "df = pd.DataFrame(columns=['Loss'])\n",
        "df['NR'] = users_info['NR']\n",
        "df['Loss'] = losses\n",
        "\n",
        "df.dropna(subset=['Loss'], inplace=True) # eliminating rows with empty values in the 'Loss' column\n",
        "df"
      ]
    },
    {
      "cell_type": "code",
      "execution_count": 14,
      "metadata": {
        "colab": {
          "base_uri": "https://localhost:8080/",
          "height": 234
        },
        "id": "uHXqrVas1yce",
        "outputId": "db24a330-f8dd-4b9c-e301-bf66f616a8f8"
      },
      "outputs": [
        {
          "data": {
            "text/html": [
              "<div>\n",
              "<style scoped>\n",
              "    .dataframe tbody tr th:only-of-type {\n",
              "        vertical-align: middle;\n",
              "    }\n",
              "\n",
              "    .dataframe tbody tr th {\n",
              "        vertical-align: top;\n",
              "    }\n",
              "\n",
              "    .dataframe thead th {\n",
              "        text-align: right;\n",
              "    }\n",
              "</style>\n",
              "<table border=\"1\" class=\"dataframe\">\n",
              "  <thead>\n",
              "    <tr style=\"text-align: right;\">\n",
              "      <th></th>\n",
              "      <th>Loss</th>\n",
              "      <th>NR</th>\n",
              "    </tr>\n",
              "  </thead>\n",
              "  <tbody>\n",
              "    <tr>\n",
              "      <th>254</th>\n",
              "      <td>0.249749</td>\n",
              "      <td>4.0</td>\n",
              "    </tr>\n",
              "    <tr>\n",
              "      <th>638</th>\n",
              "      <td>0.223826</td>\n",
              "      <td>5.0</td>\n",
              "    </tr>\n",
              "    <tr>\n",
              "      <th>882</th>\n",
              "      <td>2.253729</td>\n",
              "      <td>5.0</td>\n",
              "    </tr>\n",
              "    <tr>\n",
              "      <th>929</th>\n",
              "      <td>0.395816</td>\n",
              "      <td>2.0</td>\n",
              "    </tr>\n",
              "    <tr>\n",
              "      <th>1131</th>\n",
              "      <td>0.969933</td>\n",
              "      <td>20.0</td>\n",
              "    </tr>\n",
              "  </tbody>\n",
              "</table>\n",
              "</div>"
            ],
            "text/plain": [
              "          Loss    NR\n",
              "254   0.249749   4.0\n",
              "638   0.223826   5.0\n",
              "882   2.253729   5.0\n",
              "929   0.395816   2.0\n",
              "1131  0.969933  20.0"
            ]
          },
          "execution_count": 14,
          "metadata": {},
          "output_type": "execute_result"
        }
      ],
      "source": [
        "df.head()"
      ]
    },
    {
      "cell_type": "code",
      "execution_count": 15,
      "metadata": {
        "colab": {
          "base_uri": "https://localhost:8080/"
        },
        "id": "qTaZvgmL16HL",
        "outputId": "5f5f2689-a441-41cd-b740-1e274f2d53b9"
      },
      "outputs": [
        {
          "data": {
            "text/plain": [
              "(300, 2)"
            ]
          },
          "execution_count": 15,
          "metadata": {},
          "output_type": "execute_result"
        }
      ],
      "source": [
        "# number of rows and columns:\n",
        "df.shape"
      ]
    },
    {
      "cell_type": "code",
      "execution_count": 16,
      "metadata": {
        "colab": {
          "base_uri": "https://localhost:8080/",
          "height": 295
        },
        "id": "Imo2zaMR1-Yl",
        "outputId": "1f412f7d-97a1-41f3-c262-f0040010fb50"
      },
      "outputs": [
        {
          "data": {
            "text/html": [
              "<div>\n",
              "<style scoped>\n",
              "    .dataframe tbody tr th:only-of-type {\n",
              "        vertical-align: middle;\n",
              "    }\n",
              "\n",
              "    .dataframe tbody tr th {\n",
              "        vertical-align: top;\n",
              "    }\n",
              "\n",
              "    .dataframe thead th {\n",
              "        text-align: right;\n",
              "    }\n",
              "</style>\n",
              "<table border=\"1\" class=\"dataframe\">\n",
              "  <thead>\n",
              "    <tr style=\"text-align: right;\">\n",
              "      <th></th>\n",
              "      <th>Loss</th>\n",
              "      <th>NR</th>\n",
              "    </tr>\n",
              "  </thead>\n",
              "  <tbody>\n",
              "    <tr>\n",
              "      <th>count</th>\n",
              "      <td>300.000000</td>\n",
              "      <td>300.000000</td>\n",
              "    </tr>\n",
              "    <tr>\n",
              "      <th>mean</th>\n",
              "      <td>1.179642</td>\n",
              "      <td>7.020000</td>\n",
              "    </tr>\n",
              "    <tr>\n",
              "      <th>std</th>\n",
              "      <td>1.259879</td>\n",
              "      <td>17.708139</td>\n",
              "    </tr>\n",
              "    <tr>\n",
              "      <th>min</th>\n",
              "      <td>0.042335</td>\n",
              "      <td>2.000000</td>\n",
              "    </tr>\n",
              "    <tr>\n",
              "      <th>25%</th>\n",
              "      <td>0.450361</td>\n",
              "      <td>3.000000</td>\n",
              "    </tr>\n",
              "    <tr>\n",
              "      <th>50%</th>\n",
              "      <td>0.729913</td>\n",
              "      <td>4.000000</td>\n",
              "    </tr>\n",
              "    <tr>\n",
              "      <th>75%</th>\n",
              "      <td>1.510286</td>\n",
              "      <td>7.000000</td>\n",
              "    </tr>\n",
              "    <tr>\n",
              "      <th>max</th>\n",
              "      <td>11.158645</td>\n",
              "      <td>294.000000</td>\n",
              "    </tr>\n",
              "  </tbody>\n",
              "</table>\n",
              "</div>"
            ],
            "text/plain": [
              "             Loss          NR\n",
              "count  300.000000  300.000000\n",
              "mean     1.179642    7.020000\n",
              "std      1.259879   17.708139\n",
              "min      0.042335    2.000000\n",
              "25%      0.450361    3.000000\n",
              "50%      0.729913    4.000000\n",
              "75%      1.510286    7.000000\n",
              "max     11.158645  294.000000"
            ]
          },
          "execution_count": 16,
          "metadata": {},
          "output_type": "execute_result"
        }
      ],
      "source": [
        "# descriptive statistics:\n",
        "df.describe()"
      ]
    },
    {
      "cell_type": "code",
      "execution_count": 17,
      "metadata": {},
      "outputs": [
        {
          "data": {
            "text/plain": [
              "<seaborn.axisgrid.PairGrid at 0x1a473249070>"
            ]
          },
          "execution_count": 17,
          "metadata": {},
          "output_type": "execute_result"
        },
        {
          "data": {
            "image/png": "[encoded data removed]",
            "text/plain": [
              "<Figure size 360x360 with 6 Axes>"
            ]
          },
          "metadata": {},
          "output_type": "display_data"
        }
      ],
      "source": [
        "sns.pairplot(df)"
      ]
    },
    {
      "cell_type": "code",
      "execution_count": 18,
      "metadata": {},
      "outputs": [
        {
          "data": {
            "text/plain": [
              "<AxesSubplot:>"
            ]
          },
          "execution_count": 18,
          "metadata": {},
          "output_type": "execute_result"
        },
        {
          "data": {
            "image/png": "[encoded data removed]",
            "text/plain": [
              "<Figure size 504x504 with 1 Axes>"
            ]
          },
          "metadata": {},
          "output_type": "display_data"
        }
      ],
      "source": [
        "plt.figure(figsize=(7, 7))\n",
        "corr = np.corrcoef(df.values, rowvar=False)\n",
        "sns.heatmap(corr, annot=True, cmap='Blues', fmt='.2f', cbar=False, xticklabels=df.columns, yticklabels=df.columns)"
      ]
    },
    {
      "cell_type": "markdown",
      "metadata": {},
      "source": [
        "Hierarchical clustering (tree clustering - dendrogram)"
      ]
    },
    {
      "cell_type": "code",
      "execution_count": 19,
      "metadata": {},
      "outputs": [],
      "source": [
        "# Leaving only the NR column to perform cluster analysis\n",
        "#df = df.drop('NR', 1) \n",
        "df = df.drop('Loss', 1)"
      ]
    },
    {
      "cell_type": "code",
      "execution_count": 20,
      "metadata": {},
      "outputs": [],
      "source": [
        "df_scaled = df.copy()\n",
        "df_scaled.iloc[:, :] = StandardScaler().fit_transform(df)"
      ]
    },
    {
      "cell_type": "code",
      "execution_count": 21,
      "metadata": {},
      "outputs": [
        {
          "data": {
            "image/png": "[encoded data removed]",
            "text/plain": [
              "<Figure size 1584x720 with 1 Axes>"
            ]
          },
          "metadata": {},
          "output_type": "display_data"
        }
      ],
      "source": [
        "Z = hierarchy.linkage(df_scaled, 'ward') #complete or ward\n",
        "plt.figure(figsize=(22, 10))\n",
        "plt.grid(axis='y')\n",
        "dn = hierarchy.dendrogram(Z, labels=list(df.index), leaf_font_size=8)"
      ]
    },
    {
      "cell_type": "code",
      "execution_count": 22,
      "metadata": {},
      "outputs": [],
      "source": [
        "n_clusters = 3\n",
        "cluster = AgglomerativeClustering(n_clusters=n_clusters, affinity='euclidean', linkage='ward')\n",
        "df_scaled['cluster_agglomerative'] = cluster.fit_predict(df_scaled)"
      ]
    },
    {
      "cell_type": "code",
      "execution_count": 23,
      "metadata": {},
      "outputs": [
        {
          "data": {
            "text/html": [
              "<div>\n",
              "<style scoped>\n",
              "    .dataframe tbody tr th:only-of-type {\n",
              "        vertical-align: middle;\n",
              "    }\n",
              "\n",
              "    .dataframe tbody tr th {\n",
              "        vertical-align: top;\n",
              "    }\n",
              "\n",
              "    .dataframe thead tr th {\n",
              "        text-align: left;\n",
              "    }\n",
              "\n",
              "    .dataframe thead tr:last-of-type th {\n",
              "        text-align: right;\n",
              "    }\n",
              "</style>\n",
              "<table border=\"1\" class=\"dataframe\">\n",
              "  <thead>\n",
              "    <tr>\n",
              "      <th></th>\n",
              "      <th colspan=\"8\" halign=\"left\">NR</th>\n",
              "    </tr>\n",
              "    <tr>\n",
              "      <th></th>\n",
              "      <th>count</th>\n",
              "      <th>mean</th>\n",
              "      <th>std</th>\n",
              "      <th>min</th>\n",
              "      <th>25%</th>\n",
              "      <th>50%</th>\n",
              "      <th>75%</th>\n",
              "      <th>max</th>\n",
              "    </tr>\n",
              "    <tr>\n",
              "      <th>cluster_agglomerative</th>\n",
              "      <th></th>\n",
              "      <th></th>\n",
              "      <th></th>\n",
              "      <th></th>\n",
              "      <th></th>\n",
              "      <th></th>\n",
              "      <th></th>\n",
              "      <th></th>\n",
              "    </tr>\n",
              "  </thead>\n",
              "  <tbody>\n",
              "    <tr>\n",
              "      <th>0</th>\n",
              "      <td>54.0</td>\n",
              "      <td>16.370370</td>\n",
              "      <td>8.080483</td>\n",
              "      <td>9.0</td>\n",
              "      <td>11.0</td>\n",
              "      <td>14.0</td>\n",
              "      <td>19.5</td>\n",
              "      <td>51.0</td>\n",
              "    </tr>\n",
              "    <tr>\n",
              "      <th>1</th>\n",
              "      <td>1.0</td>\n",
              "      <td>294.000000</td>\n",
              "      <td>NaN</td>\n",
              "      <td>294.0</td>\n",
              "      <td>294.0</td>\n",
              "      <td>294.0</td>\n",
              "      <td>294.0</td>\n",
              "      <td>294.0</td>\n",
              "    </tr>\n",
              "    <tr>\n",
              "      <th>2</th>\n",
              "      <td>245.0</td>\n",
              "      <td>3.787755</td>\n",
              "      <td>1.645863</td>\n",
              "      <td>2.0</td>\n",
              "      <td>3.0</td>\n",
              "      <td>3.0</td>\n",
              "      <td>5.0</td>\n",
              "      <td>8.0</td>\n",
              "    </tr>\n",
              "  </tbody>\n",
              "</table>\n",
              "</div>"
            ],
            "text/plain": [
              "                          NR                                             \\\n",
              "                       count        mean       std    min    25%    50%   \n",
              "cluster_agglomerative                                                     \n",
              "0                       54.0   16.370370  8.080483    9.0   11.0   14.0   \n",
              "1                        1.0  294.000000       NaN  294.0  294.0  294.0   \n",
              "2                      245.0    3.787755  1.645863    2.0    3.0    3.0   \n",
              "\n",
              "                                     \n",
              "                         75%    max  \n",
              "cluster_agglomerative                \n",
              "0                       19.5   51.0  \n",
              "1                      294.0  294.0  \n",
              "2                        5.0    8.0  "
            ]
          },
          "execution_count": 23,
          "metadata": {},
          "output_type": "execute_result"
        }
      ],
      "source": [
        "# descriptive statistics of groups\n",
        "df_groups = df.copy()\n",
        "df_groups[\"cluster_agglomerative\"] = cluster.labels_\n",
        "df_groups = df_groups.groupby(\"cluster_agglomerative\")\n",
        "df_groups.describe()"
      ]
    },
    {
      "cell_type": "code",
      "execution_count": 24,
      "metadata": {},
      "outputs": [
        {
          "name": "stdout",
          "output_type": "stream",
          "text": [
            "Cluster 0: [1131, 1155, 1211, 1248, 1424, 1435, 1548, 1585, 1674, 1733, 1848, 1903, 2010, 2024, 2030, 2033, 2041, 2084, 2103, 2110, 2179, 2197, 2276, 2288, 2313, 2337, 2363, 4017, 5582, 6242, 6251, 6543, 6575, 7346, 8245, 8454, 8681, 10447, 10560, 12982, 13552, 16634, 16795, 17003, 17950, 21014, 22625, 23872, 23902, 25981, 27472, 28177, 28634, 29209]\n",
            "\n",
            "Cluster 1: [11676]\n",
            "\n",
            "Cluster 2: [254, 638, 882, 929, 1161, 1167, 1178, 1184, 1192, 1214, 1219, 1249, 1254, 1261, 1262, 1279, 1294, 1297, 1331, 1348, 1368, 1372, 1376, 1399, 1409, 1412, 1436, 1466, 1467, 1485, 1499, 1517, 1535, 1554, 1558, 1596, 1597, 1608, 1652, 1660, 1688, 1706, 1719, 1725, 1790, 1791, 1805, 1812, 1830, 1838, 1863, 1869, 1881, 1891, 1898, 1901, 1923, 1928, 1990, 2009, 2012, 2090, 2106, 2139, 2152, 2189, 2255, 2287, 2295, 2358, 2385, 2399, 2411, 2437, 2439, 2461, 2466, 2552, 2559, 2589, 2630, 2651, 2719, 2766, 2799, 2891, 2977, 3145, 3167, 3363, 3371, 3373, 3719, 3827, 3917, 4157, 4197, 4221, 4334, 4622, 4785, 4795, 4938, 5027, 5037, 5163, 5225, 5385, 5783, 5899, 5903, 6073, 6074, 6102, 6115, 6323, 6345, 6347, 6532, 6563, 6611, 6689, 6772, 6789, 7125, 7158, 7283, 7286, 7620, 7809, 7841, 7864, 7887, 7915, 7994, 8066, 8067, 8187, 8188, 8234, 8253, 8680, 8734, 8870, 8872, 8890, 8930, 8935, 8936, 8937, 9094, 9177, 9226, 9856, 9908, 10314, 10819, 11224, 11245, 11657, 11718, 11724, 11788, 11944, 12100, 12154, 12489, 12784, 13273, 13518, 13551, 13582, 13664, 13666, 13850, 13935, 14422, 14456, 14744, 14768, 15049, 15408, 15418, 15602, 15834, 15957, 16246, 16504, 16599, 16718, 16916, 17859, 18082, 18203, 19233, 19493, 19664, 19711, 20060, 20106, 20172, 20180, 20462, 20680, 21011, 21031, 21356, 21364, 21404, 21484, 21576, 21659, 22074, 22094, 22252, 22936, 23547, 23571, 23768, 23933, 24186, 24194, 25131, 25395, 25409, 25410, 25601, 25919, 25966, 26057, 26240, 26371, 26517, 26535, 26538, 26620, 26621, 26883, 27091, 27740, 28204, 28594, 28647, 29259, 29526]\n",
            "\n"
          ]
        }
      ],
      "source": [
        "\n",
        "users = list(df_scaled.index)\n",
        "groups = df_scaled['cluster_agglomerative']\n",
        "\n",
        "grouped_users = {i: [] for i in range(n_clusters)}\n",
        "for user, group in zip(users, groups):\n",
        "    grouped_users[group].append(user)\n",
        "\n",
        "for gp, ctr in grouped_users.items():\n",
        "    print(f'Cluster {gp}: {ctr}\\n')"
      ]
    },
    {
      "cell_type": "markdown",
      "metadata": {},
      "source": [
        "Non-hierarchical grouping (K-means)"
      ]
    },
    {
      "cell_type": "code",
      "execution_count": 25,
      "metadata": {},
      "outputs": [
        {
          "data": {
            "image/png": "[encoded data removed]",
            "text/plain": [
              "<Figure size 576x432 with 1 Axes>"
            ]
          },
          "metadata": {},
          "output_type": "display_data"
        }
      ],
      "source": [
        "inertias = []\n",
        "for k in np.arange(1, 10):\n",
        "    kmeans = KMeans(n_clusters=k)\n",
        "    kmeans.fit(df)\n",
        "    inertias.append(kmeans.inertia_)\n",
        "\n",
        "# plotting the elbow method graph\n",
        "plt.figure(figsize=(8, 6))\n",
        "plt.plot(np.arange(1, 10), inertias, '-o')\n",
        "plt.xlabel('Number of clusters')\n",
        "plt.ylabel('Inertia');"
      ]
    },
    {
      "cell_type": "code",
      "execution_count": 26,
      "metadata": {},
      "outputs": [],
      "source": [
        "n_clusters = 3\n",
        "kmeans = KMeans(n_clusters=n_clusters)\n",
        "df_scaled['cluster_kmeans'] = kmeans.fit_predict(df_scaled)"
      ]
    },
    {
      "cell_type": "code",
      "execution_count": 27,
      "metadata": {},
      "outputs": [
        {
          "data": {
            "text/html": [
              "<div>\n",
              "<style scoped>\n",
              "    .dataframe tbody tr th:only-of-type {\n",
              "        vertical-align: middle;\n",
              "    }\n",
              "\n",
              "    .dataframe tbody tr th {\n",
              "        vertical-align: top;\n",
              "    }\n",
              "\n",
              "    .dataframe thead th {\n",
              "        text-align: right;\n",
              "    }\n",
              "</style>\n",
              "<table border=\"1\" class=\"dataframe\">\n",
              "  <thead>\n",
              "    <tr style=\"text-align: right;\">\n",
              "      <th></th>\n",
              "      <th>NR</th>\n",
              "      <th>cluster_agglomerative</th>\n",
              "      <th>cluster_kmeans</th>\n",
              "    </tr>\n",
              "  </thead>\n",
              "  <tbody>\n",
              "    <tr>\n",
              "      <th>254</th>\n",
              "      <td>-0.170828</td>\n",
              "      <td>2</td>\n",
              "      <td>0</td>\n",
              "    </tr>\n",
              "    <tr>\n",
              "      <th>638</th>\n",
              "      <td>-0.114262</td>\n",
              "      <td>2</td>\n",
              "      <td>0</td>\n",
              "    </tr>\n",
              "    <tr>\n",
              "      <th>882</th>\n",
              "      <td>-0.114262</td>\n",
              "      <td>2</td>\n",
              "      <td>0</td>\n",
              "    </tr>\n",
              "    <tr>\n",
              "      <th>929</th>\n",
              "      <td>-0.283959</td>\n",
              "      <td>2</td>\n",
              "      <td>0</td>\n",
              "    </tr>\n",
              "    <tr>\n",
              "      <th>1131</th>\n",
              "      <td>0.734221</td>\n",
              "      <td>0</td>\n",
              "      <td>2</td>\n",
              "    </tr>\n",
              "    <tr>\n",
              "      <th>...</th>\n",
              "      <td>...</td>\n",
              "      <td>...</td>\n",
              "      <td>...</td>\n",
              "    </tr>\n",
              "    <tr>\n",
              "      <th>28634</th>\n",
              "      <td>0.338262</td>\n",
              "      <td>0</td>\n",
              "      <td>2</td>\n",
              "    </tr>\n",
              "    <tr>\n",
              "      <th>28647</th>\n",
              "      <td>-0.227394</td>\n",
              "      <td>2</td>\n",
              "      <td>0</td>\n",
              "    </tr>\n",
              "    <tr>\n",
              "      <th>29209</th>\n",
              "      <td>0.112000</td>\n",
              "      <td>0</td>\n",
              "      <td>2</td>\n",
              "    </tr>\n",
              "    <tr>\n",
              "      <th>29259</th>\n",
              "      <td>-0.114262</td>\n",
              "      <td>2</td>\n",
              "      <td>0</td>\n",
              "    </tr>\n",
              "    <tr>\n",
              "      <th>29526</th>\n",
              "      <td>-0.001131</td>\n",
              "      <td>2</td>\n",
              "      <td>0</td>\n",
              "    </tr>\n",
              "  </tbody>\n",
              "</table>\n",
              "<p>300 rows × 3 columns</p>\n",
              "</div>"
            ],
            "text/plain": [
              "             NR  cluster_agglomerative  cluster_kmeans\n",
              "254   -0.170828                      2               0\n",
              "638   -0.114262                      2               0\n",
              "882   -0.114262                      2               0\n",
              "929   -0.283959                      2               0\n",
              "1131   0.734221                      0               2\n",
              "...         ...                    ...             ...\n",
              "28634  0.338262                      0               2\n",
              "28647 -0.227394                      2               0\n",
              "29209  0.112000                      0               2\n",
              "29259 -0.114262                      2               0\n",
              "29526 -0.001131                      2               0\n",
              "\n",
              "[300 rows x 3 columns]"
            ]
          },
          "execution_count": 27,
          "metadata": {},
          "output_type": "execute_result"
        }
      ],
      "source": [
        "df_scaled"
      ]
    },
    {
      "cell_type": "code",
      "execution_count": 28,
      "metadata": {},
      "outputs": [
        {
          "name": "stdout",
          "output_type": "stream",
          "text": [
            "Cluster 0: [1131, 1155, 1211, 1248, 1424, 1435, 1548, 1585, 1674, 1733, 1848, 1903, 2010, 2024, 2030, 2033, 2041, 2084, 2103, 2110, 2179, 2197, 2276, 2288, 2313, 2337, 2363, 4017, 5582, 6242, 6251, 6543, 6575, 7346, 8245, 8454, 8681, 10447, 10560, 12982, 13552, 16634, 16795, 17003, 17950, 21014, 22625, 23872, 23902, 25981, 27472, 28177, 28634, 29209]\n",
            "\n",
            "Cluster 1: [11676]\n",
            "\n",
            "Cluster 2: [254, 638, 882, 929, 1161, 1167, 1178, 1184, 1192, 1214, 1219, 1249, 1254, 1261, 1262, 1279, 1294, 1297, 1331, 1348, 1368, 1372, 1376, 1399, 1409, 1412, 1436, 1466, 1467, 1485, 1499, 1517, 1535, 1554, 1558, 1596, 1597, 1608, 1652, 1660, 1688, 1706, 1719, 1725, 1790, 1791, 1805, 1812, 1830, 1838, 1863, 1869, 1881, 1891, 1898, 1901, 1923, 1928, 1990, 2009, 2012, 2090, 2106, 2139, 2152, 2189, 2255, 2287, 2295, 2358, 2385, 2399, 2411, 2437, 2439, 2461, 2466, 2552, 2559, 2589, 2630, 2651, 2719, 2766, 2799, 2891, 2977, 3145, 3167, 3363, 3371, 3373, 3719, 3827, 3917, 4157, 4197, 4221, 4334, 4622, 4785, 4795, 4938, 5027, 5037, 5163, 5225, 5385, 5783, 5899, 5903, 6073, 6074, 6102, 6115, 6323, 6345, 6347, 6532, 6563, 6611, 6689, 6772, 6789, 7125, 7158, 7283, 7286, 7620, 7809, 7841, 7864, 7887, 7915, 7994, 8066, 8067, 8187, 8188, 8234, 8253, 8680, 8734, 8870, 8872, 8890, 8930, 8935, 8936, 8937, 9094, 9177, 9226, 9856, 9908, 10314, 10819, 11224, 11245, 11657, 11718, 11724, 11788, 11944, 12100, 12154, 12489, 12784, 13273, 13518, 13551, 13582, 13664, 13666, 13850, 13935, 14422, 14456, 14744, 14768, 15049, 15408, 15418, 15602, 15834, 15957, 16246, 16504, 16599, 16718, 16916, 17859, 18082, 18203, 19233, 19493, 19664, 19711, 20060, 20106, 20172, 20180, 20462, 20680, 21011, 21031, 21356, 21364, 21404, 21484, 21576, 21659, 22074, 22094, 22252, 22936, 23547, 23571, 23768, 23933, 24186, 24194, 25131, 25395, 25409, 25410, 25601, 25919, 25966, 26057, 26240, 26371, 26517, 26535, 26538, 26620, 26621, 26883, 27091, 27740, 28204, 28594, 28647, 29259, 29526]\n",
            "\n"
          ]
        }
      ],
      "source": [
        "users = list(df_scaled.index)\n",
        "groups = df_scaled['cluster_agglomerative']\n",
        "\n",
        "grouped_users = {i: [] for i in range(n_clusters)}\n",
        "\n",
        "for user, group in zip(users, groups):\n",
        "    grouped_users[group].append(user)\n",
        "\n",
        "for gp, ctr in grouped_users.items():\n",
        "    print(f'Cluster {gp}: {ctr}\\n')"
      ]
    },
    {
      "cell_type": "code",
      "execution_count": 29,
      "metadata": {},
      "outputs": [
        {
          "data": {
            "image/png": "[encoded data removed]",
            "text/plain": [
              "<Figure size 2160x720 with 1 Axes>"
            ]
          },
          "metadata": {},
          "output_type": "display_data"
        }
      ],
      "source": [
        "# visualising the clusters (Loss x NR)\n",
        "df['Loss'] = losses\n",
        "X2 = df[['Loss' , 'NR']].iloc[: , :].values\n",
        "\n",
        "plt.figure( figsize=(30, 10))\n",
        "#plt.xticks([-0.5,-0.25,0,0.25, 0.5, 0.75, 1, 1.25, 1.5, 1.75, 2, 2.25, 2.5]) # change x-axis scale\n",
        "plt.yticks([0,10,20,30,40,50]) # change y-axis scale\n",
        "\n",
        "plt.scatter(X2[groups == 0, 0], X2[groups == 0, 1], s = 100, c = 'red', label = 'Cluster 1')\n",
        "plt.scatter(X2[groups == 1, 0], X2[groups == 1, 1], s = 100, c = 'blue', label = 'Cluster 2')\n",
        "plt.scatter(X2[groups == 2, 0], X2[groups == 2, 1], s = 100, c = 'green', label = 'Cluster 3')\n",
        "plt.title('Clusters')\n",
        "plt.xlabel('Loss')\n",
        "plt.ylabel('NR')\n",
        "plt.legend()\n",
        "plt.show()"
      ]
    },
    {
      "cell_type": "code",
      "execution_count": 30,
      "metadata": {},
      "outputs": [
        {
          "name": "stdout",
          "output_type": "stream",
          "text": [
            "davies_bouldin_score:  0.09688004735545046\n",
            "silhouette_score:  0.9429552632254805\n"
          ]
        }
      ],
      "source": [
        "# clustering performance evaluation\n",
        "from sklearn.metrics import davies_bouldin_score\n",
        "print('davies_bouldin_score: ', davies_bouldin_score(df_scaled, kmeans.labels_))\n",
        "\n",
        "from sklearn.metrics import silhouette_score\n",
        "print('silhouette_score: ', silhouette_score(df_scaled, kmeans.labels_, metric='euclidean'))"
      ]
    },
    {
      "cell_type": "code",
      "execution_count": 31,
      "metadata": {},
      "outputs": [
        {
          "ename": "KeyError",
          "evalue": "'[2036, 2046, 2132, 2134, 2135, 2136, 2222, 2238, 2281, 2296, 2326, 2333, 2349, 2354, 2389, 2404, 2406, 2415, 2462, 2470, 2481, 2545, 2549, 2597, 2622, 2644, 2653, 2678, 2688, 13080, 16966] not in index'",
          "output_type": "error",
          "traceback": [
            "\u001b[1;31m---------------------------------------------------------------------------\u001b[0m",
            "\u001b[1;31mKeyError\u001b[0m                                  Traceback (most recent call last)",
            "\u001b[1;32m~\\AppData\\Local\\Temp/ipykernel_1640/1253495292.py\u001b[0m in \u001b[0;36m<module>\u001b[1;34m\u001b[0m\n\u001b[0;32m      4\u001b[0m \u001b[0mG\u001b[0m \u001b[1;33m=\u001b[0m \u001b[1;33m{\u001b[0m\u001b[1;36m1\u001b[0m\u001b[1;33m:\u001b[0m \u001b[1;33m[\u001b[0m\u001b[1;36m1131\u001b[0m\u001b[1;33m,\u001b[0m \u001b[1;36m1211\u001b[0m\u001b[1;33m,\u001b[0m \u001b[1;36m1248\u001b[0m\u001b[1;33m,\u001b[0m \u001b[1;36m1424\u001b[0m\u001b[1;33m,\u001b[0m \u001b[1;36m1435\u001b[0m\u001b[1;33m,\u001b[0m \u001b[1;36m1548\u001b[0m\u001b[1;33m,\u001b[0m \u001b[1;36m1585\u001b[0m\u001b[1;33m,\u001b[0m \u001b[1;36m1674\u001b[0m\u001b[1;33m,\u001b[0m \u001b[1;36m1733\u001b[0m\u001b[1;33m,\u001b[0m \u001b[1;36m1848\u001b[0m\u001b[1;33m,\u001b[0m \u001b[1;36m1903\u001b[0m\u001b[1;33m,\u001b[0m \u001b[1;36m2024\u001b[0m\u001b[1;33m,\u001b[0m \u001b[1;36m2030\u001b[0m\u001b[1;33m,\u001b[0m \u001b[1;36m2033\u001b[0m\u001b[1;33m,\u001b[0m \u001b[1;36m2103\u001b[0m\u001b[1;33m,\u001b[0m \u001b[1;36m2110\u001b[0m\u001b[1;33m,\u001b[0m \u001b[1;36m2179\u001b[0m\u001b[1;33m,\u001b[0m \u001b[1;36m2288\u001b[0m\u001b[1;33m,\u001b[0m \u001b[1;36m2313\u001b[0m\u001b[1;33m,\u001b[0m \u001b[1;36m2337\u001b[0m\u001b[1;33m,\u001b[0m \u001b[1;36m2363\u001b[0m\u001b[1;33m,\u001b[0m \u001b[1;36m4017\u001b[0m\u001b[1;33m,\u001b[0m \u001b[1;36m6242\u001b[0m\u001b[1;33m,\u001b[0m \u001b[1;36m6251\u001b[0m\u001b[1;33m,\u001b[0m \u001b[1;36m6543\u001b[0m\u001b[1;33m,\u001b[0m \u001b[1;36m6575\u001b[0m\u001b[1;33m,\u001b[0m \u001b[1;36m7346\u001b[0m\u001b[1;33m,\u001b[0m \u001b[1;36m8454\u001b[0m\u001b[1;33m,\u001b[0m \u001b[1;36m13552\u001b[0m\u001b[1;33m,\u001b[0m \u001b[1;36m16795\u001b[0m\u001b[1;33m,\u001b[0m \u001b[1;36m21014\u001b[0m\u001b[1;33m,\u001b[0m \u001b[1;36m23872\u001b[0m\u001b[1;33m,\u001b[0m \u001b[1;36m23902\u001b[0m\u001b[1;33m,\u001b[0m \u001b[1;36m25981\u001b[0m\u001b[1;33m,\u001b[0m \u001b[1;36m28177\u001b[0m\u001b[1;33m,\u001b[0m \u001b[1;36m28634\u001b[0m\u001b[1;33m]\u001b[0m\u001b[1;33m,\u001b[0m \u001b[1;36m2\u001b[0m\u001b[1;33m:\u001b[0m \u001b[1;33m[\u001b[0m\u001b[1;36m11676\u001b[0m\u001b[1;33m]\u001b[0m\u001b[1;33m,\u001b[0m \u001b[1;36m3\u001b[0m\u001b[1;33m:\u001b[0m \u001b[1;33m[\u001b[0m\u001b[1;36m254\u001b[0m\u001b[1;33m,\u001b[0m \u001b[1;36m638\u001b[0m\u001b[1;33m,\u001b[0m \u001b[1;36m882\u001b[0m\u001b[1;33m,\u001b[0m \u001b[1;36m929\u001b[0m\u001b[1;33m,\u001b[0m \u001b[1;36m1155\u001b[0m\u001b[1;33m,\u001b[0m \u001b[1;36m1161\u001b[0m\u001b[1;33m,\u001b[0m \u001b[1;36m1167\u001b[0m\u001b[1;33m,\u001b[0m \u001b[1;36m1178\u001b[0m\u001b[1;33m,\u001b[0m \u001b[1;36m1184\u001b[0m\u001b[1;33m,\u001b[0m \u001b[1;36m1192\u001b[0m\u001b[1;33m,\u001b[0m \u001b[1;36m1214\u001b[0m\u001b[1;33m,\u001b[0m \u001b[1;36m1219\u001b[0m\u001b[1;33m,\u001b[0m \u001b[1;36m1249\u001b[0m\u001b[1;33m,\u001b[0m \u001b[1;36m1254\u001b[0m\u001b[1;33m,\u001b[0m \u001b[1;36m1261\u001b[0m\u001b[1;33m,\u001b[0m \u001b[1;36m1262\u001b[0m\u001b[1;33m,\u001b[0m \u001b[1;36m1279\u001b[0m\u001b[1;33m,\u001b[0m \u001b[1;36m1294\u001b[0m\u001b[1;33m,\u001b[0m \u001b[1;36m1297\u001b[0m\u001b[1;33m,\u001b[0m \u001b[1;36m1331\u001b[0m\u001b[1;33m,\u001b[0m \u001b[1;36m1348\u001b[0m\u001b[1;33m,\u001b[0m \u001b[1;36m1368\u001b[0m\u001b[1;33m,\u001b[0m \u001b[1;36m1372\u001b[0m\u001b[1;33m,\u001b[0m \u001b[1;36m1376\u001b[0m\u001b[1;33m,\u001b[0m \u001b[1;36m1399\u001b[0m\u001b[1;33m,\u001b[0m \u001b[1;36m1409\u001b[0m\u001b[1;33m,\u001b[0m \u001b[1;36m1412\u001b[0m\u001b[1;33m,\u001b[0m \u001b[1;36m1436\u001b[0m\u001b[1;33m,\u001b[0m \u001b[1;36m1466\u001b[0m\u001b[1;33m,\u001b[0m \u001b[1;36m1467\u001b[0m\u001b[1;33m,\u001b[0m \u001b[1;36m1485\u001b[0m\u001b[1;33m,\u001b[0m \u001b[1;36m1499\u001b[0m\u001b[1;33m,\u001b[0m \u001b[1;36m1517\u001b[0m\u001b[1;33m,\u001b[0m \u001b[1;36m1535\u001b[0m\u001b[1;33m,\u001b[0m \u001b[1;36m1554\u001b[0m\u001b[1;33m,\u001b[0m \u001b[1;36m1558\u001b[0m\u001b[1;33m,\u001b[0m \u001b[1;36m1596\u001b[0m\u001b[1;33m,\u001b[0m \u001b[1;36m1597\u001b[0m\u001b[1;33m,\u001b[0m \u001b[1;36m1608\u001b[0m\u001b[1;33m,\u001b[0m \u001b[1;36m1652\u001b[0m\u001b[1;33m,\u001b[0m \u001b[1;36m1660\u001b[0m\u001b[1;33m,\u001b[0m \u001b[1;36m1688\u001b[0m\u001b[1;33m,\u001b[0m \u001b[1;36m1706\u001b[0m\u001b[1;33m,\u001b[0m \u001b[1;36m1719\u001b[0m\u001b[1;33m,\u001b[0m \u001b[1;36m1725\u001b[0m\u001b[1;33m,\u001b[0m \u001b[1;36m1790\u001b[0m\u001b[1;33m,\u001b[0m \u001b[1;36m1791\u001b[0m\u001b[1;33m,\u001b[0m \u001b[1;36m1805\u001b[0m\u001b[1;33m,\u001b[0m \u001b[1;36m1812\u001b[0m\u001b[1;33m,\u001b[0m \u001b[1;36m1830\u001b[0m\u001b[1;33m,\u001b[0m \u001b[1;36m1838\u001b[0m\u001b[1;33m,\u001b[0m \u001b[1;36m1863\u001b[0m\u001b[1;33m,\u001b[0m \u001b[1;36m1869\u001b[0m\u001b[1;33m,\u001b[0m \u001b[1;36m1881\u001b[0m\u001b[1;33m,\u001b[0m \u001b[1;36m1891\u001b[0m\u001b[1;33m,\u001b[0m \u001b[1;36m1898\u001b[0m\u001b[1;33m,\u001b[0m \u001b[1;36m1901\u001b[0m\u001b[1;33m,\u001b[0m \u001b[1;36m1923\u001b[0m\u001b[1;33m,\u001b[0m \u001b[1;36m1928\u001b[0m\u001b[1;33m,\u001b[0m \u001b[1;36m1990\u001b[0m\u001b[1;33m,\u001b[0m \u001b[1;36m2009\u001b[0m\u001b[1;33m,\u001b[0m \u001b[1;36m2010\u001b[0m\u001b[1;33m,\u001b[0m \u001b[1;36m2012\u001b[0m\u001b[1;33m,\u001b[0m \u001b[1;36m2036\u001b[0m\u001b[1;33m,\u001b[0m \u001b[1;36m2041\u001b[0m\u001b[1;33m,\u001b[0m \u001b[1;36m2046\u001b[0m\u001b[1;33m,\u001b[0m \u001b[1;36m2084\u001b[0m\u001b[1;33m,\u001b[0m \u001b[1;36m2090\u001b[0m\u001b[1;33m,\u001b[0m \u001b[1;36m2106\u001b[0m\u001b[1;33m,\u001b[0m \u001b[1;36m2132\u001b[0m\u001b[1;33m,\u001b[0m \u001b[1;36m2134\u001b[0m\u001b[1;33m,\u001b[0m \u001b[1;36m2135\u001b[0m\u001b[1;33m,\u001b[0m \u001b[1;36m2136\u001b[0m\u001b[1;33m,\u001b[0m \u001b[1;36m2139\u001b[0m\u001b[1;33m,\u001b[0m \u001b[1;36m2152\u001b[0m\u001b[1;33m,\u001b[0m \u001b[1;36m2189\u001b[0m\u001b[1;33m,\u001b[0m \u001b[1;36m2197\u001b[0m\u001b[1;33m,\u001b[0m \u001b[1;36m2222\u001b[0m\u001b[1;33m,\u001b[0m \u001b[1;36m2238\u001b[0m\u001b[1;33m,\u001b[0m \u001b[1;36m2255\u001b[0m\u001b[1;33m,\u001b[0m \u001b[1;36m2276\u001b[0m\u001b[1;33m,\u001b[0m \u001b[1;36m2281\u001b[0m\u001b[1;33m,\u001b[0m \u001b[1;36m2287\u001b[0m\u001b[1;33m,\u001b[0m \u001b[1;36m2295\u001b[0m\u001b[1;33m,\u001b[0m \u001b[1;36m2296\u001b[0m\u001b[1;33m,\u001b[0m \u001b[1;36m2326\u001b[0m\u001b[1;33m,\u001b[0m \u001b[1;36m2333\u001b[0m\u001b[1;33m,\u001b[0m \u001b[1;36m2349\u001b[0m\u001b[1;33m,\u001b[0m \u001b[1;36m2354\u001b[0m\u001b[1;33m,\u001b[0m \u001b[1;36m2358\u001b[0m\u001b[1;33m,\u001b[0m \u001b[1;36m2385\u001b[0m\u001b[1;33m,\u001b[0m \u001b[1;36m2389\u001b[0m\u001b[1;33m,\u001b[0m \u001b[1;36m2399\u001b[0m\u001b[1;33m,\u001b[0m \u001b[1;36m2404\u001b[0m\u001b[1;33m,\u001b[0m \u001b[1;36m2406\u001b[0m\u001b[1;33m,\u001b[0m \u001b[1;36m2411\u001b[0m\u001b[1;33m,\u001b[0m \u001b[1;36m2415\u001b[0m\u001b[1;33m,\u001b[0m \u001b[1;36m2437\u001b[0m\u001b[1;33m,\u001b[0m \u001b[1;36m2439\u001b[0m\u001b[1;33m,\u001b[0m \u001b[1;36m2461\u001b[0m\u001b[1;33m,\u001b[0m \u001b[1;36m2462\u001b[0m\u001b[1;33m,\u001b[0m \u001b[1;36m2466\u001b[0m\u001b[1;33m,\u001b[0m \u001b[1;36m2470\u001b[0m\u001b[1;33m,\u001b[0m \u001b[1;36m2481\u001b[0m\u001b[1;33m,\u001b[0m \u001b[1;36m2545\u001b[0m\u001b[1;33m,\u001b[0m \u001b[1;36m2549\u001b[0m\u001b[1;33m,\u001b[0m \u001b[1;36m2552\u001b[0m\u001b[1;33m,\u001b[0m \u001b[1;36m2559\u001b[0m\u001b[1;33m,\u001b[0m \u001b[1;36m2589\u001b[0m\u001b[1;33m,\u001b[0m \u001b[1;36m2597\u001b[0m\u001b[1;33m,\u001b[0m \u001b[1;36m2622\u001b[0m\u001b[1;33m,\u001b[0m \u001b[1;36m2630\u001b[0m\u001b[1;33m,\u001b[0m \u001b[1;36m2644\u001b[0m\u001b[1;33m,\u001b[0m \u001b[1;36m2651\u001b[0m\u001b[1;33m,\u001b[0m \u001b[1;36m2653\u001b[0m\u001b[1;33m,\u001b[0m \u001b[1;36m2678\u001b[0m\u001b[1;33m,\u001b[0m \u001b[1;36m2688\u001b[0m\u001b[1;33m,\u001b[0m \u001b[1;36m2719\u001b[0m\u001b[1;33m,\u001b[0m \u001b[1;36m2766\u001b[0m\u001b[1;33m,\u001b[0m \u001b[1;36m2891\u001b[0m\u001b[1;33m,\u001b[0m \u001b[1;36m2977\u001b[0m\u001b[1;33m,\u001b[0m \u001b[1;36m3145\u001b[0m\u001b[1;33m,\u001b[0m \u001b[1;36m3167\u001b[0m\u001b[1;33m,\u001b[0m \u001b[1;36m3363\u001b[0m\u001b[1;33m,\u001b[0m \u001b[1;36m3371\u001b[0m\u001b[1;33m,\u001b[0m \u001b[1;36m3373\u001b[0m\u001b[1;33m,\u001b[0m \u001b[1;36m3827\u001b[0m\u001b[1;33m,\u001b[0m \u001b[1;36m4221\u001b[0m\u001b[1;33m,\u001b[0m \u001b[1;36m4785\u001b[0m\u001b[1;33m,\u001b[0m \u001b[1;36m4795\u001b[0m\u001b[1;33m,\u001b[0m \u001b[1;36m4938\u001b[0m\u001b[1;33m,\u001b[0m \u001b[1;36m5027\u001b[0m\u001b[1;33m,\u001b[0m \u001b[1;36m5037\u001b[0m\u001b[1;33m,\u001b[0m \u001b[1;36m5582\u001b[0m\u001b[1;33m,\u001b[0m \u001b[1;36m5899\u001b[0m\u001b[1;33m,\u001b[0m \u001b[1;36m5903\u001b[0m\u001b[1;33m,\u001b[0m \u001b[1;36m6073\u001b[0m\u001b[1;33m,\u001b[0m \u001b[1;36m6115\u001b[0m\u001b[1;33m,\u001b[0m \u001b[1;36m6323\u001b[0m\u001b[1;33m,\u001b[0m \u001b[1;36m6532\u001b[0m\u001b[1;33m,\u001b[0m \u001b[1;36m6563\u001b[0m\u001b[1;33m,\u001b[0m \u001b[1;36m6772\u001b[0m\u001b[1;33m,\u001b[0m \u001b[1;36m6789\u001b[0m\u001b[1;33m,\u001b[0m \u001b[1;36m7125\u001b[0m\u001b[1;33m,\u001b[0m \u001b[1;36m7158\u001b[0m\u001b[1;33m,\u001b[0m \u001b[1;36m7283\u001b[0m\u001b[1;33m,\u001b[0m \u001b[1;36m7286\u001b[0m\u001b[1;33m,\u001b[0m \u001b[1;36m7841\u001b[0m\u001b[1;33m,\u001b[0m \u001b[1;36m7915\u001b[0m\u001b[1;33m,\u001b[0m \u001b[1;36m8066\u001b[0m\u001b[1;33m,\u001b[0m \u001b[1;36m8067\u001b[0m\u001b[1;33m,\u001b[0m \u001b[1;36m8187\u001b[0m\u001b[1;33m,\u001b[0m \u001b[1;36m8245\u001b[0m\u001b[1;33m,\u001b[0m \u001b[1;36m8253\u001b[0m\u001b[1;33m,\u001b[0m \u001b[1;36m8680\u001b[0m\u001b[1;33m,\u001b[0m \u001b[1;36m8681\u001b[0m\u001b[1;33m,\u001b[0m \u001b[1;36m8734\u001b[0m\u001b[1;33m,\u001b[0m \u001b[1;36m8930\u001b[0m\u001b[1;33m,\u001b[0m \u001b[1;36m9177\u001b[0m\u001b[1;33m,\u001b[0m \u001b[1;36m9226\u001b[0m\u001b[1;33m,\u001b[0m \u001b[1;36m9856\u001b[0m\u001b[1;33m,\u001b[0m \u001b[1;36m9908\u001b[0m\u001b[1;33m,\u001b[0m \u001b[1;36m10314\u001b[0m\u001b[1;33m,\u001b[0m \u001b[1;36m10447\u001b[0m\u001b[1;33m,\u001b[0m \u001b[1;36m10560\u001b[0m\u001b[1;33m,\u001b[0m \u001b[1;36m10819\u001b[0m\u001b[1;33m,\u001b[0m \u001b[1;36m11224\u001b[0m\u001b[1;33m,\u001b[0m \u001b[1;36m11245\u001b[0m\u001b[1;33m,\u001b[0m \u001b[1;36m11657\u001b[0m\u001b[1;33m,\u001b[0m \u001b[1;36m11718\u001b[0m\u001b[1;33m,\u001b[0m \u001b[1;36m11724\u001b[0m\u001b[1;33m,\u001b[0m \u001b[1;36m11788\u001b[0m\u001b[1;33m,\u001b[0m \u001b[1;36m11944\u001b[0m\u001b[1;33m,\u001b[0m \u001b[1;36m12100\u001b[0m\u001b[1;33m,\u001b[0m \u001b[1;36m12154\u001b[0m\u001b[1;33m,\u001b[0m \u001b[1;36m12489\u001b[0m\u001b[1;33m,\u001b[0m \u001b[1;36m12784\u001b[0m\u001b[1;33m,\u001b[0m \u001b[1;36m12982\u001b[0m\u001b[1;33m,\u001b[0m \u001b[1;36m13080\u001b[0m\u001b[1;33m,\u001b[0m \u001b[1;36m13273\u001b[0m\u001b[1;33m,\u001b[0m \u001b[1;36m13518\u001b[0m\u001b[1;33m,\u001b[0m \u001b[1;36m13551\u001b[0m\u001b[1;33m,\u001b[0m \u001b[1;36m13582\u001b[0m\u001b[1;33m,\u001b[0m \u001b[1;36m13664\u001b[0m\u001b[1;33m,\u001b[0m \u001b[1;36m13666\u001b[0m\u001b[1;33m,\u001b[0m \u001b[1;36m13850\u001b[0m\u001b[1;33m,\u001b[0m \u001b[1;36m13935\u001b[0m\u001b[1;33m,\u001b[0m \u001b[1;36m14422\u001b[0m\u001b[1;33m,\u001b[0m \u001b[1;36m14456\u001b[0m\u001b[1;33m,\u001b[0m \u001b[1;36m14744\u001b[0m\u001b[1;33m,\u001b[0m \u001b[1;36m14768\u001b[0m\u001b[1;33m,\u001b[0m \u001b[1;36m15049\u001b[0m\u001b[1;33m,\u001b[0m \u001b[1;36m15408\u001b[0m\u001b[1;33m,\u001b[0m \u001b[1;36m15418\u001b[0m\u001b[1;33m,\u001b[0m \u001b[1;36m15602\u001b[0m\u001b[1;33m,\u001b[0m \u001b[1;36m15834\u001b[0m\u001b[1;33m,\u001b[0m \u001b[1;36m15957\u001b[0m\u001b[1;33m,\u001b[0m \u001b[1;36m16246\u001b[0m\u001b[1;33m,\u001b[0m \u001b[1;36m16504\u001b[0m\u001b[1;33m,\u001b[0m \u001b[1;36m16599\u001b[0m\u001b[1;33m,\u001b[0m \u001b[1;36m16634\u001b[0m\u001b[1;33m,\u001b[0m \u001b[1;36m16718\u001b[0m\u001b[1;33m,\u001b[0m \u001b[1;36m16916\u001b[0m\u001b[1;33m,\u001b[0m \u001b[1;36m16966\u001b[0m\u001b[1;33m,\u001b[0m \u001b[1;36m17003\u001b[0m\u001b[1;33m,\u001b[0m \u001b[1;36m17859\u001b[0m\u001b[1;33m,\u001b[0m \u001b[1;36m17950\u001b[0m\u001b[1;33m,\u001b[0m \u001b[1;36m18082\u001b[0m\u001b[1;33m,\u001b[0m \u001b[1;36m18203\u001b[0m\u001b[1;33m,\u001b[0m \u001b[1;36m19233\u001b[0m\u001b[1;33m,\u001b[0m \u001b[1;36m19493\u001b[0m\u001b[1;33m,\u001b[0m \u001b[1;36m19664\u001b[0m\u001b[1;33m,\u001b[0m \u001b[1;36m19711\u001b[0m\u001b[1;33m,\u001b[0m \u001b[1;36m20060\u001b[0m\u001b[1;33m,\u001b[0m \u001b[1;36m20106\u001b[0m\u001b[1;33m,\u001b[0m \u001b[1;36m20172\u001b[0m\u001b[1;33m,\u001b[0m \u001b[1;36m20180\u001b[0m\u001b[1;33m,\u001b[0m \u001b[1;36m20462\u001b[0m\u001b[1;33m,\u001b[0m \u001b[1;36m20680\u001b[0m\u001b[1;33m,\u001b[0m \u001b[1;36m21011\u001b[0m\u001b[1;33m,\u001b[0m \u001b[1;36m21031\u001b[0m\u001b[1;33m,\u001b[0m \u001b[1;36m21356\u001b[0m\u001b[1;33m,\u001b[0m \u001b[1;36m21364\u001b[0m\u001b[1;33m,\u001b[0m \u001b[1;36m21404\u001b[0m\u001b[1;33m,\u001b[0m \u001b[1;36m21484\u001b[0m\u001b[1;33m,\u001b[0m \u001b[1;36m21576\u001b[0m\u001b[1;33m,\u001b[0m \u001b[1;36m21659\u001b[0m\u001b[1;33m,\u001b[0m \u001b[1;36m22074\u001b[0m\u001b[1;33m,\u001b[0m \u001b[1;36m22094\u001b[0m\u001b[1;33m,\u001b[0m \u001b[1;36m22252\u001b[0m\u001b[1;33m,\u001b[0m \u001b[1;36m22625\u001b[0m\u001b[1;33m,\u001b[0m \u001b[1;36m22936\u001b[0m\u001b[1;33m,\u001b[0m \u001b[1;36m23547\u001b[0m\u001b[1;33m,\u001b[0m \u001b[1;36m23571\u001b[0m\u001b[1;33m,\u001b[0m \u001b[1;36m23768\u001b[0m\u001b[1;33m,\u001b[0m \u001b[1;36m23933\u001b[0m\u001b[1;33m,\u001b[0m \u001b[1;36m24186\u001b[0m\u001b[1;33m,\u001b[0m \u001b[1;36m24194\u001b[0m\u001b[1;33m,\u001b[0m \u001b[1;36m25131\u001b[0m\u001b[1;33m,\u001b[0m \u001b[1;36m25395\u001b[0m\u001b[1;33m,\u001b[0m \u001b[1;36m25409\u001b[0m\u001b[1;33m,\u001b[0m \u001b[1;36m25410\u001b[0m\u001b[1;33m,\u001b[0m \u001b[1;36m25601\u001b[0m\u001b[1;33m,\u001b[0m \u001b[1;36m25919\u001b[0m\u001b[1;33m,\u001b[0m \u001b[1;36m25966\u001b[0m\u001b[1;33m,\u001b[0m \u001b[1;36m26057\u001b[0m\u001b[1;33m,\u001b[0m \u001b[1;36m26240\u001b[0m\u001b[1;33m,\u001b[0m \u001b[1;36m26371\u001b[0m\u001b[1;33m,\u001b[0m \u001b[1;36m26517\u001b[0m\u001b[1;33m,\u001b[0m \u001b[1;36m26535\u001b[0m\u001b[1;33m,\u001b[0m \u001b[1;36m26538\u001b[0m\u001b[1;33m,\u001b[0m \u001b[1;36m26620\u001b[0m\u001b[1;33m,\u001b[0m \u001b[1;36m26621\u001b[0m\u001b[1;33m,\u001b[0m \u001b[1;36m26883\u001b[0m\u001b[1;33m,\u001b[0m \u001b[1;36m27091\u001b[0m\u001b[1;33m,\u001b[0m \u001b[1;36m27472\u001b[0m\u001b[1;33m,\u001b[0m \u001b[1;36m27740\u001b[0m\u001b[1;33m,\u001b[0m \u001b[1;36m28204\u001b[0m\u001b[1;33m,\u001b[0m \u001b[1;36m28594\u001b[0m\u001b[1;33m,\u001b[0m \u001b[1;36m28647\u001b[0m\u001b[1;33m,\u001b[0m \u001b[1;36m29209\u001b[0m\u001b[1;33m,\u001b[0m \u001b[1;36m29259\u001b[0m\u001b[1;33m,\u001b[0m \u001b[1;36m29526\u001b[0m\u001b[1;33m]\u001b[0m\u001b[1;33m}\u001b[0m\u001b[1;33m\u001b[0m\u001b[1;33m\u001b[0m\u001b[0m\n\u001b[0;32m      5\u001b[0m \u001b[1;33m\u001b[0m\u001b[0m\n\u001b[1;32m----> 6\u001b[1;33m \u001b[0mglv\u001b[0m \u001b[1;33m=\u001b[0m \u001b[0mGroupLossVariance\u001b[0m\u001b[1;33m(\u001b[0m\u001b[0mX\u001b[0m\u001b[1;33m,\u001b[0m \u001b[0momega\u001b[0m\u001b[1;33m,\u001b[0m \u001b[0mG\u001b[0m\u001b[1;33m,\u001b[0m \u001b[1;36m1\u001b[0m\u001b[1;33m)\u001b[0m \u001b[1;31m#axis = 1 (0 rows e 1 columns)\u001b[0m\u001b[1;33m\u001b[0m\u001b[1;33m\u001b[0m\u001b[0m\n\u001b[0m\u001b[0;32m      7\u001b[0m \u001b[0mlosses_RgrpNR\u001b[0m \u001b[1;33m=\u001b[0m \u001b[0mglv\u001b[0m\u001b[1;33m.\u001b[0m\u001b[0mget_losses\u001b[0m\u001b[1;33m(\u001b[0m\u001b[0mX_est\u001b[0m\u001b[1;33m)\u001b[0m\u001b[1;33m\u001b[0m\u001b[1;33m\u001b[0m\u001b[0m\n\u001b[0;32m      8\u001b[0m \u001b[0mRgrpNR\u001b[0m \u001b[1;33m=\u001b[0m \u001b[0mglv\u001b[0m\u001b[1;33m.\u001b[0m\u001b[0mevaluate\u001b[0m\u001b[1;33m(\u001b[0m\u001b[0mX_est\u001b[0m\u001b[1;33m)\u001b[0m\u001b[1;33m\u001b[0m\u001b[1;33m\u001b[0m\u001b[0m\n",
            "\u001b[1;32mc:\\Users\\ravar\\Documents\\GitHub\\recsys-cluster-loss\\src\\UserFairness.py\u001b[0m in \u001b[0;36m__init__\u001b[1;34m(self, X, omega, G, axis)\u001b[0m\n\u001b[0;32m     98\u001b[0m         \u001b[0mself\u001b[0m\u001b[1;33m.\u001b[0m\u001b[0momega_group\u001b[0m \u001b[1;33m=\u001b[0m \u001b[1;33m{\u001b[0m\u001b[1;33m}\u001b[0m\u001b[1;33m\u001b[0m\u001b[1;33m\u001b[0m\u001b[0m\n\u001b[0;32m     99\u001b[0m         \u001b[1;32mfor\u001b[0m \u001b[0mgroup\u001b[0m \u001b[1;32min\u001b[0m \u001b[0mself\u001b[0m\u001b[1;33m.\u001b[0m\u001b[0mG\u001b[0m\u001b[1;33m:\u001b[0m\u001b[1;33m\u001b[0m\u001b[1;33m\u001b[0m\u001b[0m\n\u001b[1;32m--> 100\u001b[1;33m             \u001b[0mself\u001b[0m\u001b[1;33m.\u001b[0m\u001b[0momega_group\u001b[0m\u001b[1;33m[\u001b[0m\u001b[0mgroup\u001b[0m\u001b[1;33m]\u001b[0m \u001b[1;33m=\u001b[0m \u001b[1;33m(\u001b[0m\u001b[1;33m~\u001b[0m\u001b[0mself\u001b[0m\u001b[1;33m.\u001b[0m\u001b[0mX\u001b[0m\u001b[1;33m.\u001b[0m\u001b[0mmask\u001b[0m\u001b[1;33m(\u001b[0m\u001b[1;33m~\u001b[0m\u001b[0mself\u001b[0m\u001b[1;33m.\u001b[0m\u001b[0momega\u001b[0m\u001b[1;33m)\u001b[0m\u001b[1;33m.\u001b[0m\u001b[0mloc\u001b[0m\u001b[1;33m[\u001b[0m\u001b[0mself\u001b[0m\u001b[1;33m.\u001b[0m\u001b[0mG\u001b[0m\u001b[1;33m[\u001b[0m\u001b[0mgroup\u001b[0m\u001b[1;33m]\u001b[0m\u001b[1;33m]\u001b[0m\u001b[1;33m.\u001b[0m\u001b[0misnull\u001b[0m\u001b[1;33m(\u001b[0m\u001b[1;33m)\u001b[0m\u001b[1;33m)\u001b[0m\u001b[1;33m.\u001b[0m\u001b[0msum\u001b[0m\u001b[1;33m(\u001b[0m\u001b[1;33m)\u001b[0m\u001b[1;33m.\u001b[0m\u001b[0msum\u001b[0m\u001b[1;33m(\u001b[0m\u001b[1;33m)\u001b[0m\u001b[1;33m\u001b[0m\u001b[1;33m\u001b[0m\u001b[0m\n\u001b[0m\u001b[0;32m    101\u001b[0m \u001b[1;33m\u001b[0m\u001b[0m\n\u001b[0;32m    102\u001b[0m         \u001b[0momega_user\u001b[0m \u001b[1;33m=\u001b[0m \u001b[1;33m{\u001b[0m\u001b[1;33m}\u001b[0m\u001b[1;33m\u001b[0m\u001b[1;33m\u001b[0m\u001b[0m\n",
            "\u001b[1;32m~\\AppData\\Local\\Programs\\Python\\Python39\\lib\\site-packages\\pandas\\core\\indexing.py\u001b[0m in \u001b[0;36m__getitem__\u001b[1;34m(self, key)\u001b[0m\n\u001b[0;32m    929\u001b[0m \u001b[1;33m\u001b[0m\u001b[0m\n\u001b[0;32m    930\u001b[0m             \u001b[0mmaybe_callable\u001b[0m \u001b[1;33m=\u001b[0m \u001b[0mcom\u001b[0m\u001b[1;33m.\u001b[0m\u001b[0mapply_if_callable\u001b[0m\u001b[1;33m(\u001b[0m\u001b[0mkey\u001b[0m\u001b[1;33m,\u001b[0m \u001b[0mself\u001b[0m\u001b[1;33m.\u001b[0m\u001b[0mobj\u001b[0m\u001b[1;33m)\u001b[0m\u001b[1;33m\u001b[0m\u001b[1;33m\u001b[0m\u001b[0m\n\u001b[1;32m--> 931\u001b[1;33m             \u001b[1;32mreturn\u001b[0m \u001b[0mself\u001b[0m\u001b[1;33m.\u001b[0m\u001b[0m_getitem_axis\u001b[0m\u001b[1;33m(\u001b[0m\u001b[0mmaybe_callable\u001b[0m\u001b[1;33m,\u001b[0m \u001b[0maxis\u001b[0m\u001b[1;33m=\u001b[0m\u001b[0maxis\u001b[0m\u001b[1;33m)\u001b[0m\u001b[1;33m\u001b[0m\u001b[1;33m\u001b[0m\u001b[0m\n\u001b[0m\u001b[0;32m    932\u001b[0m \u001b[1;33m\u001b[0m\u001b[0m\n\u001b[0;32m    933\u001b[0m     \u001b[1;32mdef\u001b[0m \u001b[0m_is_scalar_access\u001b[0m\u001b[1;33m(\u001b[0m\u001b[0mself\u001b[0m\u001b[1;33m,\u001b[0m \u001b[0mkey\u001b[0m\u001b[1;33m:\u001b[0m \u001b[0mtuple\u001b[0m\u001b[1;33m)\u001b[0m\u001b[1;33m:\u001b[0m\u001b[1;33m\u001b[0m\u001b[1;33m\u001b[0m\u001b[0m\n",
            "\u001b[1;32m~\\AppData\\Local\\Programs\\Python\\Python39\\lib\\site-packages\\pandas\\core\\indexing.py\u001b[0m in \u001b[0;36m_getitem_axis\u001b[1;34m(self, key, axis)\u001b[0m\n\u001b[0;32m   1151\u001b[0m                     \u001b[1;32mraise\u001b[0m \u001b[0mValueError\u001b[0m\u001b[1;33m(\u001b[0m\u001b[1;34m\"Cannot index with multidimensional key\"\u001b[0m\u001b[1;33m)\u001b[0m\u001b[1;33m\u001b[0m\u001b[1;33m\u001b[0m\u001b[0m\n\u001b[0;32m   1152\u001b[0m \u001b[1;33m\u001b[0m\u001b[0m\n\u001b[1;32m-> 1153\u001b[1;33m                 \u001b[1;32mreturn\u001b[0m \u001b[0mself\u001b[0m\u001b[1;33m.\u001b[0m\u001b[0m_getitem_iterable\u001b[0m\u001b[1;33m(\u001b[0m\u001b[0mkey\u001b[0m\u001b[1;33m,\u001b[0m \u001b[0maxis\u001b[0m\u001b[1;33m=\u001b[0m\u001b[0maxis\u001b[0m\u001b[1;33m)\u001b[0m\u001b[1;33m\u001b[0m\u001b[1;33m\u001b[0m\u001b[0m\n\u001b[0m\u001b[0;32m   1154\u001b[0m \u001b[1;33m\u001b[0m\u001b[0m\n\u001b[0;32m   1155\u001b[0m             \u001b[1;31m# nested tuple slicing\u001b[0m\u001b[1;33m\u001b[0m\u001b[1;33m\u001b[0m\u001b[0m\n",
            "\u001b[1;32m~\\AppData\\Local\\Programs\\Python\\Python39\\lib\\site-packages\\pandas\\core\\indexing.py\u001b[0m in \u001b[0;36m_getitem_iterable\u001b[1;34m(self, key, axis)\u001b[0m\n\u001b[0;32m   1091\u001b[0m \u001b[1;33m\u001b[0m\u001b[0m\n\u001b[0;32m   1092\u001b[0m         \u001b[1;31m# A collection of keys\u001b[0m\u001b[1;33m\u001b[0m\u001b[1;33m\u001b[0m\u001b[0m\n\u001b[1;32m-> 1093\u001b[1;33m         \u001b[0mkeyarr\u001b[0m\u001b[1;33m,\u001b[0m \u001b[0mindexer\u001b[0m \u001b[1;33m=\u001b[0m \u001b[0mself\u001b[0m\u001b[1;33m.\u001b[0m\u001b[0m_get_listlike_indexer\u001b[0m\u001b[1;33m(\u001b[0m\u001b[0mkey\u001b[0m\u001b[1;33m,\u001b[0m \u001b[0maxis\u001b[0m\u001b[1;33m)\u001b[0m\u001b[1;33m\u001b[0m\u001b[1;33m\u001b[0m\u001b[0m\n\u001b[0m\u001b[0;32m   1094\u001b[0m         return self.obj._reindex_with_indexers(\n\u001b[0;32m   1095\u001b[0m             \u001b[1;33m{\u001b[0m\u001b[0maxis\u001b[0m\u001b[1;33m:\u001b[0m \u001b[1;33m[\u001b[0m\u001b[0mkeyarr\u001b[0m\u001b[1;33m,\u001b[0m \u001b[0mindexer\u001b[0m\u001b[1;33m]\u001b[0m\u001b[1;33m}\u001b[0m\u001b[1;33m,\u001b[0m \u001b[0mcopy\u001b[0m\u001b[1;33m=\u001b[0m\u001b[1;32mTrue\u001b[0m\u001b[1;33m,\u001b[0m \u001b[0mallow_dups\u001b[0m\u001b[1;33m=\u001b[0m\u001b[1;32mTrue\u001b[0m\u001b[1;33m\u001b[0m\u001b[1;33m\u001b[0m\u001b[0m\n",
            "\u001b[1;32m~\\AppData\\Local\\Programs\\Python\\Python39\\lib\\site-packages\\pandas\\core\\indexing.py\u001b[0m in \u001b[0;36m_get_listlike_indexer\u001b[1;34m(self, key, axis)\u001b[0m\n\u001b[0;32m   1312\u001b[0m             \u001b[0mkeyarr\u001b[0m\u001b[1;33m,\u001b[0m \u001b[0mindexer\u001b[0m\u001b[1;33m,\u001b[0m \u001b[0mnew_indexer\u001b[0m \u001b[1;33m=\u001b[0m \u001b[0max\u001b[0m\u001b[1;33m.\u001b[0m\u001b[0m_reindex_non_unique\u001b[0m\u001b[1;33m(\u001b[0m\u001b[0mkeyarr\u001b[0m\u001b[1;33m)\u001b[0m\u001b[1;33m\u001b[0m\u001b[1;33m\u001b[0m\u001b[0m\n\u001b[0;32m   1313\u001b[0m \u001b[1;33m\u001b[0m\u001b[0m\n\u001b[1;32m-> 1314\u001b[1;33m         \u001b[0mself\u001b[0m\u001b[1;33m.\u001b[0m\u001b[0m_validate_read_indexer\u001b[0m\u001b[1;33m(\u001b[0m\u001b[0mkeyarr\u001b[0m\u001b[1;33m,\u001b[0m \u001b[0mindexer\u001b[0m\u001b[1;33m,\u001b[0m \u001b[0maxis\u001b[0m\u001b[1;33m)\u001b[0m\u001b[1;33m\u001b[0m\u001b[1;33m\u001b[0m\u001b[0m\n\u001b[0m\u001b[0;32m   1315\u001b[0m \u001b[1;33m\u001b[0m\u001b[0m\n\u001b[0;32m   1316\u001b[0m         if needs_i8_conversion(ax.dtype) or isinstance(\n",
            "\u001b[1;32m~\\AppData\\Local\\Programs\\Python\\Python39\\lib\\site-packages\\pandas\\core\\indexing.py\u001b[0m in \u001b[0;36m_validate_read_indexer\u001b[1;34m(self, key, indexer, axis)\u001b[0m\n\u001b[0;32m   1375\u001b[0m \u001b[1;33m\u001b[0m\u001b[0m\n\u001b[0;32m   1376\u001b[0m             \u001b[0mnot_found\u001b[0m \u001b[1;33m=\u001b[0m \u001b[0mlist\u001b[0m\u001b[1;33m(\u001b[0m\u001b[0mensure_index\u001b[0m\u001b[1;33m(\u001b[0m\u001b[0mkey\u001b[0m\u001b[1;33m)\u001b[0m\u001b[1;33m[\u001b[0m\u001b[0mmissing_mask\u001b[0m\u001b[1;33m.\u001b[0m\u001b[0mnonzero\u001b[0m\u001b[1;33m(\u001b[0m\u001b[1;33m)\u001b[0m\u001b[1;33m[\u001b[0m\u001b[1;36m0\u001b[0m\u001b[1;33m]\u001b[0m\u001b[1;33m]\u001b[0m\u001b[1;33m.\u001b[0m\u001b[0munique\u001b[0m\u001b[1;33m(\u001b[0m\u001b[1;33m)\u001b[0m\u001b[1;33m)\u001b[0m\u001b[1;33m\u001b[0m\u001b[1;33m\u001b[0m\u001b[0m\n\u001b[1;32m-> 1377\u001b[1;33m             \u001b[1;32mraise\u001b[0m \u001b[0mKeyError\u001b[0m\u001b[1;33m(\u001b[0m\u001b[1;34mf\"{not_found} not in index\"\u001b[0m\u001b[1;33m)\u001b[0m\u001b[1;33m\u001b[0m\u001b[1;33m\u001b[0m\u001b[0m\n\u001b[0m\u001b[0;32m   1378\u001b[0m \u001b[1;33m\u001b[0m\u001b[0m\n\u001b[0;32m   1379\u001b[0m \u001b[1;33m\u001b[0m\u001b[0m\n",
            "\u001b[1;31mKeyError\u001b[0m: '[2036, 2046, 2132, 2134, 2135, 2136, 2222, 2238, 2281, 2296, 2326, 2333, 2349, 2354, 2389, 2404, 2406, 2415, 2462, 2470, 2481, 2545, 2549, 2597, 2622, 2644, 2653, 2678, 2688, 13080, 16966] not in index'"
          ]
        }
      ],
      "source": [
        "# G group: identifying the groups (NR: number of ratings of users)\n",
        "# The configuration of groups was based in the hierarchical clustering (tree clustering - dendrogram)\n",
        "# Clusters 1, 2 and 3\n",
        "G = {1: [1131, 1211, 1248, 1424, 1435, 1548, 1585, 1674, 1733, 1848, 1903, 2024, 2030, 2033, 2103, 2110, 2179, 2288, 2313, 2337, 2363, 4017, 6242, 6251, 6543, 6575, 7346, 8454, 13552, 16795, 21014, 23872, 23902, 25981, 28177, 28634], 2: [11676], 3: [254, 638, 882, 929, 1155, 1161, 1167, 1178, 1184, 1192, 1214, 1219, 1249, 1254, 1261, 1262, 1279, 1294, 1297, 1331, 1348, 1368, 1372, 1376, 1399, 1409, 1412, 1436, 1466, 1467, 1485, 1499, 1517, 1535, 1554, 1558, 1596, 1597, 1608, 1652, 1660, 1688, 1706, 1719, 1725, 1790, 1791, 1805, 1812, 1830, 1838, 1863, 1869, 1881, 1891, 1898, 1901, 1923, 1928, 1990, 2009, 2010, 2012, 2036, 2041, 2046, 2084, 2090, 2106, 2132, 2134, 2135, 2136, 2139, 2152, 2189, 2197, 2222, 2238, 2255, 2276, 2281, 2287, 2295, 2296, 2326, 2333, 2349, 2354, 2358, 2385, 2389, 2399, 2404, 2406, 2411, 2415, 2437, 2439, 2461, 2462, 2466, 2470, 2481, 2545, 2549, 2552, 2559, 2589, 2597, 2622, 2630, 2644, 2651, 2653, 2678, 2688, 2719, 2766, 2891, 2977, 3145, 3167, 3363, 3371, 3373, 3827, 4221, 4785, 4795, 4938, 5027, 5037, 5582, 5899, 5903, 6073, 6115, 6323, 6532, 6563, 6772, 6789, 7125, 7158, 7283, 7286, 7841, 7915, 8066, 8067, 8187, 8245, 8253, 8680, 8681, 8734, 8930, 9177, 9226, 9856, 9908, 10314, 10447, 10560, 10819, 11224, 11245, 11657, 11718, 11724, 11788, 11944, 12100, 12154, 12489, 12784, 12982, 13080, 13273, 13518, 13551, 13582, 13664, 13666, 13850, 13935, 14422, 14456, 14744, 14768, 15049, 15408, 15418, 15602, 15834, 15957, 16246, 16504, 16599, 16634, 16718, 16916, 16966, 17003, 17859, 17950, 18082, 18203, 19233, 19493, 19664, 19711, 20060, 20106, 20172, 20180, 20462, 20680, 21011, 21031, 21356, 21364, 21404, 21484, 21576, 21659, 22074, 22094, 22252, 22625, 22936, 23547, 23571, 23768, 23933, 24186, 24194, 25131, 25395, 25409, 25410, 25601, 25919, 25966, 26057, 26240, 26371, 26517, 26535, 26538, 26620, 26621, 26883, 27091, 27472, 27740, 28204, 28594, 28647, 29209, 29259, 29526]}\n",
        "\n",
        "glv = GroupLossVariance(X, omega, G, 1) #axis = 1 (0 rows e 1 columns)\n",
        "losses_RgrpNR = glv.get_losses(X_est)\n",
        "RgrpNR = glv.evaluate(X_est)\n",
        "\n",
        "RgrpNR_groups = ['RgrpNR: 1', 'RgrpNR: 2', 'RgrpNR: 3']\n",
        "plt.bar(RgrpNR_groups, losses_RgrpNR)\n",
        "plt.title('Group unfairness NR: ' + str(RgrpNR))\n",
        "plt.show()"
      ]
    }
  ],
  "metadata": {
    "colab": {
      "collapsed_sections": [],
      "name": "recsys-cluster-loss-20items-agrupamento.ipynb",
      "provenance": []
    },
    "interpreter": {
      "hash": "33a6e123bcdbde5194593dce101121189e5e4c5a8c334626e820e0bd268629ea"
    },
    "kernelspec": {
      "display_name": "Python 3.9.6 64-bit",
      "name": "python3"
    },
    "language_info": {
      "codemirror_mode": {
        "name": "ipython",
        "version": 3
      },
      "file_extension": ".py",
      "mimetype": "text/x-python",
      "name": "python",
      "nbconvert_exporter": "python",
      "pygments_lexer": "ipython3",
      "version": "3.9.8"
    }
  },
  "nbformat": 4,
  "nbformat_minor": 2
}
