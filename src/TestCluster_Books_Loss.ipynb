{
  "cells": [
    {
      "cell_type": "markdown",
      "metadata": {
        "id": "ZKCpdWWT4s-B"
      },
      "source": [
        "**recsys-cluster-loss**\n",
        "\n",
        "Example of cluster analysis in the context of recommendation systems.\n",
        "Users who receive recommendations will be grouped based on the individual fairness measure of those recommendations.\n",
        "The objective is to analyze whether there is any type of injustice of non-obvious user groups, that is, groups that cannot be configured based on some explicit user characteristic (variable) (for example: gender, age, etc.) .\n",
        "\n",
        "Two methods of grouping will be applied:\n",
        "1. Hierarchical clustering (tree clustering - dendrogram)\n",
        "2. Non-hierarchical grouping by breakdown (grouping by k-Means)\n",
        "\n",
        "In this file we are analyzing the possible groupings considering the following variable(s):\n",
        "- Loss: individual unfairness"
      ]
    },
    {
      "cell_type": "markdown",
      "metadata": {},
      "source": [
        "Recommendation system: generating the recommendation matrix and calculating individual fairness"
      ]
    },
    {
      "cell_type": "code",
      "execution_count": 31,
      "metadata": {
        "colab": {
          "base_uri": "https://localhost:8080/"
        },
        "id": "fJW5Qza9tDe0",
        "outputId": "fad6d80d-19d2-4ac5-e00d-bf495d0a23fe"
      },
      "outputs": [
        {
          "name": "stderr",
          "output_type": "stream",
          "text": [
            "Cloning into 'recsys-cluster-loss'...\n"
          ]
        }
      ],
      "source": [
        "# cloning repository with database\n",
        "!rm -rf recsys-cluster-loss\n",
        "!git clone https://github.com/ravarmes/recsys-cluster-loss.git"
      ]
    },
    {
      "cell_type": "code",
      "execution_count": 32,
      "metadata": {},
      "outputs": [],
      "source": [
        "import pandas as pd\n",
        "import numpy as np\n",
        "import matplotlib.pyplot as plt\n",
        "import seaborn as sns\n",
        "from sklearn.preprocessing import StandardScaler\n",
        "from sklearn.cluster import AgglomerativeClustering, KMeans\n",
        "from scipy.cluster import hierarchy\n",
        "\n",
        "import warnings\n",
        "warnings.filterwarnings('ignore')\n",
        "\n",
        "sns.set()"
      ]
    },
    {
      "cell_type": "code",
      "execution_count": 33,
      "metadata": {
        "id": "biw8w4RKArjN"
      },
      "outputs": [],
      "source": [
        "import sys\n",
        "sys.path.append('recsys-cluster-loss/src')\n",
        "from RecSys import RecSys\n",
        "from UserFairness import IndividualLossVariance\n",
        "from UserFairness import GroupLossVariance"
      ]
    },
    {
      "cell_type": "code",
      "execution_count": 34,
      "metadata": {
        "id": "2FQ0_uYOIvEj"
      },
      "outputs": [],
      "source": [
        "# reading data from 3883 movies and 6040 users \n",
        "Data_path = 'recsys-cluster-loss/data/Books'\n",
        "n_users=  300\n",
        "n_items= 1000\n",
        "top_users = True # True: to use users with more ratings; False: otherwise\n",
        "top_items = False # True: to use movies with more ratings; False: otherwise"
      ]
    },
    {
      "cell_type": "code",
      "execution_count": 35,
      "metadata": {
        "id": "kky92lhnIxxf"
      },
      "outputs": [],
      "source": [
        "# recommendation algorithm\n",
        "algorithm = 'RecSysALS'"
      ]
    },
    {
      "cell_type": "code",
      "execution_count": 36,
      "metadata": {
        "id": "NwhZkRQ_I0YF"
      },
      "outputs": [],
      "source": [
        "# parameters for calculating fairness measures\n",
        "l = 5\n",
        "theta = 3\n",
        "k = 3"
      ]
    },
    {
      "cell_type": "code",
      "execution_count": 37,
      "metadata": {
        "id": "1qWcPGY5I9FE"
      },
      "outputs": [],
      "source": [
        "recsys = RecSys(n_users, n_items, top_users, top_items, l, theta, k)"
      ]
    },
    {
      "cell_type": "code",
      "execution_count": 38,
      "metadata": {
        "colab": {
          "base_uri": "https://localhost:8080/",
          "height": 1000
        },
        "id": "gxrBq6I1JK8o",
        "outputId": "6a71ff85-ef00-4e20-d663-373602218bd8"
      },
      "outputs": [],
      "source": [
        "X, users_info, items_info = recsys.read_books(n_users, n_items, top_users, top_items, data_dir = Data_path) # returns matrix of ratings with n_users rows and n_moveis columns\n",
        "omega = ~X.isnull() # matrix X with True in cells with evaluations and False in cells not rated"
      ]
    },
    {
      "cell_type": "code",
      "execution_count": 39,
      "metadata": {
        "id": "8XR9U63U01GL"
      },
      "outputs": [
        {
          "data": {
            "text/html": [
              "<div>\n",
              "<style scoped>\n",
              "    .dataframe tbody tr th:only-of-type {\n",
              "        vertical-align: middle;\n",
              "    }\n",
              "\n",
              "    .dataframe tbody tr th {\n",
              "        vertical-align: top;\n",
              "    }\n",
              "\n",
              "    .dataframe thead th {\n",
              "        text-align: right;\n",
              "    }\n",
              "</style>\n",
              "<table border=\"1\" class=\"dataframe\">\n",
              "  <thead>\n",
              "    <tr style=\"text-align: right;\">\n",
              "      <th></th>\n",
              "      <th>Location</th>\n",
              "      <th>Age</th>\n",
              "      <th>NR</th>\n",
              "    </tr>\n",
              "  </thead>\n",
              "  <tbody>\n",
              "    <tr>\n",
              "      <th>1</th>\n",
              "      <td>nyc, new york, usa</td>\n",
              "      <td>18</td>\n",
              "      <td>NaN</td>\n",
              "    </tr>\n",
              "    <tr>\n",
              "      <th>2</th>\n",
              "      <td>stockton, california, usa</td>\n",
              "      <td>58</td>\n",
              "      <td>NaN</td>\n",
              "    </tr>\n",
              "    <tr>\n",
              "      <th>3</th>\n",
              "      <td>moscow, yukon territory, russia</td>\n",
              "      <td>51</td>\n",
              "      <td>NaN</td>\n",
              "    </tr>\n",
              "    <tr>\n",
              "      <th>4</th>\n",
              "      <td>porto, v.n.gaia, portugal</td>\n",
              "      <td>73</td>\n",
              "      <td>NaN</td>\n",
              "    </tr>\n",
              "    <tr>\n",
              "      <th>5</th>\n",
              "      <td>farnborough, hants, united kingdom</td>\n",
              "      <td>52</td>\n",
              "      <td>NaN</td>\n",
              "    </tr>\n",
              "    <tr>\n",
              "      <th>...</th>\n",
              "      <td>...</td>\n",
              "      <td>...</td>\n",
              "      <td>...</td>\n",
              "    </tr>\n",
              "    <tr>\n",
              "      <th>29996</th>\n",
              "      <td>park forest, illinois, usa</td>\n",
              "      <td>65</td>\n",
              "      <td>NaN</td>\n",
              "    </tr>\n",
              "    <tr>\n",
              "      <th>29997</th>\n",
              "      <td>calgary, alberta, canada</td>\n",
              "      <td>38</td>\n",
              "      <td>NaN</td>\n",
              "    </tr>\n",
              "    <tr>\n",
              "      <th>29998</th>\n",
              "      <td>loxley, alabama, usa</td>\n",
              "      <td>59</td>\n",
              "      <td>NaN</td>\n",
              "    </tr>\n",
              "    <tr>\n",
              "      <th>29999</th>\n",
              "      <td>salina, kansas, usa</td>\n",
              "      <td>50</td>\n",
              "      <td>NaN</td>\n",
              "    </tr>\n",
              "    <tr>\n",
              "      <th>30000</th>\n",
              "      <td>leicestershie, england, united kingdom</td>\n",
              "      <td>20</td>\n",
              "      <td>NaN</td>\n",
              "    </tr>\n",
              "  </tbody>\n",
              "</table>\n",
              "<p>30000 rows × 3 columns</p>\n",
              "</div>"
            ],
            "text/plain": [
              "                                     Location  Age  NR\n",
              "1                          nyc, new york, usa   18 NaN\n",
              "2                   stockton, california, usa   58 NaN\n",
              "3             moscow, yukon territory, russia   51 NaN\n",
              "4                   porto, v.n.gaia, portugal   73 NaN\n",
              "5          farnborough, hants, united kingdom   52 NaN\n",
              "...                                       ...  ...  ..\n",
              "29996              park forest, illinois, usa   65 NaN\n",
              "29997                calgary, alberta, canada   38 NaN\n",
              "29998                    loxley, alabama, usa   59 NaN\n",
              "29999                     salina, kansas, usa   50 NaN\n",
              "30000  leicestershie, england, united kingdom   20 NaN\n",
              "\n",
              "[30000 rows x 3 columns]"
            ]
          },
          "execution_count": 39,
          "metadata": {},
          "output_type": "execute_result"
        }
      ],
      "source": [
        "users_info"
      ]
    },
    {
      "cell_type": "code",
      "execution_count": 40,
      "metadata": {
        "id": "DRwHlM5m0y9x"
      },
      "outputs": [],
      "source": [
        "X_est = recsys.compute_X_est(X, algorithm, Data_path) # RecSysALS or RecSysKNN or RecSysNMF or RecSysExampleAntidoteData20Items"
      ]
    },
    {
      "cell_type": "code",
      "execution_count": 41,
      "metadata": {
        "id": "dmqGCoRn5atN"
      },
      "outputs": [],
      "source": [
        "ilv = IndividualLossVariance(X, omega, 1)\n",
        "losses = ilv.get_losses(X_est)"
      ]
    },
    {
      "cell_type": "code",
      "execution_count": 42,
      "metadata": {},
      "outputs": [
        {
          "data": {
            "text/plain": [
              "UserID\n",
              "11676    1.406421\n",
              "16795    1.193364\n",
              "2110     0.908189\n",
              "2030     0.186139\n",
              "1733     0.424401\n",
              "           ...   \n",
              "2559     0.436580\n",
              "2644     0.448597\n",
              "2651     0.448835\n",
              "2653     0.500000\n",
              "2678     0.500000\n",
              "Length: 300, dtype: float64"
            ]
          },
          "execution_count": 42,
          "metadata": {},
          "output_type": "execute_result"
        }
      ],
      "source": [
        "losses"
      ]
    },
    {
      "cell_type": "code",
      "execution_count": 43,
      "metadata": {
        "colab": {
          "base_uri": "https://localhost:8080/",
          "height": 1000
        },
        "id": "gEocAu4NGHsD",
        "outputId": "c625291f-76ab-46dd-bd6f-4b619a8463e4"
      },
      "outputs": [
        {
          "data": {
            "text/html": [
              "<div>\n",
              "<style scoped>\n",
              "    .dataframe tbody tr th:only-of-type {\n",
              "        vertical-align: middle;\n",
              "    }\n",
              "\n",
              "    .dataframe tbody tr th {\n",
              "        vertical-align: top;\n",
              "    }\n",
              "\n",
              "    .dataframe thead th {\n",
              "        text-align: right;\n",
              "    }\n",
              "</style>\n",
              "<table border=\"1\" class=\"dataframe\">\n",
              "  <thead>\n",
              "    <tr style=\"text-align: right;\">\n",
              "      <th></th>\n",
              "      <th>Location</th>\n",
              "      <th>Age</th>\n",
              "      <th>Loss</th>\n",
              "      <th>NR</th>\n",
              "    </tr>\n",
              "  </thead>\n",
              "  <tbody>\n",
              "    <tr>\n",
              "      <th>254</th>\n",
              "      <td>minneapolis, minnesota, usa</td>\n",
              "      <td>34</td>\n",
              "      <td>0.370001</td>\n",
              "      <td>4.0</td>\n",
              "    </tr>\n",
              "    <tr>\n",
              "      <th>638</th>\n",
              "      <td>san diego, california, usa</td>\n",
              "      <td>51</td>\n",
              "      <td>0.600132</td>\n",
              "      <td>5.0</td>\n",
              "    </tr>\n",
              "    <tr>\n",
              "      <th>882</th>\n",
              "      <td>berkeley, california, usa</td>\n",
              "      <td>52</td>\n",
              "      <td>2.201142</td>\n",
              "      <td>5.0</td>\n",
              "    </tr>\n",
              "    <tr>\n",
              "      <th>929</th>\n",
              "      <td>king of prussia, ,</td>\n",
              "      <td>35</td>\n",
              "      <td>0.482739</td>\n",
              "      <td>2.0</td>\n",
              "    </tr>\n",
              "    <tr>\n",
              "      <th>1131</th>\n",
              "      <td>berkeley, ,</td>\n",
              "      <td>28</td>\n",
              "      <td>0.950329</td>\n",
              "      <td>20.0</td>\n",
              "    </tr>\n",
              "    <tr>\n",
              "      <th>...</th>\n",
              "      <td>...</td>\n",
              "      <td>...</td>\n",
              "      <td>...</td>\n",
              "      <td>...</td>\n",
              "    </tr>\n",
              "    <tr>\n",
              "      <th>28634</th>\n",
              "      <td>bad axe, michigan, usa</td>\n",
              "      <td>69</td>\n",
              "      <td>0.432956</td>\n",
              "      <td>13.0</td>\n",
              "    </tr>\n",
              "    <tr>\n",
              "      <th>28647</th>\n",
              "      <td>aspinwall, pennsylvania, usa</td>\n",
              "      <td>18</td>\n",
              "      <td>0.793706</td>\n",
              "      <td>3.0</td>\n",
              "    </tr>\n",
              "    <tr>\n",
              "      <th>29209</th>\n",
              "      <td>boca raton, florida, usa</td>\n",
              "      <td>48</td>\n",
              "      <td>2.007592</td>\n",
              "      <td>9.0</td>\n",
              "    </tr>\n",
              "    <tr>\n",
              "      <th>29259</th>\n",
              "      <td>mt. airy, , usa</td>\n",
              "      <td>66</td>\n",
              "      <td>0.556470</td>\n",
              "      <td>5.0</td>\n",
              "    </tr>\n",
              "    <tr>\n",
              "      <th>29526</th>\n",
              "      <td>knoxville, tennessee, usa</td>\n",
              "      <td>72</td>\n",
              "      <td>0.327235</td>\n",
              "      <td>7.0</td>\n",
              "    </tr>\n",
              "  </tbody>\n",
              "</table>\n",
              "<p>300 rows × 4 columns</p>\n",
              "</div>"
            ],
            "text/plain": [
              "                           Location  Age      Loss    NR\n",
              "254     minneapolis, minnesota, usa   34  0.370001   4.0\n",
              "638      san diego, california, usa   51  0.600132   5.0\n",
              "882       berkeley, california, usa   52  2.201142   5.0\n",
              "929              king of prussia, ,   35  0.482739   2.0\n",
              "1131                    berkeley, ,   28  0.950329  20.0\n",
              "...                             ...  ...       ...   ...\n",
              "28634        bad axe, michigan, usa   69  0.432956  13.0\n",
              "28647  aspinwall, pennsylvania, usa   18  0.793706   3.0\n",
              "29209      boca raton, florida, usa   48  2.007592   9.0\n",
              "29259               mt. airy, , usa   66  0.556470   5.0\n",
              "29526     knoxville, tennessee, usa   72  0.327235   7.0\n",
              "\n",
              "[300 rows x 4 columns]"
            ]
          },
          "execution_count": 43,
          "metadata": {},
          "output_type": "execute_result"
        }
      ],
      "source": [
        "df = pd.DataFrame(columns=['Location', 'Age', 'Loss'])\n",
        "df['Location'] = users_info['Location']\n",
        "df['Age'] = users_info['Age']\n",
        "df['NR'] = users_info['NR']\n",
        "df['Loss'] = losses\n",
        "\n",
        "df.dropna(subset=['Loss'], inplace=True) # eliminating rows with empty values in the 'Loss' column\n",
        "df"
      ]
    },
    {
      "cell_type": "code",
      "execution_count": 44,
      "metadata": {
        "colab": {
          "base_uri": "https://localhost:8080/",
          "height": 234
        },
        "id": "uHXqrVas1yce",
        "outputId": "db24a330-f8dd-4b9c-e301-bf66f616a8f8"
      },
      "outputs": [
        {
          "data": {
            "text/html": [
              "<div>\n",
              "<style scoped>\n",
              "    .dataframe tbody tr th:only-of-type {\n",
              "        vertical-align: middle;\n",
              "    }\n",
              "\n",
              "    .dataframe tbody tr th {\n",
              "        vertical-align: top;\n",
              "    }\n",
              "\n",
              "    .dataframe thead th {\n",
              "        text-align: right;\n",
              "    }\n",
              "</style>\n",
              "<table border=\"1\" class=\"dataframe\">\n",
              "  <thead>\n",
              "    <tr style=\"text-align: right;\">\n",
              "      <th></th>\n",
              "      <th>Location</th>\n",
              "      <th>Age</th>\n",
              "      <th>Loss</th>\n",
              "      <th>NR</th>\n",
              "    </tr>\n",
              "  </thead>\n",
              "  <tbody>\n",
              "    <tr>\n",
              "      <th>254</th>\n",
              "      <td>minneapolis, minnesota, usa</td>\n",
              "      <td>34</td>\n",
              "      <td>0.370001</td>\n",
              "      <td>4.0</td>\n",
              "    </tr>\n",
              "    <tr>\n",
              "      <th>638</th>\n",
              "      <td>san diego, california, usa</td>\n",
              "      <td>51</td>\n",
              "      <td>0.600132</td>\n",
              "      <td>5.0</td>\n",
              "    </tr>\n",
              "    <tr>\n",
              "      <th>882</th>\n",
              "      <td>berkeley, california, usa</td>\n",
              "      <td>52</td>\n",
              "      <td>2.201142</td>\n",
              "      <td>5.0</td>\n",
              "    </tr>\n",
              "    <tr>\n",
              "      <th>929</th>\n",
              "      <td>king of prussia, ,</td>\n",
              "      <td>35</td>\n",
              "      <td>0.482739</td>\n",
              "      <td>2.0</td>\n",
              "    </tr>\n",
              "    <tr>\n",
              "      <th>1131</th>\n",
              "      <td>berkeley, ,</td>\n",
              "      <td>28</td>\n",
              "      <td>0.950329</td>\n",
              "      <td>20.0</td>\n",
              "    </tr>\n",
              "  </tbody>\n",
              "</table>\n",
              "</div>"
            ],
            "text/plain": [
              "                         Location  Age      Loss    NR\n",
              "254   minneapolis, minnesota, usa   34  0.370001   4.0\n",
              "638    san diego, california, usa   51  0.600132   5.0\n",
              "882     berkeley, california, usa   52  2.201142   5.0\n",
              "929            king of prussia, ,   35  0.482739   2.0\n",
              "1131                  berkeley, ,   28  0.950329  20.0"
            ]
          },
          "execution_count": 44,
          "metadata": {},
          "output_type": "execute_result"
        }
      ],
      "source": [
        "df.head()"
      ]
    },
    {
      "cell_type": "code",
      "execution_count": 45,
      "metadata": {
        "colab": {
          "base_uri": "https://localhost:8080/"
        },
        "id": "qTaZvgmL16HL",
        "outputId": "5f5f2689-a441-41cd-b740-1e274f2d53b9"
      },
      "outputs": [
        {
          "data": {
            "text/plain": [
              "(300, 4)"
            ]
          },
          "execution_count": 45,
          "metadata": {},
          "output_type": "execute_result"
        }
      ],
      "source": [
        "# number of rows and columns:\n",
        "df.shape"
      ]
    },
    {
      "cell_type": "code",
      "execution_count": 46,
      "metadata": {
        "colab": {
          "base_uri": "https://localhost:8080/",
          "height": 295
        },
        "id": "Imo2zaMR1-Yl",
        "outputId": "1f412f7d-97a1-41f3-c262-f0040010fb50"
      },
      "outputs": [
        {
          "data": {
            "text/html": [
              "<div>\n",
              "<style scoped>\n",
              "    .dataframe tbody tr th:only-of-type {\n",
              "        vertical-align: middle;\n",
              "    }\n",
              "\n",
              "    .dataframe tbody tr th {\n",
              "        vertical-align: top;\n",
              "    }\n",
              "\n",
              "    .dataframe thead th {\n",
              "        text-align: right;\n",
              "    }\n",
              "</style>\n",
              "<table border=\"1\" class=\"dataframe\">\n",
              "  <thead>\n",
              "    <tr style=\"text-align: right;\">\n",
              "      <th></th>\n",
              "      <th>Age</th>\n",
              "      <th>Loss</th>\n",
              "      <th>NR</th>\n",
              "    </tr>\n",
              "  </thead>\n",
              "  <tbody>\n",
              "    <tr>\n",
              "      <th>count</th>\n",
              "      <td>300.000000</td>\n",
              "      <td>300.000000</td>\n",
              "      <td>300.000000</td>\n",
              "    </tr>\n",
              "    <tr>\n",
              "      <th>mean</th>\n",
              "      <td>43.686667</td>\n",
              "      <td>1.029915</td>\n",
              "      <td>7.110000</td>\n",
              "    </tr>\n",
              "    <tr>\n",
              "      <th>std</th>\n",
              "      <td>17.518509</td>\n",
              "      <td>1.138689</td>\n",
              "      <td>17.692408</td>\n",
              "    </tr>\n",
              "    <tr>\n",
              "      <th>min</th>\n",
              "      <td>14.000000</td>\n",
              "      <td>0.042335</td>\n",
              "      <td>2.000000</td>\n",
              "    </tr>\n",
              "    <tr>\n",
              "      <th>25%</th>\n",
              "      <td>28.750000</td>\n",
              "      <td>0.438007</td>\n",
              "      <td>3.000000</td>\n",
              "    </tr>\n",
              "    <tr>\n",
              "      <th>50%</th>\n",
              "      <td>43.000000</td>\n",
              "      <td>0.666281</td>\n",
              "      <td>4.000000</td>\n",
              "    </tr>\n",
              "    <tr>\n",
              "      <th>75%</th>\n",
              "      <td>59.000000</td>\n",
              "      <td>1.289607</td>\n",
              "      <td>7.000000</td>\n",
              "    </tr>\n",
              "    <tr>\n",
              "      <th>max</th>\n",
              "      <td>75.000000</td>\n",
              "      <td>11.359402</td>\n",
              "      <td>294.000000</td>\n",
              "    </tr>\n",
              "  </tbody>\n",
              "</table>\n",
              "</div>"
            ],
            "text/plain": [
              "              Age        Loss          NR\n",
              "count  300.000000  300.000000  300.000000\n",
              "mean    43.686667    1.029915    7.110000\n",
              "std     17.518509    1.138689   17.692408\n",
              "min     14.000000    0.042335    2.000000\n",
              "25%     28.750000    0.438007    3.000000\n",
              "50%     43.000000    0.666281    4.000000\n",
              "75%     59.000000    1.289607    7.000000\n",
              "max     75.000000   11.359402  294.000000"
            ]
          },
          "execution_count": 46,
          "metadata": {},
          "output_type": "execute_result"
        }
      ],
      "source": [
        "# descriptive statistics:\n",
        "df.describe()"
      ]
    },
    {
      "cell_type": "code",
      "execution_count": 47,
      "metadata": {},
      "outputs": [
        {
          "data": {
            "text/plain": [
              "<seaborn.axisgrid.PairGrid at 0x1a617224cd0>"
            ]
          },
          "execution_count": 47,
          "metadata": {},
          "output_type": "execute_result"
        },
        {
          "data": {
            "image/png": "[encoded data removed]",
            "text/plain": [
              "<Figure size 540x540 with 12 Axes>"
            ]
          },
          "metadata": {},
          "output_type": "display_data"
        }
      ],
      "source": [
        "sns.pairplot(df)"
      ]
    },
    {
      "cell_type": "code",
      "execution_count": 48,
      "metadata": {},
      "outputs": [
        {
          "data": {
            "text/plain": [
              "<AxesSubplot:>"
            ]
          },
          "execution_count": 48,
          "metadata": {},
          "output_type": "execute_result"
        },
        {
          "data": {
            "image/png": "[encoded data removed]",
            "text/plain": [
              "<Figure size 504x504 with 1 Axes>"
            ]
          },
          "metadata": {},
          "output_type": "display_data"
        }
      ],
      "source": [
        "df = df.drop(['Location'] , axis=1) # eliminating Location (non-numeric) columns to analyze correlations\n",
        "\n",
        "plt.figure(figsize=(7, 7))\n",
        "corr = np.corrcoef(df.values, rowvar=False)\n",
        "sns.heatmap(corr, annot=True, cmap='Blues', fmt='.2f', cbar=False, xticklabels=df.columns, yticklabels=df.columns)"
      ]
    },
    {
      "cell_type": "markdown",
      "metadata": {},
      "source": [
        "Hierarchical clustering (tree clustering - dendrogram)"
      ]
    },
    {
      "cell_type": "code",
      "execution_count": 49,
      "metadata": {},
      "outputs": [],
      "source": [
        "# Leaving only the Loss column to perform cluster analysis\n",
        "df = df.drop('Age', 1) \n",
        "df = df.drop('NR', 1) \n",
        "#df = df.drop('Loss', 1)"
      ]
    },
    {
      "cell_type": "code",
      "execution_count": 50,
      "metadata": {},
      "outputs": [],
      "source": [
        "df_scaled = df.copy()\n",
        "df_scaled.iloc[:, :] = StandardScaler().fit_transform(df)"
      ]
    },
    {
      "cell_type": "code",
      "execution_count": 51,
      "metadata": {},
      "outputs": [
        {
          "data": {
            "image/png": "[encoded data removed]",
            "text/plain": [
              "<Figure size 1584x720 with 1 Axes>"
            ]
          },
          "metadata": {},
          "output_type": "display_data"
        }
      ],
      "source": [
        "Z = hierarchy.linkage(df_scaled, 'ward') #complete or ward\n",
        "plt.figure(figsize=(22, 10))\n",
        "plt.grid(axis='y')\n",
        "dn = hierarchy.dendrogram(Z, labels=list(df.index), leaf_font_size=8)"
      ]
    },
    {
      "cell_type": "code",
      "execution_count": 52,
      "metadata": {},
      "outputs": [],
      "source": [
        "n_clusters = 3\n",
        "cluster = AgglomerativeClustering(n_clusters=n_clusters, affinity='euclidean', linkage='ward')\n",
        "df_scaled['cluster_agglomerative'] = cluster.fit_predict(df_scaled)"
      ]
    },
    {
      "cell_type": "code",
      "execution_count": 53,
      "metadata": {},
      "outputs": [
        {
          "data": {
            "text/html": [
              "<div>\n",
              "<style scoped>\n",
              "    .dataframe tbody tr th:only-of-type {\n",
              "        vertical-align: middle;\n",
              "    }\n",
              "\n",
              "    .dataframe tbody tr th {\n",
              "        vertical-align: top;\n",
              "    }\n",
              "\n",
              "    .dataframe thead tr th {\n",
              "        text-align: left;\n",
              "    }\n",
              "\n",
              "    .dataframe thead tr:last-of-type th {\n",
              "        text-align: right;\n",
              "    }\n",
              "</style>\n",
              "<table border=\"1\" class=\"dataframe\">\n",
              "  <thead>\n",
              "    <tr>\n",
              "      <th></th>\n",
              "      <th colspan=\"8\" halign=\"left\">Loss</th>\n",
              "    </tr>\n",
              "    <tr>\n",
              "      <th></th>\n",
              "      <th>count</th>\n",
              "      <th>mean</th>\n",
              "      <th>std</th>\n",
              "      <th>min</th>\n",
              "      <th>25%</th>\n",
              "      <th>50%</th>\n",
              "      <th>75%</th>\n",
              "      <th>max</th>\n",
              "    </tr>\n",
              "    <tr>\n",
              "      <th>cluster_agglomerative</th>\n",
              "      <th></th>\n",
              "      <th></th>\n",
              "      <th></th>\n",
              "      <th></th>\n",
              "      <th></th>\n",
              "      <th></th>\n",
              "      <th></th>\n",
              "      <th></th>\n",
              "    </tr>\n",
              "  </thead>\n",
              "  <tbody>\n",
              "    <tr>\n",
              "      <th>0</th>\n",
              "      <td>91.0</td>\n",
              "      <td>1.860547</td>\n",
              "      <td>0.748067</td>\n",
              "      <td>1.087653</td>\n",
              "      <td>1.318300</td>\n",
              "      <td>1.595946</td>\n",
              "      <td>2.195236</td>\n",
              "      <td>4.580841</td>\n",
              "    </tr>\n",
              "    <tr>\n",
              "      <th>1</th>\n",
              "      <td>4.0</td>\n",
              "      <td>8.031913</td>\n",
              "      <td>2.262481</td>\n",
              "      <td>6.445119</td>\n",
              "      <td>6.716571</td>\n",
              "      <td>7.161566</td>\n",
              "      <td>8.476908</td>\n",
              "      <td>11.359402</td>\n",
              "    </tr>\n",
              "    <tr>\n",
              "      <th>2</th>\n",
              "      <td>205.0</td>\n",
              "      <td>0.524571</td>\n",
              "      <td>0.229209</td>\n",
              "      <td>0.042335</td>\n",
              "      <td>0.357069</td>\n",
              "      <td>0.500000</td>\n",
              "      <td>0.704576</td>\n",
              "      <td>1.050364</td>\n",
              "    </tr>\n",
              "  </tbody>\n",
              "</table>\n",
              "</div>"
            ],
            "text/plain": [
              "                        Loss                                          \\\n",
              "                       count      mean       std       min       25%   \n",
              "cluster_agglomerative                                                  \n",
              "0                       91.0  1.860547  0.748067  1.087653  1.318300   \n",
              "1                        4.0  8.031913  2.262481  6.445119  6.716571   \n",
              "2                      205.0  0.524571  0.229209  0.042335  0.357069   \n",
              "\n",
              "                                                      \n",
              "                            50%       75%        max  \n",
              "cluster_agglomerative                                 \n",
              "0                      1.595946  2.195236   4.580841  \n",
              "1                      7.161566  8.476908  11.359402  \n",
              "2                      0.500000  0.704576   1.050364  "
            ]
          },
          "execution_count": 53,
          "metadata": {},
          "output_type": "execute_result"
        }
      ],
      "source": [
        "# descriptive statistics of groups\n",
        "df_groups = df.copy()\n",
        "df_groups[\"cluster_agglomerative\"] = cluster.labels_\n",
        "df_groups = df_groups.groupby(\"cluster_agglomerative\")\n",
        "df_groups.describe()"
      ]
    },
    {
      "cell_type": "code",
      "execution_count": 54,
      "metadata": {},
      "outputs": [
        {
          "name": "stdout",
          "output_type": "stream",
          "text": [
            "Cluster 0: [882, 1167, 1178, 1184, 1214, 1249, 1279, 1376, 1435, 1436, 1558, 1596, 1674, 1706, 1898, 2012, 2036, 2106, 2139, 2222, 2255, 2288, 2295, 2313, 2385, 2406, 2589, 2766, 2977, 3145, 3167, 3363, 3371, 3373, 4017, 5027, 5037, 6073, 6251, 6563, 6575, 6772, 7158, 7283, 7286, 7841, 7915, 8066, 8454, 8681, 9908, 10314, 10447, 10819, 11224, 11676, 11788, 11944, 12489, 13518, 13552, 13850, 15418, 15602, 16246, 16599, 16634, 16795, 17003, 19233, 19493, 19664, 20106, 20462, 21014, 21031, 22074, 23547, 23902, 23933, 24194, 25410, 25601, 25966, 25981, 26535, 26621, 26883, 28177, 28204, 29209]\n",
            "\n",
            "Cluster 1: [6789, 15957, 21364, 26538]\n",
            "\n",
            "Cluster 2: [254, 638, 929, 1131, 1155, 1161, 1192, 1211, 1219, 1248, 1254, 1261, 1262, 1294, 1297, 1331, 1348, 1368, 1372, 1399, 1409, 1412, 1424, 1466, 1467, 1485, 1499, 1517, 1535, 1548, 1554, 1585, 1597, 1608, 1652, 1660, 1688, 1719, 1725, 1733, 1790, 1791, 1805, 1812, 1830, 1838, 1848, 1863, 1869, 1881, 1891, 1901, 1903, 1923, 1928, 1990, 2009, 2010, 2024, 2030, 2033, 2041, 2046, 2084, 2090, 2103, 2110, 2132, 2134, 2135, 2136, 2152, 2179, 2189, 2197, 2238, 2276, 2281, 2287, 2296, 2326, 2333, 2337, 2349, 2354, 2358, 2363, 2389, 2399, 2404, 2411, 2415, 2437, 2439, 2461, 2462, 2466, 2470, 2481, 2545, 2549, 2552, 2559, 2597, 2622, 2630, 2644, 2651, 2653, 2678, 2688, 2719, 2891, 3827, 4221, 4785, 4795, 4938, 5582, 5899, 5903, 6115, 6242, 6323, 6532, 6543, 7125, 7346, 8067, 8187, 8245, 8253, 8680, 8734, 8930, 9177, 9226, 9856, 10560, 11245, 11657, 11718, 11724, 12100, 12154, 12784, 12982, 13080, 13273, 13551, 13582, 13664, 13666, 13935, 14422, 14456, 14744, 14768, 15049, 15408, 15834, 16504, 16718, 16916, 16966, 17859, 17950, 18082, 18203, 19711, 20060, 20172, 20180, 20680, 21011, 21356, 21404, 21484, 21576, 21659, 22094, 22252, 22625, 22936, 23571, 23768, 23872, 24186, 25131, 25395, 25409, 25919, 26057, 26240, 26371, 26517, 26620, 27091, 27472, 27740, 28594, 28634, 28647, 29259, 29526]\n",
            "\n"
          ]
        }
      ],
      "source": [
        "\n",
        "users = list(df_scaled.index)\n",
        "groups = df_scaled['cluster_agglomerative']\n",
        "\n",
        "grouped_users = {i: [] for i in range(n_clusters)}\n",
        "for user, group in zip(users, groups):\n",
        "    grouped_users[group].append(user)\n",
        "\n",
        "for gp, ctr in grouped_users.items():\n",
        "    print(f'Cluster {gp}: {ctr}\\n')"
      ]
    },
    {
      "cell_type": "markdown",
      "metadata": {},
      "source": [
        "Non-hierarchical grouping (K-means)"
      ]
    },
    {
      "cell_type": "code",
      "execution_count": 55,
      "metadata": {},
      "outputs": [
        {
          "data": {
            "image/png": "[encoded data removed]",
            "text/plain": [
              "<Figure size 576x432 with 1 Axes>"
            ]
          },
          "metadata": {},
          "output_type": "display_data"
        }
      ],
      "source": [
        "inertias = []\n",
        "for k in np.arange(1, 10):\n",
        "    kmeans = KMeans(n_clusters=k)\n",
        "    kmeans.fit(df)\n",
        "    inertias.append(kmeans.inertia_)\n",
        "\n",
        "# plotting the elbow method graph\n",
        "plt.figure(figsize=(8, 6))\n",
        "plt.plot(np.arange(1, 10), inertias, '-o')\n",
        "plt.xlabel('Number of clusters')\n",
        "plt.ylabel('Inertia');"
      ]
    },
    {
      "cell_type": "code",
      "execution_count": 56,
      "metadata": {},
      "outputs": [],
      "source": [
        "n_clusters = 3\n",
        "kmeans = KMeans(n_clusters=n_clusters)\n",
        "df_scaled['cluster_kmeans'] = kmeans.fit_predict(df_scaled)"
      ]
    },
    {
      "cell_type": "code",
      "execution_count": 57,
      "metadata": {},
      "outputs": [
        {
          "data": {
            "text/html": [
              "<div>\n",
              "<style scoped>\n",
              "    .dataframe tbody tr th:only-of-type {\n",
              "        vertical-align: middle;\n",
              "    }\n",
              "\n",
              "    .dataframe tbody tr th {\n",
              "        vertical-align: top;\n",
              "    }\n",
              "\n",
              "    .dataframe thead th {\n",
              "        text-align: right;\n",
              "    }\n",
              "</style>\n",
              "<table border=\"1\" class=\"dataframe\">\n",
              "  <thead>\n",
              "    <tr style=\"text-align: right;\">\n",
              "      <th></th>\n",
              "      <th>Loss</th>\n",
              "      <th>cluster_agglomerative</th>\n",
              "      <th>cluster_kmeans</th>\n",
              "    </tr>\n",
              "  </thead>\n",
              "  <tbody>\n",
              "    <tr>\n",
              "      <th>254</th>\n",
              "      <td>-0.580507</td>\n",
              "      <td>2</td>\n",
              "      <td>0</td>\n",
              "    </tr>\n",
              "    <tr>\n",
              "      <th>638</th>\n",
              "      <td>-0.378068</td>\n",
              "      <td>2</td>\n",
              "      <td>0</td>\n",
              "    </tr>\n",
              "    <tr>\n",
              "      <th>882</th>\n",
              "      <td>1.030294</td>\n",
              "      <td>0</td>\n",
              "      <td>1</td>\n",
              "    </tr>\n",
              "    <tr>\n",
              "      <th>929</th>\n",
              "      <td>-0.481335</td>\n",
              "      <td>2</td>\n",
              "      <td>0</td>\n",
              "    </tr>\n",
              "    <tr>\n",
              "      <th>1131</th>\n",
              "      <td>-0.070009</td>\n",
              "      <td>2</td>\n",
              "      <td>0</td>\n",
              "    </tr>\n",
              "    <tr>\n",
              "      <th>...</th>\n",
              "      <td>...</td>\n",
              "      <td>...</td>\n",
              "      <td>...</td>\n",
              "    </tr>\n",
              "    <tr>\n",
              "      <th>28634</th>\n",
              "      <td>-0.525127</td>\n",
              "      <td>2</td>\n",
              "      <td>0</td>\n",
              "    </tr>\n",
              "    <tr>\n",
              "      <th>28647</th>\n",
              "      <td>-0.207786</td>\n",
              "      <td>2</td>\n",
              "      <td>0</td>\n",
              "    </tr>\n",
              "    <tr>\n",
              "      <th>29209</th>\n",
              "      <td>0.860034</td>\n",
              "      <td>0</td>\n",
              "      <td>1</td>\n",
              "    </tr>\n",
              "    <tr>\n",
              "      <th>29259</th>\n",
              "      <td>-0.416476</td>\n",
              "      <td>2</td>\n",
              "      <td>0</td>\n",
              "    </tr>\n",
              "    <tr>\n",
              "      <th>29526</th>\n",
              "      <td>-0.618127</td>\n",
              "      <td>2</td>\n",
              "      <td>0</td>\n",
              "    </tr>\n",
              "  </tbody>\n",
              "</table>\n",
              "<p>300 rows × 3 columns</p>\n",
              "</div>"
            ],
            "text/plain": [
              "           Loss  cluster_agglomerative  cluster_kmeans\n",
              "254   -0.580507                      2               0\n",
              "638   -0.378068                      2               0\n",
              "882    1.030294                      0               1\n",
              "929   -0.481335                      2               0\n",
              "1131  -0.070009                      2               0\n",
              "...         ...                    ...             ...\n",
              "28634 -0.525127                      2               0\n",
              "28647 -0.207786                      2               0\n",
              "29209  0.860034                      0               1\n",
              "29259 -0.416476                      2               0\n",
              "29526 -0.618127                      2               0\n",
              "\n",
              "[300 rows x 3 columns]"
            ]
          },
          "execution_count": 57,
          "metadata": {},
          "output_type": "execute_result"
        }
      ],
      "source": [
        "df_scaled"
      ]
    },
    {
      "cell_type": "code",
      "execution_count": 58,
      "metadata": {},
      "outputs": [
        {
          "name": "stdout",
          "output_type": "stream",
          "text": [
            "Cluster 0: [882, 1167, 1178, 1184, 1214, 1249, 1279, 1376, 1435, 1436, 1558, 1596, 1674, 1706, 1898, 2012, 2036, 2106, 2139, 2222, 2255, 2288, 2295, 2313, 2385, 2406, 2589, 2766, 2977, 3145, 3167, 3363, 3371, 3373, 4017, 5027, 5037, 6073, 6251, 6563, 6575, 6772, 7158, 7283, 7286, 7841, 7915, 8066, 8454, 8681, 9908, 10314, 10447, 10819, 11224, 11676, 11788, 11944, 12489, 13518, 13552, 13850, 15418, 15602, 16246, 16599, 16634, 16795, 17003, 19233, 19493, 19664, 20106, 20462, 21014, 21031, 22074, 23547, 23902, 23933, 24194, 25410, 25601, 25966, 25981, 26535, 26621, 26883, 28177, 28204, 29209]\n",
            "\n",
            "Cluster 1: [6789, 15957, 21364, 26538]\n",
            "\n",
            "Cluster 2: [254, 638, 929, 1131, 1155, 1161, 1192, 1211, 1219, 1248, 1254, 1261, 1262, 1294, 1297, 1331, 1348, 1368, 1372, 1399, 1409, 1412, 1424, 1466, 1467, 1485, 1499, 1517, 1535, 1548, 1554, 1585, 1597, 1608, 1652, 1660, 1688, 1719, 1725, 1733, 1790, 1791, 1805, 1812, 1830, 1838, 1848, 1863, 1869, 1881, 1891, 1901, 1903, 1923, 1928, 1990, 2009, 2010, 2024, 2030, 2033, 2041, 2046, 2084, 2090, 2103, 2110, 2132, 2134, 2135, 2136, 2152, 2179, 2189, 2197, 2238, 2276, 2281, 2287, 2296, 2326, 2333, 2337, 2349, 2354, 2358, 2363, 2389, 2399, 2404, 2411, 2415, 2437, 2439, 2461, 2462, 2466, 2470, 2481, 2545, 2549, 2552, 2559, 2597, 2622, 2630, 2644, 2651, 2653, 2678, 2688, 2719, 2891, 3827, 4221, 4785, 4795, 4938, 5582, 5899, 5903, 6115, 6242, 6323, 6532, 6543, 7125, 7346, 8067, 8187, 8245, 8253, 8680, 8734, 8930, 9177, 9226, 9856, 10560, 11245, 11657, 11718, 11724, 12100, 12154, 12784, 12982, 13080, 13273, 13551, 13582, 13664, 13666, 13935, 14422, 14456, 14744, 14768, 15049, 15408, 15834, 16504, 16718, 16916, 16966, 17859, 17950, 18082, 18203, 19711, 20060, 20172, 20180, 20680, 21011, 21356, 21404, 21484, 21576, 21659, 22094, 22252, 22625, 22936, 23571, 23768, 23872, 24186, 25131, 25395, 25409, 25919, 26057, 26240, 26371, 26517, 26620, 27091, 27472, 27740, 28594, 28634, 28647, 29259, 29526]\n",
            "\n"
          ]
        }
      ],
      "source": [
        "users = list(df_scaled.index)\n",
        "groups = df_scaled['cluster_agglomerative']\n",
        "\n",
        "grouped_users = {i: [] for i in range(n_clusters)}\n",
        "\n",
        "for user, group in zip(users, groups):\n",
        "    grouped_users[group].append(user)\n",
        "\n",
        "for gp, ctr in grouped_users.items():\n",
        "    print(f'Cluster {gp}: {ctr}\\n')"
      ]
    },
    {
      "cell_type": "code",
      "execution_count": 59,
      "metadata": {},
      "outputs": [
        {
          "name": "stdout",
          "output_type": "stream",
          "text": [
            "davies_bouldin_score:  0.3226666278931178\n",
            "silhouette_score:  0.8555597648982005\n"
          ]
        }
      ],
      "source": [
        "# clustering performance evaluation\n",
        "from sklearn.metrics import davies_bouldin_score\n",
        "print('davies_bouldin_score: ', davies_bouldin_score(df_scaled, kmeans.labels_))\n",
        "\n",
        "from sklearn.metrics import silhouette_score\n",
        "print('silhouette_score: ', silhouette_score(df_scaled, kmeans.labels_, metric='euclidean'))"
      ]
    },
    {
      "cell_type": "code",
      "execution_count": 60,
      "metadata": {},
      "outputs": [
        {
          "data": {
            "image/png": "[encoded data removed]",
            "text/plain": [
              "<Figure size 432x288 with 1 Axes>"
            ]
          },
          "metadata": {},
          "output_type": "display_data"
        }
      ],
      "source": [
        "# G group: identifying the groups (IU: individual unfairness - the variance of the user losses)\n",
        "# The configuration of groups was based in the hierarchical clustering (tree clustering - dendrogram)\n",
        "# Clusters 1, 2 and 3\n",
        "G = {1: [882, 1167, 1178, 1184, 1214, 1249, 1279, 1376, 1435, 1436, 1558, 1596, 1674, 1706, 1898, 2012, 2036, 2106, 2139, 2222, 2255, 2288, 2295, 2313, 2385, 2406, 2589, 2766, 2977, 3145, 3167, 3363, 3371, 3373, 4017, 5027, 5037, 6073, 6251, 6563, 6575, 6772, 7158, 7283, 7286, 7841, 7915, 8066, 8454, 8681, 9908, 10314, 10447, 10819, 11224, 11676, 11788, 11944, 12489, 13518, 13552, 13850, 15418, 15602, 16246, 16599, 16634, 16795, 17003, 19233, 19493, 19664, 20106, 20462, 21014, 21031, 22074, 23547, 23902, 23933, 24194, 25410, 25601, 25966, 25981, 26535, 26621, 26883, 28177, 28204, 29209], 2: [6789, 15957, 21364, 26538], 3: [254, 638, 929, 1131, 1155, 1161, 1192, 1211, 1219, 1248, 1254, 1261, 1262, 1294, 1297, 1331, 1348, 1368, 1372, 1399, 1409, 1412, 1424, 1466, 1467, 1485, 1499, 1517, 1535, 1548, 1554, 1585, 1597, 1608, 1652, 1660, 1688, 1719, 1725, 1733, 1790, 1791, 1805, 1812, 1830, 1838, 1848, 1863, 1869, 1881, 1891, 1901, 1903, 1923, 1928, 1990, 2009, 2010, 2024, 2030, 2033, 2041, 2046, 2084, 2090, 2103, 2110, 2132, 2134, 2135, 2136, 2152, 2179, 2189, 2197, 2238, 2276, 2281, 2287, 2296, 2326, 2333, 2337, 2349, 2354, 2358, 2363, 2389, 2399, 2404, 2411, 2415, 2437, 2439, 2461, 2462, 2466, 2470, 2481, 2545, 2549, 2552, 2559, 2597, 2622, 2630, 2644, 2651, 2653, 2678, 2688, 2719, 2891, 3827, 4221, 4785, 4795, 4938, 5582, 5899, 5903, 6115, 6242, 6323, 6532, 6543, 7125, 7346, 8067, 8187, 8245, 8253, 8680, 8734, 8930, 9177, 9226, 9856, 10560, 11245, 11657, 11718, 11724, 12100, 12154, 12784, 12982, 13080, 13273, 13551, 13582, 13664, 13666, 13935, 14422, 14456, 14744, 14768, 15049, 15408, 15834, 16504, 16718, 16916, 16966, 17859, 17950, 18082, 18203, 19711, 20060, 20172, 20180, 20680, 21011, 21356, 21404, 21484, 21576, 21659, 22094, 22252, 22625, 22936, 23571, 23768, 23872, 24186, 25131, 25395, 25409, 25919, 26057, 26240, 26371, 26517, 26620, 27091, 27472, 27740, 28594, 28634, 28647, 29259, 29526]}\n",
        "\n",
        "glv = GroupLossVariance(X, omega, G, 1) #axis = 1 (0 rows e 1 columns)\n",
        "losses_RgrpIU = glv.get_losses(X_est)\n",
        "RgrpIU = glv.evaluate(X_est)\n",
        "\n",
        "RgrpIU_groups = ['RgrpIU: 1', 'RgrpIU: 2', 'RgrpIU: 3']\n",
        "plt.bar(RgrpIU_groups, losses_RgrpIU)\n",
        "plt.title('Group unfairness IU (Individual unfairness): ' +  str(RgrpIU))\n",
        "plt.show()"
      ]
    }
  ],
  "metadata": {
    "colab": {
      "collapsed_sections": [],
      "name": "recsys-cluster-loss-20items-agrupamento.ipynb",
      "provenance": []
    },
    "interpreter": {
      "hash": "33a6e123bcdbde5194593dce101121189e5e4c5a8c334626e820e0bd268629ea"
    },
    "kernelspec": {
      "display_name": "Python 3.9.6 64-bit",
      "name": "python3"
    },
    "language_info": {
      "codemirror_mode": {
        "name": "ipython",
        "version": 3
      },
      "file_extension": ".py",
      "mimetype": "text/x-python",
      "name": "python",
      "nbconvert_exporter": "python",
      "pygments_lexer": "ipython3",
      "version": "3.9.6"
    }
  },
  "nbformat": 4,
  "nbformat_minor": 2
}
