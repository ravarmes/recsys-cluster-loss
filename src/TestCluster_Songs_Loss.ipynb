{
  "cells": [
    {
      "cell_type": "markdown",
      "metadata": {
        "id": "ZKCpdWWT4s-B"
      },
      "source": [
        "**recsys-cluster-loss**\n",
        "\n",
        "Example of cluster analysis in the context of recommendation systems.\n",
        "Users who receive recommendations will be grouped based on the individual fairness measure of those recommendations.\n",
        "The objective is to analyze whether there is any type of injustice of non-obvious user groups, that is, groups that cannot be configured based on some explicit user characteristic (variable) (for example: gender, age, etc.) .\n",
        "\n",
        "Two methods of grouping will be applied:\n",
        "1. Hierarchical clustering (tree clustering - dendrogram)\n",
        "2. Non-hierarchical grouping by breakdown (grouping by k-Means)\n",
        "\n",
        "In this file we are analyzing the possible groupings considering the following variable(s):\n",
        "- Loss: individual unfairness"
      ]
    },
    {
      "cell_type": "markdown",
      "metadata": {},
      "source": [
        "Recommendation system: generating the recommendation matrix and calculating individual fairness"
      ]
    },
    {
      "cell_type": "code",
      "execution_count": 1,
      "metadata": {
        "colab": {
          "base_uri": "https://localhost:8080/"
        },
        "id": "fJW5Qza9tDe0",
        "outputId": "fad6d80d-19d2-4ac5-e00d-bf495d0a23fe"
      },
      "outputs": [
        {
          "name": "stderr",
          "output_type": "stream",
          "text": [
            "'rm' n�o � reconhecido como um comando interno\n",
            "ou externo, um programa oper�vel ou um arquivo em lotes.\n",
            "fatal: destination path 'recsys-cluster-loss' already exists and is not an empty directory.\n"
          ]
        }
      ],
      "source": [
        "# cloning repository with database\n",
        "!rm -rf recsys-cluster-loss\n",
        "!git clone https://github.com/ravarmes/recsys-cluster-loss.git"
      ]
    },
    {
      "cell_type": "code",
      "execution_count": 2,
      "metadata": {},
      "outputs": [],
      "source": [
        "import pandas as pd\n",
        "import numpy as np\n",
        "import matplotlib.pyplot as plt\n",
        "import seaborn as sns\n",
        "from sklearn.preprocessing import StandardScaler\n",
        "from sklearn.cluster import AgglomerativeClustering, KMeans\n",
        "from scipy.cluster import hierarchy\n",
        "\n",
        "import warnings\n",
        "warnings.filterwarnings('ignore')\n",
        "\n",
        "sns.set()"
      ]
    },
    {
      "cell_type": "code",
      "execution_count": 3,
      "metadata": {
        "id": "biw8w4RKArjN"
      },
      "outputs": [],
      "source": [
        "import sys\n",
        "sys.path.append('recsys-cluster-loss/src')\n",
        "from RecSys import RecSys\n",
        "from UserFairness import IndividualLossVariance\n",
        "from UserFairness import GroupLossVariance"
      ]
    },
    {
      "cell_type": "code",
      "execution_count": 4,
      "metadata": {
        "id": "2FQ0_uYOIvEj"
      },
      "outputs": [],
      "source": [
        "# reading data from 19993 songs and 16000 users  \n",
        "Data_path = 'recsys-cluster-loss/data/Songs'\n",
        "n_users=  300\n",
        "n_items= 1000\n",
        "top_users = True # True: to use users with more ratings; False: otherwise\n",
        "top_items = True # True: to use movies with more ratings; False: otherwise"
      ]
    },
    {
      "cell_type": "code",
      "execution_count": 5,
      "metadata": {
        "id": "kky92lhnIxxf"
      },
      "outputs": [],
      "source": [
        "# recommendation algorithm\n",
        "algorithm = 'RecSysALS'"
      ]
    },
    {
      "cell_type": "code",
      "execution_count": 6,
      "metadata": {
        "id": "NwhZkRQ_I0YF"
      },
      "outputs": [],
      "source": [
        "# parameters for calculating fairness measures\n",
        "l = 5\n",
        "theta = 3\n",
        "k = 3"
      ]
    },
    {
      "cell_type": "code",
      "execution_count": 7,
      "metadata": {
        "id": "1qWcPGY5I9FE"
      },
      "outputs": [],
      "source": [
        "recsys = RecSys(n_users, n_items, top_users, top_items, l, theta, k)"
      ]
    },
    {
      "cell_type": "code",
      "execution_count": 8,
      "metadata": {
        "colab": {
          "base_uri": "https://localhost:8080/",
          "height": 1000
        },
        "id": "gxrBq6I1JK8o",
        "outputId": "6a71ff85-ef00-4e20-d663-373602218bd8"
      },
      "outputs": [],
      "source": [
        "X, users_info, items_info = recsys.read_songs(n_users, n_items, top_users, top_items, data_dir = Data_path) # returns matrix of ratings with n_users rows and n_moveis columns\n",
        "omega = ~X.isnull() # matrix X with True in cells with evaluations and False in cells not rated"
      ]
    },
    {
      "cell_type": "code",
      "execution_count": 9,
      "metadata": {
        "id": "8XR9U63U01GL"
      },
      "outputs": [
        {
          "data": {
            "text/html": [
              "<div>\n",
              "<style scoped>\n",
              "    .dataframe tbody tr th:only-of-type {\n",
              "        vertical-align: middle;\n",
              "    }\n",
              "\n",
              "    .dataframe tbody tr th {\n",
              "        vertical-align: top;\n",
              "    }\n",
              "\n",
              "    .dataframe thead th {\n",
              "        text-align: right;\n",
              "    }\n",
              "</style>\n",
              "<table border=\"1\" class=\"dataframe\">\n",
              "  <thead>\n",
              "    <tr style=\"text-align: right;\">\n",
              "      <th></th>\n",
              "      <th>UserID</th>\n",
              "      <th>NR</th>\n",
              "    </tr>\n",
              "  </thead>\n",
              "  <tbody>\n",
              "    <tr>\n",
              "      <th>1</th>\n",
              "      <td>1</td>\n",
              "      <td>2.0</td>\n",
              "    </tr>\n",
              "    <tr>\n",
              "      <th>2</th>\n",
              "      <td>2</td>\n",
              "      <td>1.0</td>\n",
              "    </tr>\n",
              "    <tr>\n",
              "      <th>3</th>\n",
              "      <td>3</td>\n",
              "      <td>1.0</td>\n",
              "    </tr>\n",
              "    <tr>\n",
              "      <th>4</th>\n",
              "      <td>4</td>\n",
              "      <td>1.0</td>\n",
              "    </tr>\n",
              "    <tr>\n",
              "      <th>5</th>\n",
              "      <td>5</td>\n",
              "      <td>1.0</td>\n",
              "    </tr>\n",
              "    <tr>\n",
              "      <th>...</th>\n",
              "      <td>...</td>\n",
              "      <td>...</td>\n",
              "    </tr>\n",
              "    <tr>\n",
              "      <th>15996</th>\n",
              "      <td>15996</td>\n",
              "      <td>NaN</td>\n",
              "    </tr>\n",
              "    <tr>\n",
              "      <th>15997</th>\n",
              "      <td>15997</td>\n",
              "      <td>1.0</td>\n",
              "    </tr>\n",
              "    <tr>\n",
              "      <th>15998</th>\n",
              "      <td>15998</td>\n",
              "      <td>NaN</td>\n",
              "    </tr>\n",
              "    <tr>\n",
              "      <th>15999</th>\n",
              "      <td>15999</td>\n",
              "      <td>1.0</td>\n",
              "    </tr>\n",
              "    <tr>\n",
              "      <th>16000</th>\n",
              "      <td>16000</td>\n",
              "      <td>5.0</td>\n",
              "    </tr>\n",
              "  </tbody>\n",
              "</table>\n",
              "<p>16000 rows × 2 columns</p>\n",
              "</div>"
            ],
            "text/plain": [
              "       UserID   NR\n",
              "1           1  2.0\n",
              "2           2  1.0\n",
              "3           3  1.0\n",
              "4           4  1.0\n",
              "5           5  1.0\n",
              "...       ...  ...\n",
              "15996   15996  NaN\n",
              "15997   15997  1.0\n",
              "15998   15998  NaN\n",
              "15999   15999  1.0\n",
              "16000   16000  5.0\n",
              "\n",
              "[16000 rows x 2 columns]"
            ]
          },
          "execution_count": 9,
          "metadata": {},
          "output_type": "execute_result"
        }
      ],
      "source": [
        "users_info"
      ]
    },
    {
      "cell_type": "code",
      "execution_count": 10,
      "metadata": {
        "id": "DRwHlM5m0y9x"
      },
      "outputs": [],
      "source": [
        "X_est = recsys.compute_X_est(X, algorithm, Data_path) # RecSysALS or RecSysKNN or RecSysNMF or RecSysExampleAntidoteData20Items"
      ]
    },
    {
      "cell_type": "code",
      "execution_count": 11,
      "metadata": {
        "id": "dmqGCoRn5atN"
      },
      "outputs": [],
      "source": [
        "ilv = IndividualLossVariance(X, omega, 1)\n",
        "losses = ilv.get_losses(X_est)"
      ]
    },
    {
      "cell_type": "code",
      "execution_count": 12,
      "metadata": {},
      "outputs": [
        {
          "data": {
            "text/plain": [
              "UserID\n",
              "9856     2.604075\n",
              "3684     1.009784\n",
              "4676     0.615977\n",
              "13959    0.641452\n",
              "549      0.262612\n",
              "           ...   \n",
              "3044     1.760334\n",
              "3117     0.326147\n",
              "3149     0.247712\n",
              "3153     1.038403\n",
              "3154     1.859207\n",
              "Length: 300, dtype: float64"
            ]
          },
          "execution_count": 12,
          "metadata": {},
          "output_type": "execute_result"
        }
      ],
      "source": [
        "losses"
      ]
    },
    {
      "cell_type": "code",
      "execution_count": 13,
      "metadata": {
        "colab": {
          "base_uri": "https://localhost:8080/",
          "height": 1000
        },
        "id": "gEocAu4NGHsD",
        "outputId": "c625291f-76ab-46dd-bd6f-4b619a8463e4"
      },
      "outputs": [
        {
          "data": {
            "text/html": [
              "<div>\n",
              "<style scoped>\n",
              "    .dataframe tbody tr th:only-of-type {\n",
              "        vertical-align: middle;\n",
              "    }\n",
              "\n",
              "    .dataframe tbody tr th {\n",
              "        vertical-align: top;\n",
              "    }\n",
              "\n",
              "    .dataframe thead th {\n",
              "        text-align: right;\n",
              "    }\n",
              "</style>\n",
              "<table border=\"1\" class=\"dataframe\">\n",
              "  <thead>\n",
              "    <tr style=\"text-align: right;\">\n",
              "      <th></th>\n",
              "      <th>Loss</th>\n",
              "      <th>NR</th>\n",
              "    </tr>\n",
              "  </thead>\n",
              "  <tbody>\n",
              "    <tr>\n",
              "      <th>18</th>\n",
              "      <td>0.311581</td>\n",
              "      <td>3.0</td>\n",
              "    </tr>\n",
              "    <tr>\n",
              "      <th>50</th>\n",
              "      <td>0.352380</td>\n",
              "      <td>3.0</td>\n",
              "    </tr>\n",
              "    <tr>\n",
              "      <th>54</th>\n",
              "      <td>0.522769</td>\n",
              "      <td>4.0</td>\n",
              "    </tr>\n",
              "    <tr>\n",
              "      <th>114</th>\n",
              "      <td>0.323800</td>\n",
              "      <td>3.0</td>\n",
              "    </tr>\n",
              "    <tr>\n",
              "      <th>132</th>\n",
              "      <td>0.548810</td>\n",
              "      <td>3.0</td>\n",
              "    </tr>\n",
              "    <tr>\n",
              "      <th>...</th>\n",
              "      <td>...</td>\n",
              "      <td>...</td>\n",
              "    </tr>\n",
              "    <tr>\n",
              "      <th>15714</th>\n",
              "      <td>0.326247</td>\n",
              "      <td>5.0</td>\n",
              "    </tr>\n",
              "    <tr>\n",
              "      <th>15759</th>\n",
              "      <td>1.527129</td>\n",
              "      <td>4.0</td>\n",
              "    </tr>\n",
              "    <tr>\n",
              "      <th>15771</th>\n",
              "      <td>2.657136</td>\n",
              "      <td>4.0</td>\n",
              "    </tr>\n",
              "    <tr>\n",
              "      <th>15779</th>\n",
              "      <td>0.437228</td>\n",
              "      <td>5.0</td>\n",
              "    </tr>\n",
              "    <tr>\n",
              "      <th>15836</th>\n",
              "      <td>0.401418</td>\n",
              "      <td>5.0</td>\n",
              "    </tr>\n",
              "  </tbody>\n",
              "</table>\n",
              "<p>300 rows × 2 columns</p>\n",
              "</div>"
            ],
            "text/plain": [
              "           Loss   NR\n",
              "18     0.311581  3.0\n",
              "50     0.352380  3.0\n",
              "54     0.522769  4.0\n",
              "114    0.323800  3.0\n",
              "132    0.548810  3.0\n",
              "...         ...  ...\n",
              "15714  0.326247  5.0\n",
              "15759  1.527129  4.0\n",
              "15771  2.657136  4.0\n",
              "15779  0.437228  5.0\n",
              "15836  0.401418  5.0\n",
              "\n",
              "[300 rows x 2 columns]"
            ]
          },
          "execution_count": 13,
          "metadata": {},
          "output_type": "execute_result"
        }
      ],
      "source": [
        "df = pd.DataFrame(columns=['Loss'])\n",
        "df['NR'] = users_info['NR']\n",
        "df['Loss'] = losses\n",
        "\n",
        "df.dropna(subset=['Loss'], inplace=True) # eliminating rows with empty values in the 'Loss' column\n",
        "df"
      ]
    },
    {
      "cell_type": "code",
      "execution_count": 14,
      "metadata": {
        "colab": {
          "base_uri": "https://localhost:8080/",
          "height": 234
        },
        "id": "uHXqrVas1yce",
        "outputId": "db24a330-f8dd-4b9c-e301-bf66f616a8f8"
      },
      "outputs": [
        {
          "data": {
            "text/html": [
              "<div>\n",
              "<style scoped>\n",
              "    .dataframe tbody tr th:only-of-type {\n",
              "        vertical-align: middle;\n",
              "    }\n",
              "\n",
              "    .dataframe tbody tr th {\n",
              "        vertical-align: top;\n",
              "    }\n",
              "\n",
              "    .dataframe thead th {\n",
              "        text-align: right;\n",
              "    }\n",
              "</style>\n",
              "<table border=\"1\" class=\"dataframe\">\n",
              "  <thead>\n",
              "    <tr style=\"text-align: right;\">\n",
              "      <th></th>\n",
              "      <th>Loss</th>\n",
              "      <th>NR</th>\n",
              "    </tr>\n",
              "  </thead>\n",
              "  <tbody>\n",
              "    <tr>\n",
              "      <th>18</th>\n",
              "      <td>0.311581</td>\n",
              "      <td>3.0</td>\n",
              "    </tr>\n",
              "    <tr>\n",
              "      <th>50</th>\n",
              "      <td>0.352380</td>\n",
              "      <td>3.0</td>\n",
              "    </tr>\n",
              "    <tr>\n",
              "      <th>54</th>\n",
              "      <td>0.522769</td>\n",
              "      <td>4.0</td>\n",
              "    </tr>\n",
              "    <tr>\n",
              "      <th>114</th>\n",
              "      <td>0.323800</td>\n",
              "      <td>3.0</td>\n",
              "    </tr>\n",
              "    <tr>\n",
              "      <th>132</th>\n",
              "      <td>0.548810</td>\n",
              "      <td>3.0</td>\n",
              "    </tr>\n",
              "  </tbody>\n",
              "</table>\n",
              "</div>"
            ],
            "text/plain": [
              "         Loss   NR\n",
              "18   0.311581  3.0\n",
              "50   0.352380  3.0\n",
              "54   0.522769  4.0\n",
              "114  0.323800  3.0\n",
              "132  0.548810  3.0"
            ]
          },
          "execution_count": 14,
          "metadata": {},
          "output_type": "execute_result"
        }
      ],
      "source": [
        "df.head()"
      ]
    },
    {
      "cell_type": "code",
      "execution_count": 15,
      "metadata": {
        "colab": {
          "base_uri": "https://localhost:8080/"
        },
        "id": "qTaZvgmL16HL",
        "outputId": "5f5f2689-a441-41cd-b740-1e274f2d53b9"
      },
      "outputs": [
        {
          "data": {
            "text/plain": [
              "(300, 2)"
            ]
          },
          "execution_count": 15,
          "metadata": {},
          "output_type": "execute_result"
        }
      ],
      "source": [
        "# number of rows and columns:\n",
        "df.shape"
      ]
    },
    {
      "cell_type": "code",
      "execution_count": 16,
      "metadata": {
        "colab": {
          "base_uri": "https://localhost:8080/",
          "height": 295
        },
        "id": "Imo2zaMR1-Yl",
        "outputId": "1f412f7d-97a1-41f3-c262-f0040010fb50"
      },
      "outputs": [
        {
          "data": {
            "text/html": [
              "<div>\n",
              "<style scoped>\n",
              "    .dataframe tbody tr th:only-of-type {\n",
              "        vertical-align: middle;\n",
              "    }\n",
              "\n",
              "    .dataframe tbody tr th {\n",
              "        vertical-align: top;\n",
              "    }\n",
              "\n",
              "    .dataframe thead th {\n",
              "        text-align: right;\n",
              "    }\n",
              "</style>\n",
              "<table border=\"1\" class=\"dataframe\">\n",
              "  <thead>\n",
              "    <tr style=\"text-align: right;\">\n",
              "      <th></th>\n",
              "      <th>Loss</th>\n",
              "      <th>NR</th>\n",
              "    </tr>\n",
              "  </thead>\n",
              "  <tbody>\n",
              "    <tr>\n",
              "      <th>count</th>\n",
              "      <td>300.000000</td>\n",
              "      <td>300.000000</td>\n",
              "    </tr>\n",
              "    <tr>\n",
              "      <th>mean</th>\n",
              "      <td>0.778810</td>\n",
              "      <td>3.886667</td>\n",
              "    </tr>\n",
              "    <tr>\n",
              "      <th>std</th>\n",
              "      <td>0.659219</td>\n",
              "      <td>0.830334</td>\n",
              "    </tr>\n",
              "    <tr>\n",
              "      <th>min</th>\n",
              "      <td>0.012553</td>\n",
              "      <td>3.000000</td>\n",
              "    </tr>\n",
              "    <tr>\n",
              "      <th>25%</th>\n",
              "      <td>0.304847</td>\n",
              "      <td>3.000000</td>\n",
              "    </tr>\n",
              "    <tr>\n",
              "      <th>50%</th>\n",
              "      <td>0.538625</td>\n",
              "      <td>4.000000</td>\n",
              "    </tr>\n",
              "    <tr>\n",
              "      <th>75%</th>\n",
              "      <td>0.994383</td>\n",
              "      <td>4.000000</td>\n",
              "    </tr>\n",
              "    <tr>\n",
              "      <th>max</th>\n",
              "      <td>3.412221</td>\n",
              "      <td>8.000000</td>\n",
              "    </tr>\n",
              "  </tbody>\n",
              "</table>\n",
              "</div>"
            ],
            "text/plain": [
              "             Loss          NR\n",
              "count  300.000000  300.000000\n",
              "mean     0.778810    3.886667\n",
              "std      0.659219    0.830334\n",
              "min      0.012553    3.000000\n",
              "25%      0.304847    3.000000\n",
              "50%      0.538625    4.000000\n",
              "75%      0.994383    4.000000\n",
              "max      3.412221    8.000000"
            ]
          },
          "execution_count": 16,
          "metadata": {},
          "output_type": "execute_result"
        }
      ],
      "source": [
        "# descriptive statistics:\n",
        "df.describe()"
      ]
    },
    {
      "cell_type": "code",
      "execution_count": 17,
      "metadata": {},
      "outputs": [
        {
          "data": {
            "text/plain": [
              "<seaborn.axisgrid.PairGrid at 0x1ca1b858dc0>"
            ]
          },
          "execution_count": 17,
          "metadata": {},
          "output_type": "execute_result"
        },
        {
          "data": {
            "image/png": "[encoded data removed]",
            "text/plain": [
              "<Figure size 360x360 with 6 Axes>"
            ]
          },
          "metadata": {},
          "output_type": "display_data"
        }
      ],
      "source": [
        "sns.pairplot(df)"
      ]
    },
    {
      "cell_type": "code",
      "execution_count": 18,
      "metadata": {},
      "outputs": [
        {
          "data": {
            "text/plain": [
              "<AxesSubplot:>"
            ]
          },
          "execution_count": 18,
          "metadata": {},
          "output_type": "execute_result"
        },
        {
          "data": {
            "image/png": "[encoded data removed]",
            "text/plain": [
              "<Figure size 504x504 with 1 Axes>"
            ]
          },
          "metadata": {},
          "output_type": "display_data"
        }
      ],
      "source": [
        "plt.figure(figsize=(7, 7))\n",
        "corr = np.corrcoef(df.values, rowvar=False)\n",
        "sns.heatmap(corr, annot=True, cmap='Blues', fmt='.2f', cbar=False, xticklabels=df.columns, yticklabels=df.columns)"
      ]
    },
    {
      "cell_type": "markdown",
      "metadata": {},
      "source": [
        "Hierarchical clustering (tree clustering - dendrogram)"
      ]
    },
    {
      "cell_type": "code",
      "execution_count": 19,
      "metadata": {},
      "outputs": [],
      "source": [
        "# Leaving only the Loss column to perform cluster analysis\n",
        "df = df.drop('NR', 1) \n",
        "#df = df.drop('Loss', 1)"
      ]
    },
    {
      "cell_type": "code",
      "execution_count": 20,
      "metadata": {},
      "outputs": [],
      "source": [
        "df_scaled = df.copy()\n",
        "df_scaled.iloc[:, :] = StandardScaler().fit_transform(df)"
      ]
    },
    {
      "cell_type": "code",
      "execution_count": 21,
      "metadata": {},
      "outputs": [
        {
          "data": {
            "image/png": "[encoded data removed]",
            "text/plain": [
              "<Figure size 1584x720 with 1 Axes>"
            ]
          },
          "metadata": {},
          "output_type": "display_data"
        }
      ],
      "source": [
        "Z = hierarchy.linkage(df_scaled, 'ward') #complete or ward\n",
        "plt.figure(figsize=(22, 10))\n",
        "plt.grid(axis='y')\n",
        "dn = hierarchy.dendrogram(Z, labels=list(df.index), leaf_font_size=8)"
      ]
    },
    {
      "cell_type": "code",
      "execution_count": 22,
      "metadata": {},
      "outputs": [],
      "source": [
        "n_clusters = 3\n",
        "cluster = AgglomerativeClustering(n_clusters=n_clusters, affinity='euclidean', linkage='ward')\n",
        "df_scaled['cluster_agglomerative'] = cluster.fit_predict(df_scaled)"
      ]
    },
    {
      "cell_type": "code",
      "execution_count": 23,
      "metadata": {},
      "outputs": [
        {
          "data": {
            "text/html": [
              "<div>\n",
              "<style scoped>\n",
              "    .dataframe tbody tr th:only-of-type {\n",
              "        vertical-align: middle;\n",
              "    }\n",
              "\n",
              "    .dataframe tbody tr th {\n",
              "        vertical-align: top;\n",
              "    }\n",
              "\n",
              "    .dataframe thead tr th {\n",
              "        text-align: left;\n",
              "    }\n",
              "\n",
              "    .dataframe thead tr:last-of-type th {\n",
              "        text-align: right;\n",
              "    }\n",
              "</style>\n",
              "<table border=\"1\" class=\"dataframe\">\n",
              "  <thead>\n",
              "    <tr>\n",
              "      <th></th>\n",
              "      <th colspan=\"8\" halign=\"left\">Loss</th>\n",
              "    </tr>\n",
              "    <tr>\n",
              "      <th></th>\n",
              "      <th>count</th>\n",
              "      <th>mean</th>\n",
              "      <th>std</th>\n",
              "      <th>min</th>\n",
              "      <th>25%</th>\n",
              "      <th>50%</th>\n",
              "      <th>75%</th>\n",
              "      <th>max</th>\n",
              "    </tr>\n",
              "    <tr>\n",
              "      <th>cluster_agglomerative</th>\n",
              "      <th></th>\n",
              "      <th></th>\n",
              "      <th></th>\n",
              "      <th></th>\n",
              "      <th></th>\n",
              "      <th></th>\n",
              "      <th></th>\n",
              "      <th></th>\n",
              "    </tr>\n",
              "  </thead>\n",
              "  <tbody>\n",
              "    <tr>\n",
              "      <th>0</th>\n",
              "      <td>236.0</td>\n",
              "      <td>0.483735</td>\n",
              "      <td>0.260380</td>\n",
              "      <td>0.012553</td>\n",
              "      <td>0.280332</td>\n",
              "      <td>0.416058</td>\n",
              "      <td>0.645195</td>\n",
              "      <td>1.091445</td>\n",
              "    </tr>\n",
              "    <tr>\n",
              "      <th>1</th>\n",
              "      <td>34.0</td>\n",
              "      <td>2.273992</td>\n",
              "      <td>0.385293</td>\n",
              "      <td>1.760334</td>\n",
              "      <td>1.994485</td>\n",
              "      <td>2.170452</td>\n",
              "      <td>2.587045</td>\n",
              "      <td>3.412221</td>\n",
              "    </tr>\n",
              "    <tr>\n",
              "      <th>2</th>\n",
              "      <td>30.0</td>\n",
              "      <td>1.405532</td>\n",
              "      <td>0.162292</td>\n",
              "      <td>1.158460</td>\n",
              "      <td>1.246225</td>\n",
              "      <td>1.434622</td>\n",
              "      <td>1.548282</td>\n",
              "      <td>1.655438</td>\n",
              "    </tr>\n",
              "  </tbody>\n",
              "</table>\n",
              "</div>"
            ],
            "text/plain": [
              "                        Loss                                          \\\n",
              "                       count      mean       std       min       25%   \n",
              "cluster_agglomerative                                                  \n",
              "0                      236.0  0.483735  0.260380  0.012553  0.280332   \n",
              "1                       34.0  2.273992  0.385293  1.760334  1.994485   \n",
              "2                       30.0  1.405532  0.162292  1.158460  1.246225   \n",
              "\n",
              "                                                     \n",
              "                            50%       75%       max  \n",
              "cluster_agglomerative                                \n",
              "0                      0.416058  0.645195  1.091445  \n",
              "1                      2.170452  2.587045  3.412221  \n",
              "2                      1.434622  1.548282  1.655438  "
            ]
          },
          "execution_count": 23,
          "metadata": {},
          "output_type": "execute_result"
        }
      ],
      "source": [
        "# descriptive statistics of groups\n",
        "df_groups = df.copy()\n",
        "df_groups[\"cluster_agglomerative\"] = cluster.labels_\n",
        "df_groups = df_groups.groupby(\"cluster_agglomerative\")\n",
        "df_groups.describe()"
      ]
    },
    {
      "cell_type": "code",
      "execution_count": 24,
      "metadata": {},
      "outputs": [
        {
          "name": "stdout",
          "output_type": "stream",
          "text": [
            "Cluster 0: [18, 50, 54, 114, 132, 133, 177, 185, 193, 195, 204, 208, 303, 324, 348, 352, 462, 516, 527, 549, 561, 572, 575, 589, 599, 623, 628, 630, 764, 775, 813, 814, 817, 826, 832, 886, 925, 954, 977, 999, 1005, 1008, 1042, 1047, 1109, 1194, 1199, 1202, 1259, 1296, 1359, 1376, 1394, 1396, 1398, 1437, 1479, 1483, 1489, 1563, 1584, 1588, 1611, 1633, 1702, 1712, 1757, 1787, 1819, 1821, 1824, 1828, 1835, 1904, 1912, 1938, 1946, 1980, 1983, 2046, 2051, 2060, 2123, 2162, 2164, 2183, 2187, 2199, 2227, 2230, 2262, 2270, 2295, 2297, 2327, 2350, 2353, 2354, 2384, 2401, 2403, 2460, 2519, 2614, 2644, 2695, 2702, 2784, 2863, 2881, 2895, 2910, 2931, 2952, 2954, 2964, 2971, 2973, 3025, 3037, 3117, 3149, 3153, 3237, 3374, 3383, 3438, 3447, 3474, 3500, 3506, 3519, 3534, 3553, 3658, 3684, 3839, 3893, 3964, 4040, 4138, 4339, 4376, 4440, 4515, 4676, 4789, 5082, 5110, 5159, 5489, 5579, 5673, 5832, 5908, 6024, 6176, 6204, 6224, 6587, 6624, 6810, 6931, 7057, 7284, 7297, 7494, 7547, 7669, 7786, 8081, 8109, 8189, 8236, 8569, 8636, 8960, 8962, 9111, 9116, 9134, 9135, 9224, 9334, 9378, 9443, 9513, 9620, 9698, 9719, 9792, 9879, 9990, 9999, 10029, 10152, 10525, 10605, 10646, 10664, 10860, 10893, 10931, 11119, 11306, 11428, 11460, 11714, 11938, 11978, 12138, 12169, 12941, 12965, 13181, 13361, 13474, 13548, 13750, 13773, 13911, 13959, 14276, 14419, 14491, 14615, 14694, 15313, 15346, 15352, 15472, 15475, 15611, 15714, 15779, 15836]\n",
            "\n",
            "Cluster 1: [152, 167, 199, 441, 460, 670, 724, 784, 1136, 1228, 1548, 2094, 2197, 2390, 2521, 2766, 2792, 3044, 3085, 3130, 3154, 3599, 3808, 4360, 4973, 5938, 6088, 6336, 9856, 11440, 13335, 14621, 15293, 15771]\n",
            "\n",
            "Cluster 2: [166, 270, 405, 650, 1262, 1328, 1426, 1499, 1762, 1816, 2023, 2233, 2451, 2455, 2573, 2607, 2864, 3523, 3834, 3891, 4114, 6405, 6441, 7324, 9766, 10204, 11968, 13949, 15604, 15759]\n",
            "\n"
          ]
        }
      ],
      "source": [
        "\n",
        "users = list(df_scaled.index)\n",
        "groups = df_scaled['cluster_agglomerative']\n",
        "\n",
        "grouped_users = {i: [] for i in range(n_clusters)}\n",
        "for user, group in zip(users, groups):\n",
        "    grouped_users[group].append(user)\n",
        "\n",
        "for gp, ctr in grouped_users.items():\n",
        "    print(f'Cluster {gp}: {ctr}\\n')"
      ]
    },
    {
      "cell_type": "markdown",
      "metadata": {},
      "source": [
        "Non-hierarchical grouping (K-means)"
      ]
    },
    {
      "cell_type": "code",
      "execution_count": 25,
      "metadata": {},
      "outputs": [
        {
          "data": {
            "image/png": "[encoded data removed]",
            "text/plain": [
              "<Figure size 576x432 with 1 Axes>"
            ]
          },
          "metadata": {},
          "output_type": "display_data"
        }
      ],
      "source": [
        "inertias = []\n",
        "for k in np.arange(1, 10):\n",
        "    kmeans = KMeans(n_clusters=k)\n",
        "    kmeans.fit(df)\n",
        "    inertias.append(kmeans.inertia_)\n",
        "\n",
        "# plotting the elbow method graph\n",
        "plt.figure(figsize=(8, 6))\n",
        "plt.plot(np.arange(1, 10), inertias, '-o')\n",
        "plt.xlabel('Number of clusters')\n",
        "plt.ylabel('Inertia');"
      ]
    },
    {
      "cell_type": "code",
      "execution_count": 26,
      "metadata": {},
      "outputs": [],
      "source": [
        "n_clusters = 3\n",
        "kmeans = KMeans(n_clusters=n_clusters)\n",
        "df_scaled['cluster_kmeans'] = kmeans.fit_predict(df_scaled)"
      ]
    },
    {
      "cell_type": "code",
      "execution_count": 27,
      "metadata": {},
      "outputs": [
        {
          "data": {
            "text/html": [
              "<div>\n",
              "<style scoped>\n",
              "    .dataframe tbody tr th:only-of-type {\n",
              "        vertical-align: middle;\n",
              "    }\n",
              "\n",
              "    .dataframe tbody tr th {\n",
              "        vertical-align: top;\n",
              "    }\n",
              "\n",
              "    .dataframe thead th {\n",
              "        text-align: right;\n",
              "    }\n",
              "</style>\n",
              "<table border=\"1\" class=\"dataframe\">\n",
              "  <thead>\n",
              "    <tr style=\"text-align: right;\">\n",
              "      <th></th>\n",
              "      <th>Loss</th>\n",
              "      <th>cluster_agglomerative</th>\n",
              "      <th>cluster_kmeans</th>\n",
              "    </tr>\n",
              "  </thead>\n",
              "  <tbody>\n",
              "    <tr>\n",
              "      <th>18</th>\n",
              "      <td>-0.709947</td>\n",
              "      <td>0</td>\n",
              "      <td>1</td>\n",
              "    </tr>\n",
              "    <tr>\n",
              "      <th>50</th>\n",
              "      <td>-0.647954</td>\n",
              "      <td>0</td>\n",
              "      <td>1</td>\n",
              "    </tr>\n",
              "    <tr>\n",
              "      <th>54</th>\n",
              "      <td>-0.389051</td>\n",
              "      <td>0</td>\n",
              "      <td>1</td>\n",
              "    </tr>\n",
              "    <tr>\n",
              "      <th>114</th>\n",
              "      <td>-0.691380</td>\n",
              "      <td>0</td>\n",
              "      <td>1</td>\n",
              "    </tr>\n",
              "    <tr>\n",
              "      <th>132</th>\n",
              "      <td>-0.349481</td>\n",
              "      <td>0</td>\n",
              "      <td>1</td>\n",
              "    </tr>\n",
              "    <tr>\n",
              "      <th>...</th>\n",
              "      <td>...</td>\n",
              "      <td>...</td>\n",
              "      <td>...</td>\n",
              "    </tr>\n",
              "    <tr>\n",
              "      <th>15714</th>\n",
              "      <td>-0.687661</td>\n",
              "      <td>0</td>\n",
              "      <td>1</td>\n",
              "    </tr>\n",
              "    <tr>\n",
              "      <th>15759</th>\n",
              "      <td>1.137056</td>\n",
              "      <td>2</td>\n",
              "      <td>0</td>\n",
              "    </tr>\n",
              "    <tr>\n",
              "      <th>15771</th>\n",
              "      <td>2.854081</td>\n",
              "      <td>1</td>\n",
              "      <td>2</td>\n",
              "    </tr>\n",
              "    <tr>\n",
              "      <th>15779</th>\n",
              "      <td>-0.519027</td>\n",
              "      <td>0</td>\n",
              "      <td>1</td>\n",
              "    </tr>\n",
              "    <tr>\n",
              "      <th>15836</th>\n",
              "      <td>-0.573441</td>\n",
              "      <td>0</td>\n",
              "      <td>1</td>\n",
              "    </tr>\n",
              "  </tbody>\n",
              "</table>\n",
              "<p>300 rows × 3 columns</p>\n",
              "</div>"
            ],
            "text/plain": [
              "           Loss  cluster_agglomerative  cluster_kmeans\n",
              "18    -0.709947                      0               1\n",
              "50    -0.647954                      0               1\n",
              "54    -0.389051                      0               1\n",
              "114   -0.691380                      0               1\n",
              "132   -0.349481                      0               1\n",
              "...         ...                    ...             ...\n",
              "15714 -0.687661                      0               1\n",
              "15759  1.137056                      2               0\n",
              "15771  2.854081                      1               2\n",
              "15779 -0.519027                      0               1\n",
              "15836 -0.573441                      0               1\n",
              "\n",
              "[300 rows x 3 columns]"
            ]
          },
          "execution_count": 27,
          "metadata": {},
          "output_type": "execute_result"
        }
      ],
      "source": [
        "df_scaled"
      ]
    },
    {
      "cell_type": "code",
      "execution_count": 28,
      "metadata": {},
      "outputs": [
        {
          "name": "stdout",
          "output_type": "stream",
          "text": [
            "Cluster 0: [18, 50, 54, 114, 132, 133, 177, 185, 193, 195, 204, 208, 303, 324, 348, 352, 462, 516, 527, 549, 561, 572, 575, 589, 599, 623, 628, 630, 764, 775, 813, 814, 817, 826, 832, 886, 925, 954, 977, 999, 1005, 1008, 1042, 1047, 1109, 1194, 1199, 1202, 1259, 1296, 1359, 1376, 1394, 1396, 1398, 1437, 1479, 1483, 1489, 1563, 1584, 1588, 1611, 1633, 1702, 1712, 1757, 1787, 1819, 1821, 1824, 1828, 1835, 1904, 1912, 1938, 1946, 1980, 1983, 2046, 2051, 2060, 2123, 2162, 2164, 2183, 2187, 2199, 2227, 2230, 2262, 2270, 2295, 2297, 2327, 2350, 2353, 2354, 2384, 2401, 2403, 2460, 2519, 2614, 2644, 2695, 2702, 2784, 2863, 2881, 2895, 2910, 2931, 2952, 2954, 2964, 2971, 2973, 3025, 3037, 3117, 3149, 3153, 3237, 3374, 3383, 3438, 3447, 3474, 3500, 3506, 3519, 3534, 3553, 3658, 3684, 3839, 3893, 3964, 4040, 4138, 4339, 4376, 4440, 4515, 4676, 4789, 5082, 5110, 5159, 5489, 5579, 5673, 5832, 5908, 6024, 6176, 6204, 6224, 6587, 6624, 6810, 6931, 7057, 7284, 7297, 7494, 7547, 7669, 7786, 8081, 8109, 8189, 8236, 8569, 8636, 8960, 8962, 9111, 9116, 9134, 9135, 9224, 9334, 9378, 9443, 9513, 9620, 9698, 9719, 9792, 9879, 9990, 9999, 10029, 10152, 10525, 10605, 10646, 10664, 10860, 10893, 10931, 11119, 11306, 11428, 11460, 11714, 11938, 11978, 12138, 12169, 12941, 12965, 13181, 13361, 13474, 13548, 13750, 13773, 13911, 13959, 14276, 14419, 14491, 14615, 14694, 15313, 15346, 15352, 15472, 15475, 15611, 15714, 15779, 15836]\n",
            "\n",
            "Cluster 1: [152, 167, 199, 441, 460, 670, 724, 784, 1136, 1228, 1548, 2094, 2197, 2390, 2521, 2766, 2792, 3044, 3085, 3130, 3154, 3599, 3808, 4360, 4973, 5938, 6088, 6336, 9856, 11440, 13335, 14621, 15293, 15771]\n",
            "\n",
            "Cluster 2: [166, 270, 405, 650, 1262, 1328, 1426, 1499, 1762, 1816, 2023, 2233, 2451, 2455, 2573, 2607, 2864, 3523, 3834, 3891, 4114, 6405, 6441, 7324, 9766, 10204, 11968, 13949, 15604, 15759]\n",
            "\n"
          ]
        }
      ],
      "source": [
        "users = list(df_scaled.index)\n",
        "groups = df_scaled['cluster_agglomerative']\n",
        "\n",
        "grouped_users = {i: [] for i in range(n_clusters)}\n",
        "\n",
        "for user, group in zip(users, groups):\n",
        "    grouped_users[group].append(user)\n",
        "\n",
        "for gp, ctr in grouped_users.items():\n",
        "    print(f'Cluster {gp}: {ctr}\\n')"
      ]
    },
    {
      "cell_type": "code",
      "execution_count": 29,
      "metadata": {},
      "outputs": [
        {
          "name": "stdout",
          "output_type": "stream",
          "text": [
            "davies_bouldin_score:  0.2683795970240595\n",
            "silhouette_score:  0.827343002675996\n"
          ]
        }
      ],
      "source": [
        "# clustering performance evaluation\n",
        "from sklearn.metrics import davies_bouldin_score\n",
        "print('davies_bouldin_score: ', davies_bouldin_score(df_scaled, kmeans.labels_))\n",
        "\n",
        "from sklearn.metrics import silhouette_score\n",
        "print('silhouette_score: ', silhouette_score(df_scaled, kmeans.labels_, metric='euclidean'))"
      ]
    },
    {
      "cell_type": "code",
      "execution_count": 30,
      "metadata": {},
      "outputs": [
        {
          "data": {
            "image/png": "[encoded data removed]",
            "text/plain": [
              "<Figure size 432x288 with 1 Axes>"
            ]
          },
          "metadata": {},
          "output_type": "display_data"
        }
      ],
      "source": [
        "# G group: identifying the groups (IU: individual unfairness - the variance of the user losses)\n",
        "# The configuration of groups was based in the hierarchical clustering (tree clustering - dendrogram)\n",
        "# Clusters 1, 2 and 3\n",
        "G = {1: [18, 50, 54, 114, 132, 133, 177, 185, 193, 195, 204, 208, 303, 324, 348, 352, 462, 516, 527, 549, 561, 572, 575, 589, 599, 623, 628, 630, 764, 775, 813, 814, 817, 826, 832, 886, 925, 954, 977, 999, 1005, 1008, 1042, 1047, 1109, 1194, 1199, 1202, 1259, 1296, 1359, 1376, 1394, 1396, 1398, 1437, 1479, 1483, 1489, 1563, 1584, 1588, 1611, 1633, 1702, 1712, 1757, 1787, 1819, 1821, 1824, 1828, 1835, 1904, 1912, 1938, 1946, 1980, 1983, 2046, 2051, 2060, 2123, 2162, 2164, 2183, 2187, 2199, 2227, 2230, 2262, 2270, 2295, 2297, 2327, 2350, 2353, 2354, 2384, 2401, 2403, 2460, 2519, 2614, 2644, 2695, 2702, 2784, 2863, 2881, 2895, 2910, 2931, 2952, 2954, 2964, 2971, 2973, 3025, 3037, 3117, 3149, 3153, 3237, 3374, 3383, 3438, 3447, 3474, 3500, 3506, 3519, 3534, 3553, 3658, 3684, 3839, 3893, 3964, 4040, 4138, 4339, 4376, 4440, 4515, 4676, 4789, 5082, 5110, 5159, 5489, 5579, 5673, 5832, 5908, 6024, 6176, 6204, 6224, 6587, 6624, 6810, 6931, 7057, 7284, 7297, 7494, 7547, 7669, 7786, 8081, 8109, 8189, 8236, 8569, 8636, 8960, 8962, 9111, 9116, 9134, 9135, 9224, 9334, 9378, 9443, 9513, 9620, 9698, 9719, 9792, 9879, 9990, 9999, 10029, 10152, 10525, 10605, 10646, 10664, 10860, 10893, 10931, 11119, 11306, 11428, 11460, 11714, 11938, 11978, 12138, 12169, 12941, 12965, 13181, 13361, 13474, 13548, 13750, 13773, 13911, 13959, 14276, 14419, 14491, 14615, 14694, 15313, 15346, 15352, 15472, 15475, 15611, 15714, 15779, 15836], 2: [152, 167, 199, 441, 460, 670, 724, 784, 1136, 1228, 1548, 2094, 2197, 2390, 2521, 2766, 2792, 3044, 3085, 3130, 3154, 3599, 3808, 4360, 4973, 5938, 6088, 6336, 9856, 11440, 13335, 14621, 15293, 15771], 3: [166, 270, 405, 650, 1262, 1328, 1426, 1499, 1762, 1816, 2023, 2233, 2451, 2455, 2573, 2607, 2864, 3523, 3834, 3891, 4114, 6405, 6441, 7324, 9766, 10204, 11968, 13949, 15604, 15759]}\n",
        "\n",
        "glv = GroupLossVariance(X, omega, G, 1) #axis = 1 (0 rows e 1 columns)\n",
        "losses_RgrpIU = glv.get_losses(X_est)\n",
        "RgrpIU = glv.evaluate(X_est)\n",
        "\n",
        "RgrpIU_groups = ['RgrpIU: 1', 'RgrpIU: 2', 'RgrpIU: 3']\n",
        "plt.bar(RgrpIU_groups, losses_RgrpIU)\n",
        "plt.title('Group unfairness IU (Individual unfairness): ' +  str(RgrpIU))\n",
        "plt.show()"
      ]
    }
  ],
  "metadata": {
    "colab": {
      "collapsed_sections": [],
      "name": "recsys-cluster-loss-20items-agrupamento.ipynb",
      "provenance": []
    },
    "interpreter": {
      "hash": "33a6e123bcdbde5194593dce101121189e5e4c5a8c334626e820e0bd268629ea"
    },
    "kernelspec": {
      "display_name": "Python 3.9.6 64-bit",
      "name": "python3"
    },
    "language_info": {
      "codemirror_mode": {
        "name": "ipython",
        "version": 3
      },
      "file_extension": ".py",
      "mimetype": "text/x-python",
      "name": "python",
      "nbconvert_exporter": "python",
      "pygments_lexer": "ipython3",
      "version": "3.9.8"
    }
  },
  "nbformat": 4,
  "nbformat_minor": 2
}
